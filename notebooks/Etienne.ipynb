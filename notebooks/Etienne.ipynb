{
 "cells": [
  {
   "cell_type": "code",
   "execution_count": 4,
   "id": "86a7b326",
   "metadata": {
    "ExecuteTime": {
     "end_time": "2022-03-10T13:32:22.748151Z",
     "start_time": "2022-03-10T13:32:22.601046Z"
    }
   },
   "outputs": [
    {
     "name": "stdout",
     "output_type": "stream",
     "text": [
      "The autoreload extension is already loaded. To reload it, use:\n",
      "  %reload_ext autoreload\n"
     ]
    }
   ],
   "source": [
    "import requests \n",
    "import pandas as pd\n",
    "import numpy as np\n",
    "import sys; sys.path\n",
    "import datetime\n",
    "import pandas as pd\n",
    "import numpy as np \n",
    "from datetime import datetime\n",
    "from datetime import datetime\n",
    "from tqdm import tqdm\n",
    "import random\n",
    "from sklearn.metrics import mean_absolute_error\n",
    "import matplotlib.pyplot as plt\n",
    "import os\n",
    "from sklearn.preprocessing import MinMaxScaler\n",
    "\n",
    "from bitcoin_deep_learning.call_api import ApiCall\n",
    "from bitcoin_deep_learning.model import LinearRegressionBaselineModel, RnnDlModel,RandomForestReg\n",
    "from bitcoin_deep_learning.trainer import cv_train, read_result\n",
    "from bitcoin_deep_learning.cross_val import cross_val, get_cross_XY, cross_val_trade\n",
    "api = ApiCall()\n",
    "\n",
    "%load_ext autoreload\n",
    "%autoreload 2\n"
   ]
  },
  {
   "cell_type": "code",
   "execution_count": null,
   "id": "8a69e5c9",
   "metadata": {
    "ExecuteTime": {
     "end_time": "2022-03-10T10:44:17.163064Z",
     "start_time": "2022-03-10T10:44:16.211055Z"
    }
   },
   "outputs": [],
   "source": [
    "scaler = MinMaxScaler()\n",
    "train_df= ApiCall().read_local()\n",
    "for i in range(1,len(list(train_df.columns))-1):\n",
    "    train_df[list(train_df.columns)[i]] = scaler.fit_transform(np.array(train_df[train_df.columns[1]]).reshape(-1, 1))\n",
    "train_df"
   ]
  },
  {
   "cell_type": "code",
   "execution_count": null,
   "id": "5ab32b96",
   "metadata": {
    "ExecuteTime": {
     "end_time": "2022-03-10T10:30:29.239356Z",
     "start_time": "2022-03-10T10:30:14.646435Z"
    }
   },
   "outputs": [],
   "source": [
    "model = RandomForestReg()\n",
    "cv_train(model,train_df)\n",
    "read_result().sort_values(by=\"date\")"
   ]
  },
  {
   "cell_type": "code",
   "execution_count": null,
   "id": "ef2892e9",
   "metadata": {
    "ExecuteTime": {
     "end_time": "2022-03-10T11:18:40.522116Z",
     "start_time": "2022-03-10T11:01:30.760235Z"
    }
   },
   "outputs": [],
   "source": [
    "for n_estimators in [1000,1500,3000]:\n",
    "    for warm_start in  [True,False]:\n",
    "        for bootstrap in [True,False]:\n",
    "            for criterion in [\"squared_error\", \"absolute_error\", \"poisson\"]:\n",
    "                for min_samples_leaf in [1,5,10,20]:\n",
    "                    model = RandomForestReg(warm_start=warm_start,\n",
    "                                            n_estimators=n_estimators,\n",
    "                                           bootstrap=bootstrap,\n",
    "                                           criterion=criterion,\n",
    "                                           min_samples_leaf=min_samples_leaf)\n",
    "\n",
    "                    cv_train(model,train_df)"
   ]
  },
  {
   "cell_type": "code",
   "execution_count": null,
   "id": "a3616cc2",
   "metadata": {
    "ExecuteTime": {
     "end_time": "2022-03-10T11:42:37.594818Z",
     "start_time": "2022-03-10T11:42:36.197919Z"
    }
   },
   "outputs": [],
   "source": [
    "X0 = [[i+5,-2*i]for i in range(1001)]\n",
    "X1 = np.sin(np.arange(1001))"
   ]
  },
  {
   "cell_type": "code",
   "execution_count": null,
   "id": "638826b9",
   "metadata": {
    "ExecuteTime": {
     "end_time": "2022-03-10T11:42:37.759809Z",
     "start_time": "2022-03-10T11:42:37.599520Z"
    },
    "scrolled": true
   },
   "outputs": [],
   "source": [
    "df = pd.DataFrame(X0)\n",
    "df[\"date\"] = X1\n",
    "df.head(20)"
   ]
  },
  {
   "cell_type": "code",
   "execution_count": null,
   "id": "4be498d0",
   "metadata": {
    "ExecuteTime": {
     "end_time": "2022-03-10T11:42:39.279071Z",
     "start_time": "2022-03-10T11:42:37.766537Z"
    }
   },
   "outputs": [],
   "source": [
    "model = LinearRegressionBaselineModel()\n",
    "#model = RnnDlModel(epochs=10,patience=2)\n",
    "past_reality, reality,reality_diff, prediction_diff = cross_val_trade(model,df)"
   ]
  },
  {
   "cell_type": "code",
   "execution_count": null,
   "id": "661fbc00",
   "metadata": {
    "ExecuteTime": {
     "end_time": "2022-03-10T11:42:39.446184Z",
     "start_time": "2022-03-10T11:42:39.294014Z"
    }
   },
   "outputs": [],
   "source": [
    "past_reality[0]"
   ]
  },
  {
   "cell_type": "code",
   "execution_count": null,
   "id": "3a71cbc9",
   "metadata": {
    "ExecuteTime": {
     "end_time": "2022-03-10T11:42:39.916619Z",
     "start_time": "2022-03-10T11:42:39.457193Z"
    }
   },
   "outputs": [],
   "source": [
    "plt.plot(reality[0])"
   ]
  },
  {
   "cell_type": "code",
   "execution_count": null,
   "id": "b59aa718",
   "metadata": {
    "ExecuteTime": {
     "end_time": "2022-03-10T11:42:46.420602Z",
     "start_time": "2022-03-10T11:42:46.078811Z"
    }
   },
   "outputs": [],
   "source": [
    "plt.plot(prediction_diff[0],c=\"r\")\n",
    "#plt.plot(reality_diff[0])"
   ]
  },
  {
   "cell_type": "code",
   "execution_count": null,
   "id": "b0f3a3d1",
   "metadata": {
    "ExecuteTime": {
     "end_time": "2022-03-10T11:42:43.007447Z",
     "start_time": "2022-03-10T11:42:40.776465Z"
    }
   },
   "outputs": [],
   "source": [
    "model = LinearRegressionBaselineModel()\n",
    "#model = RnnDlModel(epochs=10,patience=2)\n",
    "past_reality, reality,reality_diff, prediction_diff = cross_val_trade(model,df)\n",
    "plt.plot(prediction_diff[0],c=\"r\")\n",
    "plt.plot(reality_diff[0])"
   ]
  },
  {
   "cell_type": "code",
   "execution_count": null,
   "id": "d3603a08",
   "metadata": {
    "ExecuteTime": {
     "end_time": "2022-03-10T11:42:43.198906Z",
     "start_time": "2022-03-10T11:42:43.012758Z"
    }
   },
   "outputs": [],
   "source": [
    "df"
   ]
  },
  {
   "cell_type": "code",
   "execution_count": null,
   "id": "78cc3bed",
   "metadata": {
    "ExecuteTime": {
     "end_time": "2022-03-10T11:45:27.400429Z",
     "start_time": "2022-03-10T11:45:26.312244Z"
    }
   },
   "outputs": [],
   "source": [
    "X_train_list, Y_train_list, X_test_list,Y_test_list = get_cross_XY(df.drop(columns=\"date\"),data=None)"
   ]
  },
  {
   "cell_type": "code",
   "execution_count": null,
   "id": "ad51d86c",
   "metadata": {
    "ExecuteTime": {
     "end_time": "2022-03-10T11:45:44.959066Z",
     "start_time": "2022-03-10T11:45:44.833045Z"
    }
   },
   "outputs": [],
   "source": [
    "X_train, Y_train, X_test,Y_test = X_train_list[0], Y_train_list[0], X_test_list[0],Y_test_list[0]"
   ]
  },
  {
   "cell_type": "code",
   "execution_count": null,
   "id": "d4006231",
   "metadata": {
    "ExecuteTime": {
     "end_time": "2022-03-10T11:45:45.546320Z",
     "start_time": "2022-03-10T11:45:45.408441Z"
    },
    "scrolled": true
   },
   "outputs": [],
   "source": [
    "X_train[0]"
   ]
  },
  {
   "cell_type": "code",
   "execution_count": null,
   "id": "a6b1c728",
   "metadata": {
    "ExecuteTime": {
     "end_time": "2022-03-10T11:46:43.075409Z",
     "start_time": "2022-03-10T11:46:42.927004Z"
    }
   },
   "outputs": [],
   "source": [
    "from sklearn.preprocessing import MinMaxScaler, StandardScaler, RobustScaler\n",
    "scaler = MinMaxScaler()\n",
    "X_train_scaled =  scaler.fit_transform(X_train[:,-1,:])\n",
    "X_test_scaled = scaler.transform(X_test[:,-1,:])\n",
    "#X_train_scaled =  (X_train[:,-1,:])\n",
    "#X_test_scaled = (X_test[:,-1,:])\n",
    "X_train_scaled"
   ]
  },
  {
   "cell_type": "code",
   "execution_count": null,
   "id": "6a0e31f5",
   "metadata": {
    "ExecuteTime": {
     "end_time": "2022-03-10T11:46:43.738593Z",
     "start_time": "2022-03-10T11:46:43.358304Z"
    }
   },
   "outputs": [],
   "source": [
    "from sklearn.linear_model import ElasticNet\n",
    "model = ElasticNet()\n",
    "model.fit(X_train_scaled,Y_train)\n",
    "Y_pred = model.predict(X_test_scaled)\n",
    "plt.plot(Y_pred)\n",
    "plt.plot(Y_test)"
   ]
  },
  {
   "cell_type": "code",
   "execution_count": null,
   "id": "254814c0",
   "metadata": {
    "ExecuteTime": {
     "end_time": "2022-03-10T11:46:44.747387Z",
     "start_time": "2022-03-10T11:46:44.617099Z"
    }
   },
   "outputs": [],
   "source": [
    "Y_train"
   ]
  },
  {
   "cell_type": "code",
   "execution_count": null,
   "id": "18a73db8",
   "metadata": {
    "ExecuteTime": {
     "end_time": "2022-03-09T16:54:15.713904Z",
     "start_time": "2022-03-09T16:54:15.542868Z"
    }
   },
   "outputs": [],
   "source": [
    "X_train[:,-1,:]"
   ]
  },
  {
   "cell_type": "code",
   "execution_count": null,
   "id": "e6298ed9",
   "metadata": {
    "ExecuteTime": {
     "end_time": "2022-03-09T15:39:33.674825Z",
     "start_time": "2022-03-09T15:39:33.537909Z"
    }
   },
   "outputs": [],
   "source": [
    "from sklearn.preprocessing import MinMaxScaler, StandardScaler\n",
    "scaler = MinMaxScaler()\n",
    "scaler.fit(X_train[:,-1,:])"
   ]
  },
  {
   "cell_type": "code",
   "execution_count": null,
   "id": "50ca6d99",
   "metadata": {
    "ExecuteTime": {
     "end_time": "2022-03-09T14:54:05.248499Z",
     "start_time": "2022-03-09T14:54:05.021024Z"
    }
   },
   "outputs": [],
   "source": []
  },
  {
   "cell_type": "code",
   "execution_count": null,
   "id": "6a0fa236",
   "metadata": {
    "ExecuteTime": {
     "end_time": "2022-03-09T15:39:33.832071Z",
     "start_time": "2022-03-09T15:39:33.688143Z"
    }
   },
   "outputs": [],
   "source": [
    "X_train[:,-1,:]"
   ]
  },
  {
   "cell_type": "code",
   "execution_count": null,
   "id": "5d98795d",
   "metadata": {
    "ExecuteTime": {
     "end_time": "2022-03-09T15:44:53.023640Z",
     "start_time": "2022-03-09T15:44:45.930468Z"
    }
   },
   "outputs": [],
   "source": [
    "model = LinearRegressionBaselineModel(alpha=0.1,l1_ratio=0.001)\n",
    "df = ApiCall().read_local()\n",
    "X_train_list, Y_train_list, X_test_list,Y_test_list = get_cross_XY(df,data=None)\n",
    "\n"
   ]
  },
  {
   "cell_type": "code",
   "execution_count": null,
   "id": "bffce926",
   "metadata": {
    "ExecuteTime": {
     "end_time": "2022-03-09T15:45:07.391989Z",
     "start_time": "2022-03-09T15:44:58.984581Z"
    }
   },
   "outputs": [],
   "source": [
    "cross_val_trade(model,df)"
   ]
  },
  {
   "cell_type": "code",
   "execution_count": null,
   "id": "454232ad",
   "metadata": {
    "ExecuteTime": {
     "end_time": "2022-03-09T15:47:30.179538Z",
     "start_time": "2022-03-09T15:47:26.175042Z"
    }
   },
   "outputs": [],
   "source": [
    "past_reality, reality,reality_diff, prediction_diff = cross_val_trade(model,df)"
   ]
  },
  {
   "cell_type": "code",
   "execution_count": null,
   "id": "3d5d9b8c",
   "metadata": {
    "ExecuteTime": {
     "end_time": "2022-03-09T16:28:26.745583Z",
     "start_time": "2022-03-09T16:28:26.561663Z"
    }
   },
   "outputs": [],
   "source": [
    "ct = 0\n",
    "preds = []\n",
    "computed_reality = []\n",
    "for past_prices, diffs in zip(past_reality,prediction_diff):\n",
    "    preds.append(past_prices * diffs+ past_prices)\n",
    "preds  "
   ]
  },
  {
   "cell_type": "code",
   "execution_count": null,
   "id": "cdcb48e0",
   "metadata": {
    "ExecuteTime": {
     "end_time": "2022-03-09T17:03:14.025454Z",
     "start_time": "2022-03-09T17:03:13.903822Z"
    }
   },
   "outputs": [],
   "source": []
  },
  {
   "cell_type": "code",
   "execution_count": null,
   "id": "34a42f71",
   "metadata": {
    "ExecuteTime": {
     "end_time": "2022-03-10T11:55:39.047218Z",
     "start_time": "2022-03-10T11:55:38.908066Z"
    }
   },
   "outputs": [],
   "source": [
    "df = api.read_local()\n",
    "scaler = MinMaxScaler()\n",
    "#df  =scaler.fit_transform(df.drop(columns=\"date\"))"
   ]
  },
  {
   "cell_type": "code",
   "execution_count": null,
   "id": "33afb8e0",
   "metadata": {
    "ExecuteTime": {
     "end_time": "2022-03-09T17:05:18.570310Z",
     "start_time": "2022-03-09T17:05:18.439994Z"
    }
   },
   "outputs": [],
   "source": [
    "df[df.columns[1]].shape"
   ]
  },
  {
   "cell_type": "code",
   "execution_count": null,
   "id": "9652d735",
   "metadata": {
    "ExecuteTime": {
     "end_time": "2022-03-09T17:05:55.466306Z",
     "start_time": "2022-03-09T17:05:55.336089Z"
    }
   },
   "outputs": [],
   "source": []
  },
  {
   "cell_type": "code",
   "execution_count": null,
   "id": "8616a701",
   "metadata": {
    "ExecuteTime": {
     "end_time": "2022-03-09T17:08:48.818805Z",
     "start_time": "2022-03-09T17:08:48.656506Z"
    }
   },
   "outputs": [],
   "source": []
  },
  {
   "cell_type": "code",
   "execution_count": null,
   "id": "360c1fe3",
   "metadata": {
    "ExecuteTime": {
     "end_time": "2022-03-09T17:08:49.756169Z",
     "start_time": "2022-03-09T17:08:49.535475Z"
    }
   },
   "outputs": [],
   "source": [
    "df"
   ]
  },
  {
   "cell_type": "code",
   "execution_count": null,
   "id": "ba7fa4f9",
   "metadata": {
    "ExecuteTime": {
     "end_time": "2022-03-10T12:27:33.161295Z",
     "start_time": "2022-03-10T12:27:33.161239Z"
    }
   },
   "outputs": [],
   "source": [
    "\n",
    "df = api.read_local()\n",
    "scaler = MinMaxScaler()\n",
    "for i in range(1,len(list(df.columns)-2)):\n",
    "    df[list(df.columns)[i]] = scaler.fit_transform(np.array(df[df.columns[1]]).reshape(-1, 1))\n",
    "\n",
    "model = LinearRegressionBaselineModel(alpha=0.5,l1_ratio=0.001)\n",
    "#model = RnnDlModel(epochs=10,patience=2)\n",
    "past_reality, reality,reality_diff, prediction_diff = cross_val_trade(model,df)\n",
    "for i in range(10):\n",
    "    plt.plot(prediction_diff[i],c=\"r\")\n",
    "    plt.plot(reality_diff[i])\n",
    "    plt.show()\n"
   ]
  },
  {
   "cell_type": "code",
   "execution_count": null,
   "id": "b3accc8b",
   "metadata": {
    "ExecuteTime": {
     "end_time": "2022-03-09T17:14:28.010131Z",
     "start_time": "2022-03-09T17:14:27.798627Z"
    }
   },
   "outputs": [],
   "source": [
    "df"
   ]
  },
  {
   "cell_type": "code",
   "execution_count": null,
   "id": "7f8e1678",
   "metadata": {
    "ExecuteTime": {
     "end_time": "2022-03-09T17:14:30.525658Z",
     "start_time": "2022-03-09T17:14:28.024636Z"
    }
   },
   "outputs": [],
   "source": [
    "fold_score, score= train(model,df)\n",
    "print(fold_score,score)"
   ]
  },
  {
   "cell_type": "code",
   "execution_count": null,
   "id": "613ccd8b",
   "metadata": {
    "ExecuteTime": {
     "end_time": "2022-03-09T17:23:46.544656Z",
     "start_time": "2022-03-09T17:19:17.670903Z"
    }
   },
   "outputs": [],
   "source": [
    "for counter in range(20):\n",
    "    alpha = 0.015 * random.random()\n",
    "    l1 = random.random()*0.01\n",
    "    # Instanciate model\n",
    "    regression_model = LinearRegressionBaselineModel(alpha = alpha, l1_ratio = l1)\n",
    "    # Train and Fit data using the crossval\n",
    "    val_score, score = train(regression_model,df);\n",
    "    print(val_score,score)\n",
    "    past_reality, reality,reality_diff, prediction_diff = cross_val_trade(model,df)\n",
    "    for i in range(len(reality)):\n",
    "        plt.plot(prediction_diff[i],c=\"r\")\n",
    "        plt.plot(reality_diff[i])\n",
    "        plt.show()"
   ]
  },
  {
   "cell_type": "code",
   "execution_count": null,
   "id": "d99cef92",
   "metadata": {
    "ExecuteTime": {
     "end_time": "2022-03-09T17:23:46.730289Z",
     "start_time": "2022-03-09T17:23:46.561158Z"
    },
    "scrolled": true
   },
   "outputs": [],
   "source": [
    "from bitcoin_deep_learning.trainer import read_result\n",
    "read_result().sort_values(by=\"date\",ascending=False)"
   ]
  },
  {
   "cell_type": "code",
   "execution_count": null,
   "id": "6a626c8e",
   "metadata": {
    "ExecuteTime": {
     "end_time": "2022-03-10T12:27:33.155107Z",
     "start_time": "2022-03-10T12:27:30.844729Z"
    }
   },
   "outputs": [],
   "source": [
    "df = api.read_local()\n",
    "scaler = MinMaxScaler()\n",
    "for i in range(1,len(list(df.columns))-2):\n",
    "    df[list(df.columns)[i]] = scaler.fit_transform(np.array(df[df.columns[1]]).reshape(-1, 1))\n",
    "\n",
    "model = LinearRegressionBaselineModel(alpha=0.5,l1_ratio=0.001)\n",
    "#model = RnnDlModel(epochs=10,patience=2)\n",
    "past_reality, reality,reality_diff, prediction_diff = cross_val_trade(model,df)\n",
    "ALPHA = [0.001,0.005,0.01,0.1,5,1,10,100]\n",
    "L1 = [0.0001,0.0005,0.001,0.005,0.001,0.005,0.01,0.1,0.5,1]\n",
    "for alpha in ALPHA :\n",
    "    for l1 in L1 : \n",
    "        # Instanciate model\n",
    "        regression_model = LinearRegressionBaselineModel(alpha = alpha, l1_ratio = l1)\n",
    "        # Train and Fit data using the crossval\n",
    "        val_score, score = train(regression_model,df);\n",
    "        print(val_score,score)\n",
    "        past_reality, reality,reality_diff, prediction_diff = cross_val_trade(model,df)\n",
    "        for i in range(len(reality)):\n",
    "            plt.plot(prediction_diff[i],c=\"r\")\n",
    "            plt.plot(reality_diff[i])\n",
    "            plt.show()"
   ]
  },
  {
   "cell_type": "code",
   "execution_count": null,
   "id": "57f11863",
   "metadata": {
    "ExecuteTime": {
     "end_time": "2022-03-09T17:52:26.245981Z",
     "start_time": "2022-03-09T17:52:26.065419Z"
    }
   },
   "outputs": [],
   "source": [
    "read_result().sort_values(by=\"date\",ascending=False).head(50)"
   ]
  },
  {
   "cell_type": "code",
   "execution_count": null,
   "id": "8690ed32",
   "metadata": {
    "ExecuteTime": {
     "end_time": "2022-03-10T12:27:30.839357Z",
     "start_time": "2022-03-10T12:16:39.219067Z"
    }
   },
   "outputs": [],
   "source": [
    "df = api.read_local()\n",
    "scaler = MinMaxScaler()\n",
    "for i in range(1,len(list(df.columns))-1):\n",
    "    scaler = MinMaxScaler()\n",
    "    df[list(df.columns)[i]] = scaler.fit_transform(np.array(df[df.columns[i]]).reshape(-1, 1))\n",
    "\n",
    "model = LinearRegressionBaselineModel(alpha=0.5,l1_ratio=0.001)\n",
    "#model = RnnDlModel(epochs=10,patience=2)\n",
    "past_reality, reality,reality_diff, prediction_diff = cross_val_trade(model,df)\n",
    "ALPHA = [0.001,0.005,0.01,0.1,5,1,10,100]\n",
    "L1 = [0.0001,0.0005,0.001,0.005,0.001,0.005,0.01,0.1,0.5,1]\n",
    "for alpha in ALPHA :\n",
    "    for l1 in L1 : \n",
    "        # Instanciate model\n",
    "        regression_model = LinearRegressionBaselineModel(alpha = alpha, l1_ratio = l1)\n",
    "        # Train and Fit data using the crossval\n",
    "        val_score, score = cv_train(regression_model,df);\n",
    "        print(val_score,score)\n",
    "        past_reality, reality,reality_diff, prediction_diff = cross_val_trade(model,df)\n",
    "        for i in range(len(reality)):\n",
    "            plt.plot(reality[i])\n",
    "            plt.plot()\n",
    "            plt.show()"
   ]
  },
  {
   "cell_type": "code",
   "execution_count": null,
   "id": "9bf83a68",
   "metadata": {
    "ExecuteTime": {
     "end_time": "2022-03-09T18:34:24.142241Z",
     "start_time": "2022-03-09T18:34:24.013993Z"
    }
   },
   "outputs": [],
   "source": [
    "x = np.eye(260,3,31)\n",
    "x.reshape(260,)"
   ]
  },
  {
   "cell_type": "code",
   "execution_count": null,
   "id": "06390c76",
   "metadata": {
    "ExecuteTime": {
     "end_time": "2022-03-09T18:29:04.773254Z",
     "start_time": "2022-03-09T18:28:59.474360Z"
    }
   },
   "outputs": [],
   "source": [
    "read_result().sort_values(by=\"mean_score\",ascending=False).head(50)"
   ]
  },
  {
   "cell_type": "code",
   "execution_count": null,
   "id": "be304499",
   "metadata": {
    "ExecuteTime": {
     "end_time": "2022-03-10T08:46:56.167435Z",
     "start_time": "2022-03-10T08:46:56.011474Z"
    }
   },
   "outputs": [],
   "source": [
    "train_df = ApiCall().read_local()"
   ]
  },
  {
   "cell_type": "code",
   "execution_count": null,
   "id": "08c1e567",
   "metadata": {
    "ExecuteTime": {
     "end_time": "2022-03-10T09:10:57.769630Z",
     "start_time": "2022-03-10T09:10:57.618451Z"
    }
   },
   "outputs": [],
   "source": [
    "read_result(file=\"CV_trader.csv\")"
   ]
  },
  {
   "cell_type": "code",
   "execution_count": null,
   "id": "f01e5590",
   "metadata": {
    "ExecuteTime": {
     "end_time": "2022-03-10T08:47:34.381188Z",
     "start_time": "2022-03-10T08:47:30.526438Z"
    }
   },
   "outputs": [],
   "source": [
    "\n",
    "model = LinearRegressionBaselineModel()\n",
    "train(model,train_df)"
   ]
  },
  {
   "cell_type": "code",
   "execution_count": null,
   "id": "3a6afa5c",
   "metadata": {
    "ExecuteTime": {
     "end_time": "2022-03-10T12:16:23.932827Z",
     "start_time": "2022-03-10T12:16:23.804058Z"
    }
   },
   "outputs": [],
   "source": [
    "ROOT_DIR = \"/Users/Zalo/code/AlexandreLaizet/bitcoin_deep_learning\"\n"
   ]
  },
  {
   "cell_type": "code",
   "execution_count": null,
   "id": "3d920d59",
   "metadata": {
    "ExecuteTime": {
     "end_time": "2022-03-10T13:11:19.386196Z",
     "start_time": "2022-03-10T13:11:19.236973Z"
    }
   },
   "outputs": [],
   "source": [
    "file_path = os.path.join(ROOT_DIR,\n",
    "                        \"cross_val_data\",\n",
    "                        'CV_trader.csv')\n",
    "fieldnames = [\"name\",'fold_score',\"mean_score\",\"min_score\",\"max_score\",'hyperparams','date',\n",
    "             \"roi_hodler\", \"sharpe_hodler\", \"roi_trader\", \"sharpe_trader\",\"roi_whale\", \"sharpe_whale\",\n",
    "              \"roi_hodler_whale\",  \"sharpe_hodler_whale\", \"roi_charles\", \n",
    "                \"sharpe_charles\"]\n",
    "pd.DataFrame(columns=fieldnames).to_csv(file_path,index=False)\n",
    "read_result(file=\"CV_trader.csv\")"
   ]
  },
  {
   "cell_type": "code",
   "execution_count": null,
   "id": "80a0a6ff",
   "metadata": {
    "ExecuteTime": {
     "end_time": "2022-03-10T08:56:00.298685Z",
     "start_time": "2022-03-10T08:55:55.872938Z"
    }
   },
   "outputs": [],
   "source": [
    "from bitcoin_deep_learning.metrics import iterate_cross_val_results\n",
    "iterate_cross_val_results()"
   ]
  },
  {
   "cell_type": "code",
   "execution_count": null,
   "id": "904352b5",
   "metadata": {
    "ExecuteTime": {
     "end_time": "2022-03-10T08:58:25.380019Z",
     "start_time": "2022-03-10T08:58:20.477232Z"
    }
   },
   "outputs": [],
   "source": [
    "roi_hodler, roi_trader, roi_whale, roi_hodler_whale, roi_charles, sharpe_hodler, sharpe_trader, sharpe_whale, sharpe_hodler_whale, sharpe_charles = iterate_cross_val_results()\n"
   ]
  },
  {
   "cell_type": "code",
   "execution_count": null,
   "id": "d3f8a684",
   "metadata": {},
   "outputs": [],
   "source": [
    "with open(file_path , 'a', newline='') as csvfile:\n",
    "            #fieldnames = [\"name\",'fold_score',\"mean_score\",\"min_score\",\"max_score\",'hyperparams','date']\n",
    "            writer = csv.DictWriter(csvfile, fieldnames=fieldnames)\n",
    "\n",
    "            writer.writerow({\"name\":model.name, \"fold_score\":fold_score,\n",
    "                            \"mean_score\":score,\"min_score\":min(fold_score),\n",
    "                            \"max_score\":max(fold_score),\n",
    "                            \"hyperparams\":model.hyperparams,\n",
    "                            'date':datetime.now().strftime(\"%d-%m %H:%M:%S\"),\n",
    "                            \"roi_hodler\":roi_hodler\n",
    "                            \"sharpe_hodler\": sharpe_hodler\n",
    "                            \"roi_trader\": roi_trader\n",
    "                            \"sharpe_trader\": sharpe_trader\n",
    "                            \"roi_whale\": roi_whale\n",
    "                            \"sharpe_whale\": sharpe_whale\n",
    "                            \"roi_hodler_whale\": roi_hodler_whale\n",
    "                            \"sharpe_hodler_whale\": sharpe_hodler_whale\n",
    "                            \"roi_charles\": roi_charles\n",
    "                            \"sharpe_charles\":sharpe_charles})\n",
    "            print(\"Training done\")"
   ]
  },
  {
   "cell_type": "code",
   "execution_count": null,
   "id": "c339f31b",
   "metadata": {
    "ExecuteTime": {
     "end_time": "2022-03-10T10:03:05.174992Z",
     "start_time": "2022-03-10T10:03:05.031502Z"
    }
   },
   "outputs": [],
   "source": [
    "train_df= ApiCall().read_local()"
   ]
  },
  {
   "cell_type": "code",
   "execution_count": null,
   "id": "abf7529a",
   "metadata": {
    "ExecuteTime": {
     "end_time": "2022-03-10T11:58:28.880167Z",
     "start_time": "2022-03-10T11:58:28.657199Z"
    }
   },
   "outputs": [],
   "source": [
    "scaler = MinMaxScaler()\n",
    "train_df= ApiCall().read_local()\n",
    "for i in range(1,len(list(train_df.columns))-1):\n",
    "    train_df[list(train_df.columns)[i]] = scaler.fit_transform(np.array(train_df[train_df.columns[1]]).reshape(-1, 1))\n",
    "train_df"
   ]
  },
  {
   "cell_type": "code",
   "execution_count": null,
   "id": "ddf31bc7",
   "metadata": {
    "ExecuteTime": {
     "end_time": "2022-03-10T11:29:18.739310Z",
     "start_time": "2022-03-10T11:29:17.864411Z"
    }
   },
   "outputs": [],
   "source": [
    "for warm_start in  [True,False]:\n",
    "    for max_features in [\"auto\", \"sqrt\", \"log2\"]:\n",
    "        for bootstrap in [True,False]:\n",
    "            for criterion in [\"squared_error\", \"absolute_error\", \"poisson\"]:\n",
    "                    for max_depht in [None,True]:\n",
    "                        if max_depht :\n",
    "                            max_depht = np.random.randint(1,1000)\n",
    "                        print(\"oui\")\n",
    "                        min_samples_split = random.randint(2,100)\n",
    "                        min_samples_leaf = random.randint(2,100)\n",
    "                        model = RandomForestReg(warm_start=warm_start,\n",
    "                                               max_features=max_features,\n",
    "                                               bootstrap=bootstrap,\n",
    "                                               criterion=criterion,\n",
    "                                               max_depht=max_depht,\n",
    "                                               min_samples_split=min_samples_split,\n",
    "                                               min_samples_leaf=min_samples_leaf)\n",
    "\n",
    "                        cv_train(model,train_df)"
   ]
  },
  {
   "cell_type": "code",
   "execution_count": null,
   "id": "3cd23d26",
   "metadata": {
    "ExecuteTime": {
     "end_time": "2022-03-10T13:11:25.622312Z",
     "start_time": "2022-03-10T13:11:25.447510Z"
    }
   },
   "outputs": [],
   "source": [
    "#model = RandomForestReg()\n",
    "#cv_train(model,train_df)\n",
    "read_result().sort_values(by=\"date\")"
   ]
  },
  {
   "cell_type": "code",
   "execution_count": null,
   "id": "0c899e15",
   "metadata": {
    "ExecuteTime": {
     "end_time": "2022-03-10T10:06:03.430091Z",
     "start_time": "2022-03-10T10:06:03.297699Z"
    }
   },
   "outputs": [],
   "source": [
    "alpha= 0.2\n",
    "l1 = 0.001\n",
    "model = LinearRegressionBaselineModel(alpha=alpha,l1_ratio=l1)\n",
    "cv_train(model,df)"
   ]
  },
  {
   "cell_type": "code",
   "execution_count": 5,
   "id": "42f53eaf",
   "metadata": {
    "ExecuteTime": {
     "end_time": "2022-03-10T13:32:37.218572Z",
     "start_time": "2022-03-10T13:32:36.755753Z"
    }
   },
   "outputs": [
    {
     "data": {
      "text/html": [
       "<div>\n",
       "<style scoped>\n",
       "    .dataframe tbody tr th:only-of-type {\n",
       "        vertical-align: middle;\n",
       "    }\n",
       "\n",
       "    .dataframe tbody tr th {\n",
       "        vertical-align: top;\n",
       "    }\n",
       "\n",
       "    .dataframe thead th {\n",
       "        text-align: right;\n",
       "    }\n",
       "</style>\n",
       "<table border=\"1\" class=\"dataframe\">\n",
       "  <thead>\n",
       "    <tr style=\"text-align: right;\">\n",
       "      <th></th>\n",
       "      <th>date</th>\n",
       "      <th>[AVG]_[NH]_mean_hash_rate</th>\n",
       "      <th>[+]_[NH]_Days_Till_Halving</th>\n",
       "      <th>[//]_[AV]_Stock-to-Flow_Ratio</th>\n",
       "      <th>[+]_[NH]_Circulating_Supply</th>\n",
       "      <th>[+]_[NH]_Issuance</th>\n",
       "      <th>[+]_[NH]_Number_of_Active_Addresses</th>\n",
       "      <th>[+]_[NH]_Mean_Block_Interval</th>\n",
       "      <th>[+]_[NH]_Number_of_Transactions</th>\n",
       "      <th>[+]_[NH]_Number_of_Addresses_with_a_Non-Zero_Balance</th>\n",
       "      <th>...</th>\n",
       "      <th>[//]_[AV]_Realized_Profits-to-Value_(RPV)_Ratio</th>\n",
       "      <th>fear_greed_value</th>\n",
       "      <th>[+]_[NH]_Number_of_Addresses_with_Balance_0.01 - 0.1</th>\n",
       "      <th>[+]_[NH]_Number_of_Addresses_with_Balance_0.1 - 1</th>\n",
       "      <th>[+]_[NH]_Number_of_Addresses_with_Balance_1 - 10</th>\n",
       "      <th>[+]_[NH]_Number_of_Addresses_with_Balance_10 - 100</th>\n",
       "      <th>[+]_[NH]_Number_of_Addresses_with_Balance_100 - 1k</th>\n",
       "      <th>[+]_[NH]_Number_of_Addresses_with_Balance_1k - 10k</th>\n",
       "      <th>[+]_[T]_Bitcoin_Price</th>\n",
       "      <th>[%]_Bitcoin_growth_rate_on_Horizon=7</th>\n",
       "    </tr>\n",
       "  </thead>\n",
       "  <tbody>\n",
       "    <tr>\n",
       "      <th>0</th>\n",
       "      <td>2018-02-01</td>\n",
       "      <td>0.007848</td>\n",
       "      <td>0.572909</td>\n",
       "      <td>0.000278</td>\n",
       "      <td>0.000000</td>\n",
       "      <td>0.818750</td>\n",
       "      <td>0.456903</td>\n",
       "      <td>0.166407</td>\n",
       "      <td>0.410971</td>\n",
       "      <td>0.298699</td>\n",
       "      <td>...</td>\n",
       "      <td>0.124186</td>\n",
       "      <td>0.277778</td>\n",
       "      <td>0.184989</td>\n",
       "      <td>0.099227</td>\n",
       "      <td>0.047961</td>\n",
       "      <td>0.223121</td>\n",
       "      <td>0.954140</td>\n",
       "      <td>0.018223</td>\n",
       "      <td>9014.026207</td>\n",
       "      <td>-0.235616</td>\n",
       "    </tr>\n",
       "    <tr>\n",
       "      <th>1</th>\n",
       "      <td>2018-02-02</td>\n",
       "      <td>0.012923</td>\n",
       "      <td>0.572218</td>\n",
       "      <td>0.000267</td>\n",
       "      <td>0.000982</td>\n",
       "      <td>0.868750</td>\n",
       "      <td>0.469275</td>\n",
       "      <td>0.178849</td>\n",
       "      <td>0.345245</td>\n",
       "      <td>0.294998</td>\n",
       "      <td>...</td>\n",
       "      <td>0.085755</td>\n",
       "      <td>0.111111</td>\n",
       "      <td>0.173657</td>\n",
       "      <td>0.079729</td>\n",
       "      <td>0.039034</td>\n",
       "      <td>0.214140</td>\n",
       "      <td>0.969427</td>\n",
       "      <td>0.009112</td>\n",
       "      <td>8799.121911</td>\n",
       "      <td>-0.260491</td>\n",
       "    </tr>\n",
       "    <tr>\n",
       "      <th>2</th>\n",
       "      <td>2018-02-03</td>\n",
       "      <td>0.008710</td>\n",
       "      <td>0.571527</td>\n",
       "      <td>0.000260</td>\n",
       "      <td>0.001905</td>\n",
       "      <td>0.806250</td>\n",
       "      <td>0.323582</td>\n",
       "      <td>0.177294</td>\n",
       "      <td>0.221320</td>\n",
       "      <td>0.291408</td>\n",
       "      <td>...</td>\n",
       "      <td>0.065849</td>\n",
       "      <td>0.388889</td>\n",
       "      <td>0.163550</td>\n",
       "      <td>0.067367</td>\n",
       "      <td>0.031767</td>\n",
       "      <td>0.197065</td>\n",
       "      <td>0.968153</td>\n",
       "      <td>0.011390</td>\n",
       "      <td>9208.459919</td>\n",
       "      <td>-0.230759</td>\n",
       "    </tr>\n",
       "    <tr>\n",
       "      <th>3</th>\n",
       "      <td>2018-02-04</td>\n",
       "      <td>0.017680</td>\n",
       "      <td>0.570836</td>\n",
       "      <td>0.000176</td>\n",
       "      <td>0.002945</td>\n",
       "      <td>0.931250</td>\n",
       "      <td>0.330104</td>\n",
       "      <td>0.122862</td>\n",
       "      <td>0.157196</td>\n",
       "      <td>0.284404</td>\n",
       "      <td>...</td>\n",
       "      <td>0.174428</td>\n",
       "      <td>0.211111</td>\n",
       "      <td>0.135415</td>\n",
       "      <td>0.047554</td>\n",
       "      <td>0.019570</td>\n",
       "      <td>0.195998</td>\n",
       "      <td>0.975796</td>\n",
       "      <td>0.021640</td>\n",
       "      <td>8176.460616</td>\n",
       "      <td>-0.418350</td>\n",
       "    </tr>\n",
       "    <tr>\n",
       "      <th>4</th>\n",
       "      <td>2018-02-05</td>\n",
       "      <td>0.023407</td>\n",
       "      <td>0.570145</td>\n",
       "      <td>0.000119</td>\n",
       "      <td>0.004026</td>\n",
       "      <td>0.975000</td>\n",
       "      <td>0.520401</td>\n",
       "      <td>0.105754</td>\n",
       "      <td>0.286112</td>\n",
       "      <td>0.274419</td>\n",
       "      <td>...</td>\n",
       "      <td>0.129880</td>\n",
       "      <td>0.066667</td>\n",
       "      <td>0.108225</td>\n",
       "      <td>0.041632</td>\n",
       "      <td>0.021885</td>\n",
       "      <td>0.194042</td>\n",
       "      <td>0.968577</td>\n",
       "      <td>0.006834</td>\n",
       "      <td>6891.934414</td>\n",
       "      <td>-0.617751</td>\n",
       "    </tr>\n",
       "    <tr>\n",
       "      <th>...</th>\n",
       "      <td>...</td>\n",
       "      <td>...</td>\n",
       "      <td>...</td>\n",
       "      <td>...</td>\n",
       "      <td>...</td>\n",
       "      <td>...</td>\n",
       "      <td>...</td>\n",
       "      <td>...</td>\n",
       "      <td>...</td>\n",
       "      <td>...</td>\n",
       "      <td>...</td>\n",
       "      <td>...</td>\n",
       "      <td>...</td>\n",
       "      <td>...</td>\n",
       "      <td>...</td>\n",
       "      <td>...</td>\n",
       "      <td>...</td>\n",
       "      <td>...</td>\n",
       "      <td>...</td>\n",
       "      <td>...</td>\n",
       "      <td>...</td>\n",
       "    </tr>\n",
       "    <tr>\n",
       "      <th>1493</th>\n",
       "      <td>2022-03-05</td>\n",
       "      <td>0.651643</td>\n",
       "      <td>0.541811</td>\n",
       "      <td>0.977461</td>\n",
       "      <td>0.998349</td>\n",
       "      <td>0.203125</td>\n",
       "      <td>0.423504</td>\n",
       "      <td>0.262830</td>\n",
       "      <td>0.313364</td>\n",
       "      <td>0.996192</td>\n",
       "      <td>...</td>\n",
       "      <td>0.009392</td>\n",
       "      <td>0.188889</td>\n",
       "      <td>0.991361</td>\n",
       "      <td>0.988957</td>\n",
       "      <td>0.954228</td>\n",
       "      <td>0.038328</td>\n",
       "      <td>0.057749</td>\n",
       "      <td>0.751708</td>\n",
       "      <td>39416.462688</td>\n",
       "      <td>0.009345</td>\n",
       "    </tr>\n",
       "    <tr>\n",
       "      <th>1494</th>\n",
       "      <td>2022-03-06</td>\n",
       "      <td>0.696718</td>\n",
       "      <td>0.541120</td>\n",
       "      <td>0.978999</td>\n",
       "      <td>0.998732</td>\n",
       "      <td>0.228125</td>\n",
       "      <td>0.387928</td>\n",
       "      <td>0.424572</td>\n",
       "      <td>0.258337</td>\n",
       "      <td>0.997347</td>\n",
       "      <td>...</td>\n",
       "      <td>0.013680</td>\n",
       "      <td>0.188889</td>\n",
       "      <td>0.993585</td>\n",
       "      <td>0.989917</td>\n",
       "      <td>0.955602</td>\n",
       "      <td>0.053980</td>\n",
       "      <td>0.054352</td>\n",
       "      <td>0.749431</td>\n",
       "      <td>38423.618936</td>\n",
       "      <td>0.018275</td>\n",
       "    </tr>\n",
       "    <tr>\n",
       "      <th>1495</th>\n",
       "      <td>2022-03-07</td>\n",
       "      <td>0.802798</td>\n",
       "      <td>0.540428</td>\n",
       "      <td>0.979046</td>\n",
       "      <td>0.999164</td>\n",
       "      <td>0.281250</td>\n",
       "      <td>0.536329</td>\n",
       "      <td>0.292379</td>\n",
       "      <td>0.404291</td>\n",
       "      <td>0.997544</td>\n",
       "      <td>...</td>\n",
       "      <td>0.033287</td>\n",
       "      <td>0.200000</td>\n",
       "      <td>0.996444</td>\n",
       "      <td>0.993322</td>\n",
       "      <td>0.958043</td>\n",
       "      <td>0.051845</td>\n",
       "      <td>0.049257</td>\n",
       "      <td>0.749431</td>\n",
       "      <td>38018.649505</td>\n",
       "      <td>-0.136405</td>\n",
       "    </tr>\n",
       "    <tr>\n",
       "      <th>1496</th>\n",
       "      <td>2022-03-08</td>\n",
       "      <td>0.798383</td>\n",
       "      <td>0.539737</td>\n",
       "      <td>0.979685</td>\n",
       "      <td>0.999597</td>\n",
       "      <td>0.281250</td>\n",
       "      <td>0.575816</td>\n",
       "      <td>0.136858</td>\n",
       "      <td>0.405288</td>\n",
       "      <td>0.996383</td>\n",
       "      <td>...</td>\n",
       "      <td>0.027943</td>\n",
       "      <td>0.177778</td>\n",
       "      <td>0.996800</td>\n",
       "      <td>0.997066</td>\n",
       "      <td>0.961286</td>\n",
       "      <td>0.058070</td>\n",
       "      <td>0.050106</td>\n",
       "      <td>0.757403</td>\n",
       "      <td>38726.302102</td>\n",
       "      <td>-0.145170</td>\n",
       "    </tr>\n",
       "    <tr>\n",
       "      <th>1497</th>\n",
       "      <td>2022-03-09</td>\n",
       "      <td>0.739447</td>\n",
       "      <td>0.539046</td>\n",
       "      <td>0.979983</td>\n",
       "      <td>1.000000</td>\n",
       "      <td>0.250000</td>\n",
       "      <td>0.582751</td>\n",
       "      <td>0.195956</td>\n",
       "      <td>0.456783</td>\n",
       "      <td>1.000000</td>\n",
       "      <td>...</td>\n",
       "      <td>0.082375</td>\n",
       "      <td>0.188889</td>\n",
       "      <td>1.000000</td>\n",
       "      <td>1.000000</td>\n",
       "      <td>0.966357</td>\n",
       "      <td>0.061716</td>\n",
       "      <td>0.056051</td>\n",
       "      <td>0.758542</td>\n",
       "      <td>41977.383462</td>\n",
       "      <td>-0.046669</td>\n",
       "    </tr>\n",
       "  </tbody>\n",
       "</table>\n",
       "<p>1498 rows × 33 columns</p>\n",
       "</div>"
      ],
      "text/plain": [
       "            date  [AVG]_[NH]_mean_hash_rate  [+]_[NH]_Days_Till_Halving  \\\n",
       "0     2018-02-01                   0.007848                    0.572909   \n",
       "1     2018-02-02                   0.012923                    0.572218   \n",
       "2     2018-02-03                   0.008710                    0.571527   \n",
       "3     2018-02-04                   0.017680                    0.570836   \n",
       "4     2018-02-05                   0.023407                    0.570145   \n",
       "...          ...                        ...                         ...   \n",
       "1493  2022-03-05                   0.651643                    0.541811   \n",
       "1494  2022-03-06                   0.696718                    0.541120   \n",
       "1495  2022-03-07                   0.802798                    0.540428   \n",
       "1496  2022-03-08                   0.798383                    0.539737   \n",
       "1497  2022-03-09                   0.739447                    0.539046   \n",
       "\n",
       "      [//]_[AV]_Stock-to-Flow_Ratio  [+]_[NH]_Circulating_Supply  \\\n",
       "0                          0.000278                     0.000000   \n",
       "1                          0.000267                     0.000982   \n",
       "2                          0.000260                     0.001905   \n",
       "3                          0.000176                     0.002945   \n",
       "4                          0.000119                     0.004026   \n",
       "...                             ...                          ...   \n",
       "1493                       0.977461                     0.998349   \n",
       "1494                       0.978999                     0.998732   \n",
       "1495                       0.979046                     0.999164   \n",
       "1496                       0.979685                     0.999597   \n",
       "1497                       0.979983                     1.000000   \n",
       "\n",
       "      [+]_[NH]_Issuance  [+]_[NH]_Number_of_Active_Addresses  \\\n",
       "0              0.818750                             0.456903   \n",
       "1              0.868750                             0.469275   \n",
       "2              0.806250                             0.323582   \n",
       "3              0.931250                             0.330104   \n",
       "4              0.975000                             0.520401   \n",
       "...                 ...                                  ...   \n",
       "1493           0.203125                             0.423504   \n",
       "1494           0.228125                             0.387928   \n",
       "1495           0.281250                             0.536329   \n",
       "1496           0.281250                             0.575816   \n",
       "1497           0.250000                             0.582751   \n",
       "\n",
       "      [+]_[NH]_Mean_Block_Interval  [+]_[NH]_Number_of_Transactions  \\\n",
       "0                         0.166407                         0.410971   \n",
       "1                         0.178849                         0.345245   \n",
       "2                         0.177294                         0.221320   \n",
       "3                         0.122862                         0.157196   \n",
       "4                         0.105754                         0.286112   \n",
       "...                            ...                              ...   \n",
       "1493                      0.262830                         0.313364   \n",
       "1494                      0.424572                         0.258337   \n",
       "1495                      0.292379                         0.404291   \n",
       "1496                      0.136858                         0.405288   \n",
       "1497                      0.195956                         0.456783   \n",
       "\n",
       "      [+]_[NH]_Number_of_Addresses_with_a_Non-Zero_Balance  ...  \\\n",
       "0                                              0.298699     ...   \n",
       "1                                              0.294998     ...   \n",
       "2                                              0.291408     ...   \n",
       "3                                              0.284404     ...   \n",
       "4                                              0.274419     ...   \n",
       "...                                                 ...     ...   \n",
       "1493                                           0.996192     ...   \n",
       "1494                                           0.997347     ...   \n",
       "1495                                           0.997544     ...   \n",
       "1496                                           0.996383     ...   \n",
       "1497                                           1.000000     ...   \n",
       "\n",
       "      [//]_[AV]_Realized_Profits-to-Value_(RPV)_Ratio  fear_greed_value  \\\n",
       "0                                            0.124186          0.277778   \n",
       "1                                            0.085755          0.111111   \n",
       "2                                            0.065849          0.388889   \n",
       "3                                            0.174428          0.211111   \n",
       "4                                            0.129880          0.066667   \n",
       "...                                               ...               ...   \n",
       "1493                                         0.009392          0.188889   \n",
       "1494                                         0.013680          0.188889   \n",
       "1495                                         0.033287          0.200000   \n",
       "1496                                         0.027943          0.177778   \n",
       "1497                                         0.082375          0.188889   \n",
       "\n",
       "      [+]_[NH]_Number_of_Addresses_with_Balance_0.01 - 0.1  \\\n",
       "0                                              0.184989      \n",
       "1                                              0.173657      \n",
       "2                                              0.163550      \n",
       "3                                              0.135415      \n",
       "4                                              0.108225      \n",
       "...                                                 ...      \n",
       "1493                                           0.991361      \n",
       "1494                                           0.993585      \n",
       "1495                                           0.996444      \n",
       "1496                                           0.996800      \n",
       "1497                                           1.000000      \n",
       "\n",
       "      [+]_[NH]_Number_of_Addresses_with_Balance_0.1 - 1  \\\n",
       "0                                              0.099227   \n",
       "1                                              0.079729   \n",
       "2                                              0.067367   \n",
       "3                                              0.047554   \n",
       "4                                              0.041632   \n",
       "...                                                 ...   \n",
       "1493                                           0.988957   \n",
       "1494                                           0.989917   \n",
       "1495                                           0.993322   \n",
       "1496                                           0.997066   \n",
       "1497                                           1.000000   \n",
       "\n",
       "      [+]_[NH]_Number_of_Addresses_with_Balance_1 - 10  \\\n",
       "0                                             0.047961   \n",
       "1                                             0.039034   \n",
       "2                                             0.031767   \n",
       "3                                             0.019570   \n",
       "4                                             0.021885   \n",
       "...                                                ...   \n",
       "1493                                          0.954228   \n",
       "1494                                          0.955602   \n",
       "1495                                          0.958043   \n",
       "1496                                          0.961286   \n",
       "1497                                          0.966357   \n",
       "\n",
       "      [+]_[NH]_Number_of_Addresses_with_Balance_10 - 100  \\\n",
       "0                                              0.223121    \n",
       "1                                              0.214140    \n",
       "2                                              0.197065    \n",
       "3                                              0.195998    \n",
       "4                                              0.194042    \n",
       "...                                                 ...    \n",
       "1493                                           0.038328    \n",
       "1494                                           0.053980    \n",
       "1495                                           0.051845    \n",
       "1496                                           0.058070    \n",
       "1497                                           0.061716    \n",
       "\n",
       "      [+]_[NH]_Number_of_Addresses_with_Balance_100 - 1k  \\\n",
       "0                                              0.954140    \n",
       "1                                              0.969427    \n",
       "2                                              0.968153    \n",
       "3                                              0.975796    \n",
       "4                                              0.968577    \n",
       "...                                                 ...    \n",
       "1493                                           0.057749    \n",
       "1494                                           0.054352    \n",
       "1495                                           0.049257    \n",
       "1496                                           0.050106    \n",
       "1497                                           0.056051    \n",
       "\n",
       "      [+]_[NH]_Number_of_Addresses_with_Balance_1k - 10k  \\\n",
       "0                                              0.018223    \n",
       "1                                              0.009112    \n",
       "2                                              0.011390    \n",
       "3                                              0.021640    \n",
       "4                                              0.006834    \n",
       "...                                                 ...    \n",
       "1493                                           0.751708    \n",
       "1494                                           0.749431    \n",
       "1495                                           0.749431    \n",
       "1496                                           0.757403    \n",
       "1497                                           0.758542    \n",
       "\n",
       "      [+]_[T]_Bitcoin_Price  [%]_Bitcoin_growth_rate_on_Horizon=7  \n",
       "0               9014.026207                             -0.235616  \n",
       "1               8799.121911                             -0.260491  \n",
       "2               9208.459919                             -0.230759  \n",
       "3               8176.460616                             -0.418350  \n",
       "4               6891.934414                             -0.617751  \n",
       "...                     ...                                   ...  \n",
       "1493           39416.462688                              0.009345  \n",
       "1494           38423.618936                              0.018275  \n",
       "1495           38018.649505                             -0.136405  \n",
       "1496           38726.302102                             -0.145170  \n",
       "1497           41977.383462                             -0.046669  \n",
       "\n",
       "[1498 rows x 33 columns]"
      ]
     },
     "execution_count": 5,
     "metadata": {},
     "output_type": "execute_result"
    }
   ],
   "source": [
    "df = ApiCall().read_local()\n",
    "for i in range(1,len(list(df.columns))-2):\n",
    "    scaler = MinMaxScaler()\n",
    "    df[list(df.columns)[i]] = scaler.fit_transform(np.array(df[df.columns[i]]).reshape(-1, 1))\n",
    "df"
   ]
  },
  {
   "cell_type": "code",
   "execution_count": null,
   "id": "f39f54d8",
   "metadata": {
    "ExecuteTime": {
     "end_time": "2022-03-10T13:19:24.134543Z",
     "start_time": "2022-03-10T13:16:30.726855Z"
    }
   },
   "outputs": [],
   "source": [
    "ALPHA = [0.005,0.01,0.1,5,1,10,100]\n",
    "L1 = [0.0001,0.0005,0.001,0.005,0.001,0.005,0.01,0.1,0.5,1]\n",
    "for alpha in ALPHA:\n",
    "    for l1 in L1 : \n",
    "        # Instanciate model\n",
    "        regression_model = LinearRegressionBaselineModel(alpha = alpha, l1_ratio = l1)\n",
    "        # Train and Fit data using the crossval\n",
    "        val_score, score = cv_train(regression_model,df);\n",
    "        print(val_score,score)\n",
    "        past_reality, reality,reality_diff, prediction_diff = cross_val_trade(model,df)\n",
    "        for i in range(len(reality)):\n",
    "            plt.plot(reality[i])\n",
    "            plt.plot(past_reality[i] * prediction_diff[i]+ past_reality[i])\n",
    "            plt.plot()\n",
    "            plt.show()"
   ]
  },
  {
   "cell_type": "code",
   "execution_count": null,
   "id": "5e7fef69",
   "metadata": {
    "ExecuteTime": {
     "end_time": "2022-03-10T13:22:47.059974Z",
     "start_time": "2022-03-10T13:19:28.354562Z"
    }
   },
   "outputs": [],
   "source": [
    "ALPHA = [0.001,0.005,0.01,0.1,5,1,10,100]\n",
    "L1 = [0.0001,0.0005,0.001,0.005,0.001,0.005,0.01,0.1,0.5,1]\n",
    "for alpha in ALPHA:\n",
    "    for l1 in L1 : \n",
    "        # Instanciate model\n",
    "        regression_model = LinearRegressionBaselineModel(alpha = alpha, l1_ratio = l1)\n",
    "        # Train and Fit data using the crossval\n",
    "        val_score, score = cv_train(regression_model,df.iloc[:,:-1]);\n",
    "        print(val_score,score)\n",
    "        past_reality, reality,reality_diff, prediction_diff = cross_val_trade(model,df.iloc[:,:-1])\n",
    "        for i in range(len(reality)):\n",
    "            plt.plot(reality_diff[i])\n",
    "            plt.plot(prediction_diff[i])\n",
    "            plt.plot()\n",
    "            plt.show()"
   ]
  },
  {
   "cell_type": "code",
   "execution_count": null,
   "id": "79500c38",
   "metadata": {
    "ExecuteTime": {
     "start_time": "2022-03-10T13:32:51.584Z"
    }
   },
   "outputs": [
    {
     "name": "stderr",
     "output_type": "stream",
     "text": [
      " 89%|███████████████████████████████████████████████████████████████████████████████████████████████████████████████████████████████▌                | 31/35 [03:04<00:21,  5.32s/it]"
     ]
    }
   ],
   "source": [
    "for n_estimators in [1000,1500,3000]:\n",
    "    for warm_start in  [True,False]:\n",
    "        for bootstrap in [True,False]:\n",
    "            for criterion in [\"squared_error\", \"absolute_error\", \"poisson\"]:\n",
    "                for min_samples_leaf in [1,5,10,20]:\n",
    "                    model = RandomForestReg(warm_start=warm_start,\n",
    "                                            n_estimators=n_estimators,\n",
    "                                           bootstrap=bootstrap,\n",
    "                                           criterion=criterion,\n",
    "                                           min_samples_leaf=min_samples_leaf)\n",
    "\n",
    "                    cv_train(model,df.iloc[:,:-1])\n",
    "                    print(val_score,score)\n",
    "                    past_reality, reality,reality_diff, prediction_diff = cross_val_trade(model,df.iloc[:,:-1])\n",
    "                    for i in range(len(reality)):\n",
    "                        plt.plot(reality_diff[i])\n",
    "                        plt.plot(prediction_diff[i])\n",
    "                        plt.plot()\n",
    "                        plt.show()"
   ]
  },
  {
   "cell_type": "code",
   "execution_count": null,
   "id": "faa69468",
   "metadata": {},
   "outputs": [],
   "source": []
  }
 ],
 "metadata": {
  "kernelspec": {
   "display_name": "Python 3 (ipykernel)",
   "language": "python",
   "name": "python3"
  },
  "language_info": {
   "codemirror_mode": {
    "name": "ipython",
    "version": 3
   },
   "file_extension": ".py",
   "mimetype": "text/x-python",
   "name": "python",
   "nbconvert_exporter": "python",
   "pygments_lexer": "ipython3",
   "version": "3.8.12"
  },
  "toc": {
   "base_numbering": 1,
   "nav_menu": {},
   "number_sections": true,
   "sideBar": true,
   "skip_h1_title": false,
   "title_cell": "Table of Contents",
   "title_sidebar": "Contents",
   "toc_cell": false,
   "toc_position": {},
   "toc_section_display": true,
   "toc_window_display": false
  }
 },
 "nbformat": 4,
 "nbformat_minor": 5
}
