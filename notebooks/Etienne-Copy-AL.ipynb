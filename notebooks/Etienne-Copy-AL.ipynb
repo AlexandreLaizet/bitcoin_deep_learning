{
 "cells": [
  {
   "cell_type": "code",
   "execution_count": 1,
   "id": "86a7b326",
   "metadata": {
    "ExecuteTime": {
     "end_time": "2022-03-10T10:20:38.601435Z",
     "start_time": "2022-03-10T10:20:27.408185Z"
    }
   },
   "outputs": [],
   "source": [
    "import requests \n",
    "import pandas as pd\n",
    "import numpy as np\n",
    "import sys; sys.path\n",
    "import datetime\n",
    "import pandas as pd\n",
    "import numpy as np \n",
    "from datetime import datetime\n",
    "from datetime import datetime\n",
    "from tqdm import tqdm\n",
    "import random\n",
    "from sklearn.metrics import mean_absolute_error\n",
    "import matplotlib.pyplot as plt\n",
    "import os\n",
    "from sklearn.preprocessing import MinMaxScaler\n",
    "\n",
    "from bitcoin_deep_learning.call_api import ApiCall\n",
    "from bitcoin_deep_learning.model import LinearRegressionBaselineModel, RnnDlModel,RandomForestReg, DummyModel, RnnDlModel_test\n",
    "from bitcoin_deep_learning.trainer import cv_train, read_result\n",
    "from bitcoin_deep_learning.cross_val import cross_val, get_cross_XY, cross_val_trade\n",
    "from bitcoin_deep_learning.metrics import *\n",
    "api = ApiCall()\n",
    "\n",
    "%load_ext autoreload\n",
    "%autoreload 2\n"
   ]
  },
  {
   "cell_type": "code",
   "execution_count": null,
   "id": "67db4bac",
   "metadata": {
    "ExecuteTime": {
     "end_time": "2022-03-10T10:44:17.163064Z",
     "start_time": "2022-03-10T10:44:16.211055Z"
    }
   },
   "outputs": [],
   "source": [
    "scaler = MinMaxScaler()\n",
    "train_df= ApiCall().read_local()\n",
    "for i in range(1,len(list(train_df.columns))-1):\n",
    "    train_df[list(train_df.columns)[i]] = scaler.fit_transform(np.array(train_df[train_df.columns[1]]).reshape(-1, 1))\n",
    "train_df"
   ]
  },
  {
   "cell_type": "code",
   "execution_count": null,
   "id": "5ab32b96",
   "metadata": {
    "ExecuteTime": {
     "end_time": "2022-03-10T10:30:29.239356Z",
     "start_time": "2022-03-10T10:30:14.646435Z"
    }
   },
   "outputs": [],
   "source": [
    "model = RandomForestReg()\n",
    "cv_train(model,train_df)\n",
    "read_result().sort_values(by=\"date\")"
   ]
  },
  {
   "cell_type": "code",
   "execution_count": null,
   "id": "1050ccf2",
   "metadata": {
    "ExecuteTime": {
     "end_time": "2022-03-10T11:44:34.629111Z",
     "start_time": "2022-03-10T11:44:34.606586Z"
    }
   },
   "outputs": [],
   "source": [
    "\"yolo\""
   ]
  },
  {
   "cell_type": "code",
   "execution_count": null,
   "id": "62ef4a70",
   "metadata": {
    "ExecuteTime": {
     "end_time": "2022-03-10T11:18:40.522116Z",
     "start_time": "2022-03-10T11:01:30.760235Z"
    }
   },
   "outputs": [],
   "source": [
    "for n_estimators in [100,500,700,1000,1500,3000]:\n",
    "    for warm_start in  [True,False]:\n",
    "        for bootstrap in [True,False]:\n",
    "            for criterion in [\"squared_error\", \"absolute_error\", \"poisson\"]:\n",
    "                for min_samples_leaf in [1,5,10,20]:\n",
    "                    model = RandomForestReg(warm_start=warm_start,\n",
    "                                            n_estimators=n_estimators,\n",
    "                                           bootstrap=bootstrap,\n",
    "                                           criterion=criterion,\n",
    "                                           min_samples_leaf=min_samples_leaf)\n",
    "\n",
    "                    cv_train(model,train_df)"
   ]
  },
  {
   "cell_type": "code",
   "execution_count": null,
   "id": "a3616cc2",
   "metadata": {
    "ExecuteTime": {
     "end_time": "2022-03-10T10:27:39.434122Z",
     "start_time": "2022-03-10T10:27:39.434082Z"
    }
   },
   "outputs": [],
   "source": [
    "X0 = [[i+5,-2*i]for i in range(1001)]\n",
    "X1 = np.sin(np.arange(1001))"
   ]
  },
  {
   "cell_type": "code",
   "execution_count": null,
   "id": "638826b9",
   "metadata": {
    "ExecuteTime": {
     "end_time": "2022-03-09T16:59:21.879685Z",
     "start_time": "2022-03-09T16:59:21.742616Z"
    }
   },
   "outputs": [],
   "source": [
    "df = pd.DataFrame(X0)\n",
    "df[\"date\"] = X1\n",
    "df"
   ]
  },
  {
   "cell_type": "code",
   "execution_count": null,
   "id": "4be498d0",
   "metadata": {
    "ExecuteTime": {
     "end_time": "2022-03-09T16:59:23.604949Z",
     "start_time": "2022-03-09T16:59:22.410190Z"
    }
   },
   "outputs": [],
   "source": [
    "model = LinearRegressionBaselineModel()\n",
    "#model = RnnDlModel(epochs=10,patience=2)\n",
    "past_reality, reality,reality_diff, prediction_diff = cross_val_trade(model,df)"
   ]
  },
  {
   "cell_type": "code",
   "execution_count": null,
   "id": "661fbc00",
   "metadata": {
    "ExecuteTime": {
     "end_time": "2022-03-09T16:59:23.796539Z",
     "start_time": "2022-03-09T16:59:23.617223Z"
    }
   },
   "outputs": [],
   "source": [
    "past_reality[0]"
   ]
  },
  {
   "cell_type": "code",
   "execution_count": null,
   "id": "3a71cbc9",
   "metadata": {
    "ExecuteTime": {
     "end_time": "2022-03-09T16:59:24.300710Z",
     "start_time": "2022-03-09T16:59:23.806693Z"
    }
   },
   "outputs": [],
   "source": [
    "plt.plot(reality[0])"
   ]
  },
  {
   "cell_type": "code",
   "execution_count": null,
   "id": "b59aa718",
   "metadata": {
    "ExecuteTime": {
     "end_time": "2022-03-09T16:59:25.305410Z",
     "start_time": "2022-03-09T16:59:24.977799Z"
    }
   },
   "outputs": [],
   "source": [
    "plt.plot(prediction_diff[0],c=\"r\")\n",
    "plt.plot(reality_diff[0])"
   ]
  },
  {
   "cell_type": "code",
   "execution_count": null,
   "id": "b0f3a3d1",
   "metadata": {
    "ExecuteTime": {
     "end_time": "2022-03-09T16:59:29.429191Z",
     "start_time": "2022-03-09T16:59:27.980345Z"
    }
   },
   "outputs": [],
   "source": [
    "model = LinearRegressionBaselineModel()\n",
    "#model = RnnDlModel(epochs=10,patience=2)\n",
    "past_reality, reality,reality_diff, prediction_diff = cross_val_trade(model,df)\n",
    "plt.plot(prediction_diff[0],c=\"r\")\n",
    "plt.plot(reality_diff[0])"
   ]
  },
  {
   "cell_type": "code",
   "execution_count": null,
   "id": "d3603a08",
   "metadata": {
    "ExecuteTime": {
     "end_time": "2022-03-09T16:52:39.686158Z",
     "start_time": "2022-03-09T16:52:39.543063Z"
    }
   },
   "outputs": [],
   "source": [
    "df"
   ]
  },
  {
   "cell_type": "code",
   "execution_count": null,
   "id": "78cc3bed",
   "metadata": {
    "ExecuteTime": {
     "end_time": "2022-03-09T16:54:14.625068Z",
     "start_time": "2022-03-09T16:54:13.512900Z"
    }
   },
   "outputs": [],
   "source": [
    "X_train_list, Y_train_list, X_test_list,Y_test_list = get_cross_XY(df.drop(columns=\"date\"),data=None)"
   ]
  },
  {
   "cell_type": "code",
   "execution_count": null,
   "id": "ad51d86c",
   "metadata": {
    "ExecuteTime": {
     "end_time": "2022-03-09T16:54:14.762448Z",
     "start_time": "2022-03-09T16:54:14.632659Z"
    }
   },
   "outputs": [],
   "source": [
    "X_train, Y_train, X_test,Y_test = X_train_list[0], Y_train_list[0], X_test_list[0],Y_test_list[0]"
   ]
  },
  {
   "cell_type": "code",
   "execution_count": null,
   "id": "a6b1c728",
   "metadata": {
    "ExecuteTime": {
     "end_time": "2022-03-09T16:54:42.591675Z",
     "start_time": "2022-03-09T16:54:42.461813Z"
    }
   },
   "outputs": [],
   "source": [
    "from sklearn.preprocessing import MinMaxScaler, StandardScaler\n",
    "scaler = StandardScaler()\n",
    "#X_train_scaled =  scaler.fit_transform(X_train[:,-1,:])\n",
    "#X_test_scaled = scaler.transform(X_test[:,-1,:])\n",
    "X_train_scaled =  (X_train[:,-1,:])\n",
    "X_test_scaled = (X_test[:,-1,:])\n",
    "X_train_scaled"
   ]
  },
  {
   "cell_type": "code",
   "execution_count": null,
   "id": "6a0e31f5",
   "metadata": {
    "ExecuteTime": {
     "end_time": "2022-03-09T16:54:43.329373Z",
     "start_time": "2022-03-09T16:54:42.981451Z"
    }
   },
   "outputs": [],
   "source": [
    "from sklearn.linear_model import ElasticNet\n",
    "model = ElasticNet()\n",
    "model.fit(X_train_scaled,Y_train)\n",
    "Y_pred = model.predict(X_test_scaled)\n",
    "plt.plot(Y_pred)\n",
    "plt.plot(Y_test)"
   ]
  },
  {
   "cell_type": "code",
   "execution_count": null,
   "id": "254814c0",
   "metadata": {
    "ExecuteTime": {
     "end_time": "2022-03-09T16:54:15.529568Z",
     "start_time": "2022-03-09T16:54:15.350092Z"
    }
   },
   "outputs": [],
   "source": [
    "Y_train"
   ]
  },
  {
   "cell_type": "code",
   "execution_count": null,
   "id": "18a73db8",
   "metadata": {
    "ExecuteTime": {
     "end_time": "2022-03-09T16:54:15.713904Z",
     "start_time": "2022-03-09T16:54:15.542868Z"
    }
   },
   "outputs": [],
   "source": [
    "X_train[:,-1,:]"
   ]
  },
  {
   "cell_type": "code",
   "execution_count": null,
   "id": "e6298ed9",
   "metadata": {
    "ExecuteTime": {
     "end_time": "2022-03-09T15:39:33.674825Z",
     "start_time": "2022-03-09T15:39:33.537909Z"
    }
   },
   "outputs": [],
   "source": [
    "from sklearn.preprocessing import MinMaxScaler, StandardScaler\n",
    "scaler = MinMaxScaler()\n",
    "scaler.fit(X_train[:,-1,:])"
   ]
  },
  {
   "cell_type": "code",
   "execution_count": null,
   "id": "50ca6d99",
   "metadata": {
    "ExecuteTime": {
     "end_time": "2022-03-09T14:54:05.248499Z",
     "start_time": "2022-03-09T14:54:05.021024Z"
    }
   },
   "outputs": [],
   "source": []
  },
  {
   "cell_type": "code",
   "execution_count": null,
   "id": "6a0fa236",
   "metadata": {
    "ExecuteTime": {
     "end_time": "2022-03-09T15:39:33.832071Z",
     "start_time": "2022-03-09T15:39:33.688143Z"
    }
   },
   "outputs": [],
   "source": [
    "X_train[:,-1,:]"
   ]
  },
  {
   "cell_type": "code",
   "execution_count": null,
   "id": "5d98795d",
   "metadata": {
    "ExecuteTime": {
     "end_time": "2022-03-09T15:44:53.023640Z",
     "start_time": "2022-03-09T15:44:45.930468Z"
    }
   },
   "outputs": [],
   "source": [
    "model = LinearRegressionBaselineModel(alpha=0.1,l1_ratio=0.001)\n",
    "df = ApiCall().read_local()\n",
    "X_train_list, Y_train_list, X_test_list,Y_test_list = get_cross_XY(df,data=None)\n",
    "\n"
   ]
  },
  {
   "cell_type": "code",
   "execution_count": null,
   "id": "bffce926",
   "metadata": {
    "ExecuteTime": {
     "end_time": "2022-03-09T15:45:07.391989Z",
     "start_time": "2022-03-09T15:44:58.984581Z"
    }
   },
   "outputs": [],
   "source": [
    "cross_val_trade(model,df)"
   ]
  },
  {
   "cell_type": "code",
   "execution_count": null,
   "id": "454232ad",
   "metadata": {
    "ExecuteTime": {
     "end_time": "2022-03-09T15:47:30.179538Z",
     "start_time": "2022-03-09T15:47:26.175042Z"
    }
   },
   "outputs": [],
   "source": [
    "past_reality, reality,reality_diff, prediction_diff = cross_val_trade(model,df)"
   ]
  },
  {
   "cell_type": "code",
   "execution_count": null,
   "id": "3d5d9b8c",
   "metadata": {
    "ExecuteTime": {
     "end_time": "2022-03-09T16:28:26.745583Z",
     "start_time": "2022-03-09T16:28:26.561663Z"
    }
   },
   "outputs": [],
   "source": [
    "ct = 0\n",
    "preds = []\n",
    "computed_reality = []\n",
    "for past_prices, diffs in zip(past_reality,prediction_diff):\n",
    "    preds.append(past_prices * diffs+ past_prices)\n",
    "preds  "
   ]
  },
  {
   "cell_type": "code",
   "execution_count": null,
   "id": "cdcb48e0",
   "metadata": {
    "ExecuteTime": {
     "end_time": "2022-03-09T17:03:14.025454Z",
     "start_time": "2022-03-09T17:03:13.903822Z"
    }
   },
   "outputs": [],
   "source": []
  },
  {
   "cell_type": "code",
   "execution_count": null,
   "id": "34a42f71",
   "metadata": {
    "ExecuteTime": {
     "end_time": "2022-03-09T17:03:05.746462Z",
     "start_time": "2022-03-09T17:03:05.610887Z"
    }
   },
   "outputs": [],
   "source": [
    "df = api.read_local()\n",
    "scaler = MinMaxScaler()\n",
    "#df  =scaler.fit_transform(df.drop(columns=\"date\"))"
   ]
  },
  {
   "cell_type": "code",
   "execution_count": null,
   "id": "33afb8e0",
   "metadata": {
    "ExecuteTime": {
     "end_time": "2022-03-09T17:05:18.570310Z",
     "start_time": "2022-03-09T17:05:18.439994Z"
    }
   },
   "outputs": [],
   "source": [
    "df[df.columns[1]].shape"
   ]
  },
  {
   "cell_type": "code",
   "execution_count": null,
   "id": "9652d735",
   "metadata": {
    "ExecuteTime": {
     "end_time": "2022-03-09T17:05:55.466306Z",
     "start_time": "2022-03-09T17:05:55.336089Z"
    }
   },
   "outputs": [],
   "source": []
  },
  {
   "cell_type": "code",
   "execution_count": null,
   "id": "8616a701",
   "metadata": {
    "ExecuteTime": {
     "end_time": "2022-03-09T17:08:48.818805Z",
     "start_time": "2022-03-09T17:08:48.656506Z"
    }
   },
   "outputs": [],
   "source": []
  },
  {
   "cell_type": "code",
   "execution_count": null,
   "id": "360c1fe3",
   "metadata": {
    "ExecuteTime": {
     "end_time": "2022-03-09T17:08:49.756169Z",
     "start_time": "2022-03-09T17:08:49.535475Z"
    }
   },
   "outputs": [],
   "source": [
    "df"
   ]
  },
  {
   "cell_type": "code",
   "execution_count": null,
   "id": "ba7fa4f9",
   "metadata": {
    "ExecuteTime": {
     "end_time": "2022-03-09T17:14:27.791406Z",
     "start_time": "2022-03-09T17:14:23.473082Z"
    }
   },
   "outputs": [],
   "source": [
    "\n",
    "df = api.read_local()\n",
    "scaler = MinMaxScaler()\n",
    "for i in range(1,len(list(df.columns))):\n",
    "    df[list(df.columns)[i]] = scaler.fit_transform(np.array(df[df.columns[1]]).reshape(-1, 1))\n",
    "\n",
    "model = LinearRegressionBaselineModel(alpha=0.5,l1_ratio=0.001)\n",
    "#model = RnnDlModel(epochs=10,patience=2)\n",
    "past_reality, reality,reality_diff, prediction_diff = cross_val_trade(model,df)\n",
    "for i in range(10):\n",
    "    plt.plot(prediction_diff[i],c=\"r\")\n",
    "    plt.plot(reality_diff[i])\n",
    "    plt.show()\n"
   ]
  },
  {
   "cell_type": "code",
   "execution_count": null,
   "id": "b3accc8b",
   "metadata": {
    "ExecuteTime": {
     "end_time": "2022-03-09T17:14:28.010131Z",
     "start_time": "2022-03-09T17:14:27.798627Z"
    }
   },
   "outputs": [],
   "source": [
    "df"
   ]
  },
  {
   "cell_type": "code",
   "execution_count": null,
   "id": "7f8e1678",
   "metadata": {
    "ExecuteTime": {
     "end_time": "2022-03-09T17:14:30.525658Z",
     "start_time": "2022-03-09T17:14:28.024636Z"
    }
   },
   "outputs": [],
   "source": [
    "fold_score, score= train(model,df)\n",
    "print(fold_score,score)"
   ]
  },
  {
   "cell_type": "code",
   "execution_count": null,
   "id": "613ccd8b",
   "metadata": {
    "ExecuteTime": {
     "end_time": "2022-03-09T17:23:46.544656Z",
     "start_time": "2022-03-09T17:19:17.670903Z"
    }
   },
   "outputs": [],
   "source": [
    "for counter in range(20):\n",
    "    alpha = 0.015 * random.random()\n",
    "    l1 = random.random()*0.01\n",
    "    # Instanciate model\n",
    "    regression_model = LinearRegressionBaselineModel(alpha = alpha, l1_ratio = l1)\n",
    "    # Train and Fit data using the crossval\n",
    "    val_score, score = train(regression_model,df);\n",
    "    print(val_score,score)\n",
    "    past_reality, reality,reality_diff, prediction_diff = cross_val_trade(model,df)\n",
    "    for i in range(len(reality)):\n",
    "        plt.plot(prediction_diff[i],c=\"r\")\n",
    "        plt.plot(reality_diff[i])\n",
    "        plt.show()"
   ]
  },
  {
   "cell_type": "code",
   "execution_count": null,
   "id": "d99cef92",
   "metadata": {
    "ExecuteTime": {
     "end_time": "2022-03-09T17:23:46.730289Z",
     "start_time": "2022-03-09T17:23:46.561158Z"
    },
    "scrolled": true
   },
   "outputs": [],
   "source": [
    "from bitcoin_deep_learning.trainer import read_result\n",
    "read_result().sort_values(by=\"date\",ascending=False)"
   ]
  },
  {
   "cell_type": "code",
   "execution_count": null,
   "id": "6a626c8e",
   "metadata": {
    "ExecuteTime": {
     "end_time": "2022-03-09T17:52:26.052552Z",
     "start_time": "2022-03-09T17:36:07.704082Z"
    }
   },
   "outputs": [],
   "source": [
    "df = api.read_local()\n",
    "scaler = MinMaxScaler()\n",
    "for i in range(1,len(list(df.columns))-1):\n",
    "    df[list(df.columns)[i]] = scaler.fit_transform(np.array(df[df.columns[1]]).reshape(-1, 1))\n",
    "\n",
    "model = LinearRegressionBaselineModel(alpha=0.5,l1_ratio=0.001)\n",
    "#model = RnnDlModel(epochs=10,patience=2)\n",
    "past_reality, reality,reality_diff, prediction_diff = cross_val_trade(model,df)\n",
    "ALPHA = [0.001,0.005,0.01,0.1,5,1,10,100]\n",
    "L1 = [0.0001,0.0005,0.001,0.005,0.001,0.005,0.01,0.1,0.5,1]\n",
    "for alpha in ALPHA :\n",
    "    for l1 in L1 : \n",
    "        # Instanciate model\n",
    "        regression_model = LinearRegressionBaselineModel(alpha = alpha, l1_ratio = l1)\n",
    "        # Train and Fit data using the crossval\n",
    "        val_score, score = train(regression_model,df);\n",
    "        print(val_score,score)\n",
    "        past_reality, reality,reality_diff, prediction_diff = cross_val_trade(model,df)\n",
    "        for i in range(len(reality)):\n",
    "            plt.plot(prediction_diff[i],c=\"r\")\n",
    "            plt.plot(reality_diff[i])\n",
    "            plt.show()"
   ]
  },
  {
   "cell_type": "code",
   "execution_count": null,
   "id": "57f11863",
   "metadata": {
    "ExecuteTime": {
     "end_time": "2022-03-09T17:52:26.245981Z",
     "start_time": "2022-03-09T17:52:26.065419Z"
    }
   },
   "outputs": [],
   "source": [
    "read_result().sort_values(by=\"date\",ascending=False).head(50)"
   ]
  },
  {
   "cell_type": "code",
   "execution_count": null,
   "id": "8690ed32",
   "metadata": {
    "ExecuteTime": {
     "start_time": "2022-03-09T18:31:31.901Z"
    }
   },
   "outputs": [],
   "source": [
    "df = api.read_local()\n",
    "scaler = MinMaxScaler()\n",
    "for i in range(1,len(list(df.columns))):\n",
    "    df[list(df.columns)[i]] = scaler.fit_transform(np.array(df[df.columns[1]]).reshape(-1, 1))\n",
    "\n",
    "model = LinearRegressionBaselineModel(alpha=0.5,l1_ratio=0.001)\n",
    "#model = RnnDlModel(epochs=10,patience=2)\n",
    "past_reality, reality,reality_diff, prediction_diff = cross_val_trade(model,df)\n",
    "ALPHA = [0.001,0.005,0.01,0.1,5,1,10,100]\n",
    "L1 = [0.0001,0.0005,0.001,0.005,0.001,0.005,0.01,0.1,0.5,1]\n",
    "for alpha in ALPHA :\n",
    "    for l1 in L1 : \n",
    "        # Instanciate model\n",
    "        regression_model = LinearRegressionBaselineModel(alpha = alpha, l1_ratio = l1)\n",
    "        # Train and Fit data using the crossval\n",
    "        val_score, score = train(regression_model,df);\n",
    "        print(val_score,score)\n",
    "        past_reality, reality,reality_diff, prediction_diff = cross_val_trade(model,df)\n",
    "        for i in range(len(reality)):\n",
    "            plt.plot(reality[i])\n",
    "            plt.plot()"
   ]
  },
  {
   "cell_type": "code",
   "execution_count": null,
   "id": "9bf83a68",
   "metadata": {
    "ExecuteTime": {
     "end_time": "2022-03-09T18:34:24.142241Z",
     "start_time": "2022-03-09T18:34:24.013993Z"
    }
   },
   "outputs": [],
   "source": [
    "x = np.eye(260,3,31)\n",
    "x.reshape(260,)"
   ]
  },
  {
   "cell_type": "code",
   "execution_count": null,
   "id": "06390c76",
   "metadata": {
    "ExecuteTime": {
     "end_time": "2022-03-09T18:29:04.773254Z",
     "start_time": "2022-03-09T18:28:59.474360Z"
    }
   },
   "outputs": [],
   "source": [
    "read_result().sort_values(by=\"mean_score\",ascending=False).head(50)"
   ]
  },
  {
   "cell_type": "code",
   "execution_count": null,
   "id": "91c1510c",
   "metadata": {
    "ExecuteTime": {
     "end_time": "2022-03-10T08:46:55.653991Z",
     "start_time": "2022-03-10T08:46:55.513440Z"
    }
   },
   "outputs": [],
   "source": [
    "from sklearn.metrics import mean_absolute_error\n",
    "def train(model,\n",
    "          df,\n",
    "          save:bool=True,\n",
    "          precision:int=5\n",
    "          ):\n",
    "    reality,prediction = cross_val(model,df)\n",
    "    fold_score = [round(mean_absolute_error(Y_true,Y_pred),precision)\n",
    "                            for Y_true,Y_pred in zip(reality,prediction)]\n",
    "    score =round(np.mean(np.array(fold_score)),precision)\n",
    "    # Option to save results\n",
    "    if save == True :\n",
    "        file_path = os.path.join(ROOT_DIR,\n",
    "                                        \"cross_val_data\",\n",
    "                                        'test.csv')\n",
    "        # Check if file is there and create it otherwise\n",
    "        if not os.path.isfile(file_path):\n",
    "            fieldnames = [\"name\",'fold_score',\"mean_score\",\"min_score\",\"max_score\",'hyperparams','date']\n",
    "            pd.DataFrame(columns=fieldnames).to_csv(file_path,index=False)\n",
    "        # Append a new line with current CV results\n",
    "        with open(file_path , 'a', newline='') as csvfile:\n",
    "            fieldnames = [\"name\",'fold_score',\"mean_score\",\"min_score\",\"max_score\",'hyperparams','date']\n",
    "            writer = csv.DictWriter(csvfile, fieldnames=fieldnames)\n",
    "\n",
    "            writer.writerow({\"name\":model.name, \"fold_score\":fold_score,\n",
    "                            \"mean_score\":score,\"min_score\":min(fold_score),\n",
    "                            \"max_score\":max(fold_score),\n",
    "                            \"hyperparams\":model.hyperparams,\n",
    "                            'date':datetime.now().strftime(\"%d-%m %H:%M:%S\")})\n",
    "            print(\"Training done\")\n",
    "        return fold_score, score\n"
   ]
  },
  {
   "cell_type": "code",
   "execution_count": null,
   "id": "be304499",
   "metadata": {
    "ExecuteTime": {
     "end_time": "2022-03-10T08:46:56.167435Z",
     "start_time": "2022-03-10T08:46:56.011474Z"
    }
   },
   "outputs": [],
   "source": [
    "train_df = ApiCall().read_local()"
   ]
  },
  {
   "cell_type": "code",
   "execution_count": null,
   "id": "08c1e567",
   "metadata": {
    "ExecuteTime": {
     "end_time": "2022-03-10T09:10:57.769630Z",
     "start_time": "2022-03-10T09:10:57.618451Z"
    }
   },
   "outputs": [],
   "source": [
    "read_result(file=\"CV_trader.csv\")"
   ]
  },
  {
   "cell_type": "code",
   "execution_count": null,
   "id": "f01e5590",
   "metadata": {
    "ExecuteTime": {
     "end_time": "2022-03-10T08:47:34.381188Z",
     "start_time": "2022-03-10T08:47:30.526438Z"
    }
   },
   "outputs": [],
   "source": [
    "\n",
    "model = LinearRegressionBaselineModel()\n",
    "train(model,train_df)"
   ]
  },
  {
   "cell_type": "code",
   "execution_count": null,
   "id": "3a6afa5c",
   "metadata": {
    "ExecuteTime": {
     "end_time": "2022-03-10T09:14:33.839416Z",
     "start_time": "2022-03-10T09:14:33.690768Z"
    }
   },
   "outputs": [],
   "source": [
    "ROOT_DIR = \"/Users/Zalo/code/AlexandreLaizet/bitcoin_deep_learning\"\n"
   ]
  },
  {
   "cell_type": "code",
   "execution_count": null,
   "id": "3d920d59",
   "metadata": {
    "ExecuteTime": {
     "end_time": "2022-03-10T09:15:44.039668Z",
     "start_time": "2022-03-10T09:15:43.881272Z"
    }
   },
   "outputs": [],
   "source": [
    "file_path = os.path.join(ROOT_DIR,\n",
    "                        \"cross_val_data\",\n",
    "                        'CV_trader.csv')\n",
    "fieldnames = [\"name\",'fold_score',\"mean_score\",\"min_score\",\"max_score\",'hyperparams','date',\n",
    "             \"roi_hodler\", \"sharpe_hodler\", \"roi_trader\", \"sharpe_trader\",\"roi_whale\", \"sharpe_whale\",\n",
    "              \"roi_hodler_whale\",  \"sharpe_hodler_whale\", \"roi_charles\", \n",
    "                \"sharpe_charles\"]\n",
    "pd.DataFrame(columns=fieldnames).to_csv(file_path,index=False)\n",
    "read_result(file=\"CV_trader.csv\")"
   ]
  },
  {
   "cell_type": "code",
   "execution_count": null,
   "id": "80a0a6ff",
   "metadata": {
    "ExecuteTime": {
     "end_time": "2022-03-10T08:56:00.298685Z",
     "start_time": "2022-03-10T08:55:55.872938Z"
    }
   },
   "outputs": [],
   "source": [
    "from bitcoin_deep_learning.metrics import iterate_cross_val_results\n",
    "iterate_cross_val_results()"
   ]
  },
  {
   "cell_type": "code",
   "execution_count": null,
   "id": "904352b5",
   "metadata": {
    "ExecuteTime": {
     "end_time": "2022-03-10T08:58:25.380019Z",
     "start_time": "2022-03-10T08:58:20.477232Z"
    }
   },
   "outputs": [],
   "source": [
    "roi_hodler, roi_trader, roi_whale, roi_hodler_whale, roi_charles, sharpe_hodler, sharpe_trader, sharpe_whale, sharpe_hodler_whale, sharpe_charles = iterate_cross_val_results()\n"
   ]
  },
  {
   "cell_type": "code",
   "execution_count": null,
   "id": "d3f8a684",
   "metadata": {},
   "outputs": [],
   "source": [
    "with open(file_path , 'a', newline='') as csvfile:\n",
    "            #fieldnames = [\"name\",'fold_score',\"mean_score\",\"min_score\",\"max_score\",'hyperparams','date']\n",
    "            writer = csv.DictWriter(csvfile, fieldnames=fieldnames)\n",
    "\n",
    "            writer.writerow({\"name\":model.name, \"fold_score\":fold_score,\n",
    "                            \"mean_score\":score,\"min_score\":min(fold_score),\n",
    "                            \"max_score\":max(fold_score),\n",
    "                            \"hyperparams\":model.hyperparams,\n",
    "                            'date':datetime.now().strftime(\"%d-%m %H:%M:%S\"),\n",
    "                            \"roi_hodler\":roi_hodler\n",
    "                            \"sharpe_hodler\": sharpe_hodler\n",
    "                            \"roi_trader\": roi_trader\n",
    "                            \"sharpe_trader\": sharpe_trader\n",
    "                            \"roi_whale\": roi_whale\n",
    "                            \"sharpe_whale\": sharpe_whale\n",
    "                            \"roi_hodler_whale\": roi_hodler_whale\n",
    "                            \"sharpe_hodler_whale\": sharpe_hodler_whale\n",
    "                            \"roi_charles\": roi_charles\n",
    "                            \"sharpe_charles\":sharpe_charles})\n",
    "            print(\"Training done\")"
   ]
  },
  {
   "cell_type": "code",
   "execution_count": null,
   "id": "c339f31b",
   "metadata": {
    "ExecuteTime": {
     "end_time": "2022-03-10T10:03:05.174992Z",
     "start_time": "2022-03-10T10:03:05.031502Z"
    }
   },
   "outputs": [],
   "source": [
    "train_df= ApiCall().read_local()"
   ]
  },
  {
   "cell_type": "code",
   "execution_count": null,
   "id": "abf7529a",
   "metadata": {
    "ExecuteTime": {
     "end_time": "2022-03-10T10:03:32.173858Z",
     "start_time": "2022-03-10T10:03:31.982100Z"
    }
   },
   "outputs": [],
   "source": [
    "scaler = MinMaxScaler()\n",
    "train_df= ApiCall().read_local()\n",
    "for i in range(1,len(list(train_df.columns))-1):\n",
    "    train_df[list(train_df.columns)[i]] = scaler.fit_transform(np.array(train_df[train_df.columns[1]]).reshape(-1, 1))\n",
    "train_df"
   ]
  },
  {
   "cell_type": "code",
   "execution_count": null,
   "id": "ddf31bc7",
   "metadata": {
    "ExecuteTime": {
     "end_time": "2022-03-10T10:03:36.052997Z",
     "start_time": "2022-03-10T10:03:33.990322Z"
    }
   },
   "outputs": [],
   "source": [
    "for warm_start in  [True,False]:\n",
    "    for max_features in [\"auto\", \"sqrt\", \"log2\"]:\n",
    "        for bootstrap in [True,False]:\n",
    "            for criterion in [\"squared_error\", \"absolute_error\", \"poisson\"]:\n",
    "                    for max_depht in [None,True]:\n",
    "                        if max_depht :\n",
    "                            max_depht = np.random.randint(1,1000)\n",
    "                        print(\"oui\")\n",
    "                        min_samples_split = random.randint(2,100)\n",
    "                        min_samples_leaf = random.randint(2,100)\n",
    "                        model = RandomForestReg(warm_start=warm_start,\n",
    "                                               max_features=max_features,\n",
    "                                               bootstrap=bootstrap,\n",
    "                                               criterion=criterion,\n",
    "                                               max_depht=max_depht,\n",
    "                                               min_samples_split=min_samples_split,\n",
    "                                               min_samples_leaf=min_samples_leaf)\n",
    "\n",
    "                        cv_train(model,train_df)"
   ]
  },
  {
   "cell_type": "markdown",
   "id": "ee86d4d4",
   "metadata": {},
   "source": [
    "# Dummy model"
   ]
  },
  {
   "cell_type": "code",
   "execution_count": null,
   "id": "f23f1080",
   "metadata": {},
   "outputs": [],
   "source": [
    "model = DummyModel()\n",
    "cv_train(model,ApiCall().read_local(data=\"train\"))\n",
    "read_result().sort_values(by=\"date\", ascending=False)"
   ]
  },
  {
   "cell_type": "markdown",
   "id": "57a37e56",
   "metadata": {},
   "source": [
    "# Linear Model"
   ]
  },
  {
   "cell_type": "code",
   "execution_count": null,
   "id": "3cd23d26",
   "metadata": {
    "ExecuteTime": {
     "end_time": "2022-03-10T11:22:37.446679Z",
     "start_time": "2022-03-10T11:19:30.119973Z"
    }
   },
   "outputs": [],
   "source": [
    "model = LinearRegressionBaselineModel()\n",
    "cv_train(model,ApiCall().read_local(data=\"train\"))\n",
    "read_result().sort_values(by=\"date\", ascending=False)"
   ]
  },
  {
   "cell_type": "markdown",
   "id": "f7a0ccf3",
   "metadata": {
    "ExecuteTime": {
     "end_time": "2022-03-10T10:06:03.430091Z",
     "start_time": "2022-03-10T10:06:03.297699Z"
    }
   },
   "source": [
    "# Random Forest"
   ]
  },
  {
   "cell_type": "code",
   "execution_count": null,
   "id": "64fd6efe",
   "metadata": {},
   "outputs": [],
   "source": [
    "model = RandomForestReg()\n",
    "cv_train(model,ApiCall().read_local(data=\"train\"))\n",
    "read_result().sort_values(by=\"date\", ascending=False)"
   ]
  },
  {
   "cell_type": "markdown",
   "id": "c5062902",
   "metadata": {},
   "source": [
    "# RNN"
   ]
  },
  {
   "cell_type": "code",
   "execution_count": null,
   "id": "cbc8a2a2",
   "metadata": {},
   "outputs": [],
   "source": [
    "model = RnnDlModel_test(epochs=20, patience=5)\n",
    "cv_train(model,ApiCall().read_local(data=\"train\"))\n",
    "read_result().sort_values(by=\"date\", ascending=False)"
   ]
  },
  {
   "cell_type": "markdown",
   "id": "e40a36a1",
   "metadata": {},
   "source": [
    "# Test last 3 months"
   ]
  },
  {
   "cell_type": "code",
   "execution_count": null,
   "id": "fda61325",
   "metadata": {},
   "outputs": [],
   "source": [
    "from bitcoin_deep_learning.cross_val import cross_val_trade"
   ]
  },
  {
   "cell_type": "code",
   "execution_count": null,
   "id": "b73e532d",
   "metadata": {
    "scrolled": true
   },
   "outputs": [],
   "source": [
    "model = RnnDlModel_test(epochs=1, patience=1)\n",
    "df = ApiCall().read_local(data=\"all\")\n",
    "\n",
    "plot_portolio_positions(model, df = df, cv=False,verbose=True)"
   ]
  },
  {
   "cell_type": "code",
   "execution_count": null,
   "id": "1d5b203c",
   "metadata": {},
   "outputs": [],
   "source": [
    "cv = False\n",
    "past_realities, realities, realities_diff, prediction_diff = cross_val_trade(model, df=df, cv=cv, verbose=0)"
   ]
  },
  {
   "cell_type": "code",
   "execution_count": null,
   "id": "c3f03033",
   "metadata": {},
   "outputs": [],
   "source": [
    "past_realities, realities, realities_diff, prediction_diff = cross_val_trade(LinearRegressionBaselineModel(), df=df, cv=cv, verbose=0)"
   ]
  },
  {
   "cell_type": "code",
   "execution_count": null,
   "id": "b20e8f93",
   "metadata": {
    "scrolled": true
   },
   "outputs": [],
   "source": [
    "portfolio_positions_hodler = []\n",
    "portfolio_positions_trader = []\n",
    "portfolio_positions_whale = []\n",
    "portfolio_positions_hodler_whale = []\n",
    "portfolio_positions_charles = []\n",
    "preds_arr = []\n",
    "for past_prices, diffs in zip(past_realities,prediction_diff):\n",
    "    preds_arr.append(past_prices * diffs+ past_prices )\n",
    "\n",
    "\n",
    "for reality, prediction in zip(realities, preds_arr):\n",
    "    y_true, y_pred = reality, prediction\n",
    "\n",
    "    portfolio_positions_hodler.append(play_hodler_strategy(y_true, y_pred))\n",
    "    portfolio_positions_trader.append(play_trader_strategy(y_true, y_pred))\n",
    "    portfolio_positions_whale.append(play_whale_strategy(y_true, y_pred))\n",
    "    portfolio_positions_hodler_whale.append(play_hodler_whale_strategy(y_true, y_pred))\n",
    "    portfolio_positions_charles.append(play_charles_strategy(y_true, y_pred))\n",
    "\n",
    "print(portfolio_positions_hodler, portfolio_positions_trader, portfolio_positions_whale, portfolio_positions_hodler_whale, portfolio_positions_charles)\n"
   ]
  },
  {
   "cell_type": "code",
   "execution_count": null,
   "id": "fda266bc",
   "metadata": {},
   "outputs": [],
   "source": [
    "model = RandomForestReg()\n",
    "df = ApiCall().read_local(data=\"all\")\n",
    "plot_portolio_positions(model=model, df = df, cv=False,verbose=True)"
   ]
  },
  {
   "cell_type": "code",
   "execution_count": null,
   "id": "616844a2",
   "metadata": {},
   "outputs": [],
   "source": [
    "model = LinearRegressionBaselineModel()\n",
    "df = ApiCall().read_local(data=\"all\")\n",
    "Y_true_past, Y_true, Y_test, Y_pred = cross_val_trade(model,df,cv=False,verbose=True)\n",
    "fig,axs = plt.subplots(2,1)\n",
    "axs[0].plot(Y_test)\n",
    "\n",
    "axs[0].plot(Y_pred, c= \"r\")\n",
    "plt.show\n",
    "#axs[1].plot(Y_true)\n",
    "axs[1].plot(Y_true_past + Y_true_past* Y_pred, c= \"r\")\n",
    "axs[1].plot(Y_true_past + Y_true_past* Y_test, c= \"b\")\n"
   ]
  },
  {
   "cell_type": "code",
   "execution_count": null,
   "id": "6bcfe9ba",
   "metadata": {},
   "outputs": [],
   "source": [
    "np.max(Y_pred)"
   ]
  },
  {
   "cell_type": "code",
   "execution_count": null,
   "id": "555993bc",
   "metadata": {},
   "outputs": [],
   "source": [
    "index = 89\n",
    "print(Y_true_past[index],Y_pred[index],Y_true_past[index] + Y_true_past[index]* Y_pred[index])"
   ]
  },
  {
   "cell_type": "code",
   "execution_count": null,
   "id": "9eb7a721",
   "metadata": {},
   "outputs": [],
   "source": [
    "!ls"
   ]
  },
  {
   "cell_type": "code",
   "execution_count": 2,
   "id": "ec9bc5d0",
   "metadata": {},
   "outputs": [],
   "source": [
    "y_diff_pred = pd.read_csv(\"../data_raw/y_diff_pred_2022_transformer.csv\")"
   ]
  },
  {
   "cell_type": "code",
   "execution_count": 30,
   "id": "87101ec1",
   "metadata": {},
   "outputs": [
    {
     "data": {
      "text/plain": [
       "array([ 0.01029747, -0.02246985, -0.00866947, -0.01746654, -0.01582856,\n",
       "       -0.03148372, -0.01724427, -0.01331859, -0.03787381, -0.01817312,\n",
       "       -0.01129518, -0.01034392, -0.03167456, -0.01213262, -0.02390629,\n",
       "       -0.00719598, -0.00893066, -0.01765893, -0.02162992, -0.07023374,\n",
       "       -0.00679851, -0.04326502, -0.01757031, -0.02655068,  0.00292373,\n",
       "       -0.03150483, -0.02683108, -0.00413243,  0.02497891, -0.01661627,\n",
       "       -0.01127071, -0.00921201,  0.00876955, -0.00042083, -0.04611199,\n",
       "        0.00852869, -0.02894871,  0.00283749,  0.02229579, -0.01744312,\n",
       "       -0.02605362, -0.00701745,  0.00795828, -0.02593561,  0.00055334,\n",
       "       -0.02473522,  0.03149997,  0.04318135,  0.0174355 , -0.11493674,\n",
       "        0.00470428, -0.00145886, -0.09448648, -0.01999437,  0.011966  ,\n",
       "       -0.03214531, -0.0019545 ,  0.02006546,  0.02329322, -0.00757358,\n",
       "       -0.0080473 ,  0.01860012,  0.01083946,  0.03002646,  0.0049376 ,\n",
       "        0.03462518,  0.00156122,  0.02823245])"
      ]
     },
     "execution_count": 30,
     "metadata": {},
     "output_type": "execute_result"
    }
   ],
   "source": [
    "y_pred_pct = np.array(y_diff_pred[\"0\"])\n",
    "y_pred_pct"
   ]
  },
  {
   "cell_type": "code",
   "execution_count": 4,
   "id": "38795120",
   "metadata": {},
   "outputs": [
    {
     "data": {
      "text/html": [
       "<div>\n",
       "<style scoped>\n",
       "    .dataframe tbody tr th:only-of-type {\n",
       "        vertical-align: middle;\n",
       "    }\n",
       "\n",
       "    .dataframe tbody tr th {\n",
       "        vertical-align: top;\n",
       "    }\n",
       "\n",
       "    .dataframe thead th {\n",
       "        text-align: right;\n",
       "    }\n",
       "</style>\n",
       "<table border=\"1\" class=\"dataframe\">\n",
       "  <thead>\n",
       "    <tr style=\"text-align: right;\">\n",
       "      <th></th>\n",
       "      <th>date</th>\n",
       "      <th>[%]_Bitcoin_growth_rate_on_Horizon=7</th>\n",
       "    </tr>\n",
       "  </thead>\n",
       "  <tbody>\n",
       "    <tr>\n",
       "      <th>0</th>\n",
       "      <td>2022-01-01</td>\n",
       "      <td>-0.063618</td>\n",
       "    </tr>\n",
       "    <tr>\n",
       "      <th>1</th>\n",
       "      <td>2022-01-02</td>\n",
       "      <td>-0.073115</td>\n",
       "    </tr>\n",
       "    <tr>\n",
       "      <th>2</th>\n",
       "      <td>2022-01-03</td>\n",
       "      <td>-0.089166</td>\n",
       "    </tr>\n",
       "    <tr>\n",
       "      <th>3</th>\n",
       "      <td>2022-01-04</td>\n",
       "      <td>-0.037951</td>\n",
       "    </tr>\n",
       "    <tr>\n",
       "      <th>4</th>\n",
       "      <td>2022-01-05</td>\n",
       "      <td>-0.064654</td>\n",
       "    </tr>\n",
       "    <tr>\n",
       "      <th>...</th>\n",
       "      <td>...</td>\n",
       "      <td>...</td>\n",
       "    </tr>\n",
       "    <tr>\n",
       "      <th>63</th>\n",
       "      <td>2022-03-05</td>\n",
       "      <td>0.009345</td>\n",
       "    </tr>\n",
       "    <tr>\n",
       "      <th>64</th>\n",
       "      <td>2022-03-06</td>\n",
       "      <td>0.018275</td>\n",
       "    </tr>\n",
       "    <tr>\n",
       "      <th>65</th>\n",
       "      <td>2022-03-07</td>\n",
       "      <td>-0.136405</td>\n",
       "    </tr>\n",
       "    <tr>\n",
       "      <th>66</th>\n",
       "      <td>2022-03-08</td>\n",
       "      <td>-0.145170</td>\n",
       "    </tr>\n",
       "    <tr>\n",
       "      <th>67</th>\n",
       "      <td>2022-03-09</td>\n",
       "      <td>-0.046669</td>\n",
       "    </tr>\n",
       "  </tbody>\n",
       "</table>\n",
       "<p>68 rows × 2 columns</p>\n",
       "</div>"
      ],
      "text/plain": [
       "          date  [%]_Bitcoin_growth_rate_on_Horizon=7\n",
       "0   2022-01-01                             -0.063618\n",
       "1   2022-01-02                             -0.073115\n",
       "2   2022-01-03                             -0.089166\n",
       "3   2022-01-04                             -0.037951\n",
       "4   2022-01-05                             -0.064654\n",
       "..         ...                                   ...\n",
       "63  2022-03-05                              0.009345\n",
       "64  2022-03-06                              0.018275\n",
       "65  2022-03-07                             -0.136405\n",
       "66  2022-03-08                             -0.145170\n",
       "67  2022-03-09                             -0.046669\n",
       "\n",
       "[68 rows x 2 columns]"
      ]
     },
     "execution_count": 4,
     "metadata": {},
     "output_type": "execute_result"
    }
   ],
   "source": [
    "y_diff_true = pd.read_csv(\"../data_raw/y_diff_true_2022.csv\")\n",
    "y_diff_true"
   ]
  },
  {
   "cell_type": "code",
   "execution_count": 54,
   "id": "65c8d79e",
   "metadata": {},
   "outputs": [
    {
     "data": {
      "text/plain": [
       "1430    47620.423811\n",
       "1431    47344.843410\n",
       "1432    46467.615795\n",
       "1433    45926.761787\n",
       "1434    43589.355683\n",
       "            ...     \n",
       "1493    39416.462688\n",
       "1494    38423.618936\n",
       "1495    38018.649505\n",
       "1496    38726.302102\n",
       "1497    41977.383462\n",
       "Name: [+]_[T]_Bitcoin_Price, Length: 68, dtype: float64"
      ]
     },
     "execution_count": 54,
     "metadata": {},
     "output_type": "execute_result"
    }
   ],
   "source": [
    "train_df[-68:][\"[+]_[T]_Bitcoin_Price\"]"
   ]
  },
  {
   "cell_type": "code",
   "execution_count": 97,
   "id": "c096c3ec",
   "metadata": {
    "scrolled": true
   },
   "outputs": [
    {
     "data": {
      "text/html": [
       "<div>\n",
       "<style scoped>\n",
       "    .dataframe tbody tr th:only-of-type {\n",
       "        vertical-align: middle;\n",
       "    }\n",
       "\n",
       "    .dataframe tbody tr th {\n",
       "        vertical-align: top;\n",
       "    }\n",
       "\n",
       "    .dataframe thead th {\n",
       "        text-align: right;\n",
       "    }\n",
       "</style>\n",
       "<table border=\"1\" class=\"dataframe\">\n",
       "  <thead>\n",
       "    <tr style=\"text-align: right;\">\n",
       "      <th></th>\n",
       "      <th>date</th>\n",
       "      <th>[AVG]_[NH]_mean_hash_rate</th>\n",
       "      <th>[+]_[NH]_Days_Till_Halving</th>\n",
       "      <th>[//]_[AV]_Stock-to-Flow_Ratio</th>\n",
       "      <th>[+]_[NH]_Circulating_Supply</th>\n",
       "      <th>[+]_[NH]_Issuance</th>\n",
       "      <th>[+]_[NH]_Number_of_Active_Addresses</th>\n",
       "      <th>[+]_[NH]_Mean_Block_Interval</th>\n",
       "      <th>[+]_[NH]_Number_of_Transactions</th>\n",
       "      <th>[+]_[NH]_Number_of_Addresses_with_a_Non-Zero_Balance</th>\n",
       "      <th>...</th>\n",
       "      <th>[//]_[AV]_Realized_Profits-to-Value_(RPV)_Ratio</th>\n",
       "      <th>fear_greed_value</th>\n",
       "      <th>[+]_[NH]_Number_of_Addresses_with_Balance_0.01 - 0.1</th>\n",
       "      <th>[+]_[NH]_Number_of_Addresses_with_Balance_0.1 - 1</th>\n",
       "      <th>[+]_[NH]_Number_of_Addresses_with_Balance_1 - 10</th>\n",
       "      <th>[+]_[NH]_Number_of_Addresses_with_Balance_10 - 100</th>\n",
       "      <th>[+]_[NH]_Number_of_Addresses_with_Balance_100 - 1k</th>\n",
       "      <th>[+]_[NH]_Number_of_Addresses_with_Balance_1k - 10k</th>\n",
       "      <th>[+]_[T]_Bitcoin_Price</th>\n",
       "      <th>[%]_Bitcoin_growth_rate_on_Horizon=7</th>\n",
       "    </tr>\n",
       "  </thead>\n",
       "  <tbody>\n",
       "    <tr>\n",
       "      <th>1425</th>\n",
       "      <td>2021-12-27</td>\n",
       "      <td>1.788373e+20</td>\n",
       "      <td>853</td>\n",
       "      <td>107059.860269</td>\n",
       "      <td>18912825.00</td>\n",
       "      <td>925.00</td>\n",
       "      <td>995958</td>\n",
       "      <td>357</td>\n",
       "      <td>249400</td>\n",
       "      <td>39681460</td>\n",
       "      <td>...</td>\n",
       "      <td>0.001299</td>\n",
       "      <td>40</td>\n",
       "      <td>6046465</td>\n",
       "      <td>2481038</td>\n",
       "      <td>665473</td>\n",
       "      <td>131478</td>\n",
       "      <td>13908</td>\n",
       "      <td>2061</td>\n",
       "      <td>50610.956803</td>\n",
       "      <td>0.074238</td>\n",
       "    </tr>\n",
       "    <tr>\n",
       "      <th>1426</th>\n",
       "      <td>2021-12-28</td>\n",
       "      <td>1.613201e+20</td>\n",
       "      <td>852</td>\n",
       "      <td>107254.070254</td>\n",
       "      <td>18913662.50</td>\n",
       "      <td>837.50</td>\n",
       "      <td>1049113</td>\n",
       "      <td>410</td>\n",
       "      <td>265288</td>\n",
       "      <td>39697526</td>\n",
       "      <td>...</td>\n",
       "      <td>0.000723</td>\n",
       "      <td>41</td>\n",
       "      <td>6053261</td>\n",
       "      <td>2482678</td>\n",
       "      <td>665552</td>\n",
       "      <td>131319</td>\n",
       "      <td>13899</td>\n",
       "      <td>2063</td>\n",
       "      <td>47669.740372</td>\n",
       "      <td>-0.027008</td>\n",
       "    </tr>\n",
       "    <tr>\n",
       "      <th>1427</th>\n",
       "      <td>2021-12-29</td>\n",
       "      <td>1.749405e+20</td>\n",
       "      <td>851</td>\n",
       "      <td>107320.134879</td>\n",
       "      <td>18914568.75</td>\n",
       "      <td>906.25</td>\n",
       "      <td>1141226</td>\n",
       "      <td>457</td>\n",
       "      <td>275938</td>\n",
       "      <td>39626656</td>\n",
       "      <td>...</td>\n",
       "      <td>0.000719</td>\n",
       "      <td>27</td>\n",
       "      <td>6054614</td>\n",
       "      <td>2483936</td>\n",
       "      <td>665896</td>\n",
       "      <td>131474</td>\n",
       "      <td>13916</td>\n",
       "      <td>2047</td>\n",
       "      <td>46407.595490</td>\n",
       "      <td>-0.048243</td>\n",
       "    </tr>\n",
       "    <tr>\n",
       "      <th>1428</th>\n",
       "      <td>2021-12-30</td>\n",
       "      <td>1.440319e+20</td>\n",
       "      <td>850</td>\n",
       "      <td>107698.215171</td>\n",
       "      <td>18915312.50</td>\n",
       "      <td>743.75</td>\n",
       "      <td>978725</td>\n",
       "      <td>481</td>\n",
       "      <td>244902</td>\n",
       "      <td>39668496</td>\n",
       "      <td>...</td>\n",
       "      <td>0.001717</td>\n",
       "      <td>22</td>\n",
       "      <td>6071397</td>\n",
       "      <td>2487112</td>\n",
       "      <td>666508</td>\n",
       "      <td>131391</td>\n",
       "      <td>13891</td>\n",
       "      <td>2056</td>\n",
       "      <td>47188.320550</td>\n",
       "      <td>-0.075915</td>\n",
       "    </tr>\n",
       "    <tr>\n",
       "      <th>1429</th>\n",
       "      <td>2021-12-31</td>\n",
       "      <td>1.791817e+20</td>\n",
       "      <td>849</td>\n",
       "      <td>107833.853215</td>\n",
       "      <td>18916243.75</td>\n",
       "      <td>931.25</td>\n",
       "      <td>1109141</td>\n",
       "      <td>370</td>\n",
       "      <td>269391</td>\n",
       "      <td>39561128</td>\n",
       "      <td>...</td>\n",
       "      <td>0.001737</td>\n",
       "      <td>28</td>\n",
       "      <td>6060601</td>\n",
       "      <td>2481583</td>\n",
       "      <td>666879</td>\n",
       "      <td>131587</td>\n",
       "      <td>13911</td>\n",
       "      <td>2051</td>\n",
       "      <td>46328.943138</td>\n",
       "      <td>-0.097895</td>\n",
       "    </tr>\n",
       "    <tr>\n",
       "      <th>...</th>\n",
       "      <td>...</td>\n",
       "      <td>...</td>\n",
       "      <td>...</td>\n",
       "      <td>...</td>\n",
       "      <td>...</td>\n",
       "      <td>...</td>\n",
       "      <td>...</td>\n",
       "      <td>...</td>\n",
       "      <td>...</td>\n",
       "      <td>...</td>\n",
       "      <td>...</td>\n",
       "      <td>...</td>\n",
       "      <td>...</td>\n",
       "      <td>...</td>\n",
       "      <td>...</td>\n",
       "      <td>...</td>\n",
       "      <td>...</td>\n",
       "      <td>...</td>\n",
       "      <td>...</td>\n",
       "      <td>...</td>\n",
       "      <td>...</td>\n",
       "    </tr>\n",
       "    <tr>\n",
       "      <th>1494</th>\n",
       "      <td>2022-03-06</td>\n",
       "      <td>1.789926e+20</td>\n",
       "      <td>784</td>\n",
       "      <td>108870.777114</td>\n",
       "      <td>18976212.50</td>\n",
       "      <td>818.75</td>\n",
       "      <td>776309</td>\n",
       "      <td>543</td>\n",
       "      <td>206985</td>\n",
       "      <td>40386891</td>\n",
       "      <td>...</td>\n",
       "      <td>0.000430</td>\n",
       "      <td>22</td>\n",
       "      <td>6226429</td>\n",
       "      <td>2547136</td>\n",
       "      <td>674912</td>\n",
       "      <td>130412</td>\n",
       "      <td>13660</td>\n",
       "      <td>2171</td>\n",
       "      <td>38423.618936</td>\n",
       "      <td>0.018275</td>\n",
       "    </tr>\n",
       "    <tr>\n",
       "      <th>1495</th>\n",
       "      <td>2022-03-07</td>\n",
       "      <td>2.033926e+20</td>\n",
       "      <td>783</td>\n",
       "      <td>108875.720822</td>\n",
       "      <td>18977137.50</td>\n",
       "      <td>925.00</td>\n",
       "      <td>918501</td>\n",
       "      <td>458</td>\n",
       "      <td>255293</td>\n",
       "      <td>40390661</td>\n",
       "      <td>...</td>\n",
       "      <td>0.001009</td>\n",
       "      <td>23</td>\n",
       "      <td>6233503</td>\n",
       "      <td>2550289</td>\n",
       "      <td>675262</td>\n",
       "      <td>130388</td>\n",
       "      <td>13648</td>\n",
       "      <td>2171</td>\n",
       "      <td>38018.649505</td>\n",
       "      <td>-0.136405</td>\n",
       "    </tr>\n",
       "    <tr>\n",
       "      <th>1496</th>\n",
       "      <td>2022-03-08</td>\n",
       "      <td>2.023772e+20</td>\n",
       "      <td>782</td>\n",
       "      <td>108943.145857</td>\n",
       "      <td>18978062.50</td>\n",
       "      <td>925.00</td>\n",
       "      <td>956336</td>\n",
       "      <td>358</td>\n",
       "      <td>255623</td>\n",
       "      <td>40368448</td>\n",
       "      <td>...</td>\n",
       "      <td>0.000851</td>\n",
       "      <td>21</td>\n",
       "      <td>6234382</td>\n",
       "      <td>2553756</td>\n",
       "      <td>675727</td>\n",
       "      <td>130458</td>\n",
       "      <td>13650</td>\n",
       "      <td>2178</td>\n",
       "      <td>38726.302102</td>\n",
       "      <td>-0.145170</td>\n",
       "    </tr>\n",
       "    <tr>\n",
       "      <th>1497</th>\n",
       "      <td>2022-03-09</td>\n",
       "      <td>1.888209e+20</td>\n",
       "      <td>781</td>\n",
       "      <td>108974.601445</td>\n",
       "      <td>18978925.00</td>\n",
       "      <td>862.50</td>\n",
       "      <td>962981</td>\n",
       "      <td>396</td>\n",
       "      <td>272667</td>\n",
       "      <td>40437626</td>\n",
       "      <td>...</td>\n",
       "      <td>0.002457</td>\n",
       "      <td>22</td>\n",
       "      <td>6242298</td>\n",
       "      <td>2556473</td>\n",
       "      <td>676454</td>\n",
       "      <td>130499</td>\n",
       "      <td>13664</td>\n",
       "      <td>2179</td>\n",
       "      <td>41977.383462</td>\n",
       "      <td>-0.046669</td>\n",
       "    </tr>\n",
       "    <tr>\n",
       "      <th>1498</th>\n",
       "      <td>2022-03-10</td>\n",
       "      <td>1.985411e+20</td>\n",
       "      <td>780</td>\n",
       "      <td>109020.857317</td>\n",
       "      <td>18979831.25</td>\n",
       "      <td>906.25</td>\n",
       "      <td>998219</td>\n",
       "      <td>489</td>\n",
       "      <td>261408</td>\n",
       "      <td>40422512</td>\n",
       "      <td>...</td>\n",
       "      <td>0.000668</td>\n",
       "      <td>28</td>\n",
       "      <td>6247956</td>\n",
       "      <td>2558140</td>\n",
       "      <td>676746</td>\n",
       "      <td>130697</td>\n",
       "      <td>13655</td>\n",
       "      <td>2177</td>\n",
       "      <td>39455.231919</td>\n",
       "      <td>-0.076146</td>\n",
       "    </tr>\n",
       "  </tbody>\n",
       "</table>\n",
       "<p>74 rows × 33 columns</p>\n",
       "</div>"
      ],
      "text/plain": [
       "            date  [AVG]_[NH]_mean_hash_rate  [+]_[NH]_Days_Till_Halving  \\\n",
       "1425  2021-12-27               1.788373e+20                         853   \n",
       "1426  2021-12-28               1.613201e+20                         852   \n",
       "1427  2021-12-29               1.749405e+20                         851   \n",
       "1428  2021-12-30               1.440319e+20                         850   \n",
       "1429  2021-12-31               1.791817e+20                         849   \n",
       "...          ...                        ...                         ...   \n",
       "1494  2022-03-06               1.789926e+20                         784   \n",
       "1495  2022-03-07               2.033926e+20                         783   \n",
       "1496  2022-03-08               2.023772e+20                         782   \n",
       "1497  2022-03-09               1.888209e+20                         781   \n",
       "1498  2022-03-10               1.985411e+20                         780   \n",
       "\n",
       "      [//]_[AV]_Stock-to-Flow_Ratio  [+]_[NH]_Circulating_Supply  \\\n",
       "1425                  107059.860269                  18912825.00   \n",
       "1426                  107254.070254                  18913662.50   \n",
       "1427                  107320.134879                  18914568.75   \n",
       "1428                  107698.215171                  18915312.50   \n",
       "1429                  107833.853215                  18916243.75   \n",
       "...                             ...                          ...   \n",
       "1494                  108870.777114                  18976212.50   \n",
       "1495                  108875.720822                  18977137.50   \n",
       "1496                  108943.145857                  18978062.50   \n",
       "1497                  108974.601445                  18978925.00   \n",
       "1498                  109020.857317                  18979831.25   \n",
       "\n",
       "      [+]_[NH]_Issuance  [+]_[NH]_Number_of_Active_Addresses  \\\n",
       "1425             925.00                               995958   \n",
       "1426             837.50                              1049113   \n",
       "1427             906.25                              1141226   \n",
       "1428             743.75                               978725   \n",
       "1429             931.25                              1109141   \n",
       "...                 ...                                  ...   \n",
       "1494             818.75                               776309   \n",
       "1495             925.00                               918501   \n",
       "1496             925.00                               956336   \n",
       "1497             862.50                               962981   \n",
       "1498             906.25                               998219   \n",
       "\n",
       "      [+]_[NH]_Mean_Block_Interval  [+]_[NH]_Number_of_Transactions  \\\n",
       "1425                           357                           249400   \n",
       "1426                           410                           265288   \n",
       "1427                           457                           275938   \n",
       "1428                           481                           244902   \n",
       "1429                           370                           269391   \n",
       "...                            ...                              ...   \n",
       "1494                           543                           206985   \n",
       "1495                           458                           255293   \n",
       "1496                           358                           255623   \n",
       "1497                           396                           272667   \n",
       "1498                           489                           261408   \n",
       "\n",
       "      [+]_[NH]_Number_of_Addresses_with_a_Non-Zero_Balance  ...  \\\n",
       "1425                                           39681460     ...   \n",
       "1426                                           39697526     ...   \n",
       "1427                                           39626656     ...   \n",
       "1428                                           39668496     ...   \n",
       "1429                                           39561128     ...   \n",
       "...                                                 ...     ...   \n",
       "1494                                           40386891     ...   \n",
       "1495                                           40390661     ...   \n",
       "1496                                           40368448     ...   \n",
       "1497                                           40437626     ...   \n",
       "1498                                           40422512     ...   \n",
       "\n",
       "      [//]_[AV]_Realized_Profits-to-Value_(RPV)_Ratio  fear_greed_value  \\\n",
       "1425                                         0.001299                40   \n",
       "1426                                         0.000723                41   \n",
       "1427                                         0.000719                27   \n",
       "1428                                         0.001717                22   \n",
       "1429                                         0.001737                28   \n",
       "...                                               ...               ...   \n",
       "1494                                         0.000430                22   \n",
       "1495                                         0.001009                23   \n",
       "1496                                         0.000851                21   \n",
       "1497                                         0.002457                22   \n",
       "1498                                         0.000668                28   \n",
       "\n",
       "      [+]_[NH]_Number_of_Addresses_with_Balance_0.01 - 0.1  \\\n",
       "1425                                            6046465      \n",
       "1426                                            6053261      \n",
       "1427                                            6054614      \n",
       "1428                                            6071397      \n",
       "1429                                            6060601      \n",
       "...                                                 ...      \n",
       "1494                                            6226429      \n",
       "1495                                            6233503      \n",
       "1496                                            6234382      \n",
       "1497                                            6242298      \n",
       "1498                                            6247956      \n",
       "\n",
       "      [+]_[NH]_Number_of_Addresses_with_Balance_0.1 - 1  \\\n",
       "1425                                            2481038   \n",
       "1426                                            2482678   \n",
       "1427                                            2483936   \n",
       "1428                                            2487112   \n",
       "1429                                            2481583   \n",
       "...                                                 ...   \n",
       "1494                                            2547136   \n",
       "1495                                            2550289   \n",
       "1496                                            2553756   \n",
       "1497                                            2556473   \n",
       "1498                                            2558140   \n",
       "\n",
       "      [+]_[NH]_Number_of_Addresses_with_Balance_1 - 10  \\\n",
       "1425                                            665473   \n",
       "1426                                            665552   \n",
       "1427                                            665896   \n",
       "1428                                            666508   \n",
       "1429                                            666879   \n",
       "...                                                ...   \n",
       "1494                                            674912   \n",
       "1495                                            675262   \n",
       "1496                                            675727   \n",
       "1497                                            676454   \n",
       "1498                                            676746   \n",
       "\n",
       "      [+]_[NH]_Number_of_Addresses_with_Balance_10 - 100  \\\n",
       "1425                                             131478    \n",
       "1426                                             131319    \n",
       "1427                                             131474    \n",
       "1428                                             131391    \n",
       "1429                                             131587    \n",
       "...                                                 ...    \n",
       "1494                                             130412    \n",
       "1495                                             130388    \n",
       "1496                                             130458    \n",
       "1497                                             130499    \n",
       "1498                                             130697    \n",
       "\n",
       "      [+]_[NH]_Number_of_Addresses_with_Balance_100 - 1k  \\\n",
       "1425                                              13908    \n",
       "1426                                              13899    \n",
       "1427                                              13916    \n",
       "1428                                              13891    \n",
       "1429                                              13911    \n",
       "...                                                 ...    \n",
       "1494                                              13660    \n",
       "1495                                              13648    \n",
       "1496                                              13650    \n",
       "1497                                              13664    \n",
       "1498                                              13655    \n",
       "\n",
       "      [+]_[NH]_Number_of_Addresses_with_Balance_1k - 10k  \\\n",
       "1425                                               2061    \n",
       "1426                                               2063    \n",
       "1427                                               2047    \n",
       "1428                                               2056    \n",
       "1429                                               2051    \n",
       "...                                                 ...    \n",
       "1494                                               2171    \n",
       "1495                                               2171    \n",
       "1496                                               2178    \n",
       "1497                                               2179    \n",
       "1498                                               2177    \n",
       "\n",
       "      [+]_[T]_Bitcoin_Price  [%]_Bitcoin_growth_rate_on_Horizon=7  \n",
       "1425           50610.956803                              0.074238  \n",
       "1426           47669.740372                             -0.027008  \n",
       "1427           46407.595490                             -0.048243  \n",
       "1428           47188.320550                             -0.075915  \n",
       "1429           46328.943138                             -0.097895  \n",
       "...                     ...                                   ...  \n",
       "1494           38423.618936                              0.018275  \n",
       "1495           38018.649505                             -0.136405  \n",
       "1496           38726.302102                             -0.145170  \n",
       "1497           41977.383462                             -0.046669  \n",
       "1498           39455.231919                             -0.076146  \n",
       "\n",
       "[74 rows x 33 columns]"
      ]
     },
     "execution_count": 97,
     "metadata": {},
     "output_type": "execute_result"
    }
   ],
   "source": [
    "train_df= ApiCall().read_local()\n",
    "train_df[-74:]"
   ]
  },
  {
   "cell_type": "code",
   "execution_count": 98,
   "id": "b451ba40",
   "metadata": {},
   "outputs": [
    {
     "data": {
      "text/plain": [
       "1425    51132.121612\n",
       "Name: [+]_[T]_Bitcoin_Price, dtype: float64"
      ]
     },
     "execution_count": 98,
     "metadata": {},
     "output_type": "execute_result"
    }
   ],
   "source": [
    "#test\n",
    "train_df[\"[+]_[T]_Bitcoin_Price\"][-74:-73] + train_df[\"[+]_[T]_Bitcoin_Price\"][-74:-73] * y_pred_pct[0]"
   ]
  },
  {
   "cell_type": "code",
   "execution_count": 99,
   "id": "f7e52241",
   "metadata": {},
   "outputs": [
    {
     "data": {
      "text/plain": [
       "array([50610.95680294, 47669.74037208, 46407.59548964, 47188.32055009,\n",
       "       46328.94313809, 47620.42381093, 47344.84340974, 46467.61579525,\n",
       "       45926.76178657, 43589.35568307, 43154.45522485, 41564.23901044,\n",
       "       41744.05783199, 41910.51226779, 41820.01786922, 42721.69548372,\n",
       "       43935.64398491, 42596.12337644, 43101.33599626, 43198.86986181,\n",
       "       43122.78741443, 42235.1848487 , 42372.5532734 , 41731.94792084,\n",
       "       40706.93154832, 36440.2657686 , 35036.9447362 , 36254.87985724,\n",
       "       36656.19382217, 36946.23828322, 36851.36987997, 37148.32227909,\n",
       "       37789.47882002, 38137.47269687, 37936.32877744, 38455.68966346,\n",
       "       38784.50229871, 36924.10239442, 37018.58700268, 41516.07281916,\n",
       "       41421.47643291, 42411.10429027, 43921.96437825, 44110.31669061,\n",
       "       44347.12092966, 43548.07188871, 42407.68766215, 42198.7514316 ,\n",
       "       42242.10014713, 42601.71507212, 44600.78417382, 43980.51455924,\n",
       "       40548.83984707, 40031.59053806, 40127.36921663, 38460.39121722,\n",
       "       37012.56063945, 38314.64973454, 37311.62561222, 38305.92776288,\n",
       "       39216.70043785, 39048.12227488, 37721.43341561, 43204.6016303 ,\n",
       "       44348.19642695, 43936.40971009, 42459.60376591, 39146.8844694 ])"
      ]
     },
     "execution_count": 99,
     "metadata": {},
     "output_type": "execute_result"
    }
   ],
   "source": [
    "past_price = np.array(train_df[-74:-6][\"[+]_[T]_Bitcoin_Price\"])\n",
    "past_price"
   ]
  },
  {
   "cell_type": "code",
   "execution_count": 100,
   "id": "69ac5ce8",
   "metadata": {},
   "outputs": [],
   "source": [
    "past_realities, prediction_diff = past_price, y_pred_pct\n",
    "preds_arr = []\n",
    "for past_prices, diffs in zip(past_realities,prediction_diff):\n",
    "    preds_arr.append(past_prices * diffs+ past_prices )"
   ]
  },
  {
   "cell_type": "code",
   "execution_count": 101,
   "id": "61e4bb74",
   "metadata": {},
   "outputs": [
    {
     "data": {
      "text/plain": [
       "[51132.12161228986,\n",
       " 46598.60855171709,\n",
       " 46005.26641840371,\n",
       " 46364.10386166697,\n",
       " 45595.62268189201,\n",
       " 46121.155864250155,\n",
       " 46528.41605218841,\n",
       " 45848.73262573238,\n",
       " 44187.340244896805,\n",
       " 42797.20109152082,\n",
       " 42667.01769108885,\n",
       " 41134.301888817914,\n",
       " 40421.83316754289,\n",
       " 41402.02807417141,\n",
       " 40820.25651969704,\n",
       " 42414.2709747348,\n",
       " 43543.269642666346,\n",
       " 41843.92141546177,\n",
       " 42169.05746056951,\n",
       " 40164.851667643554,\n",
       " 42829.61661378416,\n",
       " 40407.87864705031,\n",
       " 41628.05437689353,\n",
       " 40623.93615889046,\n",
       " 40825.947462464894,\n",
       " 35292.22131752485,\n",
       " 34096.86566902753,\n",
       " 36105.059201962526,\n",
       " 37571.82569856747,\n",
       " 36332.3297602041,\n",
       " 36436.028924356215,\n",
       " 36806.11148847439,\n",
       " 38120.87546842686,\n",
       " 38121.423260758675,\n",
       " 36187.00905040825,\n",
       " 38783.66649238211,\n",
       " 37661.740872812356,\n",
       " 37028.87414356442,\n",
       " 37843.945718624636,\n",
       " 40791.902979044964,\n",
       " 40342.296943246096,\n",
       " 42113.486550089176,\n",
       " 44271.50771284119,\n",
       " 42966.288852273305,\n",
       " 44371.65987065591,\n",
       " 42470.9005322247,\n",
       " 43743.528720905255,\n",
       " 44020.95048673336,\n",
       " 42978.612242004485,\n",
       " 37705.21282331738,\n",
       " 44810.59886675675,\n",
       " 43916.353145772904,\n",
       " 36717.5227018349,\n",
       " 39231.18422524455,\n",
       " 40607.53335680135,\n",
       " 37224.06986497822,\n",
       " 36940.21956746783,\n",
       " 39083.45095946158,\n",
       " 38180.73351615896,\n",
       " 38015.814907722044,\n",
       " 38901.1118451999,\n",
       " 39774.42223020486,\n",
       " 38130.313535147296,\n",
       " 44501.882959372706,\n",
       " 44567.17020136964,\n",
       " 45457.71562911202,\n",
       " 42525.89269710907,\n",
       " 40252.09704527633]"
      ]
     },
     "execution_count": 101,
     "metadata": {},
     "output_type": "execute_result"
    }
   ],
   "source": [
    "preds_arr"
   ]
  },
  {
   "cell_type": "code",
   "execution_count": 102,
   "id": "269fb320",
   "metadata": {},
   "outputs": [
    {
     "data": {
      "text/plain": [
       "array([50610.95680294, 47669.74037208, 46407.59548964, 47188.32055009,\n",
       "       46328.94313809, 47620.42381093, 47344.84340974, 46467.61579525,\n",
       "       45926.76178657, 43589.35568307, 43154.45522485, 41564.23901044,\n",
       "       41744.05783199, 41910.51226779, 41820.01786922, 42721.69548372,\n",
       "       43935.64398491, 42596.12337644, 43101.33599626, 43198.86986181,\n",
       "       43122.78741443, 42235.1848487 , 42372.5532734 , 41731.94792084,\n",
       "       40706.93154832, 36440.2657686 , 35036.9447362 , 36254.87985724,\n",
       "       36656.19382217, 36946.23828322, 36851.36987997, 37148.32227909,\n",
       "       37789.47882002, 38137.47269687, 37936.32877744, 38455.68966346,\n",
       "       38784.50229871, 36924.10239442, 37018.58700268, 41516.07281916,\n",
       "       41421.47643291, 42411.10429027, 43921.96437825, 44110.31669061,\n",
       "       44347.12092966, 43548.07188871, 42407.68766215, 42198.7514316 ,\n",
       "       42242.10014713, 42601.71507212, 44600.78417382, 43980.51455924,\n",
       "       40548.83984707, 40031.59053806, 40127.36921663, 38460.39121722,\n",
       "       37012.56063945, 38314.64973454, 37311.62561222, 38305.92776288,\n",
       "       39216.70043785, 39048.12227488, 37721.43341561, 43204.6016303 ,\n",
       "       44348.19642695, 43936.40971009, 42459.60376591, 39146.8844694 ])"
      ]
     },
     "execution_count": 102,
     "metadata": {},
     "output_type": "execute_result"
    }
   ],
   "source": [
    "past_realities"
   ]
  },
  {
   "cell_type": "code",
   "execution_count": 103,
   "id": "bbe4f848",
   "metadata": {},
   "outputs": [
    {
     "data": {
      "text/plain": [
       "array([47344.84340974, 46467.61579525, 45926.76178657, 43589.35568307,\n",
       "       43154.45522485, 41564.23901044, 41744.05783199, 41910.51226779,\n",
       "       41820.01786922, 42721.69548372, 43935.64398491, 42596.12337644,\n",
       "       43101.33599626, 43198.86986181, 43122.78741443, 42235.1848487 ,\n",
       "       42372.5532734 , 41731.94792084, 40706.93154832, 36440.2657686 ,\n",
       "       35036.9447362 , 36254.87985724, 36656.19382217, 36946.23828322,\n",
       "       36851.36987997, 37148.32227909, 37789.47882002, 38137.47269687,\n",
       "       37936.32877744, 38455.68966346, 38784.50229871, 36924.10239442,\n",
       "       37018.58700268, 41516.07281916, 41421.47643291, 42411.10429027,\n",
       "       43921.96437825, 44110.31669061, 44347.12092966, 43548.07188871,\n",
       "       42407.68766215, 42198.7514316 , 42242.10014713, 42601.71507212,\n",
       "       44600.78417382, 43980.51455924, 40548.83984707, 40031.59053806,\n",
       "       40127.36921663, 38460.39121722, 37012.56063945, 38314.64973454,\n",
       "       37311.62561222, 38305.92776288, 39216.70043785, 39048.12227488,\n",
       "       37721.43341561, 43204.6016303 , 44348.19642695, 43936.40971009,\n",
       "       42459.60376591, 39146.8844694 , 39416.46268754, 38423.61893606,\n",
       "       38018.64950493, 38726.30210219, 41977.38346187, 39455.23191872])"
      ]
     },
     "execution_count": 103,
     "metadata": {},
     "output_type": "execute_result"
    }
   ],
   "source": [
    "np.array(train_df[-68:][\"[+]_[T]_Bitcoin_Price\"])"
   ]
  },
  {
   "cell_type": "code",
   "execution_count": 104,
   "id": "c1965d28",
   "metadata": {},
   "outputs": [
    {
     "data": {
      "text/plain": [
       "array([51132.12161229, 46598.60855172, 46005.2664184 , 46364.10386167,\n",
       "       45595.62268189, 46121.15586425, 46528.41605219, 45848.73262573,\n",
       "       44187.3402449 , 42797.20109152, 42667.01769109, 41134.30188882,\n",
       "       40421.83316754, 41402.02807417, 40820.2565197 , 42414.27097473,\n",
       "       43543.26964267, 41843.92141546, 42169.05746057, 40164.85166764,\n",
       "       42829.61661378, 40407.87864705, 41628.05437689, 40623.93615889,\n",
       "       40825.94746246, 35292.22131752, 34096.86566903, 36105.05920196,\n",
       "       37571.82569857, 36332.3297602 , 36436.02892436, 36806.11148847,\n",
       "       38120.87546843, 38121.42326076, 36187.00905041, 38783.66649238,\n",
       "       37661.74087281, 37028.87414356, 37843.94571862, 40791.90297904,\n",
       "       40342.29694325, 42113.48655009, 44271.50771284, 42966.28885227,\n",
       "       44371.65987066, 42470.90053222, 43743.52872091, 44020.95048673,\n",
       "       42978.612242  , 37705.21282332, 44810.59886676, 43916.35314577,\n",
       "       36717.52270183, 39231.18422524, 40607.5333568 , 37224.06986498,\n",
       "       36940.21956747, 39083.45095946, 38180.73351616, 38015.81490772,\n",
       "       38901.1118452 , 39774.4222302 , 38130.31353515, 44501.88295937,\n",
       "       44567.17020137, 45457.71562911, 42525.89269711, 40252.09704528])"
      ]
     },
     "execution_count": 104,
     "metadata": {},
     "output_type": "execute_result"
    }
   ],
   "source": [
    "np.atleast_1d(np.array(preds_arr))"
   ]
  },
  {
   "cell_type": "code",
   "execution_count": 133,
   "id": "9a080487",
   "metadata": {},
   "outputs": [],
   "source": [
    "portfolio_positions_hodler = []\n",
    "portfolio_positions_trader = []\n",
    "portfolio_positions_whale = []\n",
    "portfolio_positions_hodler_whale = []\n",
    "portfolio_positions_charles = []\n",
    "\n",
    "#y_true, y_pred = np.array(past_realities), np.atleast_1d(np.array(preds_arr))\n",
    "y_true, y_pred = np.array(train_df[-68:][\"[+]_[T]_Bitcoin_Price\"]), np.atleast_1d(np.array(preds_arr))\n",
    "\n",
    "\n",
    "portfolio_positions_hodler.append(play_hodler_strategy(y_true, y_pred))\n",
    "portfolio_positions_trader.append(play_trader_strategy(y_true, y_pred))\n",
    "portfolio_positions_whale.append(play_whale_strategy(y_true, y_pred))\n",
    "portfolio_positions_hodler_whale.append(play_hodler_whale_strategy(y_true, y_pred))\n",
    "portfolio_positions_charles.append(play_charles_strategy(y_true, y_pred))"
   ]
  },
  {
   "cell_type": "code",
   "execution_count": 267,
   "id": "72324e48",
   "metadata": {},
   "outputs": [
    {
     "data": {
      "text/plain": [
       "-0.057134269078505384"
      ]
     },
     "execution_count": 267,
     "metadata": {},
     "output_type": "execute_result"
    }
   ],
   "source": [
    "compute_roi(play_hodler_strategy(y_true, y_pred))"
   ]
  },
  {
   "cell_type": "code",
   "execution_count": 268,
   "id": "9e04bfc0",
   "metadata": {},
   "outputs": [
    {
     "data": {
      "text/plain": [
       "0.08508849865342971"
      ]
     },
     "execution_count": 268,
     "metadata": {},
     "output_type": "execute_result"
    }
   ],
   "source": [
    "compute_roi(play_trader_strategy(y_true, y_pred))"
   ]
  },
  {
   "cell_type": "code",
   "execution_count": 265,
   "id": "04dbf544",
   "metadata": {},
   "outputs": [
    {
     "data": {
      "text/plain": [
       "-2.255031072130127"
      ]
     },
     "execution_count": 265,
     "metadata": {},
     "output_type": "execute_result"
    }
   ],
   "source": [
    "compute_sharpe_ratio(play_hodler_strategy(y_true, y_pred))"
   ]
  },
  {
   "cell_type": "code",
   "execution_count": 266,
   "id": "24e86549",
   "metadata": {},
   "outputs": [
    {
     "data": {
      "text/plain": [
       "3.093469100119063"
      ]
     },
     "execution_count": 266,
     "metadata": {},
     "output_type": "execute_result"
    }
   ],
   "source": [
    "compute_sharpe_ratio(play_trader_strategy(y_true, y_pred))"
   ]
  },
  {
   "cell_type": "code",
   "execution_count": 134,
   "id": "5c50307b",
   "metadata": {},
   "outputs": [
    {
     "data": {
      "text/plain": [
       "[0     99.948529\n",
       " 1     99.758749\n",
       " 2     99.641740\n",
       " 3     99.136062\n",
       " 4     99.041975\n",
       "         ...    \n",
       " 62    96.930994\n",
       " 63    94.238043\n",
       " 64    94.238043\n",
       " 65    94.238043\n",
       " 66    94.238043\n",
       " Length: 67, dtype: float64]"
      ]
     },
     "execution_count": 134,
     "metadata": {},
     "output_type": "execute_result"
    }
   ],
   "source": [
    "portfolio_positions_hodler"
   ]
  },
  {
   "cell_type": "code",
   "execution_count": 135,
   "id": "8c808c2b",
   "metadata": {},
   "outputs": [
    {
     "data": {
      "text/plain": [
       "[0     100.000000\n",
       " 1     100.000000\n",
       " 2     100.000000\n",
       " 3     100.000000\n",
       " 4     100.000000\n",
       "          ...    \n",
       " 63    113.927368\n",
       " 64    113.927368\n",
       " 65    113.927368\n",
       " 66    113.927368\n",
       " 67    108.508850\n",
       " Length: 68, dtype: float64]"
      ]
     },
     "execution_count": 135,
     "metadata": {},
     "output_type": "execute_result"
    }
   ],
   "source": [
    "portfolio_positions_trader"
   ]
  },
  {
   "cell_type": "code",
   "execution_count": 136,
   "id": "a92e8465",
   "metadata": {},
   "outputs": [
    {
     "data": {
      "text/plain": [
       "[0     100.000000\n",
       " 1     100.000000\n",
       " 2     100.000000\n",
       " 3     100.000000\n",
       " 4     100.000000\n",
       "          ...    \n",
       " 63    100.845434\n",
       " 64    100.845434\n",
       " 65    100.845434\n",
       " 66    100.845434\n",
       " 67    100.282262\n",
       " Length: 68, dtype: float64]"
      ]
     },
     "execution_count": 136,
     "metadata": {},
     "output_type": "execute_result"
    }
   ],
   "source": [
    "list(portfolio_positions_whale)"
   ]
  },
  {
   "cell_type": "code",
   "execution_count": 137,
   "id": "096de3db",
   "metadata": {},
   "outputs": [
    {
     "data": {
      "text/plain": [
       "[0     100.000000\n",
       " 1     100.000000\n",
       " 2     100.000000\n",
       " 3     100.000000\n",
       " 4     100.000000\n",
       "          ...    \n",
       " 63    100.845434\n",
       " 64    100.845434\n",
       " 65    100.845434\n",
       " 66    100.845434\n",
       " 67    100.282262\n",
       " Length: 68, dtype: float64]"
      ]
     },
     "execution_count": 137,
     "metadata": {},
     "output_type": "execute_result"
    }
   ],
   "source": [
    "portfolio_positions_hodler_whale"
   ]
  },
  {
   "cell_type": "code",
   "execution_count": 138,
   "id": "e1ee59a0",
   "metadata": {},
   "outputs": [
    {
     "data": {
      "text/plain": [
       "[0     100.000000\n",
       " 1     100.000000\n",
       " 2     100.000000\n",
       " 3     100.000000\n",
       " 4     100.000000\n",
       "          ...    \n",
       " 63    104.694418\n",
       " 64    104.694418\n",
       " 65    104.694418\n",
       " 66    104.694418\n",
       " 67    102.888670\n",
       " Length: 68, dtype: float64]"
      ]
     },
     "execution_count": 138,
     "metadata": {},
     "output_type": "execute_result"
    }
   ],
   "source": [
    "portfolio_positions_charles"
   ]
  },
  {
   "cell_type": "code",
   "execution_count": 139,
   "id": "9e565623",
   "metadata": {},
   "outputs": [
    {
     "data": {
      "text/plain": [
       "<matplotlib.legend.Legend at 0x15be151c0>"
      ]
     },
     "execution_count": 139,
     "metadata": {},
     "output_type": "execute_result"
    },
    {
     "data": {
      "image/png": "[encoded data removed]",
      "text/plain": [
       "<Figure size 1000x600 with 1 Axes>"
      ]
     },
     "metadata": {
      "needs_background": "light"
     },
     "output_type": "display_data"
    }
   ],
   "source": [
    "figure(figsize=(10, 6), dpi=100)\n",
    "plt.plot(portfolio_positions_hodler[0], label=\"Hodler\")\n",
    "plt.plot(portfolio_positions_trader[0], label=\"Trader\")\n",
    "plt.plot(portfolio_positions_whale[0], label=\"Whale\")\n",
    "plt.plot(portfolio_positions_hodler_whale[0], label=\"Hodler whale\")\n",
    "plt.plot(portfolio_positions_charles[0], label=\"Charles\")\n",
    "plt.title(\"Investment strategies' results by investors type\")\n",
    "plt.xlabel(\"Days\")\n",
    "plt.ylabel(\"USD portfolio value\")\n",
    "plt.legend()"
   ]
  },
  {
   "cell_type": "code",
   "execution_count": 56,
   "id": "b930244f",
   "metadata": {},
   "outputs": [
    {
     "data": {
      "text/plain": [
       "[<matplotlib.lines.Line2D at 0x15ae0ad90>]"
      ]
     },
     "execution_count": 56,
     "metadata": {},
     "output_type": "execute_result"
    },
    {
     "data": {
      "image/png": "[encoded data removed]",
      "text/plain": [
       "<Figure size 1000x600 with 1 Axes>"
      ]
     },
     "metadata": {
      "needs_background": "light"
     },
     "output_type": "display_data"
    }
   ],
   "source": [
    "figure(figsize=(10, 6), dpi=100)\n",
    "\n",
    "plt.plot(train_df[-68:][\"[+]_[T]_Bitcoin_Price\"])"
   ]
  },
  {
   "cell_type": "code",
   "execution_count": 65,
   "id": "5df5688b",
   "metadata": {},
   "outputs": [
    {
     "data": {
      "text/plain": [
       "[<matplotlib.lines.Line2D at 0x15b5974f0>]"
      ]
     },
     "execution_count": 65,
     "metadata": {},
     "output_type": "execute_result"
    },
    {
     "data": {
      "image/png": "[encoded data removed]",
      "text/plain": [
       "<Figure size 432x288 with 1 Axes>"
      ]
     },
     "metadata": {
      "needs_background": "light"
     },
     "output_type": "display_data"
    }
   ],
   "source": [
    "plt.plot(y_pred_pct)"
   ]
  },
  {
   "cell_type": "code",
   "execution_count": 264,
   "id": "da52f3de",
   "metadata": {},
   "outputs": [
    {
     "data": {
      "image/png": "[encoded data removed]",
      "text/plain": [
       "<Figure size 1332x756 with 2 Axes>"
      ]
     },
     "metadata": {
      "needs_background": "light"
     },
     "output_type": "display_data"
    }
   ],
   "source": [
    "import matplotlib.ticker as ticker\n",
    "fig, ax1 = plt.subplots()\n",
    "\n",
    "ax1.plot(y_diff_true[\"date\"], train_df[-68:][\"[+]_[T]_Bitcoin_Price\"], label=\"Price\", linestyle=\"dotted\",color=\"k\")\n",
    "ax1.tick_params(axis=\"x\")\n",
    "\n",
    "ax1.xaxis.set_major_locator(ticker.MultipleLocator(15))\n",
    "\n",
    "\n",
    "plt.xticks(fontsize=18, rotation=90)\n",
    "plt.yticks(fontsize=20, rotation=0)\n",
    "\n",
    "plt.legend(fontsize=18, loc=\"upper left\")\n",
    "\n",
    "\n",
    "ax2 = ax1.twinx()  # instantiate a second axes that shares the same x-axis\n",
    "\n",
    "ax2.plot(portfolio_positions_hodler[0], label=\"Hodler\")\n",
    "#ax2.plot(portfolio_positions_trader[0], label=\"Trader\")\n",
    "ax2.plot(portfolio_positions_trader[0], color=\"w\")\n",
    "ax2.tick_params(axis='y')\n",
    "\n",
    "fig.tight_layout()  # otherwise the right y-label is slightly clipped\n",
    "\n",
    "ax2.tick_params(axis='y', labelcolor='k', labelsize=20)\n",
    "\n",
    "\n",
    "plt.legend(fontsize=18, loc=\"upper right\")\n",
    "\n",
    "fig.set_size_inches(18.5, 10.5)\n",
    "\n",
    "fig.autofmt_xdate(rotation=30)\n"
   ]
  },
  {
   "cell_type": "code",
   "execution_count": null,
   "id": "457c2470",
   "metadata": {},
   "outputs": [],
   "source": []
  }
 ],
 "metadata": {
  "kernelspec": {
   "display_name": "Python 3 (ipykernel)",
   "language": "python",
   "name": "python3"
  },
  "language_info": {
   "codemirror_mode": {
    "name": "ipython",
    "version": 3
   },
   "file_extension": ".py",
   "mimetype": "text/x-python",
   "name": "python",
   "nbconvert_exporter": "python",
   "pygments_lexer": "ipython3",
   "version": "3.8.12"
  },
  "toc": {
   "base_numbering": 1,
   "nav_menu": {},
   "number_sections": true,
   "sideBar": true,
   "skip_h1_title": false,
   "title_cell": "Table of Contents",
   "title_sidebar": "Contents",
   "toc_cell": false,
   "toc_position": {},
   "toc_section_display": true,
   "toc_window_display": false
  }
 },
 "nbformat": 4,
 "nbformat_minor": 5
}
