{
 "cells": [
  {
   "cell_type": "code",
   "execution_count": 2,
   "id": "86a7b326",
   "metadata": {
    "ExecuteTime": {
     "end_time": "2022-03-10T10:20:38.601435Z",
     "start_time": "2022-03-10T10:20:27.408185Z"
    }
   },
   "outputs": [],
   "source": [
    "import requests \n",
    "import pandas as pd\n",
    "import numpy as np\n",
    "import sys; sys.path\n",
    "import datetime\n",
    "import pandas as pd\n",
    "import numpy as np \n",
    "from datetime import datetime\n",
    "from datetime import datetime\n",
    "from tqdm import tqdm\n",
    "import random\n",
    "from sklearn.metrics import mean_absolute_error\n",
    "import matplotlib.pyplot as plt\n",
    "import os\n",
    "from sklearn.preprocessing import MinMaxScaler\n",
    "\n",
    "from bitcoin_deep_learning.call_api import ApiCall\n",
    "from bitcoin_deep_learning.model import LinearRegressionBaselineModel, RnnDlModel,RandomForestReg\n",
    "from bitcoin_deep_learning.trainer import cv_train, read_result\n",
    "from bitcoin_deep_learning.cross_val import cross_val, get_cross_XY, cross_val_trade\n",
    "api = ApiCall()\n",
    "\n",
    "%load_ext autoreload\n",
    "%autoreload 2\n"
   ]
  },
  {
   "cell_type": "code",
   "execution_count": 23,
   "id": "67db4bac",
   "metadata": {
    "ExecuteTime": {
     "end_time": "2022-03-10T10:44:17.163064Z",
     "start_time": "2022-03-10T10:44:16.211055Z"
    }
   },
   "outputs": [
    {
     "data": {
      "text/html": [
       "<div>\n",
       "<style scoped>\n",
       "    .dataframe tbody tr th:only-of-type {\n",
       "        vertical-align: middle;\n",
       "    }\n",
       "\n",
       "    .dataframe tbody tr th {\n",
       "        vertical-align: top;\n",
       "    }\n",
       "\n",
       "    .dataframe thead th {\n",
       "        text-align: right;\n",
       "    }\n",
       "</style>\n",
       "<table border=\"1\" class=\"dataframe\">\n",
       "  <thead>\n",
       "    <tr style=\"text-align: right;\">\n",
       "      <th></th>\n",
       "      <th>date</th>\n",
       "      <th>[AVG]_[NH]_mean_hash_rate</th>\n",
       "      <th>[+]_[NH]_Days_Till_Halving</th>\n",
       "      <th>[//]_[AV]_Stock-to-Flow_Ratio</th>\n",
       "      <th>[+]_[NH]_Circulating_Supply</th>\n",
       "      <th>[+]_[NH]_Issuance</th>\n",
       "      <th>[+]_[NH]_Number_of_Active_Addresses</th>\n",
       "      <th>[+]_[NH]_Mean_Block_Interval</th>\n",
       "      <th>[+]_[NH]_Number_of_Transactions</th>\n",
       "      <th>[+]_[NH]_Number_of_Addresses_with_a_Non-Zero_Balance</th>\n",
       "      <th>...</th>\n",
       "      <th>[//]_[AV]_Realized_Profits-to-Value_(RPV)_Ratio</th>\n",
       "      <th>fear_greed_value</th>\n",
       "      <th>[+]_[NH]_Number_of_Addresses_with_Balance_0.01 - 0.1</th>\n",
       "      <th>[+]_[NH]_Number_of_Addresses_with_Balance_0.1 - 1</th>\n",
       "      <th>[+]_[NH]_Number_of_Addresses_with_Balance_1 - 10</th>\n",
       "      <th>[+]_[NH]_Number_of_Addresses_with_Balance_10 - 100</th>\n",
       "      <th>[+]_[NH]_Number_of_Addresses_with_Balance_100 - 1k</th>\n",
       "      <th>[+]_[NH]_Number_of_Addresses_with_Balance_1k - 10k</th>\n",
       "      <th>[+]_[T]_Bitcoin_Price</th>\n",
       "      <th>[%]_Bitcoin_growth_rate_on_Horizon=7</th>\n",
       "    </tr>\n",
       "  </thead>\n",
       "  <tbody>\n",
       "    <tr>\n",
       "      <th>0</th>\n",
       "      <td>2018-02-01</td>\n",
       "      <td>0.007848</td>\n",
       "      <td>0.007848</td>\n",
       "      <td>0.007848</td>\n",
       "      <td>0.007848</td>\n",
       "      <td>0.007848</td>\n",
       "      <td>0.007848</td>\n",
       "      <td>0.007848</td>\n",
       "      <td>0.007848</td>\n",
       "      <td>0.007848</td>\n",
       "      <td>...</td>\n",
       "      <td>0.007848</td>\n",
       "      <td>0.007848</td>\n",
       "      <td>0.007848</td>\n",
       "      <td>0.007848</td>\n",
       "      <td>0.007848</td>\n",
       "      <td>0.007848</td>\n",
       "      <td>0.007848</td>\n",
       "      <td>0.007848</td>\n",
       "      <td>0.007848</td>\n",
       "      <td>-0.235616</td>\n",
       "    </tr>\n",
       "    <tr>\n",
       "      <th>1</th>\n",
       "      <td>2018-02-02</td>\n",
       "      <td>0.012923</td>\n",
       "      <td>0.012923</td>\n",
       "      <td>0.012923</td>\n",
       "      <td>0.012923</td>\n",
       "      <td>0.012923</td>\n",
       "      <td>0.012923</td>\n",
       "      <td>0.012923</td>\n",
       "      <td>0.012923</td>\n",
       "      <td>0.012923</td>\n",
       "      <td>...</td>\n",
       "      <td>0.012923</td>\n",
       "      <td>0.012923</td>\n",
       "      <td>0.012923</td>\n",
       "      <td>0.012923</td>\n",
       "      <td>0.012923</td>\n",
       "      <td>0.012923</td>\n",
       "      <td>0.012923</td>\n",
       "      <td>0.012923</td>\n",
       "      <td>0.012923</td>\n",
       "      <td>-0.260491</td>\n",
       "    </tr>\n",
       "    <tr>\n",
       "      <th>2</th>\n",
       "      <td>2018-02-03</td>\n",
       "      <td>0.008710</td>\n",
       "      <td>0.008710</td>\n",
       "      <td>0.008710</td>\n",
       "      <td>0.008710</td>\n",
       "      <td>0.008710</td>\n",
       "      <td>0.008710</td>\n",
       "      <td>0.008710</td>\n",
       "      <td>0.008710</td>\n",
       "      <td>0.008710</td>\n",
       "      <td>...</td>\n",
       "      <td>0.008710</td>\n",
       "      <td>0.008710</td>\n",
       "      <td>0.008710</td>\n",
       "      <td>0.008710</td>\n",
       "      <td>0.008710</td>\n",
       "      <td>0.008710</td>\n",
       "      <td>0.008710</td>\n",
       "      <td>0.008710</td>\n",
       "      <td>0.008710</td>\n",
       "      <td>-0.230759</td>\n",
       "    </tr>\n",
       "    <tr>\n",
       "      <th>3</th>\n",
       "      <td>2018-02-04</td>\n",
       "      <td>0.017680</td>\n",
       "      <td>0.017680</td>\n",
       "      <td>0.017680</td>\n",
       "      <td>0.017680</td>\n",
       "      <td>0.017680</td>\n",
       "      <td>0.017680</td>\n",
       "      <td>0.017680</td>\n",
       "      <td>0.017680</td>\n",
       "      <td>0.017680</td>\n",
       "      <td>...</td>\n",
       "      <td>0.017680</td>\n",
       "      <td>0.017680</td>\n",
       "      <td>0.017680</td>\n",
       "      <td>0.017680</td>\n",
       "      <td>0.017680</td>\n",
       "      <td>0.017680</td>\n",
       "      <td>0.017680</td>\n",
       "      <td>0.017680</td>\n",
       "      <td>0.017680</td>\n",
       "      <td>-0.418350</td>\n",
       "    </tr>\n",
       "    <tr>\n",
       "      <th>4</th>\n",
       "      <td>2018-02-05</td>\n",
       "      <td>0.023407</td>\n",
       "      <td>0.023407</td>\n",
       "      <td>0.023407</td>\n",
       "      <td>0.023407</td>\n",
       "      <td>0.023407</td>\n",
       "      <td>0.023407</td>\n",
       "      <td>0.023407</td>\n",
       "      <td>0.023407</td>\n",
       "      <td>0.023407</td>\n",
       "      <td>...</td>\n",
       "      <td>0.023407</td>\n",
       "      <td>0.023407</td>\n",
       "      <td>0.023407</td>\n",
       "      <td>0.023407</td>\n",
       "      <td>0.023407</td>\n",
       "      <td>0.023407</td>\n",
       "      <td>0.023407</td>\n",
       "      <td>0.023407</td>\n",
       "      <td>0.023407</td>\n",
       "      <td>-0.617751</td>\n",
       "    </tr>\n",
       "    <tr>\n",
       "      <th>...</th>\n",
       "      <td>...</td>\n",
       "      <td>...</td>\n",
       "      <td>...</td>\n",
       "      <td>...</td>\n",
       "      <td>...</td>\n",
       "      <td>...</td>\n",
       "      <td>...</td>\n",
       "      <td>...</td>\n",
       "      <td>...</td>\n",
       "      <td>...</td>\n",
       "      <td>...</td>\n",
       "      <td>...</td>\n",
       "      <td>...</td>\n",
       "      <td>...</td>\n",
       "      <td>...</td>\n",
       "      <td>...</td>\n",
       "      <td>...</td>\n",
       "      <td>...</td>\n",
       "      <td>...</td>\n",
       "      <td>...</td>\n",
       "      <td>...</td>\n",
       "    </tr>\n",
       "    <tr>\n",
       "      <th>1493</th>\n",
       "      <td>2022-03-05</td>\n",
       "      <td>0.651643</td>\n",
       "      <td>0.651643</td>\n",
       "      <td>0.651643</td>\n",
       "      <td>0.651643</td>\n",
       "      <td>0.651643</td>\n",
       "      <td>0.651643</td>\n",
       "      <td>0.651643</td>\n",
       "      <td>0.651643</td>\n",
       "      <td>0.651643</td>\n",
       "      <td>...</td>\n",
       "      <td>0.651643</td>\n",
       "      <td>0.651643</td>\n",
       "      <td>0.651643</td>\n",
       "      <td>0.651643</td>\n",
       "      <td>0.651643</td>\n",
       "      <td>0.651643</td>\n",
       "      <td>0.651643</td>\n",
       "      <td>0.651643</td>\n",
       "      <td>0.651643</td>\n",
       "      <td>0.009345</td>\n",
       "    </tr>\n",
       "    <tr>\n",
       "      <th>1494</th>\n",
       "      <td>2022-03-06</td>\n",
       "      <td>0.696718</td>\n",
       "      <td>0.696718</td>\n",
       "      <td>0.696718</td>\n",
       "      <td>0.696718</td>\n",
       "      <td>0.696718</td>\n",
       "      <td>0.696718</td>\n",
       "      <td>0.696718</td>\n",
       "      <td>0.696718</td>\n",
       "      <td>0.696718</td>\n",
       "      <td>...</td>\n",
       "      <td>0.696718</td>\n",
       "      <td>0.696718</td>\n",
       "      <td>0.696718</td>\n",
       "      <td>0.696718</td>\n",
       "      <td>0.696718</td>\n",
       "      <td>0.696718</td>\n",
       "      <td>0.696718</td>\n",
       "      <td>0.696718</td>\n",
       "      <td>0.696718</td>\n",
       "      <td>0.018275</td>\n",
       "    </tr>\n",
       "    <tr>\n",
       "      <th>1495</th>\n",
       "      <td>2022-03-07</td>\n",
       "      <td>0.802798</td>\n",
       "      <td>0.802798</td>\n",
       "      <td>0.802798</td>\n",
       "      <td>0.802798</td>\n",
       "      <td>0.802798</td>\n",
       "      <td>0.802798</td>\n",
       "      <td>0.802798</td>\n",
       "      <td>0.802798</td>\n",
       "      <td>0.802798</td>\n",
       "      <td>...</td>\n",
       "      <td>0.802798</td>\n",
       "      <td>0.802798</td>\n",
       "      <td>0.802798</td>\n",
       "      <td>0.802798</td>\n",
       "      <td>0.802798</td>\n",
       "      <td>0.802798</td>\n",
       "      <td>0.802798</td>\n",
       "      <td>0.802798</td>\n",
       "      <td>0.802798</td>\n",
       "      <td>-0.136405</td>\n",
       "    </tr>\n",
       "    <tr>\n",
       "      <th>1496</th>\n",
       "      <td>2022-03-08</td>\n",
       "      <td>0.798383</td>\n",
       "      <td>0.798383</td>\n",
       "      <td>0.798383</td>\n",
       "      <td>0.798383</td>\n",
       "      <td>0.798383</td>\n",
       "      <td>0.798383</td>\n",
       "      <td>0.798383</td>\n",
       "      <td>0.798383</td>\n",
       "      <td>0.798383</td>\n",
       "      <td>...</td>\n",
       "      <td>0.798383</td>\n",
       "      <td>0.798383</td>\n",
       "      <td>0.798383</td>\n",
       "      <td>0.798383</td>\n",
       "      <td>0.798383</td>\n",
       "      <td>0.798383</td>\n",
       "      <td>0.798383</td>\n",
       "      <td>0.798383</td>\n",
       "      <td>0.798383</td>\n",
       "      <td>-0.145170</td>\n",
       "    </tr>\n",
       "    <tr>\n",
       "      <th>1497</th>\n",
       "      <td>2022-03-09</td>\n",
       "      <td>0.739447</td>\n",
       "      <td>0.739447</td>\n",
       "      <td>0.739447</td>\n",
       "      <td>0.739447</td>\n",
       "      <td>0.739447</td>\n",
       "      <td>0.739447</td>\n",
       "      <td>0.739447</td>\n",
       "      <td>0.739447</td>\n",
       "      <td>0.739447</td>\n",
       "      <td>...</td>\n",
       "      <td>0.739447</td>\n",
       "      <td>0.739447</td>\n",
       "      <td>0.739447</td>\n",
       "      <td>0.739447</td>\n",
       "      <td>0.739447</td>\n",
       "      <td>0.739447</td>\n",
       "      <td>0.739447</td>\n",
       "      <td>0.739447</td>\n",
       "      <td>0.739447</td>\n",
       "      <td>-0.046669</td>\n",
       "    </tr>\n",
       "  </tbody>\n",
       "</table>\n",
       "<p>1498 rows × 33 columns</p>\n",
       "</div>"
      ],
      "text/plain": [
       "            date  [AVG]_[NH]_mean_hash_rate  [+]_[NH]_Days_Till_Halving  \\\n",
       "0     2018-02-01                   0.007848                    0.007848   \n",
       "1     2018-02-02                   0.012923                    0.012923   \n",
       "2     2018-02-03                   0.008710                    0.008710   \n",
       "3     2018-02-04                   0.017680                    0.017680   \n",
       "4     2018-02-05                   0.023407                    0.023407   \n",
       "...          ...                        ...                         ...   \n",
       "1493  2022-03-05                   0.651643                    0.651643   \n",
       "1494  2022-03-06                   0.696718                    0.696718   \n",
       "1495  2022-03-07                   0.802798                    0.802798   \n",
       "1496  2022-03-08                   0.798383                    0.798383   \n",
       "1497  2022-03-09                   0.739447                    0.739447   \n",
       "\n",
       "      [//]_[AV]_Stock-to-Flow_Ratio  [+]_[NH]_Circulating_Supply  \\\n",
       "0                          0.007848                     0.007848   \n",
       "1                          0.012923                     0.012923   \n",
       "2                          0.008710                     0.008710   \n",
       "3                          0.017680                     0.017680   \n",
       "4                          0.023407                     0.023407   \n",
       "...                             ...                          ...   \n",
       "1493                       0.651643                     0.651643   \n",
       "1494                       0.696718                     0.696718   \n",
       "1495                       0.802798                     0.802798   \n",
       "1496                       0.798383                     0.798383   \n",
       "1497                       0.739447                     0.739447   \n",
       "\n",
       "      [+]_[NH]_Issuance  [+]_[NH]_Number_of_Active_Addresses  \\\n",
       "0              0.007848                             0.007848   \n",
       "1              0.012923                             0.012923   \n",
       "2              0.008710                             0.008710   \n",
       "3              0.017680                             0.017680   \n",
       "4              0.023407                             0.023407   \n",
       "...                 ...                                  ...   \n",
       "1493           0.651643                             0.651643   \n",
       "1494           0.696718                             0.696718   \n",
       "1495           0.802798                             0.802798   \n",
       "1496           0.798383                             0.798383   \n",
       "1497           0.739447                             0.739447   \n",
       "\n",
       "      [+]_[NH]_Mean_Block_Interval  [+]_[NH]_Number_of_Transactions  \\\n",
       "0                         0.007848                         0.007848   \n",
       "1                         0.012923                         0.012923   \n",
       "2                         0.008710                         0.008710   \n",
       "3                         0.017680                         0.017680   \n",
       "4                         0.023407                         0.023407   \n",
       "...                            ...                              ...   \n",
       "1493                      0.651643                         0.651643   \n",
       "1494                      0.696718                         0.696718   \n",
       "1495                      0.802798                         0.802798   \n",
       "1496                      0.798383                         0.798383   \n",
       "1497                      0.739447                         0.739447   \n",
       "\n",
       "      [+]_[NH]_Number_of_Addresses_with_a_Non-Zero_Balance  ...  \\\n",
       "0                                              0.007848     ...   \n",
       "1                                              0.012923     ...   \n",
       "2                                              0.008710     ...   \n",
       "3                                              0.017680     ...   \n",
       "4                                              0.023407     ...   \n",
       "...                                                 ...     ...   \n",
       "1493                                           0.651643     ...   \n",
       "1494                                           0.696718     ...   \n",
       "1495                                           0.802798     ...   \n",
       "1496                                           0.798383     ...   \n",
       "1497                                           0.739447     ...   \n",
       "\n",
       "      [//]_[AV]_Realized_Profits-to-Value_(RPV)_Ratio  fear_greed_value  \\\n",
       "0                                            0.007848          0.007848   \n",
       "1                                            0.012923          0.012923   \n",
       "2                                            0.008710          0.008710   \n",
       "3                                            0.017680          0.017680   \n",
       "4                                            0.023407          0.023407   \n",
       "...                                               ...               ...   \n",
       "1493                                         0.651643          0.651643   \n",
       "1494                                         0.696718          0.696718   \n",
       "1495                                         0.802798          0.802798   \n",
       "1496                                         0.798383          0.798383   \n",
       "1497                                         0.739447          0.739447   \n",
       "\n",
       "      [+]_[NH]_Number_of_Addresses_with_Balance_0.01 - 0.1  \\\n",
       "0                                              0.007848      \n",
       "1                                              0.012923      \n",
       "2                                              0.008710      \n",
       "3                                              0.017680      \n",
       "4                                              0.023407      \n",
       "...                                                 ...      \n",
       "1493                                           0.651643      \n",
       "1494                                           0.696718      \n",
       "1495                                           0.802798      \n",
       "1496                                           0.798383      \n",
       "1497                                           0.739447      \n",
       "\n",
       "      [+]_[NH]_Number_of_Addresses_with_Balance_0.1 - 1  \\\n",
       "0                                              0.007848   \n",
       "1                                              0.012923   \n",
       "2                                              0.008710   \n",
       "3                                              0.017680   \n",
       "4                                              0.023407   \n",
       "...                                                 ...   \n",
       "1493                                           0.651643   \n",
       "1494                                           0.696718   \n",
       "1495                                           0.802798   \n",
       "1496                                           0.798383   \n",
       "1497                                           0.739447   \n",
       "\n",
       "      [+]_[NH]_Number_of_Addresses_with_Balance_1 - 10  \\\n",
       "0                                             0.007848   \n",
       "1                                             0.012923   \n",
       "2                                             0.008710   \n",
       "3                                             0.017680   \n",
       "4                                             0.023407   \n",
       "...                                                ...   \n",
       "1493                                          0.651643   \n",
       "1494                                          0.696718   \n",
       "1495                                          0.802798   \n",
       "1496                                          0.798383   \n",
       "1497                                          0.739447   \n",
       "\n",
       "      [+]_[NH]_Number_of_Addresses_with_Balance_10 - 100  \\\n",
       "0                                              0.007848    \n",
       "1                                              0.012923    \n",
       "2                                              0.008710    \n",
       "3                                              0.017680    \n",
       "4                                              0.023407    \n",
       "...                                                 ...    \n",
       "1493                                           0.651643    \n",
       "1494                                           0.696718    \n",
       "1495                                           0.802798    \n",
       "1496                                           0.798383    \n",
       "1497                                           0.739447    \n",
       "\n",
       "      [+]_[NH]_Number_of_Addresses_with_Balance_100 - 1k  \\\n",
       "0                                              0.007848    \n",
       "1                                              0.012923    \n",
       "2                                              0.008710    \n",
       "3                                              0.017680    \n",
       "4                                              0.023407    \n",
       "...                                                 ...    \n",
       "1493                                           0.651643    \n",
       "1494                                           0.696718    \n",
       "1495                                           0.802798    \n",
       "1496                                           0.798383    \n",
       "1497                                           0.739447    \n",
       "\n",
       "      [+]_[NH]_Number_of_Addresses_with_Balance_1k - 10k  \\\n",
       "0                                              0.007848    \n",
       "1                                              0.012923    \n",
       "2                                              0.008710    \n",
       "3                                              0.017680    \n",
       "4                                              0.023407    \n",
       "...                                                 ...    \n",
       "1493                                           0.651643    \n",
       "1494                                           0.696718    \n",
       "1495                                           0.802798    \n",
       "1496                                           0.798383    \n",
       "1497                                           0.739447    \n",
       "\n",
       "      [+]_[T]_Bitcoin_Price  [%]_Bitcoin_growth_rate_on_Horizon=7  \n",
       "0                  0.007848                             -0.235616  \n",
       "1                  0.012923                             -0.260491  \n",
       "2                  0.008710                             -0.230759  \n",
       "3                  0.017680                             -0.418350  \n",
       "4                  0.023407                             -0.617751  \n",
       "...                     ...                                   ...  \n",
       "1493               0.651643                              0.009345  \n",
       "1494               0.696718                              0.018275  \n",
       "1495               0.802798                             -0.136405  \n",
       "1496               0.798383                             -0.145170  \n",
       "1497               0.739447                             -0.046669  \n",
       "\n",
       "[1498 rows x 33 columns]"
      ]
     },
     "execution_count": 23,
     "metadata": {},
     "output_type": "execute_result"
    }
   ],
   "source": [
    "scaler = MinMaxScaler()\n",
    "train_df= ApiCall().read_local()\n",
    "for i in range(1,len(list(train_df.columns))-1):\n",
    "    train_df[list(train_df.columns)[i]] = scaler.fit_transform(np.array(train_df[train_df.columns[1]]).reshape(-1, 1))\n",
    "train_df"
   ]
  },
  {
   "cell_type": "code",
   "execution_count": 20,
   "id": "5ab32b96",
   "metadata": {
    "ExecuteTime": {
     "end_time": "2022-03-10T10:30:29.239356Z",
     "start_time": "2022-03-10T10:30:14.646435Z"
    },
    "collapsed": true
   },
   "outputs": [
    {
     "name": "stderr",
     "output_type": "stream",
     "text": [
      "  3%|████▏                                                                                                                                            | 1/35 [00:07<04:17,  7.58s/it]\n"
     ]
    },
    {
     "ename": "KeyboardInterrupt",
     "evalue": "",
     "output_type": "error",
     "traceback": [
      "\u001b[0;31m---------------------------------------------------------------------------\u001b[0m",
      "\u001b[0;31mKeyboardInterrupt\u001b[0m                         Traceback (most recent call last)",
      "Input \u001b[0;32mIn [20]\u001b[0m, in \u001b[0;36m<cell line: 2>\u001b[0;34m()\u001b[0m\n\u001b[1;32m      1\u001b[0m model \u001b[38;5;241m=\u001b[39m RandomForestReg()\n\u001b[0;32m----> 2\u001b[0m \u001b[43mcv_train\u001b[49m\u001b[43m(\u001b[49m\u001b[43mmodel\u001b[49m\u001b[43m,\u001b[49m\u001b[43mtrain_df\u001b[49m\u001b[43m)\u001b[49m\n\u001b[1;32m      3\u001b[0m read_result()\u001b[38;5;241m.\u001b[39msort_values(by\u001b[38;5;241m=\u001b[39m\u001b[38;5;124m\"\u001b[39m\u001b[38;5;124mdate\u001b[39m\u001b[38;5;124m\"\u001b[39m)\n",
      "File \u001b[0;32m~/code/AlexandreLaizet/bitcoin_deep_learning/bitcoin_deep_learning/trainer.py:26\u001b[0m, in \u001b[0;36mcv_train\u001b[0;34m(model, df, metric, save, precision, with_trader)\u001b[0m\n\u001b[1;32m     19\u001b[0m \u001b[38;5;28;01mdef\u001b[39;00m \u001b[38;5;21mcv_train\u001b[39m(model,\n\u001b[1;32m     20\u001b[0m           df,\n\u001b[1;32m     21\u001b[0m           metric\u001b[38;5;241m=\u001b[39mMean_absolute_percentage_error(),\n\u001b[0;32m   (...)\u001b[0m\n\u001b[1;32m     24\u001b[0m           with_trader:\u001b[38;5;28mbool\u001b[39m \u001b[38;5;241m=\u001b[39m \u001b[38;5;28;01mTrue\u001b[39;00m\n\u001b[1;32m     25\u001b[0m           ):\n\u001b[0;32m---> 26\u001b[0m     reality,prediction \u001b[38;5;241m=\u001b[39m \u001b[43mcross_val\u001b[49m\u001b[43m(\u001b[49m\u001b[43mmodel\u001b[49m\u001b[43m,\u001b[49m\u001b[43mdf\u001b[49m\u001b[43m)\u001b[49m\n\u001b[1;32m     27\u001b[0m     fold_score \u001b[38;5;241m=\u001b[39m [\u001b[38;5;28mround\u001b[39m(mean_absolute_error(Y_true,Y_pred),precision)\n\u001b[1;32m     28\u001b[0m                             \u001b[38;5;28;01mfor\u001b[39;00m Y_true,Y_pred \u001b[38;5;129;01min\u001b[39;00m \u001b[38;5;28mzip\u001b[39m(reality,prediction)]\n\u001b[1;32m     29\u001b[0m     score \u001b[38;5;241m=\u001b[39m\u001b[38;5;28mround\u001b[39m(np\u001b[38;5;241m.\u001b[39mmean(np\u001b[38;5;241m.\u001b[39marray(fold_score)),precision)\n",
      "File \u001b[0;32m~/code/AlexandreLaizet/bitcoin_deep_learning/bitcoin_deep_learning/cross_val.py:143\u001b[0m, in \u001b[0;36mcross_val\u001b[0;34m(model, df, verbose, saving, metrics, trader_metrics, hyperparams)\u001b[0m\n\u001b[1;32m    139\u001b[0m X_test \u001b[38;5;241m=\u001b[39m np\u001b[38;5;241m.\u001b[39marray(X_test)\n\u001b[1;32m    140\u001b[0m \u001b[38;5;66;03m# Now we have an X_test,Y_test , X_train,Y_train ready to be processed\u001b[39;00m\n\u001b[1;32m    141\u001b[0m \n\u001b[1;32m    142\u001b[0m \u001b[38;5;66;03m#TODO SHUFFLING THE X,y\u001b[39;00m\n\u001b[0;32m--> 143\u001b[0m Y_pred \u001b[38;5;241m=\u001b[39m \u001b[43mmodel\u001b[49m\u001b[38;5;241;43m.\u001b[39;49m\u001b[43mrun\u001b[49m\u001b[43m(\u001b[49m\u001b[43mX_test\u001b[49m\u001b[43m,\u001b[49m\u001b[43mX_train\u001b[49m\u001b[43m,\u001b[49m\u001b[43m \u001b[49m\u001b[43mY_train\u001b[49m\u001b[43m)\u001b[49m\n\u001b[1;32m    145\u001b[0m \u001b[38;5;66;03m# Keeping these lines in case we want to use Y_test, Y_pred in the futur\u001b[39;00m\n\u001b[1;32m    146\u001b[0m reality\u001b[38;5;241m.\u001b[39mappend(Y_test)\n",
      "File \u001b[0;32m~/code/AlexandreLaizet/bitcoin_deep_learning/bitcoin_deep_learning/model.py:390\u001b[0m, in \u001b[0;36mrun\u001b[0;34m(self, X_test, X_train, y_train)\u001b[0m\n\u001b[1;32m    388\u001b[0m self.fit(X_train, y_train)\n\u001b[1;32m    389\u001b[0m return self.predict(X_test)\n\u001b[0;32m--> 390\u001b[0m \n\u001b[1;32m    391\u001b[0m \n\u001b[1;32m    392\u001b[0m \n",
      "File \u001b[0;32m~/code/AlexandreLaizet/bitcoin_deep_learning/bitcoin_deep_learning/model.py:380\u001b[0m, in \u001b[0;36mfit\u001b[0;34m(self, X_train, y_train)\u001b[0m\n\u001b[1;32m    378\u001b[0m     self.model.fit(X_train, y_train)\n\u001b[1;32m    379\u001b[0m     return self\n\u001b[0;32m--> 380\u001b[0m \n\u001b[1;32m    381\u001b[0m def predict(self, X_test):\n\u001b[1;32m    382\u001b[0m     y_pred = self.model.predict(X_test)\n",
      "File \u001b[0;32m~/.pyenv/versions/3.8.12/envs/lewagon/lib/python3.8/site-packages/sklearn/ensemble/_forest.py:450\u001b[0m, in \u001b[0;36mBaseForest.fit\u001b[0;34m(self, X, y, sample_weight)\u001b[0m\n\u001b[1;32m    439\u001b[0m trees \u001b[38;5;241m=\u001b[39m [\n\u001b[1;32m    440\u001b[0m     \u001b[38;5;28mself\u001b[39m\u001b[38;5;241m.\u001b[39m_make_estimator(append\u001b[38;5;241m=\u001b[39m\u001b[38;5;28;01mFalse\u001b[39;00m, random_state\u001b[38;5;241m=\u001b[39mrandom_state)\n\u001b[1;32m    441\u001b[0m     \u001b[38;5;28;01mfor\u001b[39;00m i \u001b[38;5;129;01min\u001b[39;00m \u001b[38;5;28mrange\u001b[39m(n_more_estimators)\n\u001b[1;32m    442\u001b[0m ]\n\u001b[1;32m    444\u001b[0m \u001b[38;5;66;03m# Parallel loop: we prefer the threading backend as the Cython code\u001b[39;00m\n\u001b[1;32m    445\u001b[0m \u001b[38;5;66;03m# for fitting the trees is internally releasing the Python GIL\u001b[39;00m\n\u001b[1;32m    446\u001b[0m \u001b[38;5;66;03m# making threading more efficient than multiprocessing in\u001b[39;00m\n\u001b[1;32m    447\u001b[0m \u001b[38;5;66;03m# that case. However, for joblib 0.12+ we respect any\u001b[39;00m\n\u001b[1;32m    448\u001b[0m \u001b[38;5;66;03m# parallel_backend contexts set at a higher level,\u001b[39;00m\n\u001b[1;32m    449\u001b[0m \u001b[38;5;66;03m# since correctness does not rely on using threads.\u001b[39;00m\n\u001b[0;32m--> 450\u001b[0m trees \u001b[38;5;241m=\u001b[39m \u001b[43mParallel\u001b[49m\u001b[43m(\u001b[49m\n\u001b[1;32m    451\u001b[0m \u001b[43m    \u001b[49m\u001b[43mn_jobs\u001b[49m\u001b[38;5;241;43m=\u001b[39;49m\u001b[38;5;28;43mself\u001b[39;49m\u001b[38;5;241;43m.\u001b[39;49m\u001b[43mn_jobs\u001b[49m\u001b[43m,\u001b[49m\n\u001b[1;32m    452\u001b[0m \u001b[43m    \u001b[49m\u001b[43mverbose\u001b[49m\u001b[38;5;241;43m=\u001b[39;49m\u001b[38;5;28;43mself\u001b[39;49m\u001b[38;5;241;43m.\u001b[39;49m\u001b[43mverbose\u001b[49m\u001b[43m,\u001b[49m\n\u001b[1;32m    453\u001b[0m \u001b[43m    \u001b[49m\u001b[38;5;241;43m*\u001b[39;49m\u001b[38;5;241;43m*\u001b[39;49m\u001b[43m_joblib_parallel_args\u001b[49m\u001b[43m(\u001b[49m\u001b[43mprefer\u001b[49m\u001b[38;5;241;43m=\u001b[39;49m\u001b[38;5;124;43m\"\u001b[39;49m\u001b[38;5;124;43mthreads\u001b[39;49m\u001b[38;5;124;43m\"\u001b[39;49m\u001b[43m)\u001b[49m\u001b[43m,\u001b[49m\n\u001b[1;32m    454\u001b[0m \u001b[43m\u001b[49m\u001b[43m)\u001b[49m\u001b[43m(\u001b[49m\n\u001b[1;32m    455\u001b[0m \u001b[43m    \u001b[49m\u001b[43mdelayed\u001b[49m\u001b[43m(\u001b[49m\u001b[43m_parallel_build_trees\u001b[49m\u001b[43m)\u001b[49m\u001b[43m(\u001b[49m\n\u001b[1;32m    456\u001b[0m \u001b[43m        \u001b[49m\u001b[43mt\u001b[49m\u001b[43m,\u001b[49m\n\u001b[1;32m    457\u001b[0m \u001b[43m        \u001b[49m\u001b[38;5;28;43mself\u001b[39;49m\u001b[43m,\u001b[49m\n\u001b[1;32m    458\u001b[0m \u001b[43m        \u001b[49m\u001b[43mX\u001b[49m\u001b[43m,\u001b[49m\n\u001b[1;32m    459\u001b[0m \u001b[43m        \u001b[49m\u001b[43my\u001b[49m\u001b[43m,\u001b[49m\n\u001b[1;32m    460\u001b[0m \u001b[43m        \u001b[49m\u001b[43msample_weight\u001b[49m\u001b[43m,\u001b[49m\n\u001b[1;32m    461\u001b[0m \u001b[43m        \u001b[49m\u001b[43mi\u001b[49m\u001b[43m,\u001b[49m\n\u001b[1;32m    462\u001b[0m \u001b[43m        \u001b[49m\u001b[38;5;28;43mlen\u001b[39;49m\u001b[43m(\u001b[49m\u001b[43mtrees\u001b[49m\u001b[43m)\u001b[49m\u001b[43m,\u001b[49m\n\u001b[1;32m    463\u001b[0m \u001b[43m        \u001b[49m\u001b[43mverbose\u001b[49m\u001b[38;5;241;43m=\u001b[39;49m\u001b[38;5;28;43mself\u001b[39;49m\u001b[38;5;241;43m.\u001b[39;49m\u001b[43mverbose\u001b[49m\u001b[43m,\u001b[49m\n\u001b[1;32m    464\u001b[0m \u001b[43m        \u001b[49m\u001b[43mclass_weight\u001b[49m\u001b[38;5;241;43m=\u001b[39;49m\u001b[38;5;28;43mself\u001b[39;49m\u001b[38;5;241;43m.\u001b[39;49m\u001b[43mclass_weight\u001b[49m\u001b[43m,\u001b[49m\n\u001b[1;32m    465\u001b[0m \u001b[43m        \u001b[49m\u001b[43mn_samples_bootstrap\u001b[49m\u001b[38;5;241;43m=\u001b[39;49m\u001b[43mn_samples_bootstrap\u001b[49m\u001b[43m,\u001b[49m\n\u001b[1;32m    466\u001b[0m \u001b[43m    \u001b[49m\u001b[43m)\u001b[49m\n\u001b[1;32m    467\u001b[0m \u001b[43m    \u001b[49m\u001b[38;5;28;43;01mfor\u001b[39;49;00m\u001b[43m \u001b[49m\u001b[43mi\u001b[49m\u001b[43m,\u001b[49m\u001b[43m \u001b[49m\u001b[43mt\u001b[49m\u001b[43m \u001b[49m\u001b[38;5;129;43;01min\u001b[39;49;00m\u001b[43m \u001b[49m\u001b[38;5;28;43menumerate\u001b[39;49m\u001b[43m(\u001b[49m\u001b[43mtrees\u001b[49m\u001b[43m)\u001b[49m\n\u001b[1;32m    468\u001b[0m \u001b[43m\u001b[49m\u001b[43m)\u001b[49m\n\u001b[1;32m    470\u001b[0m \u001b[38;5;66;03m# Collect newly grown trees\u001b[39;00m\n\u001b[1;32m    471\u001b[0m \u001b[38;5;28mself\u001b[39m\u001b[38;5;241m.\u001b[39mestimators_\u001b[38;5;241m.\u001b[39mextend(trees)\n",
      "File \u001b[0;32m~/.pyenv/versions/3.8.12/envs/lewagon/lib/python3.8/site-packages/joblib/parallel.py:1046\u001b[0m, in \u001b[0;36mParallel.__call__\u001b[0;34m(self, iterable)\u001b[0m\n\u001b[1;32m   1043\u001b[0m \u001b[38;5;28;01mif\u001b[39;00m \u001b[38;5;28mself\u001b[39m\u001b[38;5;241m.\u001b[39mdispatch_one_batch(iterator):\n\u001b[1;32m   1044\u001b[0m     \u001b[38;5;28mself\u001b[39m\u001b[38;5;241m.\u001b[39m_iterating \u001b[38;5;241m=\u001b[39m \u001b[38;5;28mself\u001b[39m\u001b[38;5;241m.\u001b[39m_original_iterator \u001b[38;5;129;01mis\u001b[39;00m \u001b[38;5;129;01mnot\u001b[39;00m \u001b[38;5;28;01mNone\u001b[39;00m\n\u001b[0;32m-> 1046\u001b[0m \u001b[38;5;28;01mwhile\u001b[39;00m \u001b[38;5;28;43mself\u001b[39;49m\u001b[38;5;241;43m.\u001b[39;49m\u001b[43mdispatch_one_batch\u001b[49m\u001b[43m(\u001b[49m\u001b[43miterator\u001b[49m\u001b[43m)\u001b[49m:\n\u001b[1;32m   1047\u001b[0m     \u001b[38;5;28;01mpass\u001b[39;00m\n\u001b[1;32m   1049\u001b[0m \u001b[38;5;28;01mif\u001b[39;00m pre_dispatch \u001b[38;5;241m==\u001b[39m \u001b[38;5;124m\"\u001b[39m\u001b[38;5;124mall\u001b[39m\u001b[38;5;124m\"\u001b[39m \u001b[38;5;129;01mor\u001b[39;00m n_jobs \u001b[38;5;241m==\u001b[39m \u001b[38;5;241m1\u001b[39m:\n\u001b[1;32m   1050\u001b[0m     \u001b[38;5;66;03m# The iterable was consumed all at once by the above for loop.\u001b[39;00m\n\u001b[1;32m   1051\u001b[0m     \u001b[38;5;66;03m# No need to wait for async callbacks to trigger to\u001b[39;00m\n\u001b[1;32m   1052\u001b[0m     \u001b[38;5;66;03m# consumption.\u001b[39;00m\n",
      "File \u001b[0;32m~/.pyenv/versions/3.8.12/envs/lewagon/lib/python3.8/site-packages/joblib/parallel.py:861\u001b[0m, in \u001b[0;36mParallel.dispatch_one_batch\u001b[0;34m(self, iterator)\u001b[0m\n\u001b[1;32m    859\u001b[0m     \u001b[38;5;28;01mreturn\u001b[39;00m \u001b[38;5;28;01mFalse\u001b[39;00m\n\u001b[1;32m    860\u001b[0m \u001b[38;5;28;01melse\u001b[39;00m:\n\u001b[0;32m--> 861\u001b[0m     \u001b[38;5;28;43mself\u001b[39;49m\u001b[38;5;241;43m.\u001b[39;49m\u001b[43m_dispatch\u001b[49m\u001b[43m(\u001b[49m\u001b[43mtasks\u001b[49m\u001b[43m)\u001b[49m\n\u001b[1;32m    862\u001b[0m     \u001b[38;5;28;01mreturn\u001b[39;00m \u001b[38;5;28;01mTrue\u001b[39;00m\n",
      "File \u001b[0;32m~/.pyenv/versions/3.8.12/envs/lewagon/lib/python3.8/site-packages/joblib/parallel.py:779\u001b[0m, in \u001b[0;36mParallel._dispatch\u001b[0;34m(self, batch)\u001b[0m\n\u001b[1;32m    777\u001b[0m \u001b[38;5;28;01mwith\u001b[39;00m \u001b[38;5;28mself\u001b[39m\u001b[38;5;241m.\u001b[39m_lock:\n\u001b[1;32m    778\u001b[0m     job_idx \u001b[38;5;241m=\u001b[39m \u001b[38;5;28mlen\u001b[39m(\u001b[38;5;28mself\u001b[39m\u001b[38;5;241m.\u001b[39m_jobs)\n\u001b[0;32m--> 779\u001b[0m     job \u001b[38;5;241m=\u001b[39m \u001b[38;5;28;43mself\u001b[39;49m\u001b[38;5;241;43m.\u001b[39;49m\u001b[43m_backend\u001b[49m\u001b[38;5;241;43m.\u001b[39;49m\u001b[43mapply_async\u001b[49m\u001b[43m(\u001b[49m\u001b[43mbatch\u001b[49m\u001b[43m,\u001b[49m\u001b[43m \u001b[49m\u001b[43mcallback\u001b[49m\u001b[38;5;241;43m=\u001b[39;49m\u001b[43mcb\u001b[49m\u001b[43m)\u001b[49m\n\u001b[1;32m    780\u001b[0m     \u001b[38;5;66;03m# A job can complete so quickly than its callback is\u001b[39;00m\n\u001b[1;32m    781\u001b[0m     \u001b[38;5;66;03m# called before we get here, causing self._jobs to\u001b[39;00m\n\u001b[1;32m    782\u001b[0m     \u001b[38;5;66;03m# grow. To ensure correct results ordering, .insert is\u001b[39;00m\n\u001b[1;32m    783\u001b[0m     \u001b[38;5;66;03m# used (rather than .append) in the following line\u001b[39;00m\n\u001b[1;32m    784\u001b[0m     \u001b[38;5;28mself\u001b[39m\u001b[38;5;241m.\u001b[39m_jobs\u001b[38;5;241m.\u001b[39minsert(job_idx, job)\n",
      "File \u001b[0;32m~/.pyenv/versions/3.8.12/envs/lewagon/lib/python3.8/site-packages/joblib/_parallel_backends.py:208\u001b[0m, in \u001b[0;36mSequentialBackend.apply_async\u001b[0;34m(self, func, callback)\u001b[0m\n\u001b[1;32m    206\u001b[0m \u001b[38;5;28;01mdef\u001b[39;00m \u001b[38;5;21mapply_async\u001b[39m(\u001b[38;5;28mself\u001b[39m, func, callback\u001b[38;5;241m=\u001b[39m\u001b[38;5;28;01mNone\u001b[39;00m):\n\u001b[1;32m    207\u001b[0m     \u001b[38;5;124;03m\"\"\"Schedule a func to be run\"\"\"\u001b[39;00m\n\u001b[0;32m--> 208\u001b[0m     result \u001b[38;5;241m=\u001b[39m \u001b[43mImmediateResult\u001b[49m\u001b[43m(\u001b[49m\u001b[43mfunc\u001b[49m\u001b[43m)\u001b[49m\n\u001b[1;32m    209\u001b[0m     \u001b[38;5;28;01mif\u001b[39;00m callback:\n\u001b[1;32m    210\u001b[0m         callback(result)\n",
      "File \u001b[0;32m~/.pyenv/versions/3.8.12/envs/lewagon/lib/python3.8/site-packages/joblib/_parallel_backends.py:572\u001b[0m, in \u001b[0;36mImmediateResult.__init__\u001b[0;34m(self, batch)\u001b[0m\n\u001b[1;32m    569\u001b[0m \u001b[38;5;28;01mdef\u001b[39;00m \u001b[38;5;21m__init__\u001b[39m(\u001b[38;5;28mself\u001b[39m, batch):\n\u001b[1;32m    570\u001b[0m     \u001b[38;5;66;03m# Don't delay the application, to avoid keeping the input\u001b[39;00m\n\u001b[1;32m    571\u001b[0m     \u001b[38;5;66;03m# arguments in memory\u001b[39;00m\n\u001b[0;32m--> 572\u001b[0m     \u001b[38;5;28mself\u001b[39m\u001b[38;5;241m.\u001b[39mresults \u001b[38;5;241m=\u001b[39m \u001b[43mbatch\u001b[49m\u001b[43m(\u001b[49m\u001b[43m)\u001b[49m\n",
      "File \u001b[0;32m~/.pyenv/versions/3.8.12/envs/lewagon/lib/python3.8/site-packages/joblib/parallel.py:262\u001b[0m, in \u001b[0;36mBatchedCalls.__call__\u001b[0;34m(self)\u001b[0m\n\u001b[1;32m    258\u001b[0m \u001b[38;5;28;01mdef\u001b[39;00m \u001b[38;5;21m__call__\u001b[39m(\u001b[38;5;28mself\u001b[39m):\n\u001b[1;32m    259\u001b[0m     \u001b[38;5;66;03m# Set the default nested backend to self._backend but do not set the\u001b[39;00m\n\u001b[1;32m    260\u001b[0m     \u001b[38;5;66;03m# change the default number of processes to -1\u001b[39;00m\n\u001b[1;32m    261\u001b[0m     \u001b[38;5;28;01mwith\u001b[39;00m parallel_backend(\u001b[38;5;28mself\u001b[39m\u001b[38;5;241m.\u001b[39m_backend, n_jobs\u001b[38;5;241m=\u001b[39m\u001b[38;5;28mself\u001b[39m\u001b[38;5;241m.\u001b[39m_n_jobs):\n\u001b[0;32m--> 262\u001b[0m         \u001b[38;5;28;01mreturn\u001b[39;00m [func(\u001b[38;5;241m*\u001b[39margs, \u001b[38;5;241m*\u001b[39m\u001b[38;5;241m*\u001b[39mkwargs)\n\u001b[1;32m    263\u001b[0m                 \u001b[38;5;28;01mfor\u001b[39;00m func, args, kwargs \u001b[38;5;129;01min\u001b[39;00m \u001b[38;5;28mself\u001b[39m\u001b[38;5;241m.\u001b[39mitems]\n",
      "File \u001b[0;32m~/.pyenv/versions/3.8.12/envs/lewagon/lib/python3.8/site-packages/joblib/parallel.py:262\u001b[0m, in \u001b[0;36m<listcomp>\u001b[0;34m(.0)\u001b[0m\n\u001b[1;32m    258\u001b[0m \u001b[38;5;28;01mdef\u001b[39;00m \u001b[38;5;21m__call__\u001b[39m(\u001b[38;5;28mself\u001b[39m):\n\u001b[1;32m    259\u001b[0m     \u001b[38;5;66;03m# Set the default nested backend to self._backend but do not set the\u001b[39;00m\n\u001b[1;32m    260\u001b[0m     \u001b[38;5;66;03m# change the default number of processes to -1\u001b[39;00m\n\u001b[1;32m    261\u001b[0m     \u001b[38;5;28;01mwith\u001b[39;00m parallel_backend(\u001b[38;5;28mself\u001b[39m\u001b[38;5;241m.\u001b[39m_backend, n_jobs\u001b[38;5;241m=\u001b[39m\u001b[38;5;28mself\u001b[39m\u001b[38;5;241m.\u001b[39m_n_jobs):\n\u001b[0;32m--> 262\u001b[0m         \u001b[38;5;28;01mreturn\u001b[39;00m [\u001b[43mfunc\u001b[49m\u001b[43m(\u001b[49m\u001b[38;5;241;43m*\u001b[39;49m\u001b[43margs\u001b[49m\u001b[43m,\u001b[49m\u001b[43m \u001b[49m\u001b[38;5;241;43m*\u001b[39;49m\u001b[38;5;241;43m*\u001b[39;49m\u001b[43mkwargs\u001b[49m\u001b[43m)\u001b[49m\n\u001b[1;32m    263\u001b[0m                 \u001b[38;5;28;01mfor\u001b[39;00m func, args, kwargs \u001b[38;5;129;01min\u001b[39;00m \u001b[38;5;28mself\u001b[39m\u001b[38;5;241m.\u001b[39mitems]\n",
      "File \u001b[0;32m~/.pyenv/versions/3.8.12/envs/lewagon/lib/python3.8/site-packages/sklearn/utils/fixes.py:216\u001b[0m, in \u001b[0;36m_FuncWrapper.__call__\u001b[0;34m(self, *args, **kwargs)\u001b[0m\n\u001b[1;32m    214\u001b[0m \u001b[38;5;28;01mdef\u001b[39;00m \u001b[38;5;21m__call__\u001b[39m(\u001b[38;5;28mself\u001b[39m, \u001b[38;5;241m*\u001b[39margs, \u001b[38;5;241m*\u001b[39m\u001b[38;5;241m*\u001b[39mkwargs):\n\u001b[1;32m    215\u001b[0m     \u001b[38;5;28;01mwith\u001b[39;00m config_context(\u001b[38;5;241m*\u001b[39m\u001b[38;5;241m*\u001b[39m\u001b[38;5;28mself\u001b[39m\u001b[38;5;241m.\u001b[39mconfig):\n\u001b[0;32m--> 216\u001b[0m         \u001b[38;5;28;01mreturn\u001b[39;00m \u001b[38;5;28;43mself\u001b[39;49m\u001b[38;5;241;43m.\u001b[39;49m\u001b[43mfunction\u001b[49m\u001b[43m(\u001b[49m\u001b[38;5;241;43m*\u001b[39;49m\u001b[43margs\u001b[49m\u001b[43m,\u001b[49m\u001b[43m \u001b[49m\u001b[38;5;241;43m*\u001b[39;49m\u001b[38;5;241;43m*\u001b[39;49m\u001b[43mkwargs\u001b[49m\u001b[43m)\u001b[49m\n",
      "File \u001b[0;32m~/.pyenv/versions/3.8.12/envs/lewagon/lib/python3.8/site-packages/sklearn/ensemble/_forest.py:185\u001b[0m, in \u001b[0;36m_parallel_build_trees\u001b[0;34m(tree, forest, X, y, sample_weight, tree_idx, n_trees, verbose, class_weight, n_samples_bootstrap)\u001b[0m\n\u001b[1;32m    182\u001b[0m     \u001b[38;5;28;01melif\u001b[39;00m class_weight \u001b[38;5;241m==\u001b[39m \u001b[38;5;124m\"\u001b[39m\u001b[38;5;124mbalanced_subsample\u001b[39m\u001b[38;5;124m\"\u001b[39m:\n\u001b[1;32m    183\u001b[0m         curr_sample_weight \u001b[38;5;241m*\u001b[39m\u001b[38;5;241m=\u001b[39m compute_sample_weight(\u001b[38;5;124m\"\u001b[39m\u001b[38;5;124mbalanced\u001b[39m\u001b[38;5;124m\"\u001b[39m, y, indices\u001b[38;5;241m=\u001b[39mindices)\n\u001b[0;32m--> 185\u001b[0m     \u001b[43mtree\u001b[49m\u001b[38;5;241;43m.\u001b[39;49m\u001b[43mfit\u001b[49m\u001b[43m(\u001b[49m\u001b[43mX\u001b[49m\u001b[43m,\u001b[49m\u001b[43m \u001b[49m\u001b[43my\u001b[49m\u001b[43m,\u001b[49m\u001b[43m \u001b[49m\u001b[43msample_weight\u001b[49m\u001b[38;5;241;43m=\u001b[39;49m\u001b[43mcurr_sample_weight\u001b[49m\u001b[43m,\u001b[49m\u001b[43m \u001b[49m\u001b[43mcheck_input\u001b[49m\u001b[38;5;241;43m=\u001b[39;49m\u001b[38;5;28;43;01mFalse\u001b[39;49;00m\u001b[43m)\u001b[49m\n\u001b[1;32m    186\u001b[0m \u001b[38;5;28;01melse\u001b[39;00m:\n\u001b[1;32m    187\u001b[0m     tree\u001b[38;5;241m.\u001b[39mfit(X, y, sample_weight\u001b[38;5;241m=\u001b[39msample_weight, check_input\u001b[38;5;241m=\u001b[39m\u001b[38;5;28;01mFalse\u001b[39;00m)\n",
      "File \u001b[0;32m~/.pyenv/versions/3.8.12/envs/lewagon/lib/python3.8/site-packages/sklearn/tree/_classes.py:1315\u001b[0m, in \u001b[0;36mDecisionTreeRegressor.fit\u001b[0;34m(self, X, y, sample_weight, check_input, X_idx_sorted)\u001b[0m\n\u001b[1;32m   1278\u001b[0m \u001b[38;5;28;01mdef\u001b[39;00m \u001b[38;5;21mfit\u001b[39m(\n\u001b[1;32m   1279\u001b[0m     \u001b[38;5;28mself\u001b[39m, X, y, sample_weight\u001b[38;5;241m=\u001b[39m\u001b[38;5;28;01mNone\u001b[39;00m, check_input\u001b[38;5;241m=\u001b[39m\u001b[38;5;28;01mTrue\u001b[39;00m, X_idx_sorted\u001b[38;5;241m=\u001b[39m\u001b[38;5;124m\"\u001b[39m\u001b[38;5;124mdeprecated\u001b[39m\u001b[38;5;124m\"\u001b[39m\n\u001b[1;32m   1280\u001b[0m ):\n\u001b[1;32m   1281\u001b[0m     \u001b[38;5;124;03m\"\"\"Build a decision tree regressor from the training set (X, y).\u001b[39;00m\n\u001b[1;32m   1282\u001b[0m \n\u001b[1;32m   1283\u001b[0m \u001b[38;5;124;03m    Parameters\u001b[39;00m\n\u001b[0;32m   (...)\u001b[0m\n\u001b[1;32m   1312\u001b[0m \u001b[38;5;124;03m        Fitted estimator.\u001b[39;00m\n\u001b[1;32m   1313\u001b[0m \u001b[38;5;124;03m    \"\"\"\u001b[39;00m\n\u001b[0;32m-> 1315\u001b[0m     \u001b[38;5;28;43msuper\u001b[39;49m\u001b[43m(\u001b[49m\u001b[43m)\u001b[49m\u001b[38;5;241;43m.\u001b[39;49m\u001b[43mfit\u001b[49m\u001b[43m(\u001b[49m\n\u001b[1;32m   1316\u001b[0m \u001b[43m        \u001b[49m\u001b[43mX\u001b[49m\u001b[43m,\u001b[49m\n\u001b[1;32m   1317\u001b[0m \u001b[43m        \u001b[49m\u001b[43my\u001b[49m\u001b[43m,\u001b[49m\n\u001b[1;32m   1318\u001b[0m \u001b[43m        \u001b[49m\u001b[43msample_weight\u001b[49m\u001b[38;5;241;43m=\u001b[39;49m\u001b[43msample_weight\u001b[49m\u001b[43m,\u001b[49m\n\u001b[1;32m   1319\u001b[0m \u001b[43m        \u001b[49m\u001b[43mcheck_input\u001b[49m\u001b[38;5;241;43m=\u001b[39;49m\u001b[43mcheck_input\u001b[49m\u001b[43m,\u001b[49m\n\u001b[1;32m   1320\u001b[0m \u001b[43m        \u001b[49m\u001b[43mX_idx_sorted\u001b[49m\u001b[38;5;241;43m=\u001b[39;49m\u001b[43mX_idx_sorted\u001b[49m\u001b[43m,\u001b[49m\n\u001b[1;32m   1321\u001b[0m \u001b[43m    \u001b[49m\u001b[43m)\u001b[49m\n\u001b[1;32m   1322\u001b[0m     \u001b[38;5;28;01mreturn\u001b[39;00m \u001b[38;5;28mself\u001b[39m\n",
      "File \u001b[0;32m~/.pyenv/versions/3.8.12/envs/lewagon/lib/python3.8/site-packages/sklearn/tree/_classes.py:420\u001b[0m, in \u001b[0;36mBaseDecisionTree.fit\u001b[0;34m(self, X, y, sample_weight, check_input, X_idx_sorted)\u001b[0m\n\u001b[1;32m    409\u001b[0m \u001b[38;5;28;01melse\u001b[39;00m:\n\u001b[1;32m    410\u001b[0m     builder \u001b[38;5;241m=\u001b[39m BestFirstTreeBuilder(\n\u001b[1;32m    411\u001b[0m         splitter,\n\u001b[1;32m    412\u001b[0m         min_samples_split,\n\u001b[0;32m   (...)\u001b[0m\n\u001b[1;32m    417\u001b[0m         \u001b[38;5;28mself\u001b[39m\u001b[38;5;241m.\u001b[39mmin_impurity_decrease,\n\u001b[1;32m    418\u001b[0m     )\n\u001b[0;32m--> 420\u001b[0m \u001b[43mbuilder\u001b[49m\u001b[38;5;241;43m.\u001b[39;49m\u001b[43mbuild\u001b[49m\u001b[43m(\u001b[49m\u001b[38;5;28;43mself\u001b[39;49m\u001b[38;5;241;43m.\u001b[39;49m\u001b[43mtree_\u001b[49m\u001b[43m,\u001b[49m\u001b[43m \u001b[49m\u001b[43mX\u001b[49m\u001b[43m,\u001b[49m\u001b[43m \u001b[49m\u001b[43my\u001b[49m\u001b[43m,\u001b[49m\u001b[43m \u001b[49m\u001b[43msample_weight\u001b[49m\u001b[43m)\u001b[49m\n\u001b[1;32m    422\u001b[0m \u001b[38;5;28;01mif\u001b[39;00m \u001b[38;5;28mself\u001b[39m\u001b[38;5;241m.\u001b[39mn_outputs_ \u001b[38;5;241m==\u001b[39m \u001b[38;5;241m1\u001b[39m \u001b[38;5;129;01mand\u001b[39;00m is_classifier(\u001b[38;5;28mself\u001b[39m):\n\u001b[1;32m    423\u001b[0m     \u001b[38;5;28mself\u001b[39m\u001b[38;5;241m.\u001b[39mn_classes_ \u001b[38;5;241m=\u001b[39m \u001b[38;5;28mself\u001b[39m\u001b[38;5;241m.\u001b[39mn_classes_[\u001b[38;5;241m0\u001b[39m]\n",
      "\u001b[0;31mKeyboardInterrupt\u001b[0m: "
     ]
    }
   ],
   "source": [
    "model = RandomForestReg()\n",
    "cv_train(model,train_df)\n",
    "read_result().sort_values(by=\"date\")"
   ]
  },
  {
   "cell_type": "code",
   "execution_count": 1,
   "id": "1050ccf2",
   "metadata": {
    "ExecuteTime": {
     "end_time": "2022-03-10T11:44:34.629111Z",
     "start_time": "2022-03-10T11:44:34.606586Z"
    }
   },
   "outputs": [
    {
     "data": {
      "text/plain": [
       "'yolo'"
      ]
     },
     "execution_count": 1,
     "metadata": {},
     "output_type": "execute_result"
    }
   ],
   "source": [
    "\"yolo\""
   ]
  },
  {
   "cell_type": "code",
   "execution_count": 26,
   "id": "62ef4a70",
   "metadata": {
    "ExecuteTime": {
     "end_time": "2022-03-10T11:18:40.522116Z",
     "start_time": "2022-03-10T11:01:30.760235Z"
    }
   },
   "outputs": [
    {
     "name": "stderr",
     "output_type": "stream",
     "text": [
      "100%|████████████████████████████████████████████████████████████████████████████████████████████████████████████████████████████████████████████████| 35/35 [00:17<00:00,  1.95it/s]\n"
     ]
    },
    {
     "name": "stdout",
     "output_type": "stream",
     "text": [
      "[0.27702074865321724, 0.39866031865659446, 0.33400412784029365, 0.33443788814979536, 0.14175623511513047, -0.2824240613868797, -0.29076824191104333, -0.24699767200798428, -0.12283953354687571, -0.060139076467191965, 0.16689361278589554, -0.20495794683518231, -0.2654374044503006, 0.025969350391875423, 0.29655375213090895, 0.1080712096662022, 0.14216230666052754, 0.12772166178061983, 0.023539343735346607, 0.283302223859873, 0.40087990847917987, 0.2890920102664558, 0.3651169244895911, 0.37344415648179985, 0.38341082597163556, -0.14638556686848347, -0.24133489844179024, -0.38243218377026755, 0.20217003805619904, 0.2192444658295618, 0.3554664065473805, 0.18448470378028614]\n",
      "Training with trader done\n"
     ]
    },
    {
     "name": "stderr",
     "output_type": "stream",
     "text": [
      "100%|████████████████████████████████████████████████████████████████████████████████████████████████████████████████████████████████████████████████| 35/35 [00:22<00:00,  1.56it/s]\n"
     ]
    },
    {
     "name": "stdout",
     "output_type": "stream",
     "text": [
      "[0.27702074865321724, 0.39866031865659446, 0.33400412784029365, 0.33443788814979536, 0.14175623511513047, -0.2824240613868797, -0.29076824191104333, -0.24699767200798428, -0.12283953354687571, -0.060139076467191965, 0.16689361278589554, -0.20495794683518231, -0.2654374044503006, 0.025969350391875423, 0.29655375213090895, 0.1080712096662022, 0.14216230666052754, 0.12772166178061983, 0.023539343735346607, 0.283302223859873, 0.40087990847917987, 0.2890920102664558, 0.3651169244895911, 0.37344415648179985, 0.38341082597163556, -0.14638556686848347, -0.24133489844179024, -0.38243218377026755, 0.20217003805619904, 0.2192444658295618, 0.3554664065473805, 0.18448470378028614]\n",
      "Training with trader done\n"
     ]
    },
    {
     "name": "stderr",
     "output_type": "stream",
     "text": [
      "100%|████████████████████████████████████████████████████████████████████████████████████████████████████████████████████████████████████████████████| 35/35 [00:12<00:00,  2.81it/s]\n"
     ]
    },
    {
     "name": "stdout",
     "output_type": "stream",
     "text": [
      "[0.27702074865321724, 0.39866031865659446, 0.33400412784029365, 0.33443788814979536, 0.14175623511513047, -0.2824240613868797, -0.29076824191104333, -0.24699767200798428, -0.12283953354687571, -0.060139076467191965, 0.16689361278589554, -0.20495794683518231, -0.2654374044503006, 0.025969350391875423, 0.29655375213090895, 0.1080712096662022, 0.14216230666052754, 0.12772166178061983, 0.023539343735346607, 0.283302223859873, 0.40087990847917987, 0.2890920102664558, 0.3651169244895911, 0.37344415648179985, 0.38341082597163556, -0.14638556686848347, -0.24133489844179024, -0.38243218377026755, 0.20217003805619904, 0.2192444658295618, 0.3554664065473805, 0.18448470378028614]\n",
      "Training with trader done\n"
     ]
    },
    {
     "name": "stderr",
     "output_type": "stream",
     "text": [
      "100%|████████████████████████████████████████████████████████████████████████████████████████████████████████████████████████████████████████████████| 35/35 [00:10<00:00,  3.20it/s]\n"
     ]
    },
    {
     "name": "stdout",
     "output_type": "stream",
     "text": [
      "[0.27702074865321724, 0.39866031865659446, 0.33400412784029365, 0.33443788814979536, 0.14175623511513047, -0.2824240613868797, -0.29076824191104333, -0.24699767200798428, -0.12283953354687571, -0.060139076467191965, 0.16689361278589554, -0.20495794683518231, -0.2654374044503006, 0.025969350391875423, 0.29655375213090895, 0.1080712096662022, 0.14216230666052754, 0.12772166178061983, 0.023539343735346607, 0.283302223859873, 0.40087990847917987, 0.2890920102664558, 0.3651169244895911, 0.37344415648179985, 0.38341082597163556, -0.14638556686848347, -0.24133489844179024, -0.38243218377026755, 0.20217003805619904, 0.2192444658295618, 0.3554664065473805, 0.18448470378028614]\n",
      "Training with trader done\n"
     ]
    },
    {
     "name": "stderr",
     "output_type": "stream",
     "text": [
      "100%|████████████████████████████████████████████████████████████████████████████████████████████████████████████████████████████████████████████████| 35/35 [00:17<00:00,  1.96it/s]\n"
     ]
    },
    {
     "name": "stdout",
     "output_type": "stream",
     "text": [
      "[0.27702074865321724, 0.39866031865659446, 0.33400412784029365, 0.33443788814979536, 0.14175623511513047, -0.2824240613868797, -0.29076824191104333, -0.24699767200798428, -0.12283953354687571, -0.060139076467191965, 0.16689361278589554, -0.20495794683518231, -0.2654374044503006, 0.025969350391875423, 0.29655375213090895, 0.1080712096662022, 0.14216230666052754, 0.12772166178061983, 0.023539343735346607, 0.283302223859873, 0.40087990847917987, 0.2890920102664558, 0.3651169244895911, 0.37344415648179985, 0.38341082597163556, -0.14638556686848347, -0.24133489844179024, -0.38243218377026755, 0.20217003805619904, 0.2192444658295618, 0.3554664065473805, 0.18448470378028614]\n",
      "Training with trader done\n"
     ]
    },
    {
     "name": "stderr",
     "output_type": "stream",
     "text": [
      "100%|████████████████████████████████████████████████████████████████████████████████████████████████████████████████████████████████████████████████| 35/35 [00:13<00:00,  2.54it/s]\n"
     ]
    },
    {
     "name": "stdout",
     "output_type": "stream",
     "text": [
      "[0.27702074865321724, 0.39866031865659446, 0.33400412784029365, 0.33443788814979536, 0.14175623511513047, -0.2824240613868797, -0.29076824191104333, -0.24699767200798428, -0.12283953354687571, -0.060139076467191965, 0.16689361278589554, -0.20495794683518231, -0.2654374044503006, 0.025969350391875423, 0.29655375213090895, 0.1080712096662022, 0.14216230666052754, 0.12772166178061983, 0.023539343735346607, 0.283302223859873, 0.40087990847917987, 0.2890920102664558, 0.3651169244895911, 0.37344415648179985, 0.38341082597163556, -0.14638556686848347, -0.24133489844179024, -0.38243218377026755, 0.20217003805619904, 0.2192444658295618, 0.3554664065473805, 0.18448470378028614]\n",
      "Training with trader done\n"
     ]
    },
    {
     "name": "stderr",
     "output_type": "stream",
     "text": [
      "100%|████████████████████████████████████████████████████████████████████████████████████████████████████████████████████████████████████████████████| 35/35 [00:12<00:00,  2.86it/s]\n"
     ]
    },
    {
     "name": "stdout",
     "output_type": "stream",
     "text": [
      "[0.27702074865321724, 0.39866031865659446, 0.33400412784029365, 0.33443788814979536, 0.14175623511513047, -0.2824240613868797, -0.29076824191104333, -0.24699767200798428, -0.12283953354687571, -0.060139076467191965, 0.16689361278589554, -0.20495794683518231, -0.2654374044503006, 0.025969350391875423, 0.29655375213090895, 0.1080712096662022, 0.14216230666052754, 0.12772166178061983, 0.023539343735346607, 0.283302223859873, 0.40087990847917987, 0.2890920102664558, 0.3651169244895911, 0.37344415648179985, 0.38341082597163556, -0.14638556686848347, -0.24133489844179024, -0.38243218377026755, 0.20217003805619904, 0.2192444658295618, 0.3554664065473805, 0.18448470378028614]\n",
      "Training with trader done\n"
     ]
    },
    {
     "name": "stderr",
     "output_type": "stream",
     "text": [
      "100%|████████████████████████████████████████████████████████████████████████████████████████████████████████████████████████████████████████████████| 35/35 [00:10<00:00,  3.28it/s]\n"
     ]
    },
    {
     "name": "stdout",
     "output_type": "stream",
     "text": [
      "[0.27702074865321724, 0.39866031865659446, 0.33400412784029365, 0.33443788814979536, 0.14175623511513047, -0.2824240613868797, -0.29076824191104333, -0.24699767200798428, -0.12283953354687571, -0.060139076467191965, 0.16689361278589554, -0.20495794683518231, -0.2654374044503006, 0.025969350391875423, 0.29655375213090895, 0.1080712096662022, 0.14216230666052754, 0.12772166178061983, 0.023539343735346607, 0.283302223859873, 0.40087990847917987, 0.2890920102664558, 0.3651169244895911, 0.37344415648179985, 0.38341082597163556, -0.14638556686848347, -0.24133489844179024, -0.38243218377026755, 0.20217003805619904, 0.2192444658295618, 0.3554664065473805, 0.18448470378028614]\n",
      "Training with trader done\n"
     ]
    },
    {
     "name": "stderr",
     "output_type": "stream",
     "text": [
      "100%|████████████████████████████████████████████████████████████████████████████████████████████████████████████████████████████████████████████████| 35/35 [00:20<00:00,  1.71it/s]\n"
     ]
    },
    {
     "name": "stdout",
     "output_type": "stream",
     "text": [
      "[0.27702074865321724, 0.39866031865659446, 0.33400412784029365, 0.33443788814979536, 0.14175623511513047, -0.2824240613868797, -0.29076824191104333, -0.24699767200798428, -0.12283953354687571, -0.060139076467191965, 0.16689361278589554, -0.20495794683518231, -0.2654374044503006, 0.025969350391875423, 0.29655375213090895, 0.1080712096662022, 0.14216230666052754, 0.12772166178061983, 0.023539343735346607, 0.283302223859873, 0.40087990847917987, 0.2890920102664558, 0.3651169244895911, 0.37344415648179985, 0.38341082597163556, -0.14638556686848347, -0.24133489844179024, -0.38243218377026755, 0.20217003805619904, 0.2192444658295618, 0.3554664065473805, 0.18448470378028614]\n",
      "Training with trader done\n"
     ]
    },
    {
     "name": "stderr",
     "output_type": "stream",
     "text": [
      "100%|████████████████████████████████████████████████████████████████████████████████████████████████████████████████████████████████████████████████| 35/35 [00:13<00:00,  2.56it/s]\n"
     ]
    },
    {
     "name": "stdout",
     "output_type": "stream",
     "text": [
      "[0.27702074865321724, 0.39866031865659446, 0.33400412784029365, 0.33443788814979536, 0.14175623511513047, -0.2824240613868797, -0.29076824191104333, -0.24699767200798428, -0.12283953354687571, -0.060139076467191965, 0.16689361278589554, -0.20495794683518231, -0.2654374044503006, 0.025969350391875423, 0.29655375213090895, 0.1080712096662022, 0.14216230666052754, 0.12772166178061983, 0.023539343735346607, 0.283302223859873, 0.40087990847917987, 0.2890920102664558, 0.3651169244895911, 0.37344415648179985, 0.38341082597163556, -0.14638556686848347, -0.24133489844179024, -0.38243218377026755, 0.20217003805619904, 0.2192444658295618, 0.3554664065473805, 0.18448470378028614]\n",
      "Training with trader done\n"
     ]
    },
    {
     "name": "stderr",
     "output_type": "stream",
     "text": [
      "100%|████████████████████████████████████████████████████████████████████████████████████████████████████████████████████████████████████████████████| 35/35 [00:12<00:00,  2.87it/s]\n"
     ]
    },
    {
     "name": "stdout",
     "output_type": "stream",
     "text": [
      "[0.27702074865321724, 0.39866031865659446, 0.33400412784029365, 0.33443788814979536, 0.14175623511513047, -0.2824240613868797, -0.29076824191104333, -0.24699767200798428, -0.12283953354687571, -0.060139076467191965, 0.16689361278589554, -0.20495794683518231, -0.2654374044503006, 0.025969350391875423, 0.29655375213090895, 0.1080712096662022, 0.14216230666052754, 0.12772166178061983, 0.023539343735346607, 0.283302223859873, 0.40087990847917987, 0.2890920102664558, 0.3651169244895911, 0.37344415648179985, 0.38341082597163556, -0.14638556686848347, -0.24133489844179024, -0.38243218377026755, 0.20217003805619904, 0.2192444658295618, 0.3554664065473805, 0.18448470378028614]\n",
      "Training with trader done\n"
     ]
    },
    {
     "name": "stderr",
     "output_type": "stream",
     "text": [
      "100%|████████████████████████████████████████████████████████████████████████████████████████████████████████████████████████████████████████████████| 35/35 [00:10<00:00,  3.26it/s]\n"
     ]
    },
    {
     "name": "stdout",
     "output_type": "stream",
     "text": [
      "[0.27702074865321724, 0.39866031865659446, 0.33400412784029365, 0.33443788814979536, 0.14175623511513047, -0.2824240613868797, -0.29076824191104333, -0.24699767200798428, -0.12283953354687571, -0.060139076467191965, 0.16689361278589554, -0.20495794683518231, -0.2654374044503006, 0.025969350391875423, 0.29655375213090895, 0.1080712096662022, 0.14216230666052754, 0.12772166178061983, 0.023539343735346607, 0.283302223859873, 0.40087990847917987, 0.2890920102664558, 0.3651169244895911, 0.37344415648179985, 0.38341082597163556, -0.14638556686848347, -0.24133489844179024, -0.38243218377026755, 0.20217003805619904, 0.2192444658295618, 0.3554664065473805, 0.18448470378028614]\n",
      "Training with trader done\n"
     ]
    },
    {
     "name": "stderr",
     "output_type": "stream",
     "text": [
      "100%|████████████████████████████████████████████████████████████████████████████████████████████████████████████████████████████████████████████████| 35/35 [00:17<00:00,  1.97it/s]\n"
     ]
    },
    {
     "name": "stdout",
     "output_type": "stream",
     "text": [
      "[0.27702074865321724, 0.39866031865659446, 0.33400412784029365, 0.33443788814979536, 0.14175623511513047, -0.2824240613868797, -0.29076824191104333, -0.24699767200798428, -0.12283953354687571, -0.060139076467191965, 0.16689361278589554, -0.20495794683518231, -0.2654374044503006, 0.025969350391875423, 0.29655375213090895, 0.1080712096662022, 0.14216230666052754, 0.12772166178061983, 0.023539343735346607, 0.283302223859873, 0.40087990847917987, 0.2890920102664558, 0.3651169244895911, 0.37344415648179985, 0.38341082597163556, -0.14638556686848347, -0.24133489844179024, -0.38243218377026755, 0.20217003805619904, 0.2192444658295618, 0.3554664065473805, 0.18448470378028614]\n",
      "Training with trader done\n"
     ]
    },
    {
     "name": "stderr",
     "output_type": "stream",
     "text": [
      "100%|████████████████████████████████████████████████████████████████████████████████████████████████████████████████████████████████████████████████| 35/35 [00:13<00:00,  2.57it/s]\n"
     ]
    },
    {
     "name": "stdout",
     "output_type": "stream",
     "text": [
      "[0.27702074865321724, 0.39866031865659446, 0.33400412784029365, 0.33443788814979536, 0.14175623511513047, -0.2824240613868797, -0.29076824191104333, -0.24699767200798428, -0.12283953354687571, -0.060139076467191965, 0.16689361278589554, -0.20495794683518231, -0.2654374044503006, 0.025969350391875423, 0.29655375213090895, 0.1080712096662022, 0.14216230666052754, 0.12772166178061983, 0.023539343735346607, 0.283302223859873, 0.40087990847917987, 0.2890920102664558, 0.3651169244895911, 0.37344415648179985, 0.38341082597163556, -0.14638556686848347, -0.24133489844179024, -0.38243218377026755, 0.20217003805619904, 0.2192444658295618, 0.3554664065473805, 0.18448470378028614]\n",
      "Training with trader done\n"
     ]
    },
    {
     "name": "stderr",
     "output_type": "stream",
     "text": [
      "100%|████████████████████████████████████████████████████████████████████████████████████████████████████████████████████████████████████████████████| 35/35 [00:17<00:00,  2.03it/s]\n"
     ]
    },
    {
     "name": "stdout",
     "output_type": "stream",
     "text": [
      "[0.27702074865321724, 0.39866031865659446, 0.33400412784029365, 0.33443788814979536, 0.14175623511513047, -0.2824240613868797, -0.29076824191104333, -0.24699767200798428, -0.12283953354687571, -0.060139076467191965, 0.16689361278589554, -0.20495794683518231, -0.2654374044503006, 0.025969350391875423, 0.29655375213090895, 0.1080712096662022, 0.14216230666052754, 0.12772166178061983, 0.023539343735346607, 0.283302223859873, 0.40087990847917987, 0.2890920102664558, 0.3651169244895911, 0.37344415648179985, 0.38341082597163556, -0.14638556686848347, -0.24133489844179024, -0.38243218377026755, 0.20217003805619904, 0.2192444658295618, 0.3554664065473805, 0.18448470378028614]\n",
      "Training with trader done\n"
     ]
    },
    {
     "name": "stderr",
     "output_type": "stream",
     "text": [
      "100%|████████████████████████████████████████████████████████████████████████████████████████████████████████████████████████████████████████████████| 35/35 [00:10<00:00,  3.23it/s]\n"
     ]
    },
    {
     "name": "stdout",
     "output_type": "stream",
     "text": [
      "[0.27702074865321724, 0.39866031865659446, 0.33400412784029365, 0.33443788814979536, 0.14175623511513047, -0.2824240613868797, -0.29076824191104333, -0.24699767200798428, -0.12283953354687571, -0.060139076467191965, 0.16689361278589554, -0.20495794683518231, -0.2654374044503006, 0.025969350391875423, 0.29655375213090895, 0.1080712096662022, 0.14216230666052754, 0.12772166178061983, 0.023539343735346607, 0.283302223859873, 0.40087990847917987, 0.2890920102664558, 0.3651169244895911, 0.37344415648179985, 0.38341082597163556, -0.14638556686848347, -0.24133489844179024, -0.38243218377026755, 0.20217003805619904, 0.2192444658295618, 0.3554664065473805, 0.18448470378028614]\n",
      "Training with trader done\n"
     ]
    },
    {
     "name": "stderr",
     "output_type": "stream",
     "text": [
      "100%|████████████████████████████████████████████████████████████████████████████████████████████████████████████████████████████████████████████████| 35/35 [00:17<00:00,  1.97it/s]\n"
     ]
    },
    {
     "name": "stdout",
     "output_type": "stream",
     "text": [
      "[0.27702074865321724, 0.39866031865659446, 0.33400412784029365, 0.33443788814979536, 0.14175623511513047, -0.2824240613868797, -0.29076824191104333, -0.24699767200798428, -0.12283953354687571, -0.060139076467191965, 0.16689361278589554, -0.20495794683518231, -0.2654374044503006, 0.025969350391875423, 0.29655375213090895, 0.1080712096662022, 0.14216230666052754, 0.12772166178061983, 0.023539343735346607, 0.283302223859873, 0.40087990847917987, 0.2890920102664558, 0.3651169244895911, 0.37344415648179985, 0.38341082597163556, -0.14638556686848347, -0.24133489844179024, -0.38243218377026755, 0.20217003805619904, 0.2192444658295618, 0.3554664065473805, 0.18448470378028614]\n",
      "Training with trader done\n"
     ]
    },
    {
     "name": "stderr",
     "output_type": "stream",
     "text": [
      "100%|████████████████████████████████████████████████████████████████████████████████████████████████████████████████████████████████████████████████| 35/35 [00:13<00:00,  2.59it/s]\n"
     ]
    },
    {
     "name": "stdout",
     "output_type": "stream",
     "text": [
      "[0.27702074865321724, 0.39866031865659446, 0.33400412784029365, 0.33443788814979536, 0.14175623511513047, -0.2824240613868797, -0.29076824191104333, -0.24699767200798428, -0.12283953354687571, -0.060139076467191965, 0.16689361278589554, -0.20495794683518231, -0.2654374044503006, 0.025969350391875423, 0.29655375213090895, 0.1080712096662022, 0.14216230666052754, 0.12772166178061983, 0.023539343735346607, 0.283302223859873, 0.40087990847917987, 0.2890920102664558, 0.3651169244895911, 0.37344415648179985, 0.38341082597163556, -0.14638556686848347, -0.24133489844179024, -0.38243218377026755, 0.20217003805619904, 0.2192444658295618, 0.3554664065473805, 0.18448470378028614]\n",
      "Training with trader done\n"
     ]
    },
    {
     "name": "stderr",
     "output_type": "stream",
     "text": [
      "100%|████████████████████████████████████████████████████████████████████████████████████████████████████████████████████████████████████████████████| 35/35 [00:12<00:00,  2.79it/s]\n"
     ]
    },
    {
     "name": "stdout",
     "output_type": "stream",
     "text": [
      "[0.27702074865321724, 0.39866031865659446, 0.33400412784029365, 0.33443788814979536, 0.14175623511513047, -0.2824240613868797, -0.29076824191104333, -0.24699767200798428, -0.12283953354687571, -0.060139076467191965, 0.16689361278589554, -0.20495794683518231, -0.2654374044503006, 0.025969350391875423, 0.29655375213090895, 0.1080712096662022, 0.14216230666052754, 0.12772166178061983, 0.023539343735346607, 0.283302223859873, 0.40087990847917987, 0.2890920102664558, 0.3651169244895911, 0.37344415648179985, 0.38341082597163556, -0.14638556686848347, -0.24133489844179024, -0.38243218377026755, 0.20217003805619904, 0.2192444658295618, 0.3554664065473805, 0.18448470378028614]\n",
      "Training with trader done\n"
     ]
    },
    {
     "name": "stderr",
     "output_type": "stream",
     "text": [
      "100%|████████████████████████████████████████████████████████████████████████████████████████████████████████████████████████████████████████████████| 35/35 [00:10<00:00,  3.20it/s]\n"
     ]
    },
    {
     "name": "stdout",
     "output_type": "stream",
     "text": [
      "[0.27702074865321724, 0.39866031865659446, 0.33400412784029365, 0.33443788814979536, 0.14175623511513047, -0.2824240613868797, -0.29076824191104333, -0.24699767200798428, -0.12283953354687571, -0.060139076467191965, 0.16689361278589554, -0.20495794683518231, -0.2654374044503006, 0.025969350391875423, 0.29655375213090895, 0.1080712096662022, 0.14216230666052754, 0.12772166178061983, 0.023539343735346607, 0.283302223859873, 0.40087990847917987, 0.2890920102664558, 0.3651169244895911, 0.37344415648179985, 0.38341082597163556, -0.14638556686848347, -0.24133489844179024, -0.38243218377026755, 0.20217003805619904, 0.2192444658295618, 0.3554664065473805, 0.18448470378028614]\n",
      "Training with trader done\n"
     ]
    },
    {
     "name": "stderr",
     "output_type": "stream",
     "text": [
      "100%|████████████████████████████████████████████████████████████████████████████████████████████████████████████████████████████████████████████████| 35/35 [00:22<00:00,  1.57it/s]\n"
     ]
    },
    {
     "name": "stdout",
     "output_type": "stream",
     "text": [
      "[0.27702074865321724, 0.39866031865659446, 0.33400412784029365, 0.33443788814979536, 0.14175623511513047, -0.2824240613868797, -0.29076824191104333, -0.24699767200798428, -0.12283953354687571, -0.060139076467191965, 0.16689361278589554, -0.20495794683518231, -0.2654374044503006, 0.025969350391875423, 0.29655375213090895, 0.1080712096662022, 0.14216230666052754, 0.12772166178061983, 0.023539343735346607, 0.283302223859873, 0.40087990847917987, 0.2890920102664558, 0.3651169244895911, 0.37344415648179985, 0.38341082597163556, -0.14638556686848347, -0.24133489844179024, -0.38243218377026755, 0.20217003805619904, 0.2192444658295618, 0.3554664065473805, 0.18448470378028614]\n",
      "Training with trader done\n"
     ]
    },
    {
     "name": "stderr",
     "output_type": "stream",
     "text": [
      "100%|████████████████████████████████████████████████████████████████████████████████████████████████████████████████████████████████████████████████| 35/35 [00:15<00:00,  2.19it/s]\n"
     ]
    },
    {
     "name": "stdout",
     "output_type": "stream",
     "text": [
      "[0.27702074865321724, 0.39866031865659446, 0.33400412784029365, 0.33443788814979536, 0.14175623511513047, -0.2824240613868797, -0.29076824191104333, -0.24699767200798428, -0.12283953354687571, -0.060139076467191965, 0.16689361278589554, -0.20495794683518231, -0.2654374044503006, 0.025969350391875423, 0.29655375213090895, 0.1080712096662022, 0.14216230666052754, 0.12772166178061983, 0.023539343735346607, 0.283302223859873, 0.40087990847917987, 0.2890920102664558, 0.3651169244895911, 0.37344415648179985, 0.38341082597163556, -0.14638556686848347, -0.24133489844179024, -0.38243218377026755, 0.20217003805619904, 0.2192444658295618, 0.3554664065473805, 0.18448470378028614]\n",
      "Training with trader done\n"
     ]
    },
    {
     "name": "stderr",
     "output_type": "stream",
     "text": [
      "100%|████████████████████████████████████████████████████████████████████████████████████████████████████████████████████████████████████████████████| 35/35 [00:27<00:00,  1.28it/s]\n"
     ]
    },
    {
     "name": "stdout",
     "output_type": "stream",
     "text": [
      "[0.27702074865321724, 0.39866031865659446, 0.33400412784029365, 0.33443788814979536, 0.14175623511513047, -0.2824240613868797, -0.29076824191104333, -0.24699767200798428, -0.12283953354687571, -0.060139076467191965, 0.16689361278589554, -0.20495794683518231, -0.2654374044503006, 0.025969350391875423, 0.29655375213090895, 0.1080712096662022, 0.14216230666052754, 0.12772166178061983, 0.023539343735346607, 0.283302223859873, 0.40087990847917987, 0.2890920102664558, 0.3651169244895911, 0.37344415648179985, 0.38341082597163556, -0.14638556686848347, -0.24133489844179024, -0.38243218377026755, 0.20217003805619904, 0.2192444658295618, 0.3554664065473805, 0.18448470378028614]\n",
      "Training with trader done\n"
     ]
    },
    {
     "name": "stderr",
     "output_type": "stream",
     "text": [
      "100%|████████████████████████████████████████████████████████████████████████████████████████████████████████████████████████████████████████████████| 35/35 [00:10<00:00,  3.26it/s]\n"
     ]
    },
    {
     "name": "stdout",
     "output_type": "stream",
     "text": [
      "[0.27702074865321724, 0.39866031865659446, 0.33400412784029365, 0.33443788814979536, 0.14175623511513047, -0.2824240613868797, -0.29076824191104333, -0.24699767200798428, -0.12283953354687571, -0.060139076467191965, 0.16689361278589554, -0.20495794683518231, -0.2654374044503006, 0.025969350391875423, 0.29655375213090895, 0.1080712096662022, 0.14216230666052754, 0.12772166178061983, 0.023539343735346607, 0.283302223859873, 0.40087990847917987, 0.2890920102664558, 0.3651169244895911, 0.37344415648179985, 0.38341082597163556, -0.14638556686848347, -0.24133489844179024, -0.38243218377026755, 0.20217003805619904, 0.2192444658295618, 0.3554664065473805, 0.18448470378028614]\n",
      "Training with trader done\n"
     ]
    },
    {
     "name": "stderr",
     "output_type": "stream",
     "text": [
      "100%|████████████████████████████████████████████████████████████████████████████████████████████████████████████████████████████████████████████████| 35/35 [00:17<00:00,  1.98it/s]\n"
     ]
    },
    {
     "name": "stdout",
     "output_type": "stream",
     "text": [
      "[0.27702074865321724, 0.39866031865659446, 0.33400412784029365, 0.33443788814979536, 0.14175623511513047, -0.2824240613868797, -0.29076824191104333, -0.24699767200798428, -0.12283953354687571, -0.060139076467191965, 0.16689361278589554, -0.20495794683518231, -0.2654374044503006, 0.025969350391875423, 0.29655375213090895, 0.1080712096662022, 0.14216230666052754, 0.12772166178061983, 0.023539343735346607, 0.283302223859873, 0.40087990847917987, 0.2890920102664558, 0.3651169244895911, 0.37344415648179985, 0.38341082597163556, -0.14638556686848347, -0.24133489844179024, -0.38243218377026755, 0.20217003805619904, 0.2192444658295618, 0.3554664065473805, 0.18448470378028614]\n",
      "Training with trader done\n"
     ]
    },
    {
     "name": "stderr",
     "output_type": "stream",
     "text": [
      "100%|████████████████████████████████████████████████████████████████████████████████████████████████████████████████████████████████████████████████| 35/35 [00:15<00:00,  2.30it/s]\n"
     ]
    },
    {
     "name": "stdout",
     "output_type": "stream",
     "text": [
      "[0.27702074865321724, 0.39866031865659446, 0.33400412784029365, 0.33443788814979536, 0.14175623511513047, -0.2824240613868797, -0.29076824191104333, -0.24699767200798428, -0.12283953354687571, -0.060139076467191965, 0.16689361278589554, -0.20495794683518231, -0.2654374044503006, 0.025969350391875423, 0.29655375213090895, 0.1080712096662022, 0.14216230666052754, 0.12772166178061983, 0.023539343735346607, 0.283302223859873, 0.40087990847917987, 0.2890920102664558, 0.3651169244895911, 0.37344415648179985, 0.38341082597163556, -0.14638556686848347, -0.24133489844179024, -0.38243218377026755, 0.20217003805619904, 0.2192444658295618, 0.3554664065473805, 0.18448470378028614]\n",
      "Training with trader done\n"
     ]
    },
    {
     "name": "stderr",
     "output_type": "stream",
     "text": [
      "100%|████████████████████████████████████████████████████████████████████████████████████████████████████████████████████████████████████████████████| 35/35 [00:12<00:00,  2.76it/s]\n"
     ]
    },
    {
     "name": "stdout",
     "output_type": "stream",
     "text": [
      "[0.27702074865321724, 0.39866031865659446, 0.33400412784029365, 0.33443788814979536, 0.14175623511513047, -0.2824240613868797, -0.29076824191104333, -0.24699767200798428, -0.12283953354687571, -0.060139076467191965, 0.16689361278589554, -0.20495794683518231, -0.2654374044503006, 0.025969350391875423, 0.29655375213090895, 0.1080712096662022, 0.14216230666052754, 0.12772166178061983, 0.023539343735346607, 0.283302223859873, 0.40087990847917987, 0.2890920102664558, 0.3651169244895911, 0.37344415648179985, 0.38341082597163556, -0.14638556686848347, -0.24133489844179024, -0.38243218377026755, 0.20217003805619904, 0.2192444658295618, 0.3554664065473805, 0.18448470378028614]\n",
      "Training with trader done\n"
     ]
    },
    {
     "name": "stderr",
     "output_type": "stream",
     "text": [
      "100%|████████████████████████████████████████████████████████████████████████████████████████████████████████████████████████████████████████████████| 35/35 [00:10<00:00,  3.27it/s]\n"
     ]
    },
    {
     "name": "stdout",
     "output_type": "stream",
     "text": [
      "[0.27702074865321724, 0.39866031865659446, 0.33400412784029365, 0.33443788814979536, 0.14175623511513047, -0.2824240613868797, -0.29076824191104333, -0.24699767200798428, -0.12283953354687571, -0.060139076467191965, 0.16689361278589554, -0.20495794683518231, -0.2654374044503006, 0.025969350391875423, 0.29655375213090895, 0.1080712096662022, 0.14216230666052754, 0.12772166178061983, 0.023539343735346607, 0.283302223859873, 0.40087990847917987, 0.2890920102664558, 0.3651169244895911, 0.37344415648179985, 0.38341082597163556, -0.14638556686848347, -0.24133489844179024, -0.38243218377026755, 0.20217003805619904, 0.2192444658295618, 0.3554664065473805, 0.18448470378028614]\n",
      "Training with trader done\n"
     ]
    },
    {
     "name": "stderr",
     "output_type": "stream",
     "text": [
      "100%|████████████████████████████████████████████████████████████████████████████████████████████████████████████████████████████████████████████████| 35/35 [00:17<00:00,  1.97it/s]\n"
     ]
    },
    {
     "name": "stdout",
     "output_type": "stream",
     "text": [
      "[0.27702074865321724, 0.39866031865659446, 0.33400412784029365, 0.33443788814979536, 0.14175623511513047, -0.2824240613868797, -0.29076824191104333, -0.24699767200798428, -0.12283953354687571, -0.060139076467191965, 0.16689361278589554, -0.20495794683518231, -0.2654374044503006, 0.025969350391875423, 0.29655375213090895, 0.1080712096662022, 0.14216230666052754, 0.12772166178061983, 0.023539343735346607, 0.283302223859873, 0.40087990847917987, 0.2890920102664558, 0.3651169244895911, 0.37344415648179985, 0.38341082597163556, -0.14638556686848347, -0.24133489844179024, -0.38243218377026755, 0.20217003805619904, 0.2192444658295618, 0.3554664065473805, 0.18448470378028614]\n",
      "Training with trader done\n"
     ]
    },
    {
     "name": "stderr",
     "output_type": "stream",
     "text": [
      "100%|████████████████████████████████████████████████████████████████████████████████████████████████████████████████████████████████████████████████| 35/35 [00:13<00:00,  2.58it/s]\n"
     ]
    },
    {
     "name": "stdout",
     "output_type": "stream",
     "text": [
      "[0.27702074865321724, 0.39866031865659446, 0.33400412784029365, 0.33443788814979536, 0.14175623511513047, -0.2824240613868797, -0.29076824191104333, -0.24699767200798428, -0.12283953354687571, -0.060139076467191965, 0.16689361278589554, -0.20495794683518231, -0.2654374044503006, 0.025969350391875423, 0.29655375213090895, 0.1080712096662022, 0.14216230666052754, 0.12772166178061983, 0.023539343735346607, 0.283302223859873, 0.40087990847917987, 0.2890920102664558, 0.3651169244895911, 0.37344415648179985, 0.38341082597163556, -0.14638556686848347, -0.24133489844179024, -0.38243218377026755, 0.20217003805619904, 0.2192444658295618, 0.3554664065473805, 0.18448470378028614]\n",
      "Training with trader done\n"
     ]
    },
    {
     "name": "stderr",
     "output_type": "stream",
     "text": [
      "100%|████████████████████████████████████████████████████████████████████████████████████████████████████████████████████████████████████████████████| 35/35 [00:12<00:00,  2.89it/s]\n"
     ]
    },
    {
     "name": "stdout",
     "output_type": "stream",
     "text": [
      "[0.27702074865321724, 0.39866031865659446, 0.33400412784029365, 0.33443788814979536, 0.14175623511513047, -0.2824240613868797, -0.29076824191104333, -0.24699767200798428, -0.12283953354687571, -0.060139076467191965, 0.16689361278589554, -0.20495794683518231, -0.2654374044503006, 0.025969350391875423, 0.29655375213090895, 0.1080712096662022, 0.14216230666052754, 0.12772166178061983, 0.023539343735346607, 0.283302223859873, 0.40087990847917987, 0.2890920102664558, 0.3651169244895911, 0.37344415648179985, 0.38341082597163556, -0.14638556686848347, -0.24133489844179024, -0.38243218377026755, 0.20217003805619904, 0.2192444658295618, 0.3554664065473805, 0.18448470378028614]\n",
      "Training with trader done\n"
     ]
    },
    {
     "name": "stderr",
     "output_type": "stream",
     "text": [
      "100%|████████████████████████████████████████████████████████████████████████████████████████████████████████████████████████████████████████████████| 35/35 [00:10<00:00,  3.30it/s]\n"
     ]
    },
    {
     "name": "stdout",
     "output_type": "stream",
     "text": [
      "[0.27702074865321724, 0.39866031865659446, 0.33400412784029365, 0.33443788814979536, 0.14175623511513047, -0.2824240613868797, -0.29076824191104333, -0.24699767200798428, -0.12283953354687571, -0.060139076467191965, 0.16689361278589554, -0.20495794683518231, -0.2654374044503006, 0.025969350391875423, 0.29655375213090895, 0.1080712096662022, 0.14216230666052754, 0.12772166178061983, 0.023539343735346607, 0.283302223859873, 0.40087990847917987, 0.2890920102664558, 0.3651169244895911, 0.37344415648179985, 0.38341082597163556, -0.14638556686848347, -0.24133489844179024, -0.38243218377026755, 0.20217003805619904, 0.2192444658295618, 0.3554664065473805, 0.18448470378028614]\n",
      "Training with trader done\n"
     ]
    },
    {
     "name": "stderr",
     "output_type": "stream",
     "text": [
      "100%|████████████████████████████████████████████████████████████████████████████████████████████████████████████████████████████████████████████████| 35/35 [00:23<00:00,  1.51it/s]\n"
     ]
    },
    {
     "name": "stdout",
     "output_type": "stream",
     "text": [
      "[0.27702074865321724, 0.39866031865659446, 0.33400412784029365, 0.33443788814979536, 0.14175623511513047, -0.2824240613868797, -0.29076824191104333, -0.24699767200798428, -0.12283953354687571, -0.060139076467191965, 0.16689361278589554, -0.20495794683518231, -0.2654374044503006, 0.025969350391875423, 0.29655375213090895, 0.1080712096662022, 0.14216230666052754, 0.12772166178061983, 0.023539343735346607, 0.283302223859873, 0.40087990847917987, 0.2890920102664558, 0.3651169244895911, 0.37344415648179985, 0.38341082597163556, -0.14638556686848347, -0.24133489844179024, -0.38243218377026755, 0.20217003805619904, 0.2192444658295618, 0.3554664065473805, 0.18448470378028614]\n",
      "Training with trader done\n"
     ]
    },
    {
     "name": "stderr",
     "output_type": "stream",
     "text": [
      "100%|████████████████████████████████████████████████████████████████████████████████████████████████████████████████████████████████████████████████| 35/35 [00:13<00:00,  2.59it/s]\n"
     ]
    },
    {
     "name": "stdout",
     "output_type": "stream",
     "text": [
      "[0.27702074865321724, 0.39866031865659446, 0.33400412784029365, 0.33443788814979536, 0.14175623511513047, -0.2824240613868797, -0.29076824191104333, -0.24699767200798428, -0.12283953354687571, -0.060139076467191965, 0.16689361278589554, -0.20495794683518231, -0.2654374044503006, 0.025969350391875423, 0.29655375213090895, 0.1080712096662022, 0.14216230666052754, 0.12772166178061983, 0.023539343735346607, 0.283302223859873, 0.40087990847917987, 0.2890920102664558, 0.3651169244895911, 0.37344415648179985, 0.38341082597163556, -0.14638556686848347, -0.24133489844179024, -0.38243218377026755, 0.20217003805619904, 0.2192444658295618, 0.3554664065473805, 0.18448470378028614]\n",
      "Training with trader done\n"
     ]
    },
    {
     "name": "stderr",
     "output_type": "stream",
     "text": [
      "100%|████████████████████████████████████████████████████████████████████████████████████████████████████████████████████████████████████████████████| 35/35 [00:11<00:00,  2.92it/s]\n"
     ]
    },
    {
     "name": "stdout",
     "output_type": "stream",
     "text": [
      "[0.27702074865321724, 0.39866031865659446, 0.33400412784029365, 0.33443788814979536, 0.14175623511513047, -0.2824240613868797, -0.29076824191104333, -0.24699767200798428, -0.12283953354687571, -0.060139076467191965, 0.16689361278589554, -0.20495794683518231, -0.2654374044503006, 0.025969350391875423, 0.29655375213090895, 0.1080712096662022, 0.14216230666052754, 0.12772166178061983, 0.023539343735346607, 0.283302223859873, 0.40087990847917987, 0.2890920102664558, 0.3651169244895911, 0.37344415648179985, 0.38341082597163556, -0.14638556686848347, -0.24133489844179024, -0.38243218377026755, 0.20217003805619904, 0.2192444658295618, 0.3554664065473805, 0.18448470378028614]\n",
      "Training with trader done\n"
     ]
    },
    {
     "name": "stderr",
     "output_type": "stream",
     "text": [
      "100%|████████████████████████████████████████████████████████████████████████████████████████████████████████████████████████████████████████████████| 35/35 [00:10<00:00,  3.29it/s]\n"
     ]
    },
    {
     "name": "stdout",
     "output_type": "stream",
     "text": [
      "[0.27702074865321724, 0.39866031865659446, 0.33400412784029365, 0.33443788814979536, 0.14175623511513047, -0.2824240613868797, -0.29076824191104333, -0.24699767200798428, -0.12283953354687571, -0.060139076467191965, 0.16689361278589554, -0.20495794683518231, -0.2654374044503006, 0.025969350391875423, 0.29655375213090895, 0.1080712096662022, 0.14216230666052754, 0.12772166178061983, 0.023539343735346607, 0.283302223859873, 0.40087990847917987, 0.2890920102664558, 0.3651169244895911, 0.37344415648179985, 0.38341082597163556, -0.14638556686848347, -0.24133489844179024, -0.38243218377026755, 0.20217003805619904, 0.2192444658295618, 0.3554664065473805, 0.18448470378028614]\n",
      "Training with trader done\n"
     ]
    },
    {
     "name": "stderr",
     "output_type": "stream",
     "text": [
      "100%|████████████████████████████████████████████████████████████████████████████████████████████████████████████████████████████████████████████████| 35/35 [00:18<00:00,  1.94it/s]\n"
     ]
    },
    {
     "name": "stdout",
     "output_type": "stream",
     "text": [
      "[0.27702074865321724, 0.39866031865659446, 0.33400412784029365, 0.33443788814979536, 0.14175623511513047, -0.2824240613868797, -0.29076824191104333, -0.24699767200798428, -0.12283953354687571, -0.060139076467191965, 0.16689361278589554, -0.20495794683518231, -0.2654374044503006, 0.025969350391875423, 0.29655375213090895, 0.1080712096662022, 0.14216230666052754, 0.12772166178061983, 0.023539343735346607, 0.283302223859873, 0.40087990847917987, 0.2890920102664558, 0.3651169244895911, 0.37344415648179985, 0.38341082597163556, -0.14638556686848347, -0.24133489844179024, -0.38243218377026755, 0.20217003805619904, 0.2192444658295618, 0.3554664065473805, 0.18448470378028614]\n",
      "Training with trader done\n"
     ]
    },
    {
     "name": "stderr",
     "output_type": "stream",
     "text": [
      "100%|████████████████████████████████████████████████████████████████████████████████████████████████████████████████████████████████████████████████| 35/35 [00:13<00:00,  2.56it/s]\n"
     ]
    },
    {
     "name": "stdout",
     "output_type": "stream",
     "text": [
      "[0.27702074865321724, 0.39866031865659446, 0.33400412784029365, 0.33443788814979536, 0.14175623511513047, -0.2824240613868797, -0.29076824191104333, -0.24699767200798428, -0.12283953354687571, -0.060139076467191965, 0.16689361278589554, -0.20495794683518231, -0.2654374044503006, 0.025969350391875423, 0.29655375213090895, 0.1080712096662022, 0.14216230666052754, 0.12772166178061983, 0.023539343735346607, 0.283302223859873, 0.40087990847917987, 0.2890920102664558, 0.3651169244895911, 0.37344415648179985, 0.38341082597163556, -0.14638556686848347, -0.24133489844179024, -0.38243218377026755, 0.20217003805619904, 0.2192444658295618, 0.3554664065473805, 0.18448470378028614]\n",
      "Training with trader done\n"
     ]
    },
    {
     "name": "stderr",
     "output_type": "stream",
     "text": [
      "100%|████████████████████████████████████████████████████████████████████████████████████████████████████████████████████████████████████████████████| 35/35 [00:12<00:00,  2.91it/s]\n"
     ]
    },
    {
     "name": "stdout",
     "output_type": "stream",
     "text": [
      "[0.27702074865321724, 0.39866031865659446, 0.33400412784029365, 0.33443788814979536, 0.14175623511513047, -0.2824240613868797, -0.29076824191104333, -0.24699767200798428, -0.12283953354687571, -0.060139076467191965, 0.16689361278589554, -0.20495794683518231, -0.2654374044503006, 0.025969350391875423, 0.29655375213090895, 0.1080712096662022, 0.14216230666052754, 0.12772166178061983, 0.023539343735346607, 0.283302223859873, 0.40087990847917987, 0.2890920102664558, 0.3651169244895911, 0.37344415648179985, 0.38341082597163556, -0.14638556686848347, -0.24133489844179024, -0.38243218377026755, 0.20217003805619904, 0.2192444658295618, 0.3554664065473805, 0.18448470378028614]\n",
      "Training with trader done\n"
     ]
    },
    {
     "name": "stderr",
     "output_type": "stream",
     "text": [
      "100%|████████████████████████████████████████████████████████████████████████████████████████████████████████████████████████████████████████████████| 35/35 [00:11<00:00,  3.01it/s]\n"
     ]
    },
    {
     "name": "stdout",
     "output_type": "stream",
     "text": [
      "[0.27702074865321724, 0.39866031865659446, 0.33400412784029365, 0.33443788814979536, 0.14175623511513047, -0.2824240613868797, -0.29076824191104333, -0.24699767200798428, -0.12283953354687571, -0.060139076467191965, 0.16689361278589554, -0.20495794683518231, -0.2654374044503006, 0.025969350391875423, 0.29655375213090895, 0.1080712096662022, 0.14216230666052754, 0.12772166178061983, 0.023539343735346607, 0.283302223859873, 0.40087990847917987, 0.2890920102664558, 0.3651169244895911, 0.37344415648179985, 0.38341082597163556, -0.14638556686848347, -0.24133489844179024, -0.38243218377026755, 0.20217003805619904, 0.2192444658295618, 0.3554664065473805, 0.18448470378028614]\n",
      "Training with trader done\n"
     ]
    },
    {
     "name": "stderr",
     "output_type": "stream",
     "text": [
      "100%|████████████████████████████████████████████████████████████████████████████████████████████████████████████████████████████████████████████████| 35/35 [00:17<00:00,  1.94it/s]\n"
     ]
    },
    {
     "name": "stdout",
     "output_type": "stream",
     "text": [
      "[0.27702074865321724, 0.39866031865659446, 0.33400412784029365, 0.33443788814979536, 0.14175623511513047, -0.2824240613868797, -0.29076824191104333, -0.24699767200798428, -0.12283953354687571, -0.060139076467191965, 0.16689361278589554, -0.20495794683518231, -0.2654374044503006, 0.025969350391875423, 0.29655375213090895, 0.1080712096662022, 0.14216230666052754, 0.12772166178061983, 0.023539343735346607, 0.283302223859873, 0.40087990847917987, 0.2890920102664558, 0.3651169244895911, 0.37344415648179985, 0.38341082597163556, -0.14638556686848347, -0.24133489844179024, -0.38243218377026755, 0.20217003805619904, 0.2192444658295618, 0.3554664065473805, 0.18448470378028614]\n",
      "Training with trader done\n"
     ]
    },
    {
     "name": "stderr",
     "output_type": "stream",
     "text": [
      "100%|████████████████████████████████████████████████████████████████████████████████████████████████████████████████████████████████████████████████| 35/35 [00:13<00:00,  2.59it/s]\n"
     ]
    },
    {
     "name": "stdout",
     "output_type": "stream",
     "text": [
      "[0.27702074865321724, 0.39866031865659446, 0.33400412784029365, 0.33443788814979536, 0.14175623511513047, -0.2824240613868797, -0.29076824191104333, -0.24699767200798428, -0.12283953354687571, -0.060139076467191965, 0.16689361278589554, -0.20495794683518231, -0.2654374044503006, 0.025969350391875423, 0.29655375213090895, 0.1080712096662022, 0.14216230666052754, 0.12772166178061983, 0.023539343735346607, 0.283302223859873, 0.40087990847917987, 0.2890920102664558, 0.3651169244895911, 0.37344415648179985, 0.38341082597163556, -0.14638556686848347, -0.24133489844179024, -0.38243218377026755, 0.20217003805619904, 0.2192444658295618, 0.3554664065473805, 0.18448470378028614]\n",
      "Training with trader done\n"
     ]
    },
    {
     "name": "stderr",
     "output_type": "stream",
     "text": [
      "100%|████████████████████████████████████████████████████████████████████████████████████████████████████████████████████████████████████████████████| 35/35 [00:12<00:00,  2.87it/s]\n"
     ]
    },
    {
     "name": "stdout",
     "output_type": "stream",
     "text": [
      "[0.27702074865321724, 0.39866031865659446, 0.33400412784029365, 0.33443788814979536, 0.14175623511513047, -0.2824240613868797, -0.29076824191104333, -0.24699767200798428, -0.12283953354687571, -0.060139076467191965, 0.16689361278589554, -0.20495794683518231, -0.2654374044503006, 0.025969350391875423, 0.29655375213090895, 0.1080712096662022, 0.14216230666052754, 0.12772166178061983, 0.023539343735346607, 0.283302223859873, 0.40087990847917987, 0.2890920102664558, 0.3651169244895911, 0.37344415648179985, 0.38341082597163556, -0.14638556686848347, -0.24133489844179024, -0.38243218377026755, 0.20217003805619904, 0.2192444658295618, 0.3554664065473805, 0.18448470378028614]\n",
      "Training with trader done\n"
     ]
    },
    {
     "name": "stderr",
     "output_type": "stream",
     "text": [
      "100%|████████████████████████████████████████████████████████████████████████████████████████████████████████████████████████████████████████████████| 35/35 [00:10<00:00,  3.26it/s]\n"
     ]
    },
    {
     "name": "stdout",
     "output_type": "stream",
     "text": [
      "[0.27702074865321724, 0.39866031865659446, 0.33400412784029365, 0.33443788814979536, 0.14175623511513047, -0.2824240613868797, -0.29076824191104333, -0.24699767200798428, -0.12283953354687571, -0.060139076467191965, 0.16689361278589554, -0.20495794683518231, -0.2654374044503006, 0.025969350391875423, 0.29655375213090895, 0.1080712096662022, 0.14216230666052754, 0.12772166178061983, 0.023539343735346607, 0.283302223859873, 0.40087990847917987, 0.2890920102664558, 0.3651169244895911, 0.37344415648179985, 0.38341082597163556, -0.14638556686848347, -0.24133489844179024, -0.38243218377026755, 0.20217003805619904, 0.2192444658295618, 0.3554664065473805, 0.18448470378028614]\n",
      "Training with trader done\n"
     ]
    },
    {
     "name": "stderr",
     "output_type": "stream",
     "text": [
      "100%|████████████████████████████████████████████████████████████████████████████████████████████████████████████████████████████████████████████████| 35/35 [00:17<00:00,  1.95it/s]\n"
     ]
    },
    {
     "name": "stdout",
     "output_type": "stream",
     "text": [
      "[0.27702074865321724, 0.39866031865659446, 0.33400412784029365, 0.33443788814979536, 0.14175623511513047, -0.2824240613868797, -0.29076824191104333, -0.24699767200798428, -0.12283953354687571, -0.060139076467191965, 0.16689361278589554, -0.20495794683518231, -0.2654374044503006, 0.025969350391875423, 0.29655375213090895, 0.1080712096662022, 0.14216230666052754, 0.12772166178061983, 0.023539343735346607, 0.283302223859873, 0.40087990847917987, 0.2890920102664558, 0.3651169244895911, 0.37344415648179985, 0.38341082597163556, -0.14638556686848347, -0.24133489844179024, -0.38243218377026755, 0.20217003805619904, 0.2192444658295618, 0.3554664065473805, 0.18448470378028614]\n",
      "Training with trader done\n"
     ]
    },
    {
     "name": "stderr",
     "output_type": "stream",
     "text": [
      "100%|████████████████████████████████████████████████████████████████████████████████████████████████████████████████████████████████████████████████| 35/35 [00:18<00:00,  1.88it/s]\n"
     ]
    },
    {
     "name": "stdout",
     "output_type": "stream",
     "text": [
      "[0.27702074865321724, 0.39866031865659446, 0.33400412784029365, 0.33443788814979536, 0.14175623511513047, -0.2824240613868797, -0.29076824191104333, -0.24699767200798428, -0.12283953354687571, -0.060139076467191965, 0.16689361278589554, -0.20495794683518231, -0.2654374044503006, 0.025969350391875423, 0.29655375213090895, 0.1080712096662022, 0.14216230666052754, 0.12772166178061983, 0.023539343735346607, 0.283302223859873, 0.40087990847917987, 0.2890920102664558, 0.3651169244895911, 0.37344415648179985, 0.38341082597163556, -0.14638556686848347, -0.24133489844179024, -0.38243218377026755, 0.20217003805619904, 0.2192444658295618, 0.3554664065473805, 0.18448470378028614]\n",
      "Training with trader done\n"
     ]
    },
    {
     "name": "stderr",
     "output_type": "stream",
     "text": [
      "100%|████████████████████████████████████████████████████████████████████████████████████████████████████████████████████████████████████████████████| 35/35 [00:12<00:00,  2.90it/s]\n"
     ]
    },
    {
     "name": "stdout",
     "output_type": "stream",
     "text": [
      "[0.27702074865321724, 0.39866031865659446, 0.33400412784029365, 0.33443788814979536, 0.14175623511513047, -0.2824240613868797, -0.29076824191104333, -0.24699767200798428, -0.12283953354687571, -0.060139076467191965, 0.16689361278589554, -0.20495794683518231, -0.2654374044503006, 0.025969350391875423, 0.29655375213090895, 0.1080712096662022, 0.14216230666052754, 0.12772166178061983, 0.023539343735346607, 0.283302223859873, 0.40087990847917987, 0.2890920102664558, 0.3651169244895911, 0.37344415648179985, 0.38341082597163556, -0.14638556686848347, -0.24133489844179024, -0.38243218377026755, 0.20217003805619904, 0.2192444658295618, 0.3554664065473805, 0.18448470378028614]\n",
      "Training with trader done\n"
     ]
    },
    {
     "name": "stderr",
     "output_type": "stream",
     "text": [
      "100%|████████████████████████████████████████████████████████████████████████████████████████████████████████████████████████████████████████████████| 35/35 [00:10<00:00,  3.26it/s]\n"
     ]
    },
    {
     "name": "stdout",
     "output_type": "stream",
     "text": [
      "[0.27702074865321724, 0.39866031865659446, 0.33400412784029365, 0.33443788814979536, 0.14175623511513047, -0.2824240613868797, -0.29076824191104333, -0.24699767200798428, -0.12283953354687571, -0.060139076467191965, 0.16689361278589554, -0.20495794683518231, -0.2654374044503006, 0.025969350391875423, 0.29655375213090895, 0.1080712096662022, 0.14216230666052754, 0.12772166178061983, 0.023539343735346607, 0.283302223859873, 0.40087990847917987, 0.2890920102664558, 0.3651169244895911, 0.37344415648179985, 0.38341082597163556, -0.14638556686848347, -0.24133489844179024, -0.38243218377026755, 0.20217003805619904, 0.2192444658295618, 0.3554664065473805, 0.18448470378028614]\n",
      "Training with trader done\n"
     ]
    },
    {
     "name": "stderr",
     "output_type": "stream",
     "text": [
      "100%|████████████████████████████████████████████████████████████████████████████████████████████████████████████████████████████████████████████████| 35/35 [01:26<00:00,  2.48s/it]\n"
     ]
    },
    {
     "name": "stdout",
     "output_type": "stream",
     "text": [
      "[0.27702074865321724, 0.39866031865659446, 0.33400412784029365, 0.33443788814979536, 0.14175623511513047, -0.2824240613868797, -0.29076824191104333, -0.24699767200798428, -0.12283953354687571, -0.060139076467191965, 0.16689361278589554, -0.20495794683518231, -0.2654374044503006, 0.025969350391875423, 0.29655375213090895, 0.1080712096662022, 0.14216230666052754, 0.12772166178061983, 0.023539343735346607, 0.283302223859873, 0.40087990847917987, 0.2890920102664558, 0.3651169244895911, 0.37344415648179985, 0.38341082597163556, -0.14638556686848347, -0.24133489844179024, -0.38243218377026755, 0.20217003805619904, 0.2192444658295618, 0.3554664065473805, 0.18448470378028614]\n",
      "Training with trader done\n"
     ]
    },
    {
     "name": "stderr",
     "output_type": "stream",
     "text": [
      " 17%|████████████████████████▊                                                                                                                        | 6/35 [00:14<01:09,  2.38s/it]\n"
     ]
    },
    {
     "ename": "KeyboardInterrupt",
     "evalue": "",
     "output_type": "error",
     "traceback": [
      "\u001b[0;31m---------------------------------------------------------------------------\u001b[0m",
      "\u001b[0;31mKeyboardInterrupt\u001b[0m                         Traceback (most recent call last)",
      "Input \u001b[0;32mIn [26]\u001b[0m, in \u001b[0;36m<cell line: 1>\u001b[0;34m()\u001b[0m\n\u001b[1;32m      5\u001b[0m \u001b[38;5;28;01mfor\u001b[39;00m min_samples_leaf \u001b[38;5;129;01min\u001b[39;00m [\u001b[38;5;241m1\u001b[39m,\u001b[38;5;241m5\u001b[39m,\u001b[38;5;241m10\u001b[39m,\u001b[38;5;241m20\u001b[39m]:\n\u001b[1;32m      6\u001b[0m     model \u001b[38;5;241m=\u001b[39m RandomForestReg(warm_start\u001b[38;5;241m=\u001b[39mwarm_start,\n\u001b[1;32m      7\u001b[0m                             n_estimators\u001b[38;5;241m=\u001b[39mn_estimators,\n\u001b[1;32m      8\u001b[0m                            bootstrap\u001b[38;5;241m=\u001b[39mbootstrap,\n\u001b[1;32m      9\u001b[0m                            criterion\u001b[38;5;241m=\u001b[39mcriterion,\n\u001b[1;32m     10\u001b[0m                            min_samples_leaf\u001b[38;5;241m=\u001b[39mmin_samples_leaf)\n\u001b[0;32m---> 12\u001b[0m     \u001b[43mcv_train\u001b[49m\u001b[43m(\u001b[49m\u001b[43mmodel\u001b[49m\u001b[43m,\u001b[49m\u001b[43mtrain_df\u001b[49m\u001b[43m)\u001b[49m\n",
      "File \u001b[0;32m~/code/AlexandreLaizet/bitcoin_deep_learning/bitcoin_deep_learning/trainer.py:26\u001b[0m, in \u001b[0;36mcv_train\u001b[0;34m(model, df, metric, save, precision, with_trader)\u001b[0m\n\u001b[1;32m     19\u001b[0m \u001b[38;5;28;01mdef\u001b[39;00m \u001b[38;5;21mcv_train\u001b[39m(model,\n\u001b[1;32m     20\u001b[0m           df,\n\u001b[1;32m     21\u001b[0m           metric\u001b[38;5;241m=\u001b[39mMean_absolute_percentage_error(),\n\u001b[0;32m   (...)\u001b[0m\n\u001b[1;32m     24\u001b[0m           with_trader:\u001b[38;5;28mbool\u001b[39m \u001b[38;5;241m=\u001b[39m \u001b[38;5;28;01mTrue\u001b[39;00m\n\u001b[1;32m     25\u001b[0m           ):\n\u001b[0;32m---> 26\u001b[0m     reality,prediction \u001b[38;5;241m=\u001b[39m \u001b[43mcross_val\u001b[49m\u001b[43m(\u001b[49m\u001b[43mmodel\u001b[49m\u001b[43m,\u001b[49m\u001b[43mdf\u001b[49m\u001b[43m)\u001b[49m\n\u001b[1;32m     27\u001b[0m     fold_score \u001b[38;5;241m=\u001b[39m [\u001b[38;5;28mround\u001b[39m(mean_absolute_error(Y_true,Y_pred),precision)\n\u001b[1;32m     28\u001b[0m                             \u001b[38;5;28;01mfor\u001b[39;00m Y_true,Y_pred \u001b[38;5;129;01min\u001b[39;00m \u001b[38;5;28mzip\u001b[39m(reality,prediction)]\n\u001b[1;32m     29\u001b[0m     score \u001b[38;5;241m=\u001b[39m\u001b[38;5;28mround\u001b[39m(np\u001b[38;5;241m.\u001b[39mmean(np\u001b[38;5;241m.\u001b[39marray(fold_score)),precision)\n",
      "File \u001b[0;32m~/code/AlexandreLaizet/bitcoin_deep_learning/bitcoin_deep_learning/cross_val.py:143\u001b[0m, in \u001b[0;36mcross_val\u001b[0;34m(model, df, verbose, saving, metrics, trader_metrics, hyperparams)\u001b[0m\n\u001b[1;32m    139\u001b[0m X_test \u001b[38;5;241m=\u001b[39m np\u001b[38;5;241m.\u001b[39marray(X_test)\n\u001b[1;32m    140\u001b[0m \u001b[38;5;66;03m# Now we have an X_test,Y_test , X_train,Y_train ready to be processed\u001b[39;00m\n\u001b[1;32m    141\u001b[0m \n\u001b[1;32m    142\u001b[0m \u001b[38;5;66;03m#TODO SHUFFLING THE X,y\u001b[39;00m\n\u001b[0;32m--> 143\u001b[0m Y_pred \u001b[38;5;241m=\u001b[39m \u001b[43mmodel\u001b[49m\u001b[38;5;241;43m.\u001b[39;49m\u001b[43mrun\u001b[49m\u001b[43m(\u001b[49m\u001b[43mX_test\u001b[49m\u001b[43m,\u001b[49m\u001b[43mX_train\u001b[49m\u001b[43m,\u001b[49m\u001b[43m \u001b[49m\u001b[43mY_train\u001b[49m\u001b[43m)\u001b[49m\n\u001b[1;32m    145\u001b[0m \u001b[38;5;66;03m# Keeping these lines in case we want to use Y_test, Y_pred in the futur\u001b[39;00m\n\u001b[1;32m    146\u001b[0m reality\u001b[38;5;241m.\u001b[39mappend(Y_test)\n",
      "File \u001b[0;32m~/code/AlexandreLaizet/bitcoin_deep_learning/bitcoin_deep_learning/model.py:390\u001b[0m, in \u001b[0;36mrun\u001b[0;34m(self, X_test, X_train, y_train)\u001b[0m\n\u001b[1;32m    388\u001b[0m self.fit(X_train, y_train)\n\u001b[1;32m    389\u001b[0m return self.predict(X_test)\n\u001b[0;32m--> 390\u001b[0m \n\u001b[1;32m    391\u001b[0m \n\u001b[1;32m    392\u001b[0m \n",
      "File \u001b[0;32m~/code/AlexandreLaizet/bitcoin_deep_learning/bitcoin_deep_learning/model.py:380\u001b[0m, in \u001b[0;36mfit\u001b[0;34m(self, X_train, y_train)\u001b[0m\n\u001b[1;32m    378\u001b[0m     self.model.fit(X_train, y_train)\n\u001b[1;32m    379\u001b[0m     return self\n\u001b[0;32m--> 380\u001b[0m \n\u001b[1;32m    381\u001b[0m def predict(self, X_test):\n\u001b[1;32m    382\u001b[0m     y_pred = self.model.predict(X_test)\n",
      "File \u001b[0;32m~/.pyenv/versions/3.8.12/envs/lewagon/lib/python3.8/site-packages/sklearn/ensemble/_forest.py:450\u001b[0m, in \u001b[0;36mBaseForest.fit\u001b[0;34m(self, X, y, sample_weight)\u001b[0m\n\u001b[1;32m    439\u001b[0m trees \u001b[38;5;241m=\u001b[39m [\n\u001b[1;32m    440\u001b[0m     \u001b[38;5;28mself\u001b[39m\u001b[38;5;241m.\u001b[39m_make_estimator(append\u001b[38;5;241m=\u001b[39m\u001b[38;5;28;01mFalse\u001b[39;00m, random_state\u001b[38;5;241m=\u001b[39mrandom_state)\n\u001b[1;32m    441\u001b[0m     \u001b[38;5;28;01mfor\u001b[39;00m i \u001b[38;5;129;01min\u001b[39;00m \u001b[38;5;28mrange\u001b[39m(n_more_estimators)\n\u001b[1;32m    442\u001b[0m ]\n\u001b[1;32m    444\u001b[0m \u001b[38;5;66;03m# Parallel loop: we prefer the threading backend as the Cython code\u001b[39;00m\n\u001b[1;32m    445\u001b[0m \u001b[38;5;66;03m# for fitting the trees is internally releasing the Python GIL\u001b[39;00m\n\u001b[1;32m    446\u001b[0m \u001b[38;5;66;03m# making threading more efficient than multiprocessing in\u001b[39;00m\n\u001b[1;32m    447\u001b[0m \u001b[38;5;66;03m# that case. However, for joblib 0.12+ we respect any\u001b[39;00m\n\u001b[1;32m    448\u001b[0m \u001b[38;5;66;03m# parallel_backend contexts set at a higher level,\u001b[39;00m\n\u001b[1;32m    449\u001b[0m \u001b[38;5;66;03m# since correctness does not rely on using threads.\u001b[39;00m\n\u001b[0;32m--> 450\u001b[0m trees \u001b[38;5;241m=\u001b[39m \u001b[43mParallel\u001b[49m\u001b[43m(\u001b[49m\n\u001b[1;32m    451\u001b[0m \u001b[43m    \u001b[49m\u001b[43mn_jobs\u001b[49m\u001b[38;5;241;43m=\u001b[39;49m\u001b[38;5;28;43mself\u001b[39;49m\u001b[38;5;241;43m.\u001b[39;49m\u001b[43mn_jobs\u001b[49m\u001b[43m,\u001b[49m\n\u001b[1;32m    452\u001b[0m \u001b[43m    \u001b[49m\u001b[43mverbose\u001b[49m\u001b[38;5;241;43m=\u001b[39;49m\u001b[38;5;28;43mself\u001b[39;49m\u001b[38;5;241;43m.\u001b[39;49m\u001b[43mverbose\u001b[49m\u001b[43m,\u001b[49m\n\u001b[1;32m    453\u001b[0m \u001b[43m    \u001b[49m\u001b[38;5;241;43m*\u001b[39;49m\u001b[38;5;241;43m*\u001b[39;49m\u001b[43m_joblib_parallel_args\u001b[49m\u001b[43m(\u001b[49m\u001b[43mprefer\u001b[49m\u001b[38;5;241;43m=\u001b[39;49m\u001b[38;5;124;43m\"\u001b[39;49m\u001b[38;5;124;43mthreads\u001b[39;49m\u001b[38;5;124;43m\"\u001b[39;49m\u001b[43m)\u001b[49m\u001b[43m,\u001b[49m\n\u001b[1;32m    454\u001b[0m \u001b[43m\u001b[49m\u001b[43m)\u001b[49m\u001b[43m(\u001b[49m\n\u001b[1;32m    455\u001b[0m \u001b[43m    \u001b[49m\u001b[43mdelayed\u001b[49m\u001b[43m(\u001b[49m\u001b[43m_parallel_build_trees\u001b[49m\u001b[43m)\u001b[49m\u001b[43m(\u001b[49m\n\u001b[1;32m    456\u001b[0m \u001b[43m        \u001b[49m\u001b[43mt\u001b[49m\u001b[43m,\u001b[49m\n\u001b[1;32m    457\u001b[0m \u001b[43m        \u001b[49m\u001b[38;5;28;43mself\u001b[39;49m\u001b[43m,\u001b[49m\n\u001b[1;32m    458\u001b[0m \u001b[43m        \u001b[49m\u001b[43mX\u001b[49m\u001b[43m,\u001b[49m\n\u001b[1;32m    459\u001b[0m \u001b[43m        \u001b[49m\u001b[43my\u001b[49m\u001b[43m,\u001b[49m\n\u001b[1;32m    460\u001b[0m \u001b[43m        \u001b[49m\u001b[43msample_weight\u001b[49m\u001b[43m,\u001b[49m\n\u001b[1;32m    461\u001b[0m \u001b[43m        \u001b[49m\u001b[43mi\u001b[49m\u001b[43m,\u001b[49m\n\u001b[1;32m    462\u001b[0m \u001b[43m        \u001b[49m\u001b[38;5;28;43mlen\u001b[39;49m\u001b[43m(\u001b[49m\u001b[43mtrees\u001b[49m\u001b[43m)\u001b[49m\u001b[43m,\u001b[49m\n\u001b[1;32m    463\u001b[0m \u001b[43m        \u001b[49m\u001b[43mverbose\u001b[49m\u001b[38;5;241;43m=\u001b[39;49m\u001b[38;5;28;43mself\u001b[39;49m\u001b[38;5;241;43m.\u001b[39;49m\u001b[43mverbose\u001b[49m\u001b[43m,\u001b[49m\n\u001b[1;32m    464\u001b[0m \u001b[43m        \u001b[49m\u001b[43mclass_weight\u001b[49m\u001b[38;5;241;43m=\u001b[39;49m\u001b[38;5;28;43mself\u001b[39;49m\u001b[38;5;241;43m.\u001b[39;49m\u001b[43mclass_weight\u001b[49m\u001b[43m,\u001b[49m\n\u001b[1;32m    465\u001b[0m \u001b[43m        \u001b[49m\u001b[43mn_samples_bootstrap\u001b[49m\u001b[38;5;241;43m=\u001b[39;49m\u001b[43mn_samples_bootstrap\u001b[49m\u001b[43m,\u001b[49m\n\u001b[1;32m    466\u001b[0m \u001b[43m    \u001b[49m\u001b[43m)\u001b[49m\n\u001b[1;32m    467\u001b[0m \u001b[43m    \u001b[49m\u001b[38;5;28;43;01mfor\u001b[39;49;00m\u001b[43m \u001b[49m\u001b[43mi\u001b[49m\u001b[43m,\u001b[49m\u001b[43m \u001b[49m\u001b[43mt\u001b[49m\u001b[43m \u001b[49m\u001b[38;5;129;43;01min\u001b[39;49;00m\u001b[43m \u001b[49m\u001b[38;5;28;43menumerate\u001b[39;49m\u001b[43m(\u001b[49m\u001b[43mtrees\u001b[49m\u001b[43m)\u001b[49m\n\u001b[1;32m    468\u001b[0m \u001b[43m\u001b[49m\u001b[43m)\u001b[49m\n\u001b[1;32m    470\u001b[0m \u001b[38;5;66;03m# Collect newly grown trees\u001b[39;00m\n\u001b[1;32m    471\u001b[0m \u001b[38;5;28mself\u001b[39m\u001b[38;5;241m.\u001b[39mestimators_\u001b[38;5;241m.\u001b[39mextend(trees)\n",
      "File \u001b[0;32m~/.pyenv/versions/3.8.12/envs/lewagon/lib/python3.8/site-packages/joblib/parallel.py:1046\u001b[0m, in \u001b[0;36mParallel.__call__\u001b[0;34m(self, iterable)\u001b[0m\n\u001b[1;32m   1043\u001b[0m \u001b[38;5;28;01mif\u001b[39;00m \u001b[38;5;28mself\u001b[39m\u001b[38;5;241m.\u001b[39mdispatch_one_batch(iterator):\n\u001b[1;32m   1044\u001b[0m     \u001b[38;5;28mself\u001b[39m\u001b[38;5;241m.\u001b[39m_iterating \u001b[38;5;241m=\u001b[39m \u001b[38;5;28mself\u001b[39m\u001b[38;5;241m.\u001b[39m_original_iterator \u001b[38;5;129;01mis\u001b[39;00m \u001b[38;5;129;01mnot\u001b[39;00m \u001b[38;5;28;01mNone\u001b[39;00m\n\u001b[0;32m-> 1046\u001b[0m \u001b[38;5;28;01mwhile\u001b[39;00m \u001b[38;5;28;43mself\u001b[39;49m\u001b[38;5;241;43m.\u001b[39;49m\u001b[43mdispatch_one_batch\u001b[49m\u001b[43m(\u001b[49m\u001b[43miterator\u001b[49m\u001b[43m)\u001b[49m:\n\u001b[1;32m   1047\u001b[0m     \u001b[38;5;28;01mpass\u001b[39;00m\n\u001b[1;32m   1049\u001b[0m \u001b[38;5;28;01mif\u001b[39;00m pre_dispatch \u001b[38;5;241m==\u001b[39m \u001b[38;5;124m\"\u001b[39m\u001b[38;5;124mall\u001b[39m\u001b[38;5;124m\"\u001b[39m \u001b[38;5;129;01mor\u001b[39;00m n_jobs \u001b[38;5;241m==\u001b[39m \u001b[38;5;241m1\u001b[39m:\n\u001b[1;32m   1050\u001b[0m     \u001b[38;5;66;03m# The iterable was consumed all at once by the above for loop.\u001b[39;00m\n\u001b[1;32m   1051\u001b[0m     \u001b[38;5;66;03m# No need to wait for async callbacks to trigger to\u001b[39;00m\n\u001b[1;32m   1052\u001b[0m     \u001b[38;5;66;03m# consumption.\u001b[39;00m\n",
      "File \u001b[0;32m~/.pyenv/versions/3.8.12/envs/lewagon/lib/python3.8/site-packages/joblib/parallel.py:861\u001b[0m, in \u001b[0;36mParallel.dispatch_one_batch\u001b[0;34m(self, iterator)\u001b[0m\n\u001b[1;32m    859\u001b[0m     \u001b[38;5;28;01mreturn\u001b[39;00m \u001b[38;5;28;01mFalse\u001b[39;00m\n\u001b[1;32m    860\u001b[0m \u001b[38;5;28;01melse\u001b[39;00m:\n\u001b[0;32m--> 861\u001b[0m     \u001b[38;5;28;43mself\u001b[39;49m\u001b[38;5;241;43m.\u001b[39;49m\u001b[43m_dispatch\u001b[49m\u001b[43m(\u001b[49m\u001b[43mtasks\u001b[49m\u001b[43m)\u001b[49m\n\u001b[1;32m    862\u001b[0m     \u001b[38;5;28;01mreturn\u001b[39;00m \u001b[38;5;28;01mTrue\u001b[39;00m\n",
      "File \u001b[0;32m~/.pyenv/versions/3.8.12/envs/lewagon/lib/python3.8/site-packages/joblib/parallel.py:779\u001b[0m, in \u001b[0;36mParallel._dispatch\u001b[0;34m(self, batch)\u001b[0m\n\u001b[1;32m    777\u001b[0m \u001b[38;5;28;01mwith\u001b[39;00m \u001b[38;5;28mself\u001b[39m\u001b[38;5;241m.\u001b[39m_lock:\n\u001b[1;32m    778\u001b[0m     job_idx \u001b[38;5;241m=\u001b[39m \u001b[38;5;28mlen\u001b[39m(\u001b[38;5;28mself\u001b[39m\u001b[38;5;241m.\u001b[39m_jobs)\n\u001b[0;32m--> 779\u001b[0m     job \u001b[38;5;241m=\u001b[39m \u001b[38;5;28;43mself\u001b[39;49m\u001b[38;5;241;43m.\u001b[39;49m\u001b[43m_backend\u001b[49m\u001b[38;5;241;43m.\u001b[39;49m\u001b[43mapply_async\u001b[49m\u001b[43m(\u001b[49m\u001b[43mbatch\u001b[49m\u001b[43m,\u001b[49m\u001b[43m \u001b[49m\u001b[43mcallback\u001b[49m\u001b[38;5;241;43m=\u001b[39;49m\u001b[43mcb\u001b[49m\u001b[43m)\u001b[49m\n\u001b[1;32m    780\u001b[0m     \u001b[38;5;66;03m# A job can complete so quickly than its callback is\u001b[39;00m\n\u001b[1;32m    781\u001b[0m     \u001b[38;5;66;03m# called before we get here, causing self._jobs to\u001b[39;00m\n\u001b[1;32m    782\u001b[0m     \u001b[38;5;66;03m# grow. To ensure correct results ordering, .insert is\u001b[39;00m\n\u001b[1;32m    783\u001b[0m     \u001b[38;5;66;03m# used (rather than .append) in the following line\u001b[39;00m\n\u001b[1;32m    784\u001b[0m     \u001b[38;5;28mself\u001b[39m\u001b[38;5;241m.\u001b[39m_jobs\u001b[38;5;241m.\u001b[39minsert(job_idx, job)\n",
      "File \u001b[0;32m~/.pyenv/versions/3.8.12/envs/lewagon/lib/python3.8/site-packages/joblib/_parallel_backends.py:208\u001b[0m, in \u001b[0;36mSequentialBackend.apply_async\u001b[0;34m(self, func, callback)\u001b[0m\n\u001b[1;32m    206\u001b[0m \u001b[38;5;28;01mdef\u001b[39;00m \u001b[38;5;21mapply_async\u001b[39m(\u001b[38;5;28mself\u001b[39m, func, callback\u001b[38;5;241m=\u001b[39m\u001b[38;5;28;01mNone\u001b[39;00m):\n\u001b[1;32m    207\u001b[0m     \u001b[38;5;124;03m\"\"\"Schedule a func to be run\"\"\"\u001b[39;00m\n\u001b[0;32m--> 208\u001b[0m     result \u001b[38;5;241m=\u001b[39m \u001b[43mImmediateResult\u001b[49m\u001b[43m(\u001b[49m\u001b[43mfunc\u001b[49m\u001b[43m)\u001b[49m\n\u001b[1;32m    209\u001b[0m     \u001b[38;5;28;01mif\u001b[39;00m callback:\n\u001b[1;32m    210\u001b[0m         callback(result)\n",
      "File \u001b[0;32m~/.pyenv/versions/3.8.12/envs/lewagon/lib/python3.8/site-packages/joblib/_parallel_backends.py:572\u001b[0m, in \u001b[0;36mImmediateResult.__init__\u001b[0;34m(self, batch)\u001b[0m\n\u001b[1;32m    569\u001b[0m \u001b[38;5;28;01mdef\u001b[39;00m \u001b[38;5;21m__init__\u001b[39m(\u001b[38;5;28mself\u001b[39m, batch):\n\u001b[1;32m    570\u001b[0m     \u001b[38;5;66;03m# Don't delay the application, to avoid keeping the input\u001b[39;00m\n\u001b[1;32m    571\u001b[0m     \u001b[38;5;66;03m# arguments in memory\u001b[39;00m\n\u001b[0;32m--> 572\u001b[0m     \u001b[38;5;28mself\u001b[39m\u001b[38;5;241m.\u001b[39mresults \u001b[38;5;241m=\u001b[39m \u001b[43mbatch\u001b[49m\u001b[43m(\u001b[49m\u001b[43m)\u001b[49m\n",
      "File \u001b[0;32m~/.pyenv/versions/3.8.12/envs/lewagon/lib/python3.8/site-packages/joblib/parallel.py:262\u001b[0m, in \u001b[0;36mBatchedCalls.__call__\u001b[0;34m(self)\u001b[0m\n\u001b[1;32m    258\u001b[0m \u001b[38;5;28;01mdef\u001b[39;00m \u001b[38;5;21m__call__\u001b[39m(\u001b[38;5;28mself\u001b[39m):\n\u001b[1;32m    259\u001b[0m     \u001b[38;5;66;03m# Set the default nested backend to self._backend but do not set the\u001b[39;00m\n\u001b[1;32m    260\u001b[0m     \u001b[38;5;66;03m# change the default number of processes to -1\u001b[39;00m\n\u001b[1;32m    261\u001b[0m     \u001b[38;5;28;01mwith\u001b[39;00m parallel_backend(\u001b[38;5;28mself\u001b[39m\u001b[38;5;241m.\u001b[39m_backend, n_jobs\u001b[38;5;241m=\u001b[39m\u001b[38;5;28mself\u001b[39m\u001b[38;5;241m.\u001b[39m_n_jobs):\n\u001b[0;32m--> 262\u001b[0m         \u001b[38;5;28;01mreturn\u001b[39;00m [func(\u001b[38;5;241m*\u001b[39margs, \u001b[38;5;241m*\u001b[39m\u001b[38;5;241m*\u001b[39mkwargs)\n\u001b[1;32m    263\u001b[0m                 \u001b[38;5;28;01mfor\u001b[39;00m func, args, kwargs \u001b[38;5;129;01min\u001b[39;00m \u001b[38;5;28mself\u001b[39m\u001b[38;5;241m.\u001b[39mitems]\n",
      "File \u001b[0;32m~/.pyenv/versions/3.8.12/envs/lewagon/lib/python3.8/site-packages/joblib/parallel.py:262\u001b[0m, in \u001b[0;36m<listcomp>\u001b[0;34m(.0)\u001b[0m\n\u001b[1;32m    258\u001b[0m \u001b[38;5;28;01mdef\u001b[39;00m \u001b[38;5;21m__call__\u001b[39m(\u001b[38;5;28mself\u001b[39m):\n\u001b[1;32m    259\u001b[0m     \u001b[38;5;66;03m# Set the default nested backend to self._backend but do not set the\u001b[39;00m\n\u001b[1;32m    260\u001b[0m     \u001b[38;5;66;03m# change the default number of processes to -1\u001b[39;00m\n\u001b[1;32m    261\u001b[0m     \u001b[38;5;28;01mwith\u001b[39;00m parallel_backend(\u001b[38;5;28mself\u001b[39m\u001b[38;5;241m.\u001b[39m_backend, n_jobs\u001b[38;5;241m=\u001b[39m\u001b[38;5;28mself\u001b[39m\u001b[38;5;241m.\u001b[39m_n_jobs):\n\u001b[0;32m--> 262\u001b[0m         \u001b[38;5;28;01mreturn\u001b[39;00m [\u001b[43mfunc\u001b[49m\u001b[43m(\u001b[49m\u001b[38;5;241;43m*\u001b[39;49m\u001b[43margs\u001b[49m\u001b[43m,\u001b[49m\u001b[43m \u001b[49m\u001b[38;5;241;43m*\u001b[39;49m\u001b[38;5;241;43m*\u001b[39;49m\u001b[43mkwargs\u001b[49m\u001b[43m)\u001b[49m\n\u001b[1;32m    263\u001b[0m                 \u001b[38;5;28;01mfor\u001b[39;00m func, args, kwargs \u001b[38;5;129;01min\u001b[39;00m \u001b[38;5;28mself\u001b[39m\u001b[38;5;241m.\u001b[39mitems]\n",
      "File \u001b[0;32m~/.pyenv/versions/3.8.12/envs/lewagon/lib/python3.8/site-packages/sklearn/utils/fixes.py:216\u001b[0m, in \u001b[0;36m_FuncWrapper.__call__\u001b[0;34m(self, *args, **kwargs)\u001b[0m\n\u001b[1;32m    214\u001b[0m \u001b[38;5;28;01mdef\u001b[39;00m \u001b[38;5;21m__call__\u001b[39m(\u001b[38;5;28mself\u001b[39m, \u001b[38;5;241m*\u001b[39margs, \u001b[38;5;241m*\u001b[39m\u001b[38;5;241m*\u001b[39mkwargs):\n\u001b[1;32m    215\u001b[0m     \u001b[38;5;28;01mwith\u001b[39;00m config_context(\u001b[38;5;241m*\u001b[39m\u001b[38;5;241m*\u001b[39m\u001b[38;5;28mself\u001b[39m\u001b[38;5;241m.\u001b[39mconfig):\n\u001b[0;32m--> 216\u001b[0m         \u001b[38;5;28;01mreturn\u001b[39;00m \u001b[38;5;28;43mself\u001b[39;49m\u001b[38;5;241;43m.\u001b[39;49m\u001b[43mfunction\u001b[49m\u001b[43m(\u001b[49m\u001b[38;5;241;43m*\u001b[39;49m\u001b[43margs\u001b[49m\u001b[43m,\u001b[49m\u001b[43m \u001b[49m\u001b[38;5;241;43m*\u001b[39;49m\u001b[38;5;241;43m*\u001b[39;49m\u001b[43mkwargs\u001b[49m\u001b[43m)\u001b[49m\n",
      "File \u001b[0;32m~/.pyenv/versions/3.8.12/envs/lewagon/lib/python3.8/site-packages/sklearn/ensemble/_forest.py:185\u001b[0m, in \u001b[0;36m_parallel_build_trees\u001b[0;34m(tree, forest, X, y, sample_weight, tree_idx, n_trees, verbose, class_weight, n_samples_bootstrap)\u001b[0m\n\u001b[1;32m    182\u001b[0m     \u001b[38;5;28;01melif\u001b[39;00m class_weight \u001b[38;5;241m==\u001b[39m \u001b[38;5;124m\"\u001b[39m\u001b[38;5;124mbalanced_subsample\u001b[39m\u001b[38;5;124m\"\u001b[39m:\n\u001b[1;32m    183\u001b[0m         curr_sample_weight \u001b[38;5;241m*\u001b[39m\u001b[38;5;241m=\u001b[39m compute_sample_weight(\u001b[38;5;124m\"\u001b[39m\u001b[38;5;124mbalanced\u001b[39m\u001b[38;5;124m\"\u001b[39m, y, indices\u001b[38;5;241m=\u001b[39mindices)\n\u001b[0;32m--> 185\u001b[0m     \u001b[43mtree\u001b[49m\u001b[38;5;241;43m.\u001b[39;49m\u001b[43mfit\u001b[49m\u001b[43m(\u001b[49m\u001b[43mX\u001b[49m\u001b[43m,\u001b[49m\u001b[43m \u001b[49m\u001b[43my\u001b[49m\u001b[43m,\u001b[49m\u001b[43m \u001b[49m\u001b[43msample_weight\u001b[49m\u001b[38;5;241;43m=\u001b[39;49m\u001b[43mcurr_sample_weight\u001b[49m\u001b[43m,\u001b[49m\u001b[43m \u001b[49m\u001b[43mcheck_input\u001b[49m\u001b[38;5;241;43m=\u001b[39;49m\u001b[38;5;28;43;01mFalse\u001b[39;49;00m\u001b[43m)\u001b[49m\n\u001b[1;32m    186\u001b[0m \u001b[38;5;28;01melse\u001b[39;00m:\n\u001b[1;32m    187\u001b[0m     tree\u001b[38;5;241m.\u001b[39mfit(X, y, sample_weight\u001b[38;5;241m=\u001b[39msample_weight, check_input\u001b[38;5;241m=\u001b[39m\u001b[38;5;28;01mFalse\u001b[39;00m)\n",
      "File \u001b[0;32m~/.pyenv/versions/3.8.12/envs/lewagon/lib/python3.8/site-packages/sklearn/tree/_classes.py:1315\u001b[0m, in \u001b[0;36mDecisionTreeRegressor.fit\u001b[0;34m(self, X, y, sample_weight, check_input, X_idx_sorted)\u001b[0m\n\u001b[1;32m   1278\u001b[0m \u001b[38;5;28;01mdef\u001b[39;00m \u001b[38;5;21mfit\u001b[39m(\n\u001b[1;32m   1279\u001b[0m     \u001b[38;5;28mself\u001b[39m, X, y, sample_weight\u001b[38;5;241m=\u001b[39m\u001b[38;5;28;01mNone\u001b[39;00m, check_input\u001b[38;5;241m=\u001b[39m\u001b[38;5;28;01mTrue\u001b[39;00m, X_idx_sorted\u001b[38;5;241m=\u001b[39m\u001b[38;5;124m\"\u001b[39m\u001b[38;5;124mdeprecated\u001b[39m\u001b[38;5;124m\"\u001b[39m\n\u001b[1;32m   1280\u001b[0m ):\n\u001b[1;32m   1281\u001b[0m     \u001b[38;5;124;03m\"\"\"Build a decision tree regressor from the training set (X, y).\u001b[39;00m\n\u001b[1;32m   1282\u001b[0m \n\u001b[1;32m   1283\u001b[0m \u001b[38;5;124;03m    Parameters\u001b[39;00m\n\u001b[0;32m   (...)\u001b[0m\n\u001b[1;32m   1312\u001b[0m \u001b[38;5;124;03m        Fitted estimator.\u001b[39;00m\n\u001b[1;32m   1313\u001b[0m \u001b[38;5;124;03m    \"\"\"\u001b[39;00m\n\u001b[0;32m-> 1315\u001b[0m     \u001b[38;5;28;43msuper\u001b[39;49m\u001b[43m(\u001b[49m\u001b[43m)\u001b[49m\u001b[38;5;241;43m.\u001b[39;49m\u001b[43mfit\u001b[49m\u001b[43m(\u001b[49m\n\u001b[1;32m   1316\u001b[0m \u001b[43m        \u001b[49m\u001b[43mX\u001b[49m\u001b[43m,\u001b[49m\n\u001b[1;32m   1317\u001b[0m \u001b[43m        \u001b[49m\u001b[43my\u001b[49m\u001b[43m,\u001b[49m\n\u001b[1;32m   1318\u001b[0m \u001b[43m        \u001b[49m\u001b[43msample_weight\u001b[49m\u001b[38;5;241;43m=\u001b[39;49m\u001b[43msample_weight\u001b[49m\u001b[43m,\u001b[49m\n\u001b[1;32m   1319\u001b[0m \u001b[43m        \u001b[49m\u001b[43mcheck_input\u001b[49m\u001b[38;5;241;43m=\u001b[39;49m\u001b[43mcheck_input\u001b[49m\u001b[43m,\u001b[49m\n\u001b[1;32m   1320\u001b[0m \u001b[43m        \u001b[49m\u001b[43mX_idx_sorted\u001b[49m\u001b[38;5;241;43m=\u001b[39;49m\u001b[43mX_idx_sorted\u001b[49m\u001b[43m,\u001b[49m\n\u001b[1;32m   1321\u001b[0m \u001b[43m    \u001b[49m\u001b[43m)\u001b[49m\n\u001b[1;32m   1322\u001b[0m     \u001b[38;5;28;01mreturn\u001b[39;00m \u001b[38;5;28mself\u001b[39m\n",
      "File \u001b[0;32m~/.pyenv/versions/3.8.12/envs/lewagon/lib/python3.8/site-packages/sklearn/tree/_classes.py:420\u001b[0m, in \u001b[0;36mBaseDecisionTree.fit\u001b[0;34m(self, X, y, sample_weight, check_input, X_idx_sorted)\u001b[0m\n\u001b[1;32m    409\u001b[0m \u001b[38;5;28;01melse\u001b[39;00m:\n\u001b[1;32m    410\u001b[0m     builder \u001b[38;5;241m=\u001b[39m BestFirstTreeBuilder(\n\u001b[1;32m    411\u001b[0m         splitter,\n\u001b[1;32m    412\u001b[0m         min_samples_split,\n\u001b[0;32m   (...)\u001b[0m\n\u001b[1;32m    417\u001b[0m         \u001b[38;5;28mself\u001b[39m\u001b[38;5;241m.\u001b[39mmin_impurity_decrease,\n\u001b[1;32m    418\u001b[0m     )\n\u001b[0;32m--> 420\u001b[0m \u001b[43mbuilder\u001b[49m\u001b[38;5;241;43m.\u001b[39;49m\u001b[43mbuild\u001b[49m\u001b[43m(\u001b[49m\u001b[38;5;28;43mself\u001b[39;49m\u001b[38;5;241;43m.\u001b[39;49m\u001b[43mtree_\u001b[49m\u001b[43m,\u001b[49m\u001b[43m \u001b[49m\u001b[43mX\u001b[49m\u001b[43m,\u001b[49m\u001b[43m \u001b[49m\u001b[43my\u001b[49m\u001b[43m,\u001b[49m\u001b[43m \u001b[49m\u001b[43msample_weight\u001b[49m\u001b[43m)\u001b[49m\n\u001b[1;32m    422\u001b[0m \u001b[38;5;28;01mif\u001b[39;00m \u001b[38;5;28mself\u001b[39m\u001b[38;5;241m.\u001b[39mn_outputs_ \u001b[38;5;241m==\u001b[39m \u001b[38;5;241m1\u001b[39m \u001b[38;5;129;01mand\u001b[39;00m is_classifier(\u001b[38;5;28mself\u001b[39m):\n\u001b[1;32m    423\u001b[0m     \u001b[38;5;28mself\u001b[39m\u001b[38;5;241m.\u001b[39mn_classes_ \u001b[38;5;241m=\u001b[39m \u001b[38;5;28mself\u001b[39m\u001b[38;5;241m.\u001b[39mn_classes_[\u001b[38;5;241m0\u001b[39m]\n",
      "\u001b[0;31mKeyboardInterrupt\u001b[0m: "
     ]
    }
   ],
   "source": [
    "for n_estimators in [100,500,700,1000,1500,3000]:\n",
    "    for warm_start in  [True,False]:\n",
    "        for bootstrap in [True,False]:\n",
    "            for criterion in [\"squared_error\", \"absolute_error\", \"poisson\"]:\n",
    "                for min_samples_leaf in [1,5,10,20]:\n",
    "                    model = RandomForestReg(warm_start=warm_start,\n",
    "                                            n_estimators=n_estimators,\n",
    "                                           bootstrap=bootstrap,\n",
    "                                           criterion=criterion,\n",
    "                                           min_samples_leaf=min_samples_leaf)\n",
    "\n",
    "                    cv_train(model,train_df)"
   ]
  },
  {
   "cell_type": "code",
   "execution_count": null,
   "id": "a3616cc2",
   "metadata": {
    "ExecuteTime": {
     "end_time": "2022-03-10T10:27:39.434122Z",
     "start_time": "2022-03-10T10:27:39.434082Z"
    }
   },
   "outputs": [],
   "source": [
    "X0 = [[i+5,-2*i]for i in range(1001)]\n",
    "X1 = np.sin(np.arange(1001))"
   ]
  },
  {
   "cell_type": "code",
   "execution_count": null,
   "id": "638826b9",
   "metadata": {
    "ExecuteTime": {
     "end_time": "2022-03-09T16:59:21.879685Z",
     "start_time": "2022-03-09T16:59:21.742616Z"
    }
   },
   "outputs": [],
   "source": [
    "df = pd.DataFrame(X0)\n",
    "df[\"date\"] = X1\n",
    "df"
   ]
  },
  {
   "cell_type": "code",
   "execution_count": null,
   "id": "4be498d0",
   "metadata": {
    "ExecuteTime": {
     "end_time": "2022-03-09T16:59:23.604949Z",
     "start_time": "2022-03-09T16:59:22.410190Z"
    }
   },
   "outputs": [],
   "source": [
    "model = LinearRegressionBaselineModel()\n",
    "#model = RnnDlModel(epochs=10,patience=2)\n",
    "past_reality, reality,reality_diff, prediction_diff = cross_val_trade(model,df)"
   ]
  },
  {
   "cell_type": "code",
   "execution_count": null,
   "id": "661fbc00",
   "metadata": {
    "ExecuteTime": {
     "end_time": "2022-03-09T16:59:23.796539Z",
     "start_time": "2022-03-09T16:59:23.617223Z"
    }
   },
   "outputs": [],
   "source": [
    "past_reality[0]"
   ]
  },
  {
   "cell_type": "code",
   "execution_count": null,
   "id": "3a71cbc9",
   "metadata": {
    "ExecuteTime": {
     "end_time": "2022-03-09T16:59:24.300710Z",
     "start_time": "2022-03-09T16:59:23.806693Z"
    }
   },
   "outputs": [],
   "source": [
    "plt.plot(reality[0])"
   ]
  },
  {
   "cell_type": "code",
   "execution_count": null,
   "id": "b59aa718",
   "metadata": {
    "ExecuteTime": {
     "end_time": "2022-03-09T16:59:25.305410Z",
     "start_time": "2022-03-09T16:59:24.977799Z"
    }
   },
   "outputs": [],
   "source": [
    "plt.plot(prediction_diff[0],c=\"r\")\n",
    "plt.plot(reality_diff[0])"
   ]
  },
  {
   "cell_type": "code",
   "execution_count": null,
   "id": "b0f3a3d1",
   "metadata": {
    "ExecuteTime": {
     "end_time": "2022-03-09T16:59:29.429191Z",
     "start_time": "2022-03-09T16:59:27.980345Z"
    }
   },
   "outputs": [],
   "source": [
    "model = LinearRegressionBaselineModel()\n",
    "#model = RnnDlModel(epochs=10,patience=2)\n",
    "past_reality, reality,reality_diff, prediction_diff = cross_val_trade(model,df)\n",
    "plt.plot(prediction_diff[0],c=\"r\")\n",
    "plt.plot(reality_diff[0])"
   ]
  },
  {
   "cell_type": "code",
   "execution_count": null,
   "id": "d3603a08",
   "metadata": {
    "ExecuteTime": {
     "end_time": "2022-03-09T16:52:39.686158Z",
     "start_time": "2022-03-09T16:52:39.543063Z"
    }
   },
   "outputs": [],
   "source": [
    "df"
   ]
  },
  {
   "cell_type": "code",
   "execution_count": null,
   "id": "78cc3bed",
   "metadata": {
    "ExecuteTime": {
     "end_time": "2022-03-09T16:54:14.625068Z",
     "start_time": "2022-03-09T16:54:13.512900Z"
    }
   },
   "outputs": [],
   "source": [
    "X_train_list, Y_train_list, X_test_list,Y_test_list = get_cross_XY(df.drop(columns=\"date\"),data=None)"
   ]
  },
  {
   "cell_type": "code",
   "execution_count": null,
   "id": "ad51d86c",
   "metadata": {
    "ExecuteTime": {
     "end_time": "2022-03-09T16:54:14.762448Z",
     "start_time": "2022-03-09T16:54:14.632659Z"
    }
   },
   "outputs": [],
   "source": [
    "X_train, Y_train, X_test,Y_test = X_train_list[0], Y_train_list[0], X_test_list[0],Y_test_list[0]"
   ]
  },
  {
   "cell_type": "code",
   "execution_count": null,
   "id": "a6b1c728",
   "metadata": {
    "ExecuteTime": {
     "end_time": "2022-03-09T16:54:42.591675Z",
     "start_time": "2022-03-09T16:54:42.461813Z"
    }
   },
   "outputs": [],
   "source": [
    "from sklearn.preprocessing import MinMaxScaler, StandardScaler\n",
    "scaler = StandardScaler()\n",
    "#X_train_scaled =  scaler.fit_transform(X_train[:,-1,:])\n",
    "#X_test_scaled = scaler.transform(X_test[:,-1,:])\n",
    "X_train_scaled =  (X_train[:,-1,:])\n",
    "X_test_scaled = (X_test[:,-1,:])\n",
    "X_train_scaled"
   ]
  },
  {
   "cell_type": "code",
   "execution_count": null,
   "id": "6a0e31f5",
   "metadata": {
    "ExecuteTime": {
     "end_time": "2022-03-09T16:54:43.329373Z",
     "start_time": "2022-03-09T16:54:42.981451Z"
    }
   },
   "outputs": [],
   "source": [
    "from sklearn.linear_model import ElasticNet\n",
    "model = ElasticNet()\n",
    "model.fit(X_train_scaled,Y_train)\n",
    "Y_pred = model.predict(X_test_scaled)\n",
    "plt.plot(Y_pred)\n",
    "plt.plot(Y_test)"
   ]
  },
  {
   "cell_type": "code",
   "execution_count": null,
   "id": "254814c0",
   "metadata": {
    "ExecuteTime": {
     "end_time": "2022-03-09T16:54:15.529568Z",
     "start_time": "2022-03-09T16:54:15.350092Z"
    }
   },
   "outputs": [],
   "source": [
    "Y_train"
   ]
  },
  {
   "cell_type": "code",
   "execution_count": null,
   "id": "18a73db8",
   "metadata": {
    "ExecuteTime": {
     "end_time": "2022-03-09T16:54:15.713904Z",
     "start_time": "2022-03-09T16:54:15.542868Z"
    }
   },
   "outputs": [],
   "source": [
    "X_train[:,-1,:]"
   ]
  },
  {
   "cell_type": "code",
   "execution_count": null,
   "id": "e6298ed9",
   "metadata": {
    "ExecuteTime": {
     "end_time": "2022-03-09T15:39:33.674825Z",
     "start_time": "2022-03-09T15:39:33.537909Z"
    }
   },
   "outputs": [],
   "source": [
    "from sklearn.preprocessing import MinMaxScaler, StandardScaler\n",
    "scaler = MinMaxScaler()\n",
    "scaler.fit(X_train[:,-1,:])"
   ]
  },
  {
   "cell_type": "code",
   "execution_count": null,
   "id": "50ca6d99",
   "metadata": {
    "ExecuteTime": {
     "end_time": "2022-03-09T14:54:05.248499Z",
     "start_time": "2022-03-09T14:54:05.021024Z"
    }
   },
   "outputs": [],
   "source": []
  },
  {
   "cell_type": "code",
   "execution_count": null,
   "id": "6a0fa236",
   "metadata": {
    "ExecuteTime": {
     "end_time": "2022-03-09T15:39:33.832071Z",
     "start_time": "2022-03-09T15:39:33.688143Z"
    }
   },
   "outputs": [],
   "source": [
    "X_train[:,-1,:]"
   ]
  },
  {
   "cell_type": "code",
   "execution_count": null,
   "id": "5d98795d",
   "metadata": {
    "ExecuteTime": {
     "end_time": "2022-03-09T15:44:53.023640Z",
     "start_time": "2022-03-09T15:44:45.930468Z"
    }
   },
   "outputs": [],
   "source": [
    "model = LinearRegressionBaselineModel(alpha=0.1,l1_ratio=0.001)\n",
    "df = ApiCall().read_local()\n",
    "X_train_list, Y_train_list, X_test_list,Y_test_list = get_cross_XY(df,data=None)\n",
    "\n"
   ]
  },
  {
   "cell_type": "code",
   "execution_count": null,
   "id": "bffce926",
   "metadata": {
    "ExecuteTime": {
     "end_time": "2022-03-09T15:45:07.391989Z",
     "start_time": "2022-03-09T15:44:58.984581Z"
    }
   },
   "outputs": [],
   "source": [
    "cross_val_trade(model,df)"
   ]
  },
  {
   "cell_type": "code",
   "execution_count": null,
   "id": "454232ad",
   "metadata": {
    "ExecuteTime": {
     "end_time": "2022-03-09T15:47:30.179538Z",
     "start_time": "2022-03-09T15:47:26.175042Z"
    }
   },
   "outputs": [],
   "source": [
    "past_reality, reality,reality_diff, prediction_diff = cross_val_trade(model,df)"
   ]
  },
  {
   "cell_type": "code",
   "execution_count": null,
   "id": "3d5d9b8c",
   "metadata": {
    "ExecuteTime": {
     "end_time": "2022-03-09T16:28:26.745583Z",
     "start_time": "2022-03-09T16:28:26.561663Z"
    }
   },
   "outputs": [],
   "source": [
    "ct = 0\n",
    "preds = []\n",
    "computed_reality = []\n",
    "for past_prices, diffs in zip(past_reality,prediction_diff):\n",
    "    preds.append(past_prices * diffs+ past_prices)\n",
    "preds  "
   ]
  },
  {
   "cell_type": "code",
   "execution_count": null,
   "id": "cdcb48e0",
   "metadata": {
    "ExecuteTime": {
     "end_time": "2022-03-09T17:03:14.025454Z",
     "start_time": "2022-03-09T17:03:13.903822Z"
    }
   },
   "outputs": [],
   "source": []
  },
  {
   "cell_type": "code",
   "execution_count": null,
   "id": "34a42f71",
   "metadata": {
    "ExecuteTime": {
     "end_time": "2022-03-09T17:03:05.746462Z",
     "start_time": "2022-03-09T17:03:05.610887Z"
    }
   },
   "outputs": [],
   "source": [
    "df = api.read_local()\n",
    "scaler = MinMaxScaler()\n",
    "#df  =scaler.fit_transform(df.drop(columns=\"date\"))"
   ]
  },
  {
   "cell_type": "code",
   "execution_count": null,
   "id": "33afb8e0",
   "metadata": {
    "ExecuteTime": {
     "end_time": "2022-03-09T17:05:18.570310Z",
     "start_time": "2022-03-09T17:05:18.439994Z"
    }
   },
   "outputs": [],
   "source": [
    "df[df.columns[1]].shape"
   ]
  },
  {
   "cell_type": "code",
   "execution_count": null,
   "id": "9652d735",
   "metadata": {
    "ExecuteTime": {
     "end_time": "2022-03-09T17:05:55.466306Z",
     "start_time": "2022-03-09T17:05:55.336089Z"
    }
   },
   "outputs": [],
   "source": []
  },
  {
   "cell_type": "code",
   "execution_count": null,
   "id": "8616a701",
   "metadata": {
    "ExecuteTime": {
     "end_time": "2022-03-09T17:08:48.818805Z",
     "start_time": "2022-03-09T17:08:48.656506Z"
    }
   },
   "outputs": [],
   "source": []
  },
  {
   "cell_type": "code",
   "execution_count": null,
   "id": "360c1fe3",
   "metadata": {
    "ExecuteTime": {
     "end_time": "2022-03-09T17:08:49.756169Z",
     "start_time": "2022-03-09T17:08:49.535475Z"
    }
   },
   "outputs": [],
   "source": [
    "df"
   ]
  },
  {
   "cell_type": "code",
   "execution_count": null,
   "id": "ba7fa4f9",
   "metadata": {
    "ExecuteTime": {
     "end_time": "2022-03-09T17:14:27.791406Z",
     "start_time": "2022-03-09T17:14:23.473082Z"
    }
   },
   "outputs": [],
   "source": [
    "\n",
    "df = api.read_local()\n",
    "scaler = MinMaxScaler()\n",
    "for i in range(1,len(list(df.columns))):\n",
    "    df[list(df.columns)[i]] = scaler.fit_transform(np.array(df[df.columns[1]]).reshape(-1, 1))\n",
    "\n",
    "model = LinearRegressionBaselineModel(alpha=0.5,l1_ratio=0.001)\n",
    "#model = RnnDlModel(epochs=10,patience=2)\n",
    "past_reality, reality,reality_diff, prediction_diff = cross_val_trade(model,df)\n",
    "for i in range(10):\n",
    "    plt.plot(prediction_diff[i],c=\"r\")\n",
    "    plt.plot(reality_diff[i])\n",
    "    plt.show()\n"
   ]
  },
  {
   "cell_type": "code",
   "execution_count": null,
   "id": "b3accc8b",
   "metadata": {
    "ExecuteTime": {
     "end_time": "2022-03-09T17:14:28.010131Z",
     "start_time": "2022-03-09T17:14:27.798627Z"
    }
   },
   "outputs": [],
   "source": [
    "df"
   ]
  },
  {
   "cell_type": "code",
   "execution_count": null,
   "id": "7f8e1678",
   "metadata": {
    "ExecuteTime": {
     "end_time": "2022-03-09T17:14:30.525658Z",
     "start_time": "2022-03-09T17:14:28.024636Z"
    }
   },
   "outputs": [],
   "source": [
    "fold_score, score= train(model,df)\n",
    "print(fold_score,score)"
   ]
  },
  {
   "cell_type": "code",
   "execution_count": null,
   "id": "613ccd8b",
   "metadata": {
    "ExecuteTime": {
     "end_time": "2022-03-09T17:23:46.544656Z",
     "start_time": "2022-03-09T17:19:17.670903Z"
    }
   },
   "outputs": [],
   "source": [
    "for counter in range(20):\n",
    "    alpha = 0.015 * random.random()\n",
    "    l1 = random.random()*0.01\n",
    "    # Instanciate model\n",
    "    regression_model = LinearRegressionBaselineModel(alpha = alpha, l1_ratio = l1)\n",
    "    # Train and Fit data using the crossval\n",
    "    val_score, score = train(regression_model,df);\n",
    "    print(val_score,score)\n",
    "    past_reality, reality,reality_diff, prediction_diff = cross_val_trade(model,df)\n",
    "    for i in range(len(reality)):\n",
    "        plt.plot(prediction_diff[i],c=\"r\")\n",
    "        plt.plot(reality_diff[i])\n",
    "        plt.show()"
   ]
  },
  {
   "cell_type": "code",
   "execution_count": null,
   "id": "d99cef92",
   "metadata": {
    "ExecuteTime": {
     "end_time": "2022-03-09T17:23:46.730289Z",
     "start_time": "2022-03-09T17:23:46.561158Z"
    },
    "scrolled": true
   },
   "outputs": [],
   "source": [
    "from bitcoin_deep_learning.trainer import read_result\n",
    "read_result().sort_values(by=\"date\",ascending=False)"
   ]
  },
  {
   "cell_type": "code",
   "execution_count": null,
   "id": "6a626c8e",
   "metadata": {
    "ExecuteTime": {
     "end_time": "2022-03-09T17:52:26.052552Z",
     "start_time": "2022-03-09T17:36:07.704082Z"
    }
   },
   "outputs": [],
   "source": [
    "df = api.read_local()\n",
    "scaler = MinMaxScaler()\n",
    "for i in range(1,len(list(df.columns))-1):\n",
    "    df[list(df.columns)[i]] = scaler.fit_transform(np.array(df[df.columns[1]]).reshape(-1, 1))\n",
    "\n",
    "model = LinearRegressionBaselineModel(alpha=0.5,l1_ratio=0.001)\n",
    "#model = RnnDlModel(epochs=10,patience=2)\n",
    "past_reality, reality,reality_diff, prediction_diff = cross_val_trade(model,df)\n",
    "ALPHA = [0.001,0.005,0.01,0.1,5,1,10,100]\n",
    "L1 = [0.0001,0.0005,0.001,0.005,0.001,0.005,0.01,0.1,0.5,1]\n",
    "for alpha in ALPHA :\n",
    "    for l1 in L1 : \n",
    "        # Instanciate model\n",
    "        regression_model = LinearRegressionBaselineModel(alpha = alpha, l1_ratio = l1)\n",
    "        # Train and Fit data using the crossval\n",
    "        val_score, score = train(regression_model,df);\n",
    "        print(val_score,score)\n",
    "        past_reality, reality,reality_diff, prediction_diff = cross_val_trade(model,df)\n",
    "        for i in range(len(reality)):\n",
    "            plt.plot(prediction_diff[i],c=\"r\")\n",
    "            plt.plot(reality_diff[i])\n",
    "            plt.show()"
   ]
  },
  {
   "cell_type": "code",
   "execution_count": null,
   "id": "57f11863",
   "metadata": {
    "ExecuteTime": {
     "end_time": "2022-03-09T17:52:26.245981Z",
     "start_time": "2022-03-09T17:52:26.065419Z"
    }
   },
   "outputs": [],
   "source": [
    "read_result().sort_values(by=\"date\",ascending=False).head(50)"
   ]
  },
  {
   "cell_type": "code",
   "execution_count": null,
   "id": "8690ed32",
   "metadata": {
    "ExecuteTime": {
     "start_time": "2022-03-09T18:31:31.901Z"
    }
   },
   "outputs": [],
   "source": [
    "df = api.read_local()\n",
    "scaler = MinMaxScaler()\n",
    "for i in range(1,len(list(df.columns))):\n",
    "    df[list(df.columns)[i]] = scaler.fit_transform(np.array(df[df.columns[1]]).reshape(-1, 1))\n",
    "\n",
    "model = LinearRegressionBaselineModel(alpha=0.5,l1_ratio=0.001)\n",
    "#model = RnnDlModel(epochs=10,patience=2)\n",
    "past_reality, reality,reality_diff, prediction_diff = cross_val_trade(model,df)\n",
    "ALPHA = [0.001,0.005,0.01,0.1,5,1,10,100]\n",
    "L1 = [0.0001,0.0005,0.001,0.005,0.001,0.005,0.01,0.1,0.5,1]\n",
    "for alpha in ALPHA :\n",
    "    for l1 in L1 : \n",
    "        # Instanciate model\n",
    "        regression_model = LinearRegressionBaselineModel(alpha = alpha, l1_ratio = l1)\n",
    "        # Train and Fit data using the crossval\n",
    "        val_score, score = train(regression_model,df);\n",
    "        print(val_score,score)\n",
    "        past_reality, reality,reality_diff, prediction_diff = cross_val_trade(model,df)\n",
    "        for i in range(len(reality)):\n",
    "            plt.plot(reality[i])\n",
    "            plt.plot()"
   ]
  },
  {
   "cell_type": "code",
   "execution_count": null,
   "id": "9bf83a68",
   "metadata": {
    "ExecuteTime": {
     "end_time": "2022-03-09T18:34:24.142241Z",
     "start_time": "2022-03-09T18:34:24.013993Z"
    }
   },
   "outputs": [],
   "source": [
    "x = np.eye(260,3,31)\n",
    "x.reshape(260,)"
   ]
  },
  {
   "cell_type": "code",
   "execution_count": null,
   "id": "06390c76",
   "metadata": {
    "ExecuteTime": {
     "end_time": "2022-03-09T18:29:04.773254Z",
     "start_time": "2022-03-09T18:28:59.474360Z"
    }
   },
   "outputs": [],
   "source": [
    "read_result().sort_values(by=\"mean_score\",ascending=False).head(50)"
   ]
  },
  {
   "cell_type": "code",
   "execution_count": null,
   "id": "91c1510c",
   "metadata": {
    "ExecuteTime": {
     "end_time": "2022-03-10T08:46:55.653991Z",
     "start_time": "2022-03-10T08:46:55.513440Z"
    }
   },
   "outputs": [],
   "source": [
    "from sklearn.metrics import mean_absolute_error\n",
    "def train(model,\n",
    "          df,\n",
    "          save:bool=True,\n",
    "          precision:int=5\n",
    "          ):\n",
    "    reality,prediction = cross_val(model,df)\n",
    "    fold_score = [round(mean_absolute_error(Y_true,Y_pred),precision)\n",
    "                            for Y_true,Y_pred in zip(reality,prediction)]\n",
    "    score =round(np.mean(np.array(fold_score)),precision)\n",
    "    # Option to save results\n",
    "    if save == True :\n",
    "        file_path = os.path.join(ROOT_DIR,\n",
    "                                        \"cross_val_data\",\n",
    "                                        'test.csv')\n",
    "        # Check if file is there and create it otherwise\n",
    "        if not os.path.isfile(file_path):\n",
    "            fieldnames = [\"name\",'fold_score',\"mean_score\",\"min_score\",\"max_score\",'hyperparams','date']\n",
    "            pd.DataFrame(columns=fieldnames).to_csv(file_path,index=False)\n",
    "        # Append a new line with current CV results\n",
    "        with open(file_path , 'a', newline='') as csvfile:\n",
    "            fieldnames = [\"name\",'fold_score',\"mean_score\",\"min_score\",\"max_score\",'hyperparams','date']\n",
    "            writer = csv.DictWriter(csvfile, fieldnames=fieldnames)\n",
    "\n",
    "            writer.writerow({\"name\":model.name, \"fold_score\":fold_score,\n",
    "                            \"mean_score\":score,\"min_score\":min(fold_score),\n",
    "                            \"max_score\":max(fold_score),\n",
    "                            \"hyperparams\":model.hyperparams,\n",
    "                            'date':datetime.now().strftime(\"%d-%m %H:%M:%S\")})\n",
    "            print(\"Training done\")\n",
    "        return fold_score, score\n"
   ]
  },
  {
   "cell_type": "code",
   "execution_count": null,
   "id": "be304499",
   "metadata": {
    "ExecuteTime": {
     "end_time": "2022-03-10T08:46:56.167435Z",
     "start_time": "2022-03-10T08:46:56.011474Z"
    }
   },
   "outputs": [],
   "source": [
    "train_df = ApiCall().read_local()"
   ]
  },
  {
   "cell_type": "code",
   "execution_count": null,
   "id": "08c1e567",
   "metadata": {
    "ExecuteTime": {
     "end_time": "2022-03-10T09:10:57.769630Z",
     "start_time": "2022-03-10T09:10:57.618451Z"
    }
   },
   "outputs": [],
   "source": [
    "read_result(file=\"CV_trader.csv\")"
   ]
  },
  {
   "cell_type": "code",
   "execution_count": null,
   "id": "f01e5590",
   "metadata": {
    "ExecuteTime": {
     "end_time": "2022-03-10T08:47:34.381188Z",
     "start_time": "2022-03-10T08:47:30.526438Z"
    }
   },
   "outputs": [],
   "source": [
    "\n",
    "model = LinearRegressionBaselineModel()\n",
    "train(model,train_df)"
   ]
  },
  {
   "cell_type": "code",
   "execution_count": null,
   "id": "3a6afa5c",
   "metadata": {
    "ExecuteTime": {
     "end_time": "2022-03-10T09:14:33.839416Z",
     "start_time": "2022-03-10T09:14:33.690768Z"
    }
   },
   "outputs": [],
   "source": [
    "ROOT_DIR = \"/Users/Zalo/code/AlexandreLaizet/bitcoin_deep_learning\"\n"
   ]
  },
  {
   "cell_type": "code",
   "execution_count": null,
   "id": "3d920d59",
   "metadata": {
    "ExecuteTime": {
     "end_time": "2022-03-10T09:15:44.039668Z",
     "start_time": "2022-03-10T09:15:43.881272Z"
    }
   },
   "outputs": [],
   "source": [
    "file_path = os.path.join(ROOT_DIR,\n",
    "                        \"cross_val_data\",\n",
    "                        'CV_trader.csv')\n",
    "fieldnames = [\"name\",'fold_score',\"mean_score\",\"min_score\",\"max_score\",'hyperparams','date',\n",
    "             \"roi_hodler\", \"sharpe_hodler\", \"roi_trader\", \"sharpe_trader\",\"roi_whale\", \"sharpe_whale\",\n",
    "              \"roi_hodler_whale\",  \"sharpe_hodler_whale\", \"roi_charles\", \n",
    "                \"sharpe_charles\"]\n",
    "pd.DataFrame(columns=fieldnames).to_csv(file_path,index=False)\n",
    "read_result(file=\"CV_trader.csv\")"
   ]
  },
  {
   "cell_type": "code",
   "execution_count": null,
   "id": "80a0a6ff",
   "metadata": {
    "ExecuteTime": {
     "end_time": "2022-03-10T08:56:00.298685Z",
     "start_time": "2022-03-10T08:55:55.872938Z"
    }
   },
   "outputs": [],
   "source": [
    "from bitcoin_deep_learning.metrics import iterate_cross_val_results\n",
    "iterate_cross_val_results()"
   ]
  },
  {
   "cell_type": "code",
   "execution_count": null,
   "id": "904352b5",
   "metadata": {
    "ExecuteTime": {
     "end_time": "2022-03-10T08:58:25.380019Z",
     "start_time": "2022-03-10T08:58:20.477232Z"
    }
   },
   "outputs": [],
   "source": [
    "roi_hodler, roi_trader, roi_whale, roi_hodler_whale, roi_charles, sharpe_hodler, sharpe_trader, sharpe_whale, sharpe_hodler_whale, sharpe_charles = iterate_cross_val_results()\n"
   ]
  },
  {
   "cell_type": "code",
   "execution_count": null,
   "id": "d3f8a684",
   "metadata": {},
   "outputs": [],
   "source": [
    "with open(file_path , 'a', newline='') as csvfile:\n",
    "            #fieldnames = [\"name\",'fold_score',\"mean_score\",\"min_score\",\"max_score\",'hyperparams','date']\n",
    "            writer = csv.DictWriter(csvfile, fieldnames=fieldnames)\n",
    "\n",
    "            writer.writerow({\"name\":model.name, \"fold_score\":fold_score,\n",
    "                            \"mean_score\":score,\"min_score\":min(fold_score),\n",
    "                            \"max_score\":max(fold_score),\n",
    "                            \"hyperparams\":model.hyperparams,\n",
    "                            'date':datetime.now().strftime(\"%d-%m %H:%M:%S\"),\n",
    "                            \"roi_hodler\":roi_hodler\n",
    "                            \"sharpe_hodler\": sharpe_hodler\n",
    "                            \"roi_trader\": roi_trader\n",
    "                            \"sharpe_trader\": sharpe_trader\n",
    "                            \"roi_whale\": roi_whale\n",
    "                            \"sharpe_whale\": sharpe_whale\n",
    "                            \"roi_hodler_whale\": roi_hodler_whale\n",
    "                            \"sharpe_hodler_whale\": sharpe_hodler_whale\n",
    "                            \"roi_charles\": roi_charles\n",
    "                            \"sharpe_charles\":sharpe_charles})\n",
    "            print(\"Training done\")"
   ]
  },
  {
   "cell_type": "code",
   "execution_count": null,
   "id": "c339f31b",
   "metadata": {
    "ExecuteTime": {
     "end_time": "2022-03-10T10:03:05.174992Z",
     "start_time": "2022-03-10T10:03:05.031502Z"
    }
   },
   "outputs": [],
   "source": [
    "train_df= ApiCall().read_local()"
   ]
  },
  {
   "cell_type": "code",
   "execution_count": null,
   "id": "abf7529a",
   "metadata": {
    "ExecuteTime": {
     "end_time": "2022-03-10T10:03:32.173858Z",
     "start_time": "2022-03-10T10:03:31.982100Z"
    }
   },
   "outputs": [],
   "source": [
    "scaler = MinMaxScaler()\n",
    "train_df= ApiCall().read_local()\n",
    "for i in range(1,len(list(train_df.columns))-1):\n",
    "    train_df[list(train_df.columns)[i]] = scaler.fit_transform(np.array(train_df[train_df.columns[1]]).reshape(-1, 1))\n",
    "train_df"
   ]
  },
  {
   "cell_type": "code",
   "execution_count": null,
   "id": "ddf31bc7",
   "metadata": {
    "ExecuteTime": {
     "end_time": "2022-03-10T10:03:36.052997Z",
     "start_time": "2022-03-10T10:03:33.990322Z"
    }
   },
   "outputs": [],
   "source": [
    "for warm_start in  [True,False]:\n",
    "    for max_features in [\"auto\", \"sqrt\", \"log2\"]:\n",
    "        for bootstrap in [True,False]:\n",
    "            for criterion in [\"squared_error\", \"absolute_error\", \"poisson\"]:\n",
    "                    for max_depht in [None,True]:\n",
    "                        if max_depht :\n",
    "                            max_depht = np.random.randint(1,1000)\n",
    "                        print(\"oui\")\n",
    "                        min_samples_split = random.randint(2,100)\n",
    "                        min_samples_leaf = random.randint(2,100)\n",
    "                        model = RandomForestReg(warm_start=warm_start,\n",
    "                                               max_features=max_features,\n",
    "                                               bootstrap=bootstrap,\n",
    "                                               criterion=criterion,\n",
    "                                               max_depht=max_depht,\n",
    "                                               min_samples_split=min_samples_split,\n",
    "                                               min_samples_leaf=min_samples_leaf)\n",
    "\n",
    "                        cv_train(model,train_df)"
   ]
  },
  {
   "cell_type": "code",
   "execution_count": 27,
   "id": "3cd23d26",
   "metadata": {
    "ExecuteTime": {
     "end_time": "2022-03-10T11:22:37.446679Z",
     "start_time": "2022-03-10T11:19:30.119973Z"
    }
   },
   "outputs": [
    {
     "name": "stderr",
     "output_type": "stream",
     "text": [
      "100%|████████████████████████████████████████████████████████████████████████████████████████████████████████████████████████████████████████████████| 35/35 [02:57<00:00,  5.07s/it]\n"
     ]
    },
    {
     "name": "stdout",
     "output_type": "stream",
     "text": [
      "[0.27702074865321724, 0.39866031865659446, 0.33400412784029365, 0.33443788814979536, 0.14175623511513047, -0.2824240613868797, -0.29076824191104333, -0.24699767200798428, -0.12283953354687571, -0.060139076467191965, 0.16689361278589554, -0.20495794683518231, -0.2654374044503006, 0.025969350391875423, 0.29655375213090895, 0.1080712096662022, 0.14216230666052754, 0.12772166178061983, 0.023539343735346607, 0.283302223859873, 0.40087990847917987, 0.2890920102664558, 0.3651169244895911, 0.37344415648179985, 0.38341082597163556, -0.14638556686848347, -0.24133489844179024, -0.38243218377026755, 0.20217003805619904, 0.2192444658295618, 0.3554664065473805, 0.18448470378028614]\n",
      "Training with trader done\n"
     ]
    },
    {
     "data": {
      "text/html": [
       "<div>\n",
       "<style scoped>\n",
       "    .dataframe tbody tr th:only-of-type {\n",
       "        vertical-align: middle;\n",
       "    }\n",
       "\n",
       "    .dataframe tbody tr th {\n",
       "        vertical-align: top;\n",
       "    }\n",
       "\n",
       "    .dataframe thead th {\n",
       "        text-align: right;\n",
       "    }\n",
       "</style>\n",
       "<table border=\"1\" class=\"dataframe\">\n",
       "  <thead>\n",
       "    <tr style=\"text-align: right;\">\n",
       "      <th></th>\n",
       "      <th>name</th>\n",
       "      <th>fold_score</th>\n",
       "      <th>mean_score</th>\n",
       "      <th>min_score</th>\n",
       "      <th>max_score</th>\n",
       "      <th>hyperparams</th>\n",
       "      <th>date</th>\n",
       "      <th>roi_hodler</th>\n",
       "      <th>sharpe_hodler</th>\n",
       "      <th>roi_trader</th>\n",
       "      <th>sharpe_trader</th>\n",
       "      <th>roi_whale</th>\n",
       "      <th>sharpe_whale</th>\n",
       "      <th>roi_hodler_whale</th>\n",
       "      <th>sharpe_hodler_whale</th>\n",
       "      <th>roi_charles</th>\n",
       "      <th>sharpe_charles</th>\n",
       "    </tr>\n",
       "  </thead>\n",
       "  <tbody>\n",
       "    <tr>\n",
       "      <th>0</th>\n",
       "      <td>LinearReg</td>\n",
       "      <td>[0.06418, 0.08195, 0.10259, 0.10487, 0.09254, ...</td>\n",
       "      <td>0.07901</td>\n",
       "      <td>0.03823</td>\n",
       "      <td>0.11913</td>\n",
       "      <td>{'alpha': 1, 'l1_ratio': 0.5}</td>\n",
       "      <td>10-03 10:30:45</td>\n",
       "      <td>0.076063</td>\n",
       "      <td>2.692379</td>\n",
       "      <td>0.0</td>\n",
       "      <td>0.0</td>\n",
       "      <td>0.0</td>\n",
       "      <td>0.0</td>\n",
       "      <td>0.0</td>\n",
       "      <td>0.0</td>\n",
       "      <td>0.099678</td>\n",
       "      <td>2.089733</td>\n",
       "    </tr>\n",
       "    <tr>\n",
       "      <th>1</th>\n",
       "      <td>ClassicLinearReg</td>\n",
       "      <td>[0.19434, 0.07399, 0.12104, 0.14989, 0.10942, ...</td>\n",
       "      <td>0.13687</td>\n",
       "      <td>0.04725</td>\n",
       "      <td>0.36640</td>\n",
       "      <td>{'n_estimator': 1000}</td>\n",
       "      <td>10-03 10:31:55</td>\n",
       "      <td>0.076063</td>\n",
       "      <td>2.692379</td>\n",
       "      <td>0.0</td>\n",
       "      <td>0.0</td>\n",
       "      <td>0.0</td>\n",
       "      <td>0.0</td>\n",
       "      <td>0.0</td>\n",
       "      <td>0.0</td>\n",
       "      <td>0.099678</td>\n",
       "      <td>2.089733</td>\n",
       "    </tr>\n",
       "    <tr>\n",
       "      <th>2</th>\n",
       "      <td>RandomForestReg</td>\n",
       "      <td>[0.20384, 0.0714, 0.12043, 0.15236, 0.11155, 0...</td>\n",
       "      <td>0.13891</td>\n",
       "      <td>0.04585</td>\n",
       "      <td>0.36071</td>\n",
       "      <td>{'n_estimator': 1000}</td>\n",
       "      <td>10-03 10:33:46</td>\n",
       "      <td>0.076063</td>\n",
       "      <td>2.692379</td>\n",
       "      <td>0.0</td>\n",
       "      <td>0.0</td>\n",
       "      <td>0.0</td>\n",
       "      <td>0.0</td>\n",
       "      <td>0.0</td>\n",
       "      <td>0.0</td>\n",
       "      <td>0.099678</td>\n",
       "      <td>2.089733</td>\n",
       "    </tr>\n",
       "    <tr>\n",
       "      <th>3</th>\n",
       "      <td>RandomForestReg</td>\n",
       "      <td>[0.07715, 0.09137, 0.11052, 0.11054, 0.10873, ...</td>\n",
       "      <td>0.10278</td>\n",
       "      <td>0.05660</td>\n",
       "      <td>0.16337</td>\n",
       "      <td>{'n_estimator': 1000, 'warm_start': (False,), ...</td>\n",
       "      <td>10-03 11:05:46</td>\n",
       "      <td>0.076063</td>\n",
       "      <td>2.692379</td>\n",
       "      <td>0.0</td>\n",
       "      <td>0.0</td>\n",
       "      <td>0.0</td>\n",
       "      <td>0.0</td>\n",
       "      <td>0.0</td>\n",
       "      <td>0.0</td>\n",
       "      <td>0.099678</td>\n",
       "      <td>2.089733</td>\n",
       "    </tr>\n",
       "    <tr>\n",
       "      <th>4</th>\n",
       "      <td>RandomForestReg</td>\n",
       "      <td>[0.07788, 0.0892, 0.11134, 0.10987, 0.10908, 0...</td>\n",
       "      <td>0.10242</td>\n",
       "      <td>0.05602</td>\n",
       "      <td>0.16436</td>\n",
       "      <td>None</td>\n",
       "      <td>10-03 11:19:05</td>\n",
       "      <td>0.076063</td>\n",
       "      <td>2.692379</td>\n",
       "      <td>0.0</td>\n",
       "      <td>0.0</td>\n",
       "      <td>0.0</td>\n",
       "      <td>0.0</td>\n",
       "      <td>0.0</td>\n",
       "      <td>0.0</td>\n",
       "      <td>0.099678</td>\n",
       "      <td>2.089733</td>\n",
       "    </tr>\n",
       "    <tr>\n",
       "      <th>5</th>\n",
       "      <td>RandomForestReg</td>\n",
       "      <td>[0.08002, 0.08993, 0.11027, 0.10946, 0.10886, ...</td>\n",
       "      <td>0.10268</td>\n",
       "      <td>0.05541</td>\n",
       "      <td>0.16185</td>\n",
       "      <td>None</td>\n",
       "      <td>10-03 12:01:53</td>\n",
       "      <td>0.076063</td>\n",
       "      <td>2.692379</td>\n",
       "      <td>0.0</td>\n",
       "      <td>0.0</td>\n",
       "      <td>0.0</td>\n",
       "      <td>0.0</td>\n",
       "      <td>0.0</td>\n",
       "      <td>0.0</td>\n",
       "      <td>0.099678</td>\n",
       "      <td>2.089733</td>\n",
       "    </tr>\n",
       "    <tr>\n",
       "      <th>6</th>\n",
       "      <td>RandomForestReg</td>\n",
       "      <td>[0.07527, 0.08642, 0.10691, 0.10912, 0.10751, ...</td>\n",
       "      <td>0.09576</td>\n",
       "      <td>0.05908</td>\n",
       "      <td>0.12754</td>\n",
       "      <td>None</td>\n",
       "      <td>10-03 12:02:20</td>\n",
       "      <td>0.076063</td>\n",
       "      <td>2.692379</td>\n",
       "      <td>0.0</td>\n",
       "      <td>0.0</td>\n",
       "      <td>0.0</td>\n",
       "      <td>0.0</td>\n",
       "      <td>0.0</td>\n",
       "      <td>0.0</td>\n",
       "      <td>0.099678</td>\n",
       "      <td>2.089733</td>\n",
       "    </tr>\n",
       "    <tr>\n",
       "      <th>7</th>\n",
       "      <td>RandomForestReg</td>\n",
       "      <td>[0.07444, 0.08497, 0.10715, 0.10913, 0.10034, ...</td>\n",
       "      <td>0.09204</td>\n",
       "      <td>0.05517</td>\n",
       "      <td>0.12258</td>\n",
       "      <td>None</td>\n",
       "      <td>10-03 12:02:37</td>\n",
       "      <td>0.076063</td>\n",
       "      <td>2.692379</td>\n",
       "      <td>0.0</td>\n",
       "      <td>0.0</td>\n",
       "      <td>0.0</td>\n",
       "      <td>0.0</td>\n",
       "      <td>0.0</td>\n",
       "      <td>0.0</td>\n",
       "      <td>0.099678</td>\n",
       "      <td>2.089733</td>\n",
       "    </tr>\n",
       "    <tr>\n",
       "      <th>8</th>\n",
       "      <td>RandomForestReg</td>\n",
       "      <td>[0.0725, 0.08325, 0.10685, 0.10782, 0.10072, 0...</td>\n",
       "      <td>0.08863</td>\n",
       "      <td>0.05217</td>\n",
       "      <td>0.12032</td>\n",
       "      <td>None</td>\n",
       "      <td>10-03 12:02:52</td>\n",
       "      <td>0.076063</td>\n",
       "      <td>2.692379</td>\n",
       "      <td>0.0</td>\n",
       "      <td>0.0</td>\n",
       "      <td>0.0</td>\n",
       "      <td>0.0</td>\n",
       "      <td>0.0</td>\n",
       "      <td>0.0</td>\n",
       "      <td>0.099678</td>\n",
       "      <td>2.089733</td>\n",
       "    </tr>\n",
       "    <tr>\n",
       "      <th>9</th>\n",
       "      <td>RandomForestReg</td>\n",
       "      <td>[0.07966, 0.09073, 0.11119, 0.11021, 0.11037, ...</td>\n",
       "      <td>0.10300</td>\n",
       "      <td>0.05560</td>\n",
       "      <td>0.16627</td>\n",
       "      <td>None</td>\n",
       "      <td>10-03 12:03:14</td>\n",
       "      <td>0.076063</td>\n",
       "      <td>2.692379</td>\n",
       "      <td>0.0</td>\n",
       "      <td>0.0</td>\n",
       "      <td>0.0</td>\n",
       "      <td>0.0</td>\n",
       "      <td>0.0</td>\n",
       "      <td>0.0</td>\n",
       "      <td>0.099678</td>\n",
       "      <td>2.089733</td>\n",
       "    </tr>\n",
       "    <tr>\n",
       "      <th>10</th>\n",
       "      <td>RandomForestReg</td>\n",
       "      <td>[0.07694, 0.0866, 0.10709, 0.11037, 0.10789, 0...</td>\n",
       "      <td>0.09659</td>\n",
       "      <td>0.05877</td>\n",
       "      <td>0.12845</td>\n",
       "      <td>None</td>\n",
       "      <td>10-03 12:03:32</td>\n",
       "      <td>0.076063</td>\n",
       "      <td>2.692379</td>\n",
       "      <td>0.0</td>\n",
       "      <td>0.0</td>\n",
       "      <td>0.0</td>\n",
       "      <td>0.0</td>\n",
       "      <td>0.0</td>\n",
       "      <td>0.0</td>\n",
       "      <td>0.099678</td>\n",
       "      <td>2.089733</td>\n",
       "    </tr>\n",
       "    <tr>\n",
       "      <th>11</th>\n",
       "      <td>RandomForestReg</td>\n",
       "      <td>[0.07392, 0.08468, 0.10731, 0.10979, 0.10231, ...</td>\n",
       "      <td>0.09228</td>\n",
       "      <td>0.05387</td>\n",
       "      <td>0.12306</td>\n",
       "      <td>None</td>\n",
       "      <td>10-03 12:03:48</td>\n",
       "      <td>0.076063</td>\n",
       "      <td>2.692379</td>\n",
       "      <td>0.0</td>\n",
       "      <td>0.0</td>\n",
       "      <td>0.0</td>\n",
       "      <td>0.0</td>\n",
       "      <td>0.0</td>\n",
       "      <td>0.0</td>\n",
       "      <td>0.099678</td>\n",
       "      <td>2.089733</td>\n",
       "    </tr>\n",
       "    <tr>\n",
       "      <th>12</th>\n",
       "      <td>RandomForestReg</td>\n",
       "      <td>[0.07272, 0.08232, 0.10666, 0.10733, 0.10143, ...</td>\n",
       "      <td>0.08884</td>\n",
       "      <td>0.05218</td>\n",
       "      <td>0.11962</td>\n",
       "      <td>None</td>\n",
       "      <td>10-03 12:04:06</td>\n",
       "      <td>0.076063</td>\n",
       "      <td>2.692379</td>\n",
       "      <td>0.0</td>\n",
       "      <td>0.0</td>\n",
       "      <td>0.0</td>\n",
       "      <td>0.0</td>\n",
       "      <td>0.0</td>\n",
       "      <td>0.0</td>\n",
       "      <td>0.099678</td>\n",
       "      <td>2.089733</td>\n",
       "    </tr>\n",
       "    <tr>\n",
       "      <th>13</th>\n",
       "      <td>RandomForestReg</td>\n",
       "      <td>[0.07579, 0.09089, 0.1107, 0.10931, 0.10744, 0...</td>\n",
       "      <td>0.10246</td>\n",
       "      <td>0.05830</td>\n",
       "      <td>0.16554</td>\n",
       "      <td>None</td>\n",
       "      <td>10-03 12:04:31</td>\n",
       "      <td>0.076063</td>\n",
       "      <td>2.692379</td>\n",
       "      <td>0.0</td>\n",
       "      <td>0.0</td>\n",
       "      <td>0.0</td>\n",
       "      <td>0.0</td>\n",
       "      <td>0.0</td>\n",
       "      <td>0.0</td>\n",
       "      <td>0.099678</td>\n",
       "      <td>2.089733</td>\n",
       "    </tr>\n",
       "    <tr>\n",
       "      <th>14</th>\n",
       "      <td>RandomForestReg</td>\n",
       "      <td>[0.07655, 0.08533, 0.10796, 0.11041, 0.10713, ...</td>\n",
       "      <td>0.09651</td>\n",
       "      <td>0.05790</td>\n",
       "      <td>0.12823</td>\n",
       "      <td>None</td>\n",
       "      <td>10-03 12:04:49</td>\n",
       "      <td>0.076063</td>\n",
       "      <td>2.692379</td>\n",
       "      <td>0.0</td>\n",
       "      <td>0.0</td>\n",
       "      <td>0.0</td>\n",
       "      <td>0.0</td>\n",
       "      <td>0.0</td>\n",
       "      <td>0.0</td>\n",
       "      <td>0.099678</td>\n",
       "      <td>2.089733</td>\n",
       "    </tr>\n",
       "    <tr>\n",
       "      <th>15</th>\n",
       "      <td>RandomForestReg</td>\n",
       "      <td>[0.07572, 0.08296, 0.10801, 0.11006, 0.10116, ...</td>\n",
       "      <td>0.09264</td>\n",
       "      <td>0.05557</td>\n",
       "      <td>0.12268</td>\n",
       "      <td>None</td>\n",
       "      <td>10-03 12:05:05</td>\n",
       "      <td>0.076063</td>\n",
       "      <td>2.692379</td>\n",
       "      <td>0.0</td>\n",
       "      <td>0.0</td>\n",
       "      <td>0.0</td>\n",
       "      <td>0.0</td>\n",
       "      <td>0.0</td>\n",
       "      <td>0.0</td>\n",
       "      <td>0.099678</td>\n",
       "      <td>2.089733</td>\n",
       "    </tr>\n",
       "    <tr>\n",
       "      <th>16</th>\n",
       "      <td>RandomForestReg</td>\n",
       "      <td>[0.07072, 0.08243, 0.10715, 0.10705, 0.10067, ...</td>\n",
       "      <td>0.08828</td>\n",
       "      <td>0.05229</td>\n",
       "      <td>0.12149</td>\n",
       "      <td>None</td>\n",
       "      <td>10-03 12:05:20</td>\n",
       "      <td>0.076063</td>\n",
       "      <td>2.692379</td>\n",
       "      <td>0.0</td>\n",
       "      <td>0.0</td>\n",
       "      <td>0.0</td>\n",
       "      <td>0.0</td>\n",
       "      <td>0.0</td>\n",
       "      <td>0.0</td>\n",
       "      <td>0.099678</td>\n",
       "      <td>2.089733</td>\n",
       "    </tr>\n",
       "    <tr>\n",
       "      <th>17</th>\n",
       "      <td>RandomForestReg</td>\n",
       "      <td>[0.07774, 0.08848, 0.11061, 0.11085, 0.11033, ...</td>\n",
       "      <td>0.10221</td>\n",
       "      <td>0.05571</td>\n",
       "      <td>0.16991</td>\n",
       "      <td>None</td>\n",
       "      <td>10-03 12:05:42</td>\n",
       "      <td>0.076063</td>\n",
       "      <td>2.692379</td>\n",
       "      <td>0.0</td>\n",
       "      <td>0.0</td>\n",
       "      <td>0.0</td>\n",
       "      <td>0.0</td>\n",
       "      <td>0.0</td>\n",
       "      <td>0.0</td>\n",
       "      <td>0.099678</td>\n",
       "      <td>2.089733</td>\n",
       "    </tr>\n",
       "    <tr>\n",
       "      <th>18</th>\n",
       "      <td>RandomForestReg</td>\n",
       "      <td>[0.07444, 0.08778, 0.10823, 0.11104, 0.10693, ...</td>\n",
       "      <td>0.09650</td>\n",
       "      <td>0.05654</td>\n",
       "      <td>0.13228</td>\n",
       "      <td>None</td>\n",
       "      <td>10-03 12:06:00</td>\n",
       "      <td>0.076063</td>\n",
       "      <td>2.692379</td>\n",
       "      <td>0.0</td>\n",
       "      <td>0.0</td>\n",
       "      <td>0.0</td>\n",
       "      <td>0.0</td>\n",
       "      <td>0.0</td>\n",
       "      <td>0.0</td>\n",
       "      <td>0.099678</td>\n",
       "      <td>2.089733</td>\n",
       "    </tr>\n",
       "    <tr>\n",
       "      <th>19</th>\n",
       "      <td>RandomForestReg</td>\n",
       "      <td>[0.07531, 0.08427, 0.10827, 0.10884, 0.10055, ...</td>\n",
       "      <td>0.09247</td>\n",
       "      <td>0.05482</td>\n",
       "      <td>0.12292</td>\n",
       "      <td>None</td>\n",
       "      <td>10-03 12:06:22</td>\n",
       "      <td>0.076063</td>\n",
       "      <td>2.692379</td>\n",
       "      <td>0.0</td>\n",
       "      <td>0.0</td>\n",
       "      <td>0.0</td>\n",
       "      <td>0.0</td>\n",
       "      <td>0.0</td>\n",
       "      <td>0.0</td>\n",
       "      <td>0.099678</td>\n",
       "      <td>2.089733</td>\n",
       "    </tr>\n",
       "    <tr>\n",
       "      <th>20</th>\n",
       "      <td>RandomForestReg</td>\n",
       "      <td>[0.07311, 0.0831, 0.10623, 0.10636, 0.10002, 0...</td>\n",
       "      <td>0.08891</td>\n",
       "      <td>0.05226</td>\n",
       "      <td>0.12141</td>\n",
       "      <td>None</td>\n",
       "      <td>10-03 12:06:37</td>\n",
       "      <td>0.076063</td>\n",
       "      <td>2.692379</td>\n",
       "      <td>0.0</td>\n",
       "      <td>0.0</td>\n",
       "      <td>0.0</td>\n",
       "      <td>0.0</td>\n",
       "      <td>0.0</td>\n",
       "      <td>0.0</td>\n",
       "      <td>0.099678</td>\n",
       "      <td>2.089733</td>\n",
       "    </tr>\n",
       "    <tr>\n",
       "      <th>21</th>\n",
       "      <td>RandomForestReg</td>\n",
       "      <td>[0.07907, 0.09075, 0.11205, 0.11038, 0.1088, 0...</td>\n",
       "      <td>0.10302</td>\n",
       "      <td>0.06139</td>\n",
       "      <td>0.16372</td>\n",
       "      <td>None</td>\n",
       "      <td>10-03 12:06:59</td>\n",
       "      <td>0.076063</td>\n",
       "      <td>2.692379</td>\n",
       "      <td>0.0</td>\n",
       "      <td>0.0</td>\n",
       "      <td>0.0</td>\n",
       "      <td>0.0</td>\n",
       "      <td>0.0</td>\n",
       "      <td>0.0</td>\n",
       "      <td>0.099678</td>\n",
       "      <td>2.089733</td>\n",
       "    </tr>\n",
       "    <tr>\n",
       "      <th>22</th>\n",
       "      <td>RandomForestReg</td>\n",
       "      <td>[0.07508, 0.08632, 0.10677, 0.11155, 0.108, 0....</td>\n",
       "      <td>0.09620</td>\n",
       "      <td>0.05852</td>\n",
       "      <td>0.12732</td>\n",
       "      <td>None</td>\n",
       "      <td>10-03 12:07:16</td>\n",
       "      <td>0.076063</td>\n",
       "      <td>2.692379</td>\n",
       "      <td>0.0</td>\n",
       "      <td>0.0</td>\n",
       "      <td>0.0</td>\n",
       "      <td>0.0</td>\n",
       "      <td>0.0</td>\n",
       "      <td>0.0</td>\n",
       "      <td>0.099678</td>\n",
       "      <td>2.089733</td>\n",
       "    </tr>\n",
       "    <tr>\n",
       "      <th>23</th>\n",
       "      <td>RandomForestReg</td>\n",
       "      <td>[0.07485, 0.08476, 0.10643, 0.10994, 0.10216, ...</td>\n",
       "      <td>0.09247</td>\n",
       "      <td>0.05417</td>\n",
       "      <td>0.12359</td>\n",
       "      <td>None</td>\n",
       "      <td>10-03 12:07:33</td>\n",
       "      <td>0.076063</td>\n",
       "      <td>2.692379</td>\n",
       "      <td>0.0</td>\n",
       "      <td>0.0</td>\n",
       "      <td>0.0</td>\n",
       "      <td>0.0</td>\n",
       "      <td>0.0</td>\n",
       "      <td>0.0</td>\n",
       "      <td>0.099678</td>\n",
       "      <td>2.089733</td>\n",
       "    </tr>\n",
       "    <tr>\n",
       "      <th>24</th>\n",
       "      <td>RandomForestReg</td>\n",
       "      <td>[0.0724, 0.08247, 0.10603, 0.10726, 0.1023, 0....</td>\n",
       "      <td>0.08868</td>\n",
       "      <td>0.05279</td>\n",
       "      <td>0.12071</td>\n",
       "      <td>None</td>\n",
       "      <td>10-03 12:07:48</td>\n",
       "      <td>0.076063</td>\n",
       "      <td>2.692379</td>\n",
       "      <td>0.0</td>\n",
       "      <td>0.0</td>\n",
       "      <td>0.0</td>\n",
       "      <td>0.0</td>\n",
       "      <td>0.0</td>\n",
       "      <td>0.0</td>\n",
       "      <td>0.099678</td>\n",
       "      <td>2.089733</td>\n",
       "    </tr>\n",
       "    <tr>\n",
       "      <th>25</th>\n",
       "      <td>RandomForestReg</td>\n",
       "      <td>[0.07784, 0.08863, 0.11083, 0.10996, 0.11029, ...</td>\n",
       "      <td>0.10281</td>\n",
       "      <td>0.05457</td>\n",
       "      <td>0.16467</td>\n",
       "      <td>None</td>\n",
       "      <td>10-03 12:08:15</td>\n",
       "      <td>0.076063</td>\n",
       "      <td>2.692379</td>\n",
       "      <td>0.0</td>\n",
       "      <td>0.0</td>\n",
       "      <td>0.0</td>\n",
       "      <td>0.0</td>\n",
       "      <td>0.0</td>\n",
       "      <td>0.0</td>\n",
       "      <td>0.099678</td>\n",
       "      <td>2.089733</td>\n",
       "    </tr>\n",
       "    <tr>\n",
       "      <th>26</th>\n",
       "      <td>RandomForestReg</td>\n",
       "      <td>[0.07577, 0.08496, 0.10732, 0.11072, 0.10667, ...</td>\n",
       "      <td>0.09674</td>\n",
       "      <td>0.05780</td>\n",
       "      <td>0.12838</td>\n",
       "      <td>None</td>\n",
       "      <td>10-03 12:08:38</td>\n",
       "      <td>0.076063</td>\n",
       "      <td>2.692379</td>\n",
       "      <td>0.0</td>\n",
       "      <td>0.0</td>\n",
       "      <td>0.0</td>\n",
       "      <td>0.0</td>\n",
       "      <td>0.0</td>\n",
       "      <td>0.0</td>\n",
       "      <td>0.099678</td>\n",
       "      <td>2.089733</td>\n",
       "    </tr>\n",
       "    <tr>\n",
       "      <th>27</th>\n",
       "      <td>RandomForestReg</td>\n",
       "      <td>[0.073, 0.08445, 0.10625, 0.10915, 0.10046, 0....</td>\n",
       "      <td>0.09235</td>\n",
       "      <td>0.05375</td>\n",
       "      <td>0.12310</td>\n",
       "      <td>None</td>\n",
       "      <td>10-03 12:09:10</td>\n",
       "      <td>0.076063</td>\n",
       "      <td>2.692379</td>\n",
       "      <td>0.0</td>\n",
       "      <td>0.0</td>\n",
       "      <td>0.0</td>\n",
       "      <td>0.0</td>\n",
       "      <td>0.0</td>\n",
       "      <td>0.0</td>\n",
       "      <td>0.099678</td>\n",
       "      <td>2.089733</td>\n",
       "    </tr>\n",
       "    <tr>\n",
       "      <th>28</th>\n",
       "      <td>RandomForestReg</td>\n",
       "      <td>[0.07578, 0.0819, 0.10646, 0.10744, 0.10217, 0...</td>\n",
       "      <td>0.08872</td>\n",
       "      <td>0.05283</td>\n",
       "      <td>0.12098</td>\n",
       "      <td>None</td>\n",
       "      <td>10-03 12:09:25</td>\n",
       "      <td>0.076063</td>\n",
       "      <td>2.692379</td>\n",
       "      <td>0.0</td>\n",
       "      <td>0.0</td>\n",
       "      <td>0.0</td>\n",
       "      <td>0.0</td>\n",
       "      <td>0.0</td>\n",
       "      <td>0.0</td>\n",
       "      <td>0.099678</td>\n",
       "      <td>2.089733</td>\n",
       "    </tr>\n",
       "    <tr>\n",
       "      <th>29</th>\n",
       "      <td>RandomForestReg</td>\n",
       "      <td>[0.07824, 0.0873, 0.11104, 0.10974, 0.10862, 0...</td>\n",
       "      <td>0.10285</td>\n",
       "      <td>0.05843</td>\n",
       "      <td>0.16836</td>\n",
       "      <td>None</td>\n",
       "      <td>10-03 12:09:48</td>\n",
       "      <td>0.076063</td>\n",
       "      <td>2.692379</td>\n",
       "      <td>0.0</td>\n",
       "      <td>0.0</td>\n",
       "      <td>0.0</td>\n",
       "      <td>0.0</td>\n",
       "      <td>0.0</td>\n",
       "      <td>0.0</td>\n",
       "      <td>0.099678</td>\n",
       "      <td>2.089733</td>\n",
       "    </tr>\n",
       "    <tr>\n",
       "      <th>30</th>\n",
       "      <td>RandomForestReg</td>\n",
       "      <td>[0.07448, 0.0857, 0.10748, 0.10938, 0.10748, 0...</td>\n",
       "      <td>0.09603</td>\n",
       "      <td>0.05896</td>\n",
       "      <td>0.12739</td>\n",
       "      <td>None</td>\n",
       "      <td>10-03 12:10:10</td>\n",
       "      <td>0.076063</td>\n",
       "      <td>2.692379</td>\n",
       "      <td>0.0</td>\n",
       "      <td>0.0</td>\n",
       "      <td>0.0</td>\n",
       "      <td>0.0</td>\n",
       "      <td>0.0</td>\n",
       "      <td>0.0</td>\n",
       "      <td>0.099678</td>\n",
       "      <td>2.089733</td>\n",
       "    </tr>\n",
       "    <tr>\n",
       "      <th>31</th>\n",
       "      <td>RandomForestReg</td>\n",
       "      <td>[0.07396, 0.0851, 0.10663, 0.10988, 0.10128, 0...</td>\n",
       "      <td>0.09194</td>\n",
       "      <td>0.05412</td>\n",
       "      <td>0.12323</td>\n",
       "      <td>None</td>\n",
       "      <td>10-03 12:10:27</td>\n",
       "      <td>0.076063</td>\n",
       "      <td>2.692379</td>\n",
       "      <td>0.0</td>\n",
       "      <td>0.0</td>\n",
       "      <td>0.0</td>\n",
       "      <td>0.0</td>\n",
       "      <td>0.0</td>\n",
       "      <td>0.0</td>\n",
       "      <td>0.099678</td>\n",
       "      <td>2.089733</td>\n",
       "    </tr>\n",
       "    <tr>\n",
       "      <th>32</th>\n",
       "      <td>RandomForestReg</td>\n",
       "      <td>[0.0725, 0.08327, 0.10758, 0.10801, 0.10089, 0...</td>\n",
       "      <td>0.08862</td>\n",
       "      <td>0.05261</td>\n",
       "      <td>0.12182</td>\n",
       "      <td>None</td>\n",
       "      <td>10-03 12:10:42</td>\n",
       "      <td>0.076063</td>\n",
       "      <td>2.692379</td>\n",
       "      <td>0.0</td>\n",
       "      <td>0.0</td>\n",
       "      <td>0.0</td>\n",
       "      <td>0.0</td>\n",
       "      <td>0.0</td>\n",
       "      <td>0.0</td>\n",
       "      <td>0.099678</td>\n",
       "      <td>2.089733</td>\n",
       "    </tr>\n",
       "    <tr>\n",
       "      <th>33</th>\n",
       "      <td>RandomForestReg</td>\n",
       "      <td>[0.07614, 0.08897, 0.11323, 0.10908, 0.10958, ...</td>\n",
       "      <td>0.10279</td>\n",
       "      <td>0.05702</td>\n",
       "      <td>0.16779</td>\n",
       "      <td>None</td>\n",
       "      <td>10-03 12:11:04</td>\n",
       "      <td>0.076063</td>\n",
       "      <td>2.692379</td>\n",
       "      <td>0.0</td>\n",
       "      <td>0.0</td>\n",
       "      <td>0.0</td>\n",
       "      <td>0.0</td>\n",
       "      <td>0.0</td>\n",
       "      <td>0.0</td>\n",
       "      <td>0.099678</td>\n",
       "      <td>2.089733</td>\n",
       "    </tr>\n",
       "    <tr>\n",
       "      <th>34</th>\n",
       "      <td>RandomForestReg</td>\n",
       "      <td>[0.07552, 0.08467, 0.10697, 0.11008, 0.10868, ...</td>\n",
       "      <td>0.09657</td>\n",
       "      <td>0.05872</td>\n",
       "      <td>0.12654</td>\n",
       "      <td>None</td>\n",
       "      <td>10-03 12:11:21</td>\n",
       "      <td>0.076063</td>\n",
       "      <td>2.692379</td>\n",
       "      <td>0.0</td>\n",
       "      <td>0.0</td>\n",
       "      <td>0.0</td>\n",
       "      <td>0.0</td>\n",
       "      <td>0.0</td>\n",
       "      <td>0.0</td>\n",
       "      <td>0.099678</td>\n",
       "      <td>2.089733</td>\n",
       "    </tr>\n",
       "    <tr>\n",
       "      <th>35</th>\n",
       "      <td>RandomForestReg</td>\n",
       "      <td>[0.07238, 0.08404, 0.10776, 0.11016, 0.10214, ...</td>\n",
       "      <td>0.09229</td>\n",
       "      <td>0.05474</td>\n",
       "      <td>0.12335</td>\n",
       "      <td>None</td>\n",
       "      <td>10-03 12:11:38</td>\n",
       "      <td>0.076063</td>\n",
       "      <td>2.692379</td>\n",
       "      <td>0.0</td>\n",
       "      <td>0.0</td>\n",
       "      <td>0.0</td>\n",
       "      <td>0.0</td>\n",
       "      <td>0.0</td>\n",
       "      <td>0.0</td>\n",
       "      <td>0.099678</td>\n",
       "      <td>2.089733</td>\n",
       "    </tr>\n",
       "    <tr>\n",
       "      <th>36</th>\n",
       "      <td>RandomForestReg</td>\n",
       "      <td>[0.07262, 0.08313, 0.1067, 0.10733, 0.1008, 0....</td>\n",
       "      <td>0.08828</td>\n",
       "      <td>0.05255</td>\n",
       "      <td>0.12085</td>\n",
       "      <td>None</td>\n",
       "      <td>10-03 12:11:52</td>\n",
       "      <td>0.076063</td>\n",
       "      <td>2.692379</td>\n",
       "      <td>0.0</td>\n",
       "      <td>0.0</td>\n",
       "      <td>0.0</td>\n",
       "      <td>0.0</td>\n",
       "      <td>0.0</td>\n",
       "      <td>0.0</td>\n",
       "      <td>0.099678</td>\n",
       "      <td>2.089733</td>\n",
       "    </tr>\n",
       "    <tr>\n",
       "      <th>37</th>\n",
       "      <td>RandomForestReg</td>\n",
       "      <td>[0.07639, 0.08969, 0.11026, 0.11091, 0.10897, ...</td>\n",
       "      <td>0.10283</td>\n",
       "      <td>0.05697</td>\n",
       "      <td>0.16460</td>\n",
       "      <td>None</td>\n",
       "      <td>10-03 12:12:21</td>\n",
       "      <td>0.076063</td>\n",
       "      <td>2.692379</td>\n",
       "      <td>0.0</td>\n",
       "      <td>0.0</td>\n",
       "      <td>0.0</td>\n",
       "      <td>0.0</td>\n",
       "      <td>0.0</td>\n",
       "      <td>0.0</td>\n",
       "      <td>0.099678</td>\n",
       "      <td>2.089733</td>\n",
       "    </tr>\n",
       "    <tr>\n",
       "      <th>38</th>\n",
       "      <td>RandomForestReg</td>\n",
       "      <td>[0.07772, 0.08591, 0.1059, 0.11044, 0.10786, 0...</td>\n",
       "      <td>0.09668</td>\n",
       "      <td>0.05710</td>\n",
       "      <td>0.13112</td>\n",
       "      <td>None</td>\n",
       "      <td>10-03 12:12:38</td>\n",
       "      <td>0.076063</td>\n",
       "      <td>2.692379</td>\n",
       "      <td>0.0</td>\n",
       "      <td>0.0</td>\n",
       "      <td>0.0</td>\n",
       "      <td>0.0</td>\n",
       "      <td>0.0</td>\n",
       "      <td>0.0</td>\n",
       "      <td>0.099678</td>\n",
       "      <td>2.089733</td>\n",
       "    </tr>\n",
       "    <tr>\n",
       "      <th>39</th>\n",
       "      <td>RandomForestReg</td>\n",
       "      <td>[0.07547, 0.08545, 0.10887, 0.1101, 0.10092, 0...</td>\n",
       "      <td>0.09230</td>\n",
       "      <td>0.05398</td>\n",
       "      <td>0.12265</td>\n",
       "      <td>None</td>\n",
       "      <td>10-03 12:12:55</td>\n",
       "      <td>0.076063</td>\n",
       "      <td>2.692379</td>\n",
       "      <td>0.0</td>\n",
       "      <td>0.0</td>\n",
       "      <td>0.0</td>\n",
       "      <td>0.0</td>\n",
       "      <td>0.0</td>\n",
       "      <td>0.0</td>\n",
       "      <td>0.099678</td>\n",
       "      <td>2.089733</td>\n",
       "    </tr>\n",
       "    <tr>\n",
       "      <th>40</th>\n",
       "      <td>RandomForestReg</td>\n",
       "      <td>[0.07237, 0.0814, 0.10649, 0.10704, 0.10063, 0...</td>\n",
       "      <td>0.08874</td>\n",
       "      <td>0.05171</td>\n",
       "      <td>0.12105</td>\n",
       "      <td>None</td>\n",
       "      <td>10-03 12:13:09</td>\n",
       "      <td>0.076063</td>\n",
       "      <td>2.692379</td>\n",
       "      <td>0.0</td>\n",
       "      <td>0.0</td>\n",
       "      <td>0.0</td>\n",
       "      <td>0.0</td>\n",
       "      <td>0.0</td>\n",
       "      <td>0.0</td>\n",
       "      <td>0.099678</td>\n",
       "      <td>2.089733</td>\n",
       "    </tr>\n",
       "    <tr>\n",
       "      <th>41</th>\n",
       "      <td>RandomForestReg</td>\n",
       "      <td>[0.07805, 0.0902, 0.10852, 0.10966, 0.10825, 0...</td>\n",
       "      <td>0.10189</td>\n",
       "      <td>0.05977</td>\n",
       "      <td>0.16573</td>\n",
       "      <td>None</td>\n",
       "      <td>10-03 12:13:32</td>\n",
       "      <td>0.076063</td>\n",
       "      <td>2.692379</td>\n",
       "      <td>0.0</td>\n",
       "      <td>0.0</td>\n",
       "      <td>0.0</td>\n",
       "      <td>0.0</td>\n",
       "      <td>0.0</td>\n",
       "      <td>0.0</td>\n",
       "      <td>0.099678</td>\n",
       "      <td>2.089733</td>\n",
       "    </tr>\n",
       "    <tr>\n",
       "      <th>42</th>\n",
       "      <td>RandomForestReg</td>\n",
       "      <td>[0.07616, 0.08548, 0.10681, 0.10913, 0.10597, ...</td>\n",
       "      <td>0.09607</td>\n",
       "      <td>0.05600</td>\n",
       "      <td>0.12814</td>\n",
       "      <td>None</td>\n",
       "      <td>10-03 12:13:49</td>\n",
       "      <td>0.076063</td>\n",
       "      <td>2.692379</td>\n",
       "      <td>0.0</td>\n",
       "      <td>0.0</td>\n",
       "      <td>0.0</td>\n",
       "      <td>0.0</td>\n",
       "      <td>0.0</td>\n",
       "      <td>0.0</td>\n",
       "      <td>0.099678</td>\n",
       "      <td>2.089733</td>\n",
       "    </tr>\n",
       "    <tr>\n",
       "      <th>43</th>\n",
       "      <td>RandomForestReg</td>\n",
       "      <td>[0.07591, 0.08428, 0.10709, 0.10936, 0.10184, ...</td>\n",
       "      <td>0.09218</td>\n",
       "      <td>0.05451</td>\n",
       "      <td>0.12392</td>\n",
       "      <td>None</td>\n",
       "      <td>10-03 12:14:10</td>\n",
       "      <td>0.076063</td>\n",
       "      <td>2.692379</td>\n",
       "      <td>0.0</td>\n",
       "      <td>0.0</td>\n",
       "      <td>0.0</td>\n",
       "      <td>0.0</td>\n",
       "      <td>0.0</td>\n",
       "      <td>0.0</td>\n",
       "      <td>0.099678</td>\n",
       "      <td>2.089733</td>\n",
       "    </tr>\n",
       "    <tr>\n",
       "      <th>44</th>\n",
       "      <td>RandomForestReg</td>\n",
       "      <td>[0.07179, 0.08361, 0.10607, 0.10743, 0.10069, ...</td>\n",
       "      <td>0.08843</td>\n",
       "      <td>0.05251</td>\n",
       "      <td>0.12018</td>\n",
       "      <td>None</td>\n",
       "      <td>10-03 12:14:26</td>\n",
       "      <td>0.076063</td>\n",
       "      <td>2.692379</td>\n",
       "      <td>0.0</td>\n",
       "      <td>0.0</td>\n",
       "      <td>0.0</td>\n",
       "      <td>0.0</td>\n",
       "      <td>0.0</td>\n",
       "      <td>0.0</td>\n",
       "      <td>0.099678</td>\n",
       "      <td>2.089733</td>\n",
       "    </tr>\n",
       "    <tr>\n",
       "      <th>45</th>\n",
       "      <td>RandomForestReg</td>\n",
       "      <td>[0.07689, 0.0894, 0.11179, 0.11101, 0.10898, 0...</td>\n",
       "      <td>0.10279</td>\n",
       "      <td>0.05427</td>\n",
       "      <td>0.16641</td>\n",
       "      <td>None</td>\n",
       "      <td>10-03 12:14:48</td>\n",
       "      <td>0.076063</td>\n",
       "      <td>2.692379</td>\n",
       "      <td>0.0</td>\n",
       "      <td>0.0</td>\n",
       "      <td>0.0</td>\n",
       "      <td>0.0</td>\n",
       "      <td>0.0</td>\n",
       "      <td>0.0</td>\n",
       "      <td>0.099678</td>\n",
       "      <td>2.089733</td>\n",
       "    </tr>\n",
       "    <tr>\n",
       "      <th>46</th>\n",
       "      <td>RandomForestReg</td>\n",
       "      <td>[0.07617, 0.08562, 0.10648, 0.10957, 0.10894, ...</td>\n",
       "      <td>0.09693</td>\n",
       "      <td>0.05878</td>\n",
       "      <td>0.13361</td>\n",
       "      <td>None</td>\n",
       "      <td>10-03 12:15:06</td>\n",
       "      <td>0.076063</td>\n",
       "      <td>2.692379</td>\n",
       "      <td>0.0</td>\n",
       "      <td>0.0</td>\n",
       "      <td>0.0</td>\n",
       "      <td>0.0</td>\n",
       "      <td>0.0</td>\n",
       "      <td>0.0</td>\n",
       "      <td>0.099678</td>\n",
       "      <td>2.089733</td>\n",
       "    </tr>\n",
       "    <tr>\n",
       "      <th>47</th>\n",
       "      <td>RandomForestReg</td>\n",
       "      <td>[0.07311, 0.08445, 0.10644, 0.10965, 0.10109, ...</td>\n",
       "      <td>0.09214</td>\n",
       "      <td>0.05496</td>\n",
       "      <td>0.12364</td>\n",
       "      <td>None</td>\n",
       "      <td>10-03 12:15:22</td>\n",
       "      <td>0.076063</td>\n",
       "      <td>2.692379</td>\n",
       "      <td>0.0</td>\n",
       "      <td>0.0</td>\n",
       "      <td>0.0</td>\n",
       "      <td>0.0</td>\n",
       "      <td>0.0</td>\n",
       "      <td>0.0</td>\n",
       "      <td>0.099678</td>\n",
       "      <td>2.089733</td>\n",
       "    </tr>\n",
       "    <tr>\n",
       "      <th>48</th>\n",
       "      <td>RandomForestReg</td>\n",
       "      <td>[0.07021, 0.08011, 0.10626, 0.10759, 0.10078, ...</td>\n",
       "      <td>0.08825</td>\n",
       "      <td>0.05239</td>\n",
       "      <td>0.12195</td>\n",
       "      <td>None</td>\n",
       "      <td>10-03 12:15:37</td>\n",
       "      <td>0.076063</td>\n",
       "      <td>2.692379</td>\n",
       "      <td>0.0</td>\n",
       "      <td>0.0</td>\n",
       "      <td>0.0</td>\n",
       "      <td>0.0</td>\n",
       "      <td>0.0</td>\n",
       "      <td>0.0</td>\n",
       "      <td>0.099678</td>\n",
       "      <td>2.089733</td>\n",
       "    </tr>\n",
       "    <tr>\n",
       "      <th>49</th>\n",
       "      <td>RandomForestReg</td>\n",
       "      <td>[0.07539, 0.08761, 0.11079, 0.10924, 0.10994, ...</td>\n",
       "      <td>0.10260</td>\n",
       "      <td>0.05587</td>\n",
       "      <td>0.16532</td>\n",
       "      <td>None</td>\n",
       "      <td>10-03 12:15:59</td>\n",
       "      <td>0.076063</td>\n",
       "      <td>2.692379</td>\n",
       "      <td>0.0</td>\n",
       "      <td>0.0</td>\n",
       "      <td>0.0</td>\n",
       "      <td>0.0</td>\n",
       "      <td>0.0</td>\n",
       "      <td>0.0</td>\n",
       "      <td>0.099678</td>\n",
       "      <td>2.089733</td>\n",
       "    </tr>\n",
       "    <tr>\n",
       "      <th>50</th>\n",
       "      <td>RandomForestReg</td>\n",
       "      <td>[0.07627, 0.08523, 0.10705, 0.10993, 0.10783, ...</td>\n",
       "      <td>0.09624</td>\n",
       "      <td>0.05834</td>\n",
       "      <td>0.12633</td>\n",
       "      <td>None</td>\n",
       "      <td>10-03 12:16:22</td>\n",
       "      <td>0.076063</td>\n",
       "      <td>2.692379</td>\n",
       "      <td>0.0</td>\n",
       "      <td>0.0</td>\n",
       "      <td>0.0</td>\n",
       "      <td>0.0</td>\n",
       "      <td>0.0</td>\n",
       "      <td>0.0</td>\n",
       "      <td>0.099678</td>\n",
       "      <td>2.089733</td>\n",
       "    </tr>\n",
       "    <tr>\n",
       "      <th>51</th>\n",
       "      <td>RandomForestReg</td>\n",
       "      <td>[0.0742, 0.08519, 0.10669, 0.1094, 0.10196, 0....</td>\n",
       "      <td>0.09231</td>\n",
       "      <td>0.05514</td>\n",
       "      <td>0.12254</td>\n",
       "      <td>None</td>\n",
       "      <td>10-03 12:16:38</td>\n",
       "      <td>0.076063</td>\n",
       "      <td>2.692379</td>\n",
       "      <td>0.0</td>\n",
       "      <td>0.0</td>\n",
       "      <td>0.0</td>\n",
       "      <td>0.0</td>\n",
       "      <td>0.0</td>\n",
       "      <td>0.0</td>\n",
       "      <td>0.099678</td>\n",
       "      <td>2.089733</td>\n",
       "    </tr>\n",
       "    <tr>\n",
       "      <th>52</th>\n",
       "      <td>RandomForestReg</td>\n",
       "      <td>[0.07033, 0.08204, 0.10674, 0.10741, 0.1014, 0...</td>\n",
       "      <td>0.08862</td>\n",
       "      <td>0.05296</td>\n",
       "      <td>0.12080</td>\n",
       "      <td>None</td>\n",
       "      <td>10-03 12:16:53</td>\n",
       "      <td>0.076063</td>\n",
       "      <td>2.692379</td>\n",
       "      <td>0.0</td>\n",
       "      <td>0.0</td>\n",
       "      <td>0.0</td>\n",
       "      <td>0.0</td>\n",
       "      <td>0.0</td>\n",
       "      <td>0.0</td>\n",
       "      <td>0.099678</td>\n",
       "      <td>2.089733</td>\n",
       "    </tr>\n",
       "    <tr>\n",
       "      <th>53</th>\n",
       "      <td>RandomForestReg</td>\n",
       "      <td>[0.07857, 0.09001, 0.11051, 0.10997, 0.1083, 0...</td>\n",
       "      <td>0.10249</td>\n",
       "      <td>0.05553</td>\n",
       "      <td>0.16720</td>\n",
       "      <td>None</td>\n",
       "      <td>10-03 12:18:25</td>\n",
       "      <td>0.076063</td>\n",
       "      <td>2.692379</td>\n",
       "      <td>0.0</td>\n",
       "      <td>0.0</td>\n",
       "      <td>0.0</td>\n",
       "      <td>0.0</td>\n",
       "      <td>0.0</td>\n",
       "      <td>0.0</td>\n",
       "      <td>0.099678</td>\n",
       "      <td>2.089733</td>\n",
       "    </tr>\n",
       "    <tr>\n",
       "      <th>54</th>\n",
       "      <td>RandomForestReg</td>\n",
       "      <td>[0.07669, 0.08955, 0.1108, 0.10997, 0.10945, 0...</td>\n",
       "      <td>0.10217</td>\n",
       "      <td>0.05487</td>\n",
       "      <td>0.16461</td>\n",
       "      <td>None</td>\n",
       "      <td>10-03 12:22:37</td>\n",
       "      <td>0.076063</td>\n",
       "      <td>2.692379</td>\n",
       "      <td>0.0</td>\n",
       "      <td>0.0</td>\n",
       "      <td>0.0</td>\n",
       "      <td>0.0</td>\n",
       "      <td>0.0</td>\n",
       "      <td>0.0</td>\n",
       "      <td>0.099678</td>\n",
       "      <td>2.089733</td>\n",
       "    </tr>\n",
       "  </tbody>\n",
       "</table>\n",
       "</div>"
      ],
      "text/plain": [
       "                name                                         fold_score  \\\n",
       "0          LinearReg  [0.06418, 0.08195, 0.10259, 0.10487, 0.09254, ...   \n",
       "1   ClassicLinearReg  [0.19434, 0.07399, 0.12104, 0.14989, 0.10942, ...   \n",
       "2    RandomForestReg  [0.20384, 0.0714, 0.12043, 0.15236, 0.11155, 0...   \n",
       "3    RandomForestReg  [0.07715, 0.09137, 0.11052, 0.11054, 0.10873, ...   \n",
       "4    RandomForestReg  [0.07788, 0.0892, 0.11134, 0.10987, 0.10908, 0...   \n",
       "5    RandomForestReg  [0.08002, 0.08993, 0.11027, 0.10946, 0.10886, ...   \n",
       "6    RandomForestReg  [0.07527, 0.08642, 0.10691, 0.10912, 0.10751, ...   \n",
       "7    RandomForestReg  [0.07444, 0.08497, 0.10715, 0.10913, 0.10034, ...   \n",
       "8    RandomForestReg  [0.0725, 0.08325, 0.10685, 0.10782, 0.10072, 0...   \n",
       "9    RandomForestReg  [0.07966, 0.09073, 0.11119, 0.11021, 0.11037, ...   \n",
       "10   RandomForestReg  [0.07694, 0.0866, 0.10709, 0.11037, 0.10789, 0...   \n",
       "11   RandomForestReg  [0.07392, 0.08468, 0.10731, 0.10979, 0.10231, ...   \n",
       "12   RandomForestReg  [0.07272, 0.08232, 0.10666, 0.10733, 0.10143, ...   \n",
       "13   RandomForestReg  [0.07579, 0.09089, 0.1107, 0.10931, 0.10744, 0...   \n",
       "14   RandomForestReg  [0.07655, 0.08533, 0.10796, 0.11041, 0.10713, ...   \n",
       "15   RandomForestReg  [0.07572, 0.08296, 0.10801, 0.11006, 0.10116, ...   \n",
       "16   RandomForestReg  [0.07072, 0.08243, 0.10715, 0.10705, 0.10067, ...   \n",
       "17   RandomForestReg  [0.07774, 0.08848, 0.11061, 0.11085, 0.11033, ...   \n",
       "18   RandomForestReg  [0.07444, 0.08778, 0.10823, 0.11104, 0.10693, ...   \n",
       "19   RandomForestReg  [0.07531, 0.08427, 0.10827, 0.10884, 0.10055, ...   \n",
       "20   RandomForestReg  [0.07311, 0.0831, 0.10623, 0.10636, 0.10002, 0...   \n",
       "21   RandomForestReg  [0.07907, 0.09075, 0.11205, 0.11038, 0.1088, 0...   \n",
       "22   RandomForestReg  [0.07508, 0.08632, 0.10677, 0.11155, 0.108, 0....   \n",
       "23   RandomForestReg  [0.07485, 0.08476, 0.10643, 0.10994, 0.10216, ...   \n",
       "24   RandomForestReg  [0.0724, 0.08247, 0.10603, 0.10726, 0.1023, 0....   \n",
       "25   RandomForestReg  [0.07784, 0.08863, 0.11083, 0.10996, 0.11029, ...   \n",
       "26   RandomForestReg  [0.07577, 0.08496, 0.10732, 0.11072, 0.10667, ...   \n",
       "27   RandomForestReg  [0.073, 0.08445, 0.10625, 0.10915, 0.10046, 0....   \n",
       "28   RandomForestReg  [0.07578, 0.0819, 0.10646, 0.10744, 0.10217, 0...   \n",
       "29   RandomForestReg  [0.07824, 0.0873, 0.11104, 0.10974, 0.10862, 0...   \n",
       "30   RandomForestReg  [0.07448, 0.0857, 0.10748, 0.10938, 0.10748, 0...   \n",
       "31   RandomForestReg  [0.07396, 0.0851, 0.10663, 0.10988, 0.10128, 0...   \n",
       "32   RandomForestReg  [0.0725, 0.08327, 0.10758, 0.10801, 0.10089, 0...   \n",
       "33   RandomForestReg  [0.07614, 0.08897, 0.11323, 0.10908, 0.10958, ...   \n",
       "34   RandomForestReg  [0.07552, 0.08467, 0.10697, 0.11008, 0.10868, ...   \n",
       "35   RandomForestReg  [0.07238, 0.08404, 0.10776, 0.11016, 0.10214, ...   \n",
       "36   RandomForestReg  [0.07262, 0.08313, 0.1067, 0.10733, 0.1008, 0....   \n",
       "37   RandomForestReg  [0.07639, 0.08969, 0.11026, 0.11091, 0.10897, ...   \n",
       "38   RandomForestReg  [0.07772, 0.08591, 0.1059, 0.11044, 0.10786, 0...   \n",
       "39   RandomForestReg  [0.07547, 0.08545, 0.10887, 0.1101, 0.10092, 0...   \n",
       "40   RandomForestReg  [0.07237, 0.0814, 0.10649, 0.10704, 0.10063, 0...   \n",
       "41   RandomForestReg  [0.07805, 0.0902, 0.10852, 0.10966, 0.10825, 0...   \n",
       "42   RandomForestReg  [0.07616, 0.08548, 0.10681, 0.10913, 0.10597, ...   \n",
       "43   RandomForestReg  [0.07591, 0.08428, 0.10709, 0.10936, 0.10184, ...   \n",
       "44   RandomForestReg  [0.07179, 0.08361, 0.10607, 0.10743, 0.10069, ...   \n",
       "45   RandomForestReg  [0.07689, 0.0894, 0.11179, 0.11101, 0.10898, 0...   \n",
       "46   RandomForestReg  [0.07617, 0.08562, 0.10648, 0.10957, 0.10894, ...   \n",
       "47   RandomForestReg  [0.07311, 0.08445, 0.10644, 0.10965, 0.10109, ...   \n",
       "48   RandomForestReg  [0.07021, 0.08011, 0.10626, 0.10759, 0.10078, ...   \n",
       "49   RandomForestReg  [0.07539, 0.08761, 0.11079, 0.10924, 0.10994, ...   \n",
       "50   RandomForestReg  [0.07627, 0.08523, 0.10705, 0.10993, 0.10783, ...   \n",
       "51   RandomForestReg  [0.0742, 0.08519, 0.10669, 0.1094, 0.10196, 0....   \n",
       "52   RandomForestReg  [0.07033, 0.08204, 0.10674, 0.10741, 0.1014, 0...   \n",
       "53   RandomForestReg  [0.07857, 0.09001, 0.11051, 0.10997, 0.1083, 0...   \n",
       "54   RandomForestReg  [0.07669, 0.08955, 0.1108, 0.10997, 0.10945, 0...   \n",
       "\n",
       "    mean_score  min_score  max_score  \\\n",
       "0      0.07901    0.03823    0.11913   \n",
       "1      0.13687    0.04725    0.36640   \n",
       "2      0.13891    0.04585    0.36071   \n",
       "3      0.10278    0.05660    0.16337   \n",
       "4      0.10242    0.05602    0.16436   \n",
       "5      0.10268    0.05541    0.16185   \n",
       "6      0.09576    0.05908    0.12754   \n",
       "7      0.09204    0.05517    0.12258   \n",
       "8      0.08863    0.05217    0.12032   \n",
       "9      0.10300    0.05560    0.16627   \n",
       "10     0.09659    0.05877    0.12845   \n",
       "11     0.09228    0.05387    0.12306   \n",
       "12     0.08884    0.05218    0.11962   \n",
       "13     0.10246    0.05830    0.16554   \n",
       "14     0.09651    0.05790    0.12823   \n",
       "15     0.09264    0.05557    0.12268   \n",
       "16     0.08828    0.05229    0.12149   \n",
       "17     0.10221    0.05571    0.16991   \n",
       "18     0.09650    0.05654    0.13228   \n",
       "19     0.09247    0.05482    0.12292   \n",
       "20     0.08891    0.05226    0.12141   \n",
       "21     0.10302    0.06139    0.16372   \n",
       "22     0.09620    0.05852    0.12732   \n",
       "23     0.09247    0.05417    0.12359   \n",
       "24     0.08868    0.05279    0.12071   \n",
       "25     0.10281    0.05457    0.16467   \n",
       "26     0.09674    0.05780    0.12838   \n",
       "27     0.09235    0.05375    0.12310   \n",
       "28     0.08872    0.05283    0.12098   \n",
       "29     0.10285    0.05843    0.16836   \n",
       "30     0.09603    0.05896    0.12739   \n",
       "31     0.09194    0.05412    0.12323   \n",
       "32     0.08862    0.05261    0.12182   \n",
       "33     0.10279    0.05702    0.16779   \n",
       "34     0.09657    0.05872    0.12654   \n",
       "35     0.09229    0.05474    0.12335   \n",
       "36     0.08828    0.05255    0.12085   \n",
       "37     0.10283    0.05697    0.16460   \n",
       "38     0.09668    0.05710    0.13112   \n",
       "39     0.09230    0.05398    0.12265   \n",
       "40     0.08874    0.05171    0.12105   \n",
       "41     0.10189    0.05977    0.16573   \n",
       "42     0.09607    0.05600    0.12814   \n",
       "43     0.09218    0.05451    0.12392   \n",
       "44     0.08843    0.05251    0.12018   \n",
       "45     0.10279    0.05427    0.16641   \n",
       "46     0.09693    0.05878    0.13361   \n",
       "47     0.09214    0.05496    0.12364   \n",
       "48     0.08825    0.05239    0.12195   \n",
       "49     0.10260    0.05587    0.16532   \n",
       "50     0.09624    0.05834    0.12633   \n",
       "51     0.09231    0.05514    0.12254   \n",
       "52     0.08862    0.05296    0.12080   \n",
       "53     0.10249    0.05553    0.16720   \n",
       "54     0.10217    0.05487    0.16461   \n",
       "\n",
       "                                          hyperparams            date  \\\n",
       "0                       {'alpha': 1, 'l1_ratio': 0.5}  10-03 10:30:45   \n",
       "1                               {'n_estimator': 1000}  10-03 10:31:55   \n",
       "2                               {'n_estimator': 1000}  10-03 10:33:46   \n",
       "3   {'n_estimator': 1000, 'warm_start': (False,), ...  10-03 11:05:46   \n",
       "4                                                None  10-03 11:19:05   \n",
       "5                                                None  10-03 12:01:53   \n",
       "6                                                None  10-03 12:02:20   \n",
       "7                                                None  10-03 12:02:37   \n",
       "8                                                None  10-03 12:02:52   \n",
       "9                                                None  10-03 12:03:14   \n",
       "10                                               None  10-03 12:03:32   \n",
       "11                                               None  10-03 12:03:48   \n",
       "12                                               None  10-03 12:04:06   \n",
       "13                                               None  10-03 12:04:31   \n",
       "14                                               None  10-03 12:04:49   \n",
       "15                                               None  10-03 12:05:05   \n",
       "16                                               None  10-03 12:05:20   \n",
       "17                                               None  10-03 12:05:42   \n",
       "18                                               None  10-03 12:06:00   \n",
       "19                                               None  10-03 12:06:22   \n",
       "20                                               None  10-03 12:06:37   \n",
       "21                                               None  10-03 12:06:59   \n",
       "22                                               None  10-03 12:07:16   \n",
       "23                                               None  10-03 12:07:33   \n",
       "24                                               None  10-03 12:07:48   \n",
       "25                                               None  10-03 12:08:15   \n",
       "26                                               None  10-03 12:08:38   \n",
       "27                                               None  10-03 12:09:10   \n",
       "28                                               None  10-03 12:09:25   \n",
       "29                                               None  10-03 12:09:48   \n",
       "30                                               None  10-03 12:10:10   \n",
       "31                                               None  10-03 12:10:27   \n",
       "32                                               None  10-03 12:10:42   \n",
       "33                                               None  10-03 12:11:04   \n",
       "34                                               None  10-03 12:11:21   \n",
       "35                                               None  10-03 12:11:38   \n",
       "36                                               None  10-03 12:11:52   \n",
       "37                                               None  10-03 12:12:21   \n",
       "38                                               None  10-03 12:12:38   \n",
       "39                                               None  10-03 12:12:55   \n",
       "40                                               None  10-03 12:13:09   \n",
       "41                                               None  10-03 12:13:32   \n",
       "42                                               None  10-03 12:13:49   \n",
       "43                                               None  10-03 12:14:10   \n",
       "44                                               None  10-03 12:14:26   \n",
       "45                                               None  10-03 12:14:48   \n",
       "46                                               None  10-03 12:15:06   \n",
       "47                                               None  10-03 12:15:22   \n",
       "48                                               None  10-03 12:15:37   \n",
       "49                                               None  10-03 12:15:59   \n",
       "50                                               None  10-03 12:16:22   \n",
       "51                                               None  10-03 12:16:38   \n",
       "52                                               None  10-03 12:16:53   \n",
       "53                                               None  10-03 12:18:25   \n",
       "54                                               None  10-03 12:22:37   \n",
       "\n",
       "    roi_hodler  sharpe_hodler  roi_trader  sharpe_trader  roi_whale  \\\n",
       "0     0.076063       2.692379         0.0            0.0        0.0   \n",
       "1     0.076063       2.692379         0.0            0.0        0.0   \n",
       "2     0.076063       2.692379         0.0            0.0        0.0   \n",
       "3     0.076063       2.692379         0.0            0.0        0.0   \n",
       "4     0.076063       2.692379         0.0            0.0        0.0   \n",
       "5     0.076063       2.692379         0.0            0.0        0.0   \n",
       "6     0.076063       2.692379         0.0            0.0        0.0   \n",
       "7     0.076063       2.692379         0.0            0.0        0.0   \n",
       "8     0.076063       2.692379         0.0            0.0        0.0   \n",
       "9     0.076063       2.692379         0.0            0.0        0.0   \n",
       "10    0.076063       2.692379         0.0            0.0        0.0   \n",
       "11    0.076063       2.692379         0.0            0.0        0.0   \n",
       "12    0.076063       2.692379         0.0            0.0        0.0   \n",
       "13    0.076063       2.692379         0.0            0.0        0.0   \n",
       "14    0.076063       2.692379         0.0            0.0        0.0   \n",
       "15    0.076063       2.692379         0.0            0.0        0.0   \n",
       "16    0.076063       2.692379         0.0            0.0        0.0   \n",
       "17    0.076063       2.692379         0.0            0.0        0.0   \n",
       "18    0.076063       2.692379         0.0            0.0        0.0   \n",
       "19    0.076063       2.692379         0.0            0.0        0.0   \n",
       "20    0.076063       2.692379         0.0            0.0        0.0   \n",
       "21    0.076063       2.692379         0.0            0.0        0.0   \n",
       "22    0.076063       2.692379         0.0            0.0        0.0   \n",
       "23    0.076063       2.692379         0.0            0.0        0.0   \n",
       "24    0.076063       2.692379         0.0            0.0        0.0   \n",
       "25    0.076063       2.692379         0.0            0.0        0.0   \n",
       "26    0.076063       2.692379         0.0            0.0        0.0   \n",
       "27    0.076063       2.692379         0.0            0.0        0.0   \n",
       "28    0.076063       2.692379         0.0            0.0        0.0   \n",
       "29    0.076063       2.692379         0.0            0.0        0.0   \n",
       "30    0.076063       2.692379         0.0            0.0        0.0   \n",
       "31    0.076063       2.692379         0.0            0.0        0.0   \n",
       "32    0.076063       2.692379         0.0            0.0        0.0   \n",
       "33    0.076063       2.692379         0.0            0.0        0.0   \n",
       "34    0.076063       2.692379         0.0            0.0        0.0   \n",
       "35    0.076063       2.692379         0.0            0.0        0.0   \n",
       "36    0.076063       2.692379         0.0            0.0        0.0   \n",
       "37    0.076063       2.692379         0.0            0.0        0.0   \n",
       "38    0.076063       2.692379         0.0            0.0        0.0   \n",
       "39    0.076063       2.692379         0.0            0.0        0.0   \n",
       "40    0.076063       2.692379         0.0            0.0        0.0   \n",
       "41    0.076063       2.692379         0.0            0.0        0.0   \n",
       "42    0.076063       2.692379         0.0            0.0        0.0   \n",
       "43    0.076063       2.692379         0.0            0.0        0.0   \n",
       "44    0.076063       2.692379         0.0            0.0        0.0   \n",
       "45    0.076063       2.692379         0.0            0.0        0.0   \n",
       "46    0.076063       2.692379         0.0            0.0        0.0   \n",
       "47    0.076063       2.692379         0.0            0.0        0.0   \n",
       "48    0.076063       2.692379         0.0            0.0        0.0   \n",
       "49    0.076063       2.692379         0.0            0.0        0.0   \n",
       "50    0.076063       2.692379         0.0            0.0        0.0   \n",
       "51    0.076063       2.692379         0.0            0.0        0.0   \n",
       "52    0.076063       2.692379         0.0            0.0        0.0   \n",
       "53    0.076063       2.692379         0.0            0.0        0.0   \n",
       "54    0.076063       2.692379         0.0            0.0        0.0   \n",
       "\n",
       "    sharpe_whale  roi_hodler_whale  sharpe_hodler_whale  roi_charles  \\\n",
       "0            0.0               0.0                  0.0     0.099678   \n",
       "1            0.0               0.0                  0.0     0.099678   \n",
       "2            0.0               0.0                  0.0     0.099678   \n",
       "3            0.0               0.0                  0.0     0.099678   \n",
       "4            0.0               0.0                  0.0     0.099678   \n",
       "5            0.0               0.0                  0.0     0.099678   \n",
       "6            0.0               0.0                  0.0     0.099678   \n",
       "7            0.0               0.0                  0.0     0.099678   \n",
       "8            0.0               0.0                  0.0     0.099678   \n",
       "9            0.0               0.0                  0.0     0.099678   \n",
       "10           0.0               0.0                  0.0     0.099678   \n",
       "11           0.0               0.0                  0.0     0.099678   \n",
       "12           0.0               0.0                  0.0     0.099678   \n",
       "13           0.0               0.0                  0.0     0.099678   \n",
       "14           0.0               0.0                  0.0     0.099678   \n",
       "15           0.0               0.0                  0.0     0.099678   \n",
       "16           0.0               0.0                  0.0     0.099678   \n",
       "17           0.0               0.0                  0.0     0.099678   \n",
       "18           0.0               0.0                  0.0     0.099678   \n",
       "19           0.0               0.0                  0.0     0.099678   \n",
       "20           0.0               0.0                  0.0     0.099678   \n",
       "21           0.0               0.0                  0.0     0.099678   \n",
       "22           0.0               0.0                  0.0     0.099678   \n",
       "23           0.0               0.0                  0.0     0.099678   \n",
       "24           0.0               0.0                  0.0     0.099678   \n",
       "25           0.0               0.0                  0.0     0.099678   \n",
       "26           0.0               0.0                  0.0     0.099678   \n",
       "27           0.0               0.0                  0.0     0.099678   \n",
       "28           0.0               0.0                  0.0     0.099678   \n",
       "29           0.0               0.0                  0.0     0.099678   \n",
       "30           0.0               0.0                  0.0     0.099678   \n",
       "31           0.0               0.0                  0.0     0.099678   \n",
       "32           0.0               0.0                  0.0     0.099678   \n",
       "33           0.0               0.0                  0.0     0.099678   \n",
       "34           0.0               0.0                  0.0     0.099678   \n",
       "35           0.0               0.0                  0.0     0.099678   \n",
       "36           0.0               0.0                  0.0     0.099678   \n",
       "37           0.0               0.0                  0.0     0.099678   \n",
       "38           0.0               0.0                  0.0     0.099678   \n",
       "39           0.0               0.0                  0.0     0.099678   \n",
       "40           0.0               0.0                  0.0     0.099678   \n",
       "41           0.0               0.0                  0.0     0.099678   \n",
       "42           0.0               0.0                  0.0     0.099678   \n",
       "43           0.0               0.0                  0.0     0.099678   \n",
       "44           0.0               0.0                  0.0     0.099678   \n",
       "45           0.0               0.0                  0.0     0.099678   \n",
       "46           0.0               0.0                  0.0     0.099678   \n",
       "47           0.0               0.0                  0.0     0.099678   \n",
       "48           0.0               0.0                  0.0     0.099678   \n",
       "49           0.0               0.0                  0.0     0.099678   \n",
       "50           0.0               0.0                  0.0     0.099678   \n",
       "51           0.0               0.0                  0.0     0.099678   \n",
       "52           0.0               0.0                  0.0     0.099678   \n",
       "53           0.0               0.0                  0.0     0.099678   \n",
       "54           0.0               0.0                  0.0     0.099678   \n",
       "\n",
       "    sharpe_charles  \n",
       "0         2.089733  \n",
       "1         2.089733  \n",
       "2         2.089733  \n",
       "3         2.089733  \n",
       "4         2.089733  \n",
       "5         2.089733  \n",
       "6         2.089733  \n",
       "7         2.089733  \n",
       "8         2.089733  \n",
       "9         2.089733  \n",
       "10        2.089733  \n",
       "11        2.089733  \n",
       "12        2.089733  \n",
       "13        2.089733  \n",
       "14        2.089733  \n",
       "15        2.089733  \n",
       "16        2.089733  \n",
       "17        2.089733  \n",
       "18        2.089733  \n",
       "19        2.089733  \n",
       "20        2.089733  \n",
       "21        2.089733  \n",
       "22        2.089733  \n",
       "23        2.089733  \n",
       "24        2.089733  \n",
       "25        2.089733  \n",
       "26        2.089733  \n",
       "27        2.089733  \n",
       "28        2.089733  \n",
       "29        2.089733  \n",
       "30        2.089733  \n",
       "31        2.089733  \n",
       "32        2.089733  \n",
       "33        2.089733  \n",
       "34        2.089733  \n",
       "35        2.089733  \n",
       "36        2.089733  \n",
       "37        2.089733  \n",
       "38        2.089733  \n",
       "39        2.089733  \n",
       "40        2.089733  \n",
       "41        2.089733  \n",
       "42        2.089733  \n",
       "43        2.089733  \n",
       "44        2.089733  \n",
       "45        2.089733  \n",
       "46        2.089733  \n",
       "47        2.089733  \n",
       "48        2.089733  \n",
       "49        2.089733  \n",
       "50        2.089733  \n",
       "51        2.089733  \n",
       "52        2.089733  \n",
       "53        2.089733  \n",
       "54        2.089733  "
      ]
     },
     "execution_count": 27,
     "metadata": {},
     "output_type": "execute_result"
    }
   ],
   "source": [
    "model = RandomForestReg()\n",
    "cv_train(model,train_df)\n",
    "read_result().sort_values(by=\"date\")"
   ]
  },
  {
   "cell_type": "code",
   "execution_count": null,
   "id": "0c899e15",
   "metadata": {
    "ExecuteTime": {
     "end_time": "2022-03-10T10:06:03.430091Z",
     "start_time": "2022-03-10T10:06:03.297699Z"
    }
   },
   "outputs": [],
   "source": [
    "model.model.criterion"
   ]
  },
  {
   "cell_type": "code",
   "execution_count": null,
   "id": "42f53eaf",
   "metadata": {},
   "outputs": [],
   "source": []
  }
 ],
 "metadata": {
  "kernelspec": {
   "display_name": "Python 3 (ipykernel)",
   "language": "python",
   "name": "python3"
  },
  "language_info": {
   "codemirror_mode": {
    "name": "ipython",
    "version": 3
   },
   "file_extension": ".py",
   "mimetype": "text/x-python",
   "name": "python",
   "nbconvert_exporter": "python",
   "pygments_lexer": "ipython3",
   "version": "3.8.12"
  },
  "toc": {
   "base_numbering": 1,
   "nav_menu": {},
   "number_sections": true,
   "sideBar": true,
   "skip_h1_title": false,
   "title_cell": "Table of Contents",
   "title_sidebar": "Contents",
   "toc_cell": false,
   "toc_position": {},
   "toc_section_display": true,
   "toc_window_display": false
  }
 },
 "nbformat": 4,
 "nbformat_minor": 5
}
