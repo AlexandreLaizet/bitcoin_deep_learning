{
 "cells": [
  {
   "cell_type": "markdown",
   "id": "8be69137",
   "metadata": {},
   "source": [
    "## Imports"
   ]
  },
  {
   "cell_type": "code",
   "execution_count": 14,
   "id": "dc6bc771",
   "metadata": {
    "ExecuteTime": {
     "end_time": "2022-03-08T08:57:34.534593Z",
     "start_time": "2022-03-08T08:57:34.284824Z"
    }
   },
   "outputs": [
    {
     "name": "stdout",
     "output_type": "stream",
     "text": [
      "The autoreload extension is already loaded. To reload it, use:\n",
      "  %reload_ext autoreload\n"
     ]
    }
   ],
   "source": [
    "from statsmodels.stats.outliers_influence import variance_inflation_factor as vif\n",
    "from bitcoin_deep_learning.call_api import ApiCall\n",
    "from bitcoin_deep_learning.model import RnnDlModel, LinearRegressionBaselineModel, DummyModel\n",
    "from bitcoin_deep_learning.trainer import train, read_result\n",
    "from bitcoin_deep_learning.cross_val import get_cross_XY\n",
    "import matplotlib.pyplot as plt\n",
    "import seaborn as sns\n",
    "import numpy as np\n",
    "import pandas as pd\n",
    "from tqdm import tqdm\n",
    "from random import random\n",
    "import joblib\n",
    "%load_ext autoreload\n",
    "%autoreload 2"
   ]
  },
  {
   "cell_type": "markdown",
   "id": "98a9f53b",
   "metadata": {},
   "source": [
    "## Getting data"
   ]
  },
  {
   "cell_type": "code",
   "execution_count": 15,
   "id": "963f10eb",
   "metadata": {
    "ExecuteTime": {
     "end_time": "2022-03-08T08:57:36.666394Z",
     "start_time": "2022-03-08T08:57:36.565530Z"
    }
   },
   "outputs": [],
   "source": [
    "train_df = ApiCall().read_local(data='train')#.drop(columns = '[%]_Bitcoin_growth_rate_on_Horizon=7')"
   ]
  },
  {
   "cell_type": "code",
   "execution_count": 16,
   "id": "2f21927b",
   "metadata": {
    "ExecuteTime": {
     "end_time": "2022-03-08T08:57:40.270950Z",
     "start_time": "2022-03-08T08:57:38.014314Z"
    }
   },
   "outputs": [],
   "source": [
    "X_train_list, Y_train_list, X_test_list,Y_test_list = get_cross_XY()"
   ]
  },
  {
   "cell_type": "code",
   "execution_count": 17,
   "id": "786b148f",
   "metadata": {
    "ExecuteTime": {
     "end_time": "2022-03-08T08:57:40.468649Z",
     "start_time": "2022-03-08T08:57:40.272275Z"
    }
   },
   "outputs": [
    {
     "data": {
      "text/plain": [
       "(32, 263, 90, 32)"
      ]
     },
     "execution_count": 17,
     "metadata": {},
     "output_type": "execute_result"
    }
   ],
   "source": [
    "np.array(X_train_list).shape"
   ]
  },
  {
   "cell_type": "code",
   "execution_count": 18,
   "id": "2ac75f17",
   "metadata": {
    "ExecuteTime": {
     "end_time": "2022-03-08T08:57:42.034718Z",
     "start_time": "2022-03-08T08:57:41.979289Z"
    }
   },
   "outputs": [
    {
     "data": {
      "text/html": [
       "<div>\n",
       "<style scoped>\n",
       "    .dataframe tbody tr th:only-of-type {\n",
       "        vertical-align: middle;\n",
       "    }\n",
       "\n",
       "    .dataframe tbody tr th {\n",
       "        vertical-align: top;\n",
       "    }\n",
       "\n",
       "    .dataframe thead th {\n",
       "        text-align: right;\n",
       "    }\n",
       "</style>\n",
       "<table border=\"1\" class=\"dataframe\">\n",
       "  <thead>\n",
       "    <tr style=\"text-align: right;\">\n",
       "      <th></th>\n",
       "      <th>date</th>\n",
       "      <th>[AVG]_[NH]_mean_hash_rate</th>\n",
       "      <th>[+]_[NH]_Days_Till_Halving</th>\n",
       "      <th>[//]_[AV]_Stock-to-Flow_Ratio</th>\n",
       "      <th>[+]_[NH]_Circulating_Supply</th>\n",
       "      <th>[+]_[NH]_Issuance</th>\n",
       "      <th>[+]_[NH]_Number_of_Active_Addresses</th>\n",
       "      <th>[+]_[NH]_Mean_Block_Interval</th>\n",
       "      <th>[+]_[NH]_Number_of_Transactions</th>\n",
       "      <th>[+]_[NH]_Number_of_Addresses_with_a_Non-Zero_Balance</th>\n",
       "      <th>...</th>\n",
       "      <th>[%]_Bitcoin_growth_rate_on_Horizon=7</th>\n",
       "      <th>fear_greed_value</th>\n",
       "      <th>[+]_[NH]_Number_of_Addresses_with_Balance_0.01 - 0.1</th>\n",
       "      <th>[+]_[NH]_Number_of_Addresses_with_Balance_0.1 - 1</th>\n",
       "      <th>[+]_[NH]_Number_of_Addresses_with_Balance_1 - 10</th>\n",
       "      <th>[+]_[NH]_Number_of_Addresses_with_Balance_10 - 100</th>\n",
       "      <th>[+]_[NH]_Number_of_Addresses_with_Balance_100 - 1k</th>\n",
       "      <th>[+]_[NH]_Number_of_Addresses_with_Balance_1k - 10k</th>\n",
       "      <th>[+]_[T]_Bitcoin_Price</th>\n",
       "      <th>[%]_Bitcoin_growth_rate_on_Horizon=7.1</th>\n",
       "    </tr>\n",
       "  </thead>\n",
       "  <tbody>\n",
       "    <tr>\n",
       "      <th>0</th>\n",
       "      <td>2018-02-01</td>\n",
       "      <td>2.054109e+19</td>\n",
       "      <td>830</td>\n",
       "      <td>5642.903220</td>\n",
       "      <td>16839700.0</td>\n",
       "      <td>2000.0</td>\n",
       "      <td>842398</td>\n",
       "      <td>377</td>\n",
       "      <td>257504</td>\n",
       "      <td>27026398</td>\n",
       "      <td>...</td>\n",
       "      <td>-0.096230</td>\n",
       "      <td>30</td>\n",
       "      <td>4226306</td>\n",
       "      <td>1722331</td>\n",
       "      <td>544769</td>\n",
       "      <td>132314</td>\n",
       "      <td>15779</td>\n",
       "      <td>1529</td>\n",
       "      <td>9014.026207</td>\n",
       "      <td>-0.096230</td>\n",
       "    </tr>\n",
       "    <tr>\n",
       "      <th>1</th>\n",
       "      <td>2018-02-02</td>\n",
       "      <td>2.170824e+19</td>\n",
       "      <td>829</td>\n",
       "      <td>5641.695528</td>\n",
       "      <td>16841800.0</td>\n",
       "      <td>2100.0</td>\n",
       "      <td>854253</td>\n",
       "      <td>385</td>\n",
       "      <td>235750</td>\n",
       "      <td>26955617</td>\n",
       "      <td>...</td>\n",
       "      <td>-0.013968</td>\n",
       "      <td>15</td>\n",
       "      <td>4198274</td>\n",
       "      <td>1704275</td>\n",
       "      <td>543489</td>\n",
       "      <td>132213</td>\n",
       "      <td>15815</td>\n",
       "      <td>1521</td>\n",
       "      <td>8799.121911</td>\n",
       "      <td>-0.013968</td>\n",
       "    </tr>\n",
       "    <tr>\n",
       "      <th>2</th>\n",
       "      <td>2018-02-03</td>\n",
       "      <td>2.073919e+19</td>\n",
       "      <td>828</td>\n",
       "      <td>5641.015128</td>\n",
       "      <td>16843775.0</td>\n",
       "      <td>1975.0</td>\n",
       "      <td>714655</td>\n",
       "      <td>384</td>\n",
       "      <td>194733</td>\n",
       "      <td>26886977</td>\n",
       "      <td>...</td>\n",
       "      <td>-0.078603</td>\n",
       "      <td>40</td>\n",
       "      <td>4173275</td>\n",
       "      <td>1692828</td>\n",
       "      <td>542447</td>\n",
       "      <td>132021</td>\n",
       "      <td>15812</td>\n",
       "      <td>1523</td>\n",
       "      <td>9208.459919</td>\n",
       "      <td>-0.078603</td>\n",
       "    </tr>\n",
       "  </tbody>\n",
       "</table>\n",
       "<p>3 rows × 34 columns</p>\n",
       "</div>"
      ],
      "text/plain": [
       "         date  [AVG]_[NH]_mean_hash_rate  [+]_[NH]_Days_Till_Halving  \\\n",
       "0  2018-02-01               2.054109e+19                         830   \n",
       "1  2018-02-02               2.170824e+19                         829   \n",
       "2  2018-02-03               2.073919e+19                         828   \n",
       "\n",
       "   [//]_[AV]_Stock-to-Flow_Ratio  [+]_[NH]_Circulating_Supply  \\\n",
       "0                    5642.903220                   16839700.0   \n",
       "1                    5641.695528                   16841800.0   \n",
       "2                    5641.015128                   16843775.0   \n",
       "\n",
       "   [+]_[NH]_Issuance  [+]_[NH]_Number_of_Active_Addresses  \\\n",
       "0             2000.0                               842398   \n",
       "1             2100.0                               854253   \n",
       "2             1975.0                               714655   \n",
       "\n",
       "   [+]_[NH]_Mean_Block_Interval  [+]_[NH]_Number_of_Transactions  \\\n",
       "0                           377                           257504   \n",
       "1                           385                           235750   \n",
       "2                           384                           194733   \n",
       "\n",
       "   [+]_[NH]_Number_of_Addresses_with_a_Non-Zero_Balance  ...  \\\n",
       "0                                           27026398     ...   \n",
       "1                                           26955617     ...   \n",
       "2                                           26886977     ...   \n",
       "\n",
       "   [%]_Bitcoin_growth_rate_on_Horizon=7  fear_greed_value  \\\n",
       "0                             -0.096230                30   \n",
       "1                             -0.013968                15   \n",
       "2                             -0.078603                40   \n",
       "\n",
       "   [+]_[NH]_Number_of_Addresses_with_Balance_0.01 - 0.1  \\\n",
       "0                                            4226306      \n",
       "1                                            4198274      \n",
       "2                                            4173275      \n",
       "\n",
       "   [+]_[NH]_Number_of_Addresses_with_Balance_0.1 - 1  \\\n",
       "0                                            1722331   \n",
       "1                                            1704275   \n",
       "2                                            1692828   \n",
       "\n",
       "   [+]_[NH]_Number_of_Addresses_with_Balance_1 - 10  \\\n",
       "0                                            544769   \n",
       "1                                            543489   \n",
       "2                                            542447   \n",
       "\n",
       "   [+]_[NH]_Number_of_Addresses_with_Balance_10 - 100  \\\n",
       "0                                             132314    \n",
       "1                                             132213    \n",
       "2                                             132021    \n",
       "\n",
       "   [+]_[NH]_Number_of_Addresses_with_Balance_100 - 1k  \\\n",
       "0                                              15779    \n",
       "1                                              15815    \n",
       "2                                              15812    \n",
       "\n",
       "   [+]_[NH]_Number_of_Addresses_with_Balance_1k - 10k  [+]_[T]_Bitcoin_Price  \\\n",
       "0                                               1529             9014.026207   \n",
       "1                                               1521             8799.121911   \n",
       "2                                               1523             9208.459919   \n",
       "\n",
       "   [%]_Bitcoin_growth_rate_on_Horizon=7.1  \n",
       "0                               -0.096230  \n",
       "1                               -0.013968  \n",
       "2                               -0.078603  \n",
       "\n",
       "[3 rows x 34 columns]"
      ]
     },
     "execution_count": 18,
     "metadata": {},
     "output_type": "execute_result"
    }
   ],
   "source": [
    "train_df.head(3)"
   ]
  },
  {
   "cell_type": "markdown",
   "id": "d9a07ce8",
   "metadata": {},
   "source": [
    "## Data viz exploration"
   ]
  },
  {
   "cell_type": "code",
   "execution_count": 19,
   "id": "58fd7529",
   "metadata": {
    "ExecuteTime": {
     "end_time": "2022-03-08T08:57:46.347948Z",
     "start_time": "2022-03-08T08:57:45.685601Z"
    }
   },
   "outputs": [
    {
     "data": {
      "image/png": "[encoded data removed]",
      "text/plain": [
       "<Figure size 1080x720 with 2 Axes>"
      ]
     },
     "metadata": {
      "needs_background": "light"
     },
     "output_type": "display_data"
    }
   ],
   "source": [
    "plt.figure(figsize=(15,10))\n",
    "plt.subplot(2,2,1)\n",
    "sns.regplot(x='[+]_[T]_Bitcoin_Price', y='[%]_Bitcoin_growth_rate_on_Horizon=7', data=train_df, ci=95)\n",
    "plt.subplot(2,2,2)\n",
    "sns.regplot(x='[+]_[T]_Bitcoin_Price', y='[%]_Bitcoin_growth_rate_on_Horizon=7', data=train_df.sample(10, random_state=6), ci=95);"
   ]
  },
  {
   "cell_type": "code",
   "execution_count": 20,
   "id": "d672cd52",
   "metadata": {
    "ExecuteTime": {
     "end_time": "2022-03-08T08:57:48.569451Z",
     "start_time": "2022-03-08T08:57:48.347835Z"
    }
   },
   "outputs": [
    {
     "data": {
      "image/png": "[encoded data removed]",
      "text/plain": [
       "<Figure size 432x288 with 1 Axes>"
      ]
     },
     "metadata": {
      "needs_background": "light"
     },
     "output_type": "display_data"
    }
   ],
   "source": [
    "sns.histplot(train_df['[%]_Bitcoin_growth_rate_on_Horizon=7'], kde=True, edgecolor='w');"
   ]
  },
  {
   "cell_type": "code",
   "execution_count": 21,
   "id": "14a11f52",
   "metadata": {
    "ExecuteTime": {
     "end_time": "2022-03-08T08:57:50.748467Z",
     "start_time": "2022-03-08T08:57:50.590801Z"
    }
   },
   "outputs": [
    {
     "data": {
      "image/png": "[encoded data removed]",
      "text/plain": [
       "<Figure size 432x288 with 1 Axes>"
      ]
     },
     "metadata": {
      "needs_background": "light"
     },
     "output_type": "display_data"
    }
   ],
   "source": [
    "sns.histplot(train_df['[+]_[T]_Bitcoin_Price'], kde=True, edgecolor='w');"
   ]
  },
  {
   "cell_type": "code",
   "execution_count": 22,
   "id": "b9032bc5",
   "metadata": {
    "ExecuteTime": {
     "end_time": "2022-03-08T08:57:53.112919Z",
     "start_time": "2022-03-08T08:57:53.056944Z"
    }
   },
   "outputs": [
    {
     "data": {
      "text/plain": [
       "0.10899637284583642"
      ]
     },
     "execution_count": 22,
     "metadata": {},
     "output_type": "execute_result"
    }
   ],
   "source": [
    "train_df['[%]_Bitcoin_growth_rate_on_Horizon=7'].std()"
   ]
  },
  {
   "cell_type": "code",
   "execution_count": 23,
   "id": "c2a285e5",
   "metadata": {
    "ExecuteTime": {
     "end_time": "2022-03-08T08:57:54.670543Z",
     "start_time": "2022-03-08T08:57:54.613400Z"
    }
   },
   "outputs": [
    {
     "data": {
      "text/plain": [
       "0.003258745217498152"
      ]
     },
     "execution_count": 23,
     "metadata": {},
     "output_type": "execute_result"
    }
   ],
   "source": [
    "train_df['[%]_Bitcoin_growth_rate_on_Horizon=7'].mean()"
   ]
  },
  {
   "cell_type": "markdown",
   "id": "83095749",
   "metadata": {},
   "source": [
    "## Exploration of ridge and lasso"
   ]
  },
  {
   "cell_type": "code",
   "execution_count": 10,
   "id": "0641f372",
   "metadata": {
    "ExecuteTime": {
     "end_time": "2022-03-08T08:49:21.146755Z",
     "start_time": "2022-03-08T08:49:21.066579Z"
    }
   },
   "outputs": [],
   "source": [
    "#import X_train to tune the model\n",
    "#intuition too much regularization"
   ]
  },
  {
   "cell_type": "code",
   "execution_count": 57,
   "id": "7a4cde95",
   "metadata": {
    "ExecuteTime": {
     "end_time": "2022-03-08T09:06:31.696150Z",
     "start_time": "2022-03-08T09:06:31.643085Z"
    }
   },
   "outputs": [],
   "source": [
    "model_regression = LinearRegressionBaselineModel(alpha = 0.1 , l1_ratio = 0.001)"
   ]
  },
  {
   "cell_type": "code",
   "execution_count": 48,
   "id": "bbf2df94",
   "metadata": {
    "ExecuteTime": {
     "end_time": "2022-03-08T09:05:47.055256Z",
     "start_time": "2022-03-08T09:05:46.999494Z"
    }
   },
   "outputs": [
    {
     "data": {
      "text/plain": [
       "(263, 90, 32)"
      ]
     },
     "execution_count": 48,
     "metadata": {},
     "output_type": "execute_result"
    }
   ],
   "source": [
    "X_train, y_train, X_test, y_test = X_train_list[0], Y_train_list[0], X_test_list[0], Y_test_list[0]\n",
    "X_train.shape"
   ]
  },
  {
   "cell_type": "code",
   "execution_count": 58,
   "id": "8a6f7eba",
   "metadata": {
    "ExecuteTime": {
     "end_time": "2022-03-08T09:06:33.481432Z",
     "start_time": "2022-03-08T09:06:33.427433Z"
    }
   },
   "outputs": [],
   "source": [
    "model_regression.fit(model_regression.preproc(X_test, X_train)[1], y_train)\n",
    "None"
   ]
  },
  {
   "cell_type": "code",
   "execution_count": 59,
   "id": "0ff23b44",
   "metadata": {
    "ExecuteTime": {
     "end_time": "2022-03-08T09:06:35.777112Z",
     "start_time": "2022-03-08T09:06:35.722392Z"
    }
   },
   "outputs": [
    {
     "data": {
      "text/plain": [
       "array([ 0.00620809,  0.00511102, -0.0031916 , -0.00492881,  0.00300117,\n",
       "       -0.00228391, -0.00617027, -0.01824225,  0.00547382, -0.01840334,\n",
       "       -0.01404511, -0.00477634,  0.00394955,  0.02841482,  0.00231628,\n",
       "        0.02250352, -0.01774181, -0.00288451, -0.00161168, -0.01345576,\n",
       "       -0.01471584, -0.00929029,  0.        , -0.01277325, -0.03046733,\n",
       "        0.02004804, -0.0104408 ,  0.02872406, -0.01435881,  0.00957389,\n",
       "       -0.01441603, -0.0134491 ])"
      ]
     },
     "execution_count": 59,
     "metadata": {},
     "output_type": "execute_result"
    }
   ],
   "source": [
    "model_regression.model.coef_"
   ]
  },
  {
   "cell_type": "markdown",
   "id": "15d8a1a8",
   "metadata": {
    "ExecuteTime": {
     "end_time": "2022-03-08T08:34:06.064440Z",
     "start_time": "2022-03-08T08:34:05.960178Z"
    }
   },
   "source": [
    "## Analysing Coefs"
   ]
  },
  {
   "cell_type": "markdown",
   "id": "f37fad04",
   "metadata": {},
   "source": [
    "### Elastic Net training"
   ]
  },
  {
   "cell_type": "code",
   "execution_count": 60,
   "id": "3d2e19c6",
   "metadata": {
    "ExecuteTime": {
     "end_time": "2022-03-08T09:12:09.266728Z",
     "start_time": "2022-03-08T09:12:06.626536Z"
    }
   },
   "outputs": [
    {
     "name": "stderr",
     "output_type": "stream",
     "text": [
      "  9%|████▏                                       | 3/32 [00:00<00:02, 11.50it/s]"
     ]
    },
    {
     "name": "stdout",
     "output_type": "stream",
     "text": [
      "[ 0.00620809  0.00511102 -0.0031916  -0.00492881  0.00300117 -0.00228391\n",
      " -0.00617027 -0.01824225  0.00547382 -0.01840334 -0.01404511 -0.00477634\n",
      "  0.00394955  0.02841482  0.00231628  0.02250352 -0.01774181 -0.00288451\n",
      " -0.00161168 -0.01345576 -0.01471584 -0.00929029  0.         -0.01277325\n",
      " -0.03046733  0.02004804 -0.0104408   0.02872406 -0.01435881  0.00957389\n",
      " -0.01441603 -0.0134491 ]\n",
      "[ 0.00225349  0.00816153 -0.00111433 -0.00825532  0.00629075 -0.00352971\n",
      " -0.00988354 -0.01430053  0.00945679 -0.02049727 -0.01359918 -0.\n",
      " -0.00217022  0.03633914  0.0004537   0.01462165 -0.02684674 -0.00117029\n",
      " -0.00127408 -0.01332708 -0.01447823 -0.00446163  0.         -0.00980378\n",
      " -0.03222163  0.02521535 -0.01012939  0.02918904 -0.00393474  0.0119206\n",
      " -0.01491328 -0.01333025]\n",
      "[-0.00106798  0.00931274  0.         -0.00964862  0.0061307  -0.00027975\n",
      " -0.00859984 -0.0144838   0.01808332 -0.02034126 -0.01275935  0.01542985\n",
      " -0.00690369  0.04314778 -0.          0.01188161 -0.02842259 -0.00378216\n",
      " -0.00086929 -0.01349062 -0.01492213 -0.00015331  0.         -0.00583461\n",
      " -0.0267371   0.02700253 -0.0102587   0.03387978 -0.          0.01168036\n",
      " -0.00607364 -0.01349519]\n"
     ]
    },
    {
     "name": "stderr",
     "output_type": "stream",
     "text": [
      "\r",
      " 16%|██████▉                                     | 5/32 [00:00<00:02, 11.80it/s]"
     ]
    },
    {
     "name": "stdout",
     "output_type": "stream",
     "text": [
      "[ 0.00135714  0.00036241  0.00659309 -0.0006022   0.01475651 -0.00322098\n",
      " -0.01070667 -0.01334168  0.00252295 -0.02000344 -0.00741873  0.0136388\n",
      " -0.01023695  0.03727741  0.00594757  0.01819991 -0.00560857 -0.00295791\n",
      " -0.00551049 -0.00622864 -0.00640032  0.01265898  0.00209746 -0.00661549\n",
      " -0.01610582  0.02840378 -0.00398902  0.03779017  0.00509347  0.00673275\n",
      "  0.00411017 -0.00623547]\n",
      "[ 0.0085     -0.00502925  0.00949367  0.00493558  0.01732319 -0.00322457\n",
      " -0.01097015 -0.00759309  0.01151999 -0.02160632 -0.00408161  0.01995358\n",
      " -0.0101939   0.03468378  0.01377543  0.01807209 -0.         -0.00267979\n",
      " -0.00590697 -0.00013556  0.          0.0127212   0.00303308 -0.00503602\n",
      " -0.02179081  0.03000252 -0.          0.03708868  0.00494176 -0.03042257\n",
      "  0.00982756 -0.00013699]\n",
      "[ 0.01166686 -0.01007122  0.01488484  0.01009641  0.01200389 -0.00083078\n",
      " -0.00768185 -0.00929864  0.01543264 -0.01689604 -0.00055135  0.01809727\n",
      " -0.00575595  0.03042636  0.02178334  0.01772005 -0.00387956 -0.003457\n",
      " -0.00615641 -0.00521293 -0.0047531   0.00319016 -0.         -0.00696081\n",
      " -0.02559286  0.02630183  0.00189896  0.02762706  0.00606538 -0.03685577\n",
      "  0.01454842 -0.00521229]\n"
     ]
    },
    {
     "name": "stderr",
     "output_type": "stream",
     "text": [
      " 28%|████████████▍                               | 9/32 [00:00<00:01, 12.71it/s]"
     ]
    },
    {
     "name": "stdout",
     "output_type": "stream",
     "text": [
      "[-0.00521349 -0.01379501  0.02448655  0.01295181  0.00881023  0.00303548\n",
      " -0.0063665  -0.          0.0085584  -0.0334845   0.01790901 -0.00807009\n",
      " -0.00372075  0.02532092  0.00495901  0.00499135 -0.         -0.00332563\n",
      " -0.03641214 -0.02070322 -0.01567238 -0.00563473  0.00115399 -0.01684587\n",
      " -0.01895905  0.01455506  0.00413431  0.0008951   0.00183489 -0.01915644\n",
      "  0.04354458 -0.02071032]\n",
      "[-0.0046914  -0.0036325   0.01219171  0.00310175  0.00362311  0.00548964\n",
      " -0.00477218 -0.00081125  0.00403964 -0.00294618  0.01868522 -0.00171246\n",
      " -0.00577256 -0.00640005 -0.02238151  0.00220251 -0.00205096 -0.0032831\n",
      " -0.02651476 -0.0145745  -0.00850058 -0.00671948 -0.00197569 -0.01712695\n",
      " -0.00748866  0.00797608 -0.00534273  0.00082298  0.00038492 -0.01376113\n",
      "  0.02097055 -0.01458229]\n",
      "[-0.01022841  0.          0.01190273 -0.00010257  0.          0.00380089\n",
      " -0.00238955 -0.          0.          0.0112498   0.031843   -0.02680687\n",
      " -0.00916336 -0.03330457 -0.01853766 -0.01029207 -0.00081748 -0.\n",
      " -0.02486661 -0.01024101 -0.00426011 -0.00430074 -0.         -0.01758479\n",
      " -0.01207755  0.00729233 -0.00417133 -0.00622023 -0.00395927 -0.01469078\n",
      "  0.01063966 -0.01025122]\n"
     ]
    },
    {
     "name": "stderr",
     "output_type": "stream",
     "text": [
      "\r",
      " 34%|██████████████▊                            | 11/32 [00:00<00:01, 12.85it/s]"
     ]
    },
    {
     "name": "stdout",
     "output_type": "stream",
     "text": [
      "[-0.00415048  0.          0.00392562 -0.00032409  0.00040312 -0.\n",
      " -0.00089482 -0.00424962  0.00031537  0.00355363  0.02024647 -0.02565296\n",
      " -0.         -0.0356458  -0.0128453  -0.00293681 -0.00058101 -0.00050796\n",
      " -0.01643726 -0.01249739 -0.00778639 -0.00840665 -0.         -0.02073072\n",
      " -0.01872652  0.00261582 -0.00086365 -0.00438257 -0.01024356 -0.0127808\n",
      "  0.01301265 -0.0125042 ]\n",
      "[-0.00484787  0.00606819  0.00120077 -0.00625006  0.00289792 -0.00061098\n",
      " -0.0041036  -0.00219386 -0.00302848  0.00447554  0.02482501 -0.03144319\n",
      "  0.         -0.03294256 -0.0132189   0.00150469 -0.         -0.\n",
      " -0.01634933 -0.01207182 -0.00720214 -0.0053081   0.         -0.01955083\n",
      " -0.01971913 -0.          0.00221509 -0.00876869 -0.00518216 -0.01374838\n",
      "  0.0079355  -0.01207717]\n",
      "[-0.00507548  0.00705882  0.00053048 -0.00728094  0.00045856 -0.00062218\n",
      " -0.00259369 -0.00010943 -0.00420697  0.00499713  0.01903254 -0.03244882\n",
      "  0.00349847 -0.03019482 -0.01379076  0.00250772 -0.         -0.\n",
      " -0.01624379 -0.01225099 -0.00714584 -0.00561728  0.         -0.02031946\n",
      " -0.0200546  -0.00147763  0.00069425 -0.00900513 -0.00679506 -0.01272258\n",
      "  0.00247314 -0.01225364]\n"
     ]
    },
    {
     "name": "stderr",
     "output_type": "stream",
     "text": [
      " 47%|████████████████████▏                      | 15/32 [00:01<00:01, 13.47it/s]"
     ]
    },
    {
     "name": "stdout",
     "output_type": "stream",
     "text": [
      "[-0.00333986  0.00745824 -0.01121227 -0.00757574  0.00078053 -0.00814629\n",
      " -0.00227801 -0.00062595 -0.00822215  0.00523531  0.02445375 -0.03923376\n",
      "  0.00526428 -0.0275498  -0.00652603  0.00630447 -0.00080153 -0.\n",
      " -0.01791736 -0.02091389 -0.01681892 -0.01324984 -0.         -0.02072121\n",
      " -0.01882807 -0.00156687 -0.00121727 -0.01097328 -0.00536835 -0.00514832\n",
      " -0.         -0.02091444]\n",
      "[-0.00011099  0.00483912 -0.01657845 -0.00491953  0.         -0.00719846\n",
      " -0.00142827 -0.00220169 -0.00579584  0.00934837  0.0300923  -0.01853119\n",
      "  0.00484321 -0.03221368 -0.0132839  -0.00495236 -0.         -0.\n",
      " -0.02125969 -0.02322191 -0.01375273 -0.01211363 -0.00052144 -0.01705215\n",
      " -0.01103016 -0.00297361  0.00260831 -0.00651366 -0.00520327  0.00231861\n",
      "  0.         -0.02321961]\n",
      "[-0.00122618  0.01036195 -0.04077546 -0.00985016 -0.00023487 -0.01474329\n",
      "  0.         -0.01609672 -0.00733943  0.01523466  0.0110039  -0.03302531\n",
      "  0.01100464 -0.01432001 -0.0119157  -0.          0.00849029 -0.\n",
      " -0.01444106 -0.01802302 -0.01302741 -0.00852592  0.00065682 -0.03112069\n",
      " -0.01622045  0.00801446  0.00707013  0.0039516  -0.00093542 -0.01692392\n",
      "  0.00309601 -0.01802022]\n"
     ]
    },
    {
     "name": "stderr",
     "output_type": "stream",
     "text": [
      "\r",
      " 53%|██████████████████████▊                    | 17/32 [00:01<00:01, 13.58it/s]"
     ]
    },
    {
     "name": "stdout",
     "output_type": "stream",
     "text": [
      "[-0.00246465  0.00682218 -0.02106881 -0.00656218 -0.00308643 -0.01186377\n",
      "  0.00022745 -0.01458102 -0.00653947  0.02824816  0.01831009 -0.02030221\n",
      "  0.00933662 -0.01556572 -0.0166517   0.00176843  0.00730738  0.\n",
      " -0.0398038  -0.01822116 -0.01333532 -0.00780467  0.00188529 -0.02931725\n",
      " -0.01339745  0.00953111  0.00931985  0.00329639 -0.00804531 -0.01644296\n",
      "  0.00284474 -0.01821876]\n",
      "[ 0.00028859 -0.00088261 -0.02272709 -0.00610159  0.00221087 -0.00887081\n",
      " -0.00024701 -0.00925425 -0.00699677  0.04083694  0.01718245 -0.01336013\n",
      "  0.00760949 -0.01629618 -0.01039788  0.00038143  0.00639445  0.00027843\n",
      " -0.06308113 -0.0178695  -0.01236899 -0.00323855  0.00290216 -0.02959483\n",
      " -0.00992217  0.0076901   0.00842794  0.00068189 -0.00829259 -0.01606083\n",
      " -0.         -0.0178718 ]\n",
      "[-0.0018024   0.00853602 -0.00439818 -0.00815917 -0.00067918 -0.00736086\n",
      " -0.0002368  -0.01388363 -0.00956511  0.03233941  0.01678678 -0.012577\n",
      "  0.00536243 -0.01395011 -0.0139726   0.00048356  0.00816879  0.00070338\n",
      " -0.06005047 -0.01408072 -0.00915202 -0.00376059  0.00422455 -0.02787928\n",
      " -0.00867721  0.00722166  0.00928048  0.         -0.00507384 -0.01337393\n",
      " -0.00581939 -0.01408013]\n"
     ]
    },
    {
     "name": "stderr",
     "output_type": "stream",
     "text": [
      " 66%|████████████████████████████▏              | 21/32 [00:01<00:00, 13.89it/s]"
     ]
    },
    {
     "name": "stdout",
     "output_type": "stream",
     "text": [
      "[ 0.00028477  0.00694495  0.00291168  0.         -0.00181631 -0.00275256\n",
      "  0.         -0.01442444 -0.          0.01817716  0.02194151 -0.01130182\n",
      "  0.00805746 -0.01546749 -0.01481333 -0.00485325  0.00887903  0.00087211\n",
      " -0.05690373 -0.01450958 -0.00977476 -0.00815899  0.00072293 -0.02820789\n",
      " -0.00903003  0.01585221  0.00746428  0.00019364 -0.01406179 -0.00266298\n",
      " -0.01623048 -0.0145065 ]\n",
      "[-0.00089942  0.00173757  0.01095296 -0.00174311 -0.001972   -0.001644\n",
      "  0.0025177  -0.01688801 -0.          0.02102181  0.01618456 -0.02403438\n",
      "  0.00285756 -0.0156807  -0.01673452  0.          0.00574619  0.00023679\n",
      " -0.03807125 -0.01452014 -0.0110873  -0.00931349 -0.         -0.02228581\n",
      " -0.0098397   0.01866009  0.01266351  0.00509505 -0.01769486 -0.00734943\n",
      " -0.01416861 -0.01452271]\n",
      "[-0.00490959  0.00200399  0.00237334 -0.00715542 -0.00268355 -0.00107499\n",
      "  0.00283974 -0.015873   -0.00362923  0.02572704  0.01385139 -0.02621536\n",
      "  0.0028183  -0.01289064 -0.01516021 -0.0026301   0.00846727  0.00079893\n",
      " -0.03486503 -0.01675619 -0.01318645 -0.01167432  0.00124695 -0.02364035\n",
      " -0.01412264  0.02091809  0.01117734  0.00318564 -0.02336331 -0.00661733\n",
      " -0.01624176 -0.01676074]\n"
     ]
    },
    {
     "name": "stderr",
     "output_type": "stream",
     "text": [
      "\r",
      " 72%|██████████████████████████████▉            | 23/32 [00:01<00:00, 13.48it/s]"
     ]
    },
    {
     "name": "stdout",
     "output_type": "stream",
     "text": [
      "[ 0.         -0.00067869  0.0057312   0.00376451 -0.00412103  0.00252797\n",
      "  0.00527339 -0.01270806  0.00726391  0.03150538  0.00976217 -0.01480091\n",
      "  0.00261821 -0.01563344 -0.01123563 -0.01127147  0.00965741  0.\n",
      " -0.02666722 -0.01494128 -0.01208768 -0.01387293  0.00131213 -0.02265169\n",
      " -0.02021345  0.02435922  0.01736272  0.00582534 -0.00675627 -0.00948767\n",
      " -0.01128647 -0.01494352]\n",
      "[-0.00041274 -0.00759198  0.01476848  0.02046772 -0.00483006  0.00360608\n",
      "  0.00745742 -0.01881166  0.02313695  0.03763833 -0.00167365  0.00644405\n",
      "  0.00649312 -0.0061166  -0.01747531 -0.03100127  0.00997744  0.00044564\n",
      " -0.00848651 -0.01076128 -0.01352868 -0.02324044  0.00513814 -0.02460815\n",
      " -0.02938026  0.03582111  0.02892759  0.02036897  0.00154052 -0.01338891\n",
      " -0.00451897 -0.01076611]\n",
      "[ 0.00240654 -0.01447138  0.01656075  0.00377833  0.         -0.0027881\n",
      "  0.00826037 -0.00545813  0.01839032  0.00508608 -0.00891335  0.00062809\n",
      " -0.00394526  0.00285449 -0.00873048 -0.00171439  0.00226976  0.00442691\n",
      "  0.00778967  0.00011327 -0.00342369  0.          0.00218517 -0.00820406\n",
      " -0.01536323  0.01227982  0.00663925 -0.0093213   0.00192107  0.01103646\n",
      "  0.00098262  0.00018119]\n"
     ]
    },
    {
     "name": "stderr",
     "output_type": "stream",
     "text": [
      " 84%|████████████████████████████████████▎      | 27/32 [00:02<00:00, 13.83it/s]"
     ]
    },
    {
     "name": "stdout",
     "output_type": "stream",
     "text": [
      "[-0.00154394 -0.00801962  0.01541868  0.01080451 -0.00455813 -0.00425624\n",
      "  0.00926474 -0.00808953  0.02456149  0.01580801 -0.00689087 -0.00488503\n",
      " -0.00489627  0.00080917 -0.0175312   0.01275112  0.00218072 -0.00557307\n",
      " -0.          0.01181099 -0.00362822 -0.0073535  -0.00396595  0.00133483\n",
      " -0.0072328   0.02099741  0.01242096  0.00212745  0.01642837 -0.00096287\n",
      " -0.00141029 -0.00433577]\n",
      "[ 0.0011166  -0.01531933  0.01695561  0.01519729 -0.01235507 -0.00396985\n",
      "  0.00274211 -0.00640722  0.02011381  0.00700682 -0.01084019 -0.01924554\n",
      " -0.00841343  0.00593454 -0.02294603  0.01109049  0.         -0.01301604\n",
      "  0.00564208  0.01189452 -0.00896944 -0.00920967 -0.01182094  0.00761521\n",
      " -0.01115981  0.02952617  0.01689127  0.00599748  0.00364466 -0.00884888\n",
      "  0.00464559 -0.00518127]\n",
      "[-0.00033363 -0.01581771  0.00843501  0.01554117 -0.01476825 -0.00254687\n",
      "  0.00150747 -0.00758602  0.01041279  0.00904786 -0.00760542 -0.01567469\n",
      " -0.00412257  0.0042279  -0.03024915  0.01269176  0.         -0.01314543\n",
      " -0.00171612  0.01101072 -0.01419866 -0.01294523 -0.00769331  0.00054499\n",
      " -0.01458684  0.00924358  0.00762062  0.00096218  0.01526172 -0.\n",
      "  0.00364766 -0.01295864]\n"
     ]
    },
    {
     "name": "stderr",
     "output_type": "stream",
     "text": [
      "\r",
      " 91%|██████████████████████████████████████▉    | 29/32 [00:02<00:00, 14.01it/s]"
     ]
    },
    {
     "name": "stdout",
     "output_type": "stream",
     "text": [
      "[-0.00206231 -0.01764904  0.0005996   0.01725959 -0.01382851 -0.00261902\n",
      "  0.00230546 -0.00739732  0.00618886  0.0192488  -0.00352086 -0.01046386\n",
      " -0.00269989  0.00130588 -0.02785128  0.00978105  0.         -0.0152355\n",
      " -0.00853314  0.01377354 -0.01111643 -0.01085712 -0.0059047   0.\n",
      " -0.00737142 -0.00122993 -0.         -0.          0.01916081 -0.00706821\n",
      "  0.01570142 -0.01684426]\n",
      "[-0.0116114  -0.00556018 -0.02058976  0.00560401 -0.0282936  -0.00954699\n",
      "  0.00933343 -0.00399467 -0.003074    0.02624943  0.00076702 -0.00319786\n",
      " -0.01203542 -0.00157379 -0.02543821 -0.00433763  0.00274665 -0.01066032\n",
      " -0.01861714  0.01484652  0.         -0.00779505 -0.00177735 -0.\n",
      "  0.00044828 -0.01523893 -0.01465551  0.00669819  0.02044245 -0.01067747\n",
      "  0.02922518 -0.01475463]\n",
      "[-0.0185071   0.00278735 -0.02153394 -0.0029008  -0.0280992  -0.00672083\n",
      "  0.00938323 -0.00208226 -0.00797237  0.01535931  0.00121166 -0.00640683\n",
      " -0.01248641 -0.         -0.00430747  0.00273431 -0.         -0.01026861\n",
      " -0.01581701  0.         -0.00552935 -0.01513347 -0.00567695 -0.00471052\n",
      " -0.         -0.01513327 -0.02025366  0.01855468  0.01334924 -0.02175357\n",
      "  0.01932074 -0.01648733]\n"
     ]
    },
    {
     "name": "stderr",
     "output_type": "stream",
     "text": [
      "100%|███████████████████████████████████████████| 32/32 [00:02<00:00, 13.12it/s]"
     ]
    },
    {
     "name": "stdout",
     "output_type": "stream",
     "text": [
      "[-0.01025923  0.0105261  -0.02520439 -0.01063119 -0.0197226  -0.00708387\n",
      "  0.00693331 -0.0018831  -0.01269512  0.0145597   0.00611825 -0.00538873\n",
      " -0.01512784 -0.00396861  0.00395881  0.00272005 -0.00371437 -0.00864099\n",
      " -0.01748351 -0.00231847 -0.00518601 -0.01398461 -0.00802169 -0.01409617\n",
      " -0.00335219 -0.01740109 -0.0169379   0.01299763  0.01168836 -0.024249\n",
      "  0.01761167 -0.01382745]\n",
      "[-0.02484581 -0.         -0.01722614 -0.         -0.00646613 -0.01981137\n",
      " -0.00242079 -0.00422284 -0.01348827  0.01144002  0.00532304 -0.0129991\n",
      " -0.01551387 -0.01080718  0.00783025 -0.0183517  -0.00265678 -0.00311914\n",
      " -0.01834758 -0.01590381 -0.0113686  -0.01573938 -0.00791318 -0.01090791\n",
      " -0.00619927 -0.01353654 -0.01563728  0.0042912   0.01308569 -0.02699336\n",
      "  0.01288021 -0.02053929]\n",
      "Training done\n"
     ]
    },
    {
     "name": "stderr",
     "output_type": "stream",
     "text": [
      "\n"
     ]
    },
    {
     "data": {
      "text/plain": [
       "([854.24552,\n",
       "  622.42861,\n",
       "  493.03903,\n",
       "  216.84037,\n",
       "  476.10354,\n",
       "  1167.71516,\n",
       "  340.3274,\n",
       "  127.79453,\n",
       "  155.2315,\n",
       "  200.70063,\n",
       "  207.71237,\n",
       "  200.98841,\n",
       "  249.87299,\n",
       "  120.10755,\n",
       "  466.9585,\n",
       "  308.81563,\n",
       "  1708.94191,\n",
       "  510.69796,\n",
       "  420.72263,\n",
       "  116.88678,\n",
       "  259.62061,\n",
       "  583.59981,\n",
       "  194.02654,\n",
       "  372.60938,\n",
       "  247.062,\n",
       "  491.82926,\n",
       "  545.84708,\n",
       "  330.23043,\n",
       "  277.75573,\n",
       "  261.37473,\n",
       "  373.2109,\n",
       "  194.1036],\n",
       " 409.29378)"
      ]
     },
     "execution_count": 60,
     "metadata": {},
     "output_type": "execute_result"
    }
   ],
   "source": [
    "train(model_regression, train_df)"
   ]
  },
  {
   "cell_type": "markdown",
   "id": "5d82b178",
   "metadata": {},
   "source": [
    "### VIF index"
   ]
  },
  {
   "cell_type": "code",
   "execution_count": null,
   "id": "f02e6c03",
   "metadata": {},
   "outputs": [],
   "source": [
    "train_df_nodates = train_df.copy()#.drop(columns = 'date')#.drop(columns = bucket_list)"
   ]
  },
  {
   "cell_type": "code",
   "execution_count": null,
   "id": "1523b259",
   "metadata": {},
   "outputs": [],
   "source": [
    "train_df_nodates_scaled = train_df_nodates.copy()\n",
    "\n",
    "for feature in train_df_nodates_scaled.columns:\n",
    "    mu = train_df_nodates[feature].mean()\n",
    "    sigma = train_df_nodates[feature].std()\n",
    "    train_df_nodates_scaled[feature] = train_df_nodates_scaled[feature].apply(lambda x: (x-mu)/sigma)"
   ]
  },
  {
   "cell_type": "code",
   "execution_count": null,
   "id": "8d795ff5",
   "metadata": {},
   "outputs": [],
   "source": [
    "df = pd.DataFrame()\n",
    "\n",
    "df[\"features\"] = train_df_nodates_scaled.columns\n",
    "\n",
    "df[\"vif_index\"] = [vif(train_df_nodates_scaled.values, i) for i in range(train_df_nodates_scaled.shape[1])]\n",
    "\n",
    "round(df.sort_values(by=\"vif_index\", ascending = False),2).reset_index(drop = True)"
   ]
  },
  {
   "cell_type": "markdown",
   "id": "728738bc",
   "metadata": {},
   "source": [
    "### Coef matrix"
   ]
  },
  {
   "cell_type": "code",
   "execution_count": null,
   "id": "2a0100ae",
   "metadata": {
    "ExecuteTime": {
     "end_time": "2022-03-08T08:30:16.940751Z",
     "start_time": "2022-03-08T08:30:16.940742Z"
    }
   },
   "outputs": [],
   "source": [
    "coeff_matrix = pd.DataFrame(zip(train_df.columns,model_regression.model.coef_))\n",
    "coeff_matrix = coeff_matrix.rename(columns={0: \"features\", 1: \"coeff\"})\n",
    "coeff_matrix_absolute = coeff_matrix.copy()\n",
    "coeff_matrix_absolute['coeff abs'] = coeff_matrix['coeff'].apply(abs)\n",
    "coeff_matrix_absolute = coeff_matrix_absolute.drop(columns = 'coeff')\n",
    "coeff_matrix_absolute.sort_values(by = 'coeff abs', ascending = False).reset_index(drop = True)"
   ]
  },
  {
   "cell_type": "code",
   "execution_count": null,
   "id": "92c8a2af",
   "metadata": {
    "ExecuteTime": {
     "end_time": "2022-03-08T08:30:16.941311Z",
     "start_time": "2022-03-08T08:30:16.941303Z"
    }
   },
   "outputs": [],
   "source": [
    "plt.figure(figsize = (22,20))\n",
    "sns.heatmap(round(train_df.corr(),2), cmap = \"coolwarm\", annot = True, annot_kws = {\"size\":12});"
   ]
  },
  {
   "cell_type": "code",
   "execution_count": null,
   "id": "a19bdb29",
   "metadata": {
    "ExecuteTime": {
     "end_time": "2022-03-08T08:30:16.941866Z",
     "start_time": "2022-03-08T08:30:16.941857Z"
    }
   },
   "outputs": [],
   "source": [
    "train_df.corr().style.background_gradient(cmap='coolwarm')"
   ]
  },
  {
   "cell_type": "markdown",
   "id": "41e95fea",
   "metadata": {},
   "source": [
    "## Defining Dummy model as baseline"
   ]
  },
  {
   "cell_type": "code",
   "execution_count": null,
   "id": "c5ea70f2",
   "metadata": {},
   "outputs": [],
   "source": [
    "# Instanciate model\n",
    "dummy_model = DummyModel()\n",
    "# Train and Fit data using the crossval\n",
    "train(dummy_model,train_df)"
   ]
  },
  {
   "cell_type": "markdown",
   "id": "487f352d",
   "metadata": {
    "ExecuteTime": {
     "end_time": "2022-03-08T08:34:41.132102Z",
     "start_time": "2022-03-08T08:34:41.078184Z"
    }
   },
   "source": [
    "## Elastic Net Tuning"
   ]
  },
  {
   "cell_type": "code",
   "execution_count": null,
   "id": "109e5f49",
   "metadata": {},
   "outputs": [],
   "source": [
    "# Instanciate Grid Search\n",
    "for counter in range(30):\n",
    "    alpha = 50 * random()\n",
    "    l1 = 0.001\n",
    "    # Instanciate model\n",
    "    regression_model = LinearRegressionBaselineModel(alpha = alpha, l1_ratio = l1)\n",
    "    # Train and Fit data using the crossval\n",
    "    train(model,train_df)"
   ]
  },
  {
   "cell_type": "markdown",
   "id": "297e7259",
   "metadata": {},
   "source": [
    "## RNN tuning"
   ]
  },
  {
   "cell_type": "code",
   "execution_count": null,
   "id": "7306d92e",
   "metadata": {},
   "outputs": [],
   "source": [
    "# Instanciate Grid Search\n",
    "for counter in range(5):\n",
    "    l1 = random() / 10\n",
    "    l2 = random() / 10\n",
    "    # Instanciate model\n",
    "    rnn_model = RnnDlModel(L1 = l1, L2 = l2)\n",
    "    # Train and Fit data using the crossval\n",
    "    train(model,train_df)\n",
    "    None"
   ]
  },
  {
   "cell_type": "markdown",
   "id": "7a99a517",
   "metadata": {},
   "source": [
    "## Exporting and viewing results"
   ]
  },
  {
   "cell_type": "code",
   "execution_count": null,
   "id": "75318535",
   "metadata": {},
   "outputs": [],
   "source": [
    "df_result = read_result()\n",
    "df_result.sort_values(by=\"mean_score\")"
   ]
  },
  {
   "cell_type": "markdown",
   "id": "93cf0099",
   "metadata": {},
   "source": [
    "## Notes"
   ]
  },
  {
   "cell_type": "code",
   "execution_count": 9,
   "id": "fda51a2d",
   "metadata": {
    "ExecuteTime": {
     "end_time": "2022-03-08T08:42:48.818692Z",
     "start_time": "2022-03-08T08:42:48.730956Z"
    }
   },
   "outputs": [],
   "source": [
    "# take mean on the week on linear regression and inspect the weights\n",
    "# create a btc trajectory on linear trend +2% (test unitaire) => check outcome of strategies in a basic situation\n",
    "# y_diff to try to improve MAPE\n",
    "# Check colinearity on coefficients => heatmap ?\n",
    "# RNN, can try with less features from 2015 if we lack of simples (263 sized sequences, might not be enough)\n",
    "# l1 is a feature selector that can help tune the RNN\n",
    "#Feature importance\n",
    "#if you don't have enough variance, you can leave them out\n",
    "#Vif analysis on X\n",
    "#checking the y permutation importance (suffling and checking impact on R2)\n",
    "#Reco => vif on features & lasso importance\n",
    "#shuffle on each folds axis = 0 np.array.shuffle()"
   ]
  },
  {
   "cell_type": "code",
   "execution_count": null,
   "id": "5b0e17a4",
   "metadata": {},
   "outputs": [],
   "source": []
  }
 ],
 "metadata": {
  "kernelspec": {
   "display_name": "Python 3 (ipykernel)",
   "language": "python",
   "name": "python3"
  },
  "language_info": {
   "codemirror_mode": {
    "name": "ipython",
    "version": 3
   },
   "file_extension": ".py",
   "mimetype": "text/x-python",
   "name": "python",
   "nbconvert_exporter": "python",
   "pygments_lexer": "ipython3",
   "version": "3.8.12"
  },
  "toc": {
   "base_numbering": 1,
   "nav_menu": {},
   "number_sections": true,
   "sideBar": true,
   "skip_h1_title": false,
   "title_cell": "Table of Contents",
   "title_sidebar": "Contents",
   "toc_cell": false,
   "toc_position": {
    "height": "calc(100% - 180px)",
    "left": "10px",
    "top": "150px",
    "width": "256.094px"
   },
   "toc_section_display": true,
   "toc_window_display": true
  }
 },
 "nbformat": 4,
 "nbformat_minor": 5
}
