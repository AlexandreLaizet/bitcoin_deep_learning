{
 "cells": [
  {
   "cell_type": "code",
   "execution_count": 2,
   "id": "77f759f4",
   "metadata": {
    "ExecuteTime": {
     "end_time": "2022-03-08T08:30:33.968904Z",
     "start_time": "2022-03-08T08:30:33.936635Z"
    }
   },
   "outputs": [
    {
     "ename": "ImportError",
     "evalue": "cannot import name 'cross_val_metrics' from 'bitcoin_deep_learning.cross_val' (/Users/chbro/code/Albore952/bitcoin_deep_learning/bitcoin_deep_learning/cross_val.py)",
     "output_type": "error",
     "traceback": [
      "\u001b[0;31m---------------------------------------------------------------------------\u001b[0m",
      "\u001b[0;31mImportError\u001b[0m                               Traceback (most recent call last)",
      "\u001b[0;32m/var/folders/jq/gw28b5xj31l5gh19hr04gpmm0000gn/T/ipykernel_66278/3816958576.py\u001b[0m in \u001b[0;36m<module>\u001b[0;34m\u001b[0m\n\u001b[1;32m      1\u001b[0m \u001b[0;32mfrom\u001b[0m \u001b[0mbitcoin_deep_learning\u001b[0m\u001b[0;34m.\u001b[0m\u001b[0mcall_api\u001b[0m \u001b[0;32mimport\u001b[0m \u001b[0mApiCall\u001b[0m\u001b[0;34m\u001b[0m\u001b[0;34m\u001b[0m\u001b[0m\n\u001b[1;32m      2\u001b[0m \u001b[0;32mfrom\u001b[0m \u001b[0mbitcoin_deep_learning\u001b[0m\u001b[0;34m.\u001b[0m\u001b[0mmodel\u001b[0m \u001b[0;32mimport\u001b[0m \u001b[0mRnnDlModel\u001b[0m\u001b[0;34m,\u001b[0m \u001b[0mLinearRegressionBaselineModel\u001b[0m\u001b[0;34m,\u001b[0m \u001b[0mDummyModel\u001b[0m\u001b[0;34m\u001b[0m\u001b[0;34m\u001b[0m\u001b[0m\n\u001b[0;32m----> 3\u001b[0;31m \u001b[0;32mfrom\u001b[0m \u001b[0mbitcoin_deep_learning\u001b[0m\u001b[0;34m.\u001b[0m\u001b[0mtrainer\u001b[0m \u001b[0;32mimport\u001b[0m \u001b[0mtrain\u001b[0m\u001b[0;34m,\u001b[0m \u001b[0mread_result\u001b[0m\u001b[0;34m\u001b[0m\u001b[0;34m\u001b[0m\u001b[0m\n\u001b[0m\u001b[1;32m      4\u001b[0m \u001b[0;32mfrom\u001b[0m \u001b[0mbitcoin_deep_learning\u001b[0m\u001b[0;34m.\u001b[0m\u001b[0mcross_val\u001b[0m \u001b[0;32mimport\u001b[0m \u001b[0mget_cross_XY\u001b[0m\u001b[0;34m\u001b[0m\u001b[0;34m\u001b[0m\u001b[0m\n\u001b[1;32m      5\u001b[0m \u001b[0;32mimport\u001b[0m \u001b[0mmatplotlib\u001b[0m\u001b[0;34m.\u001b[0m\u001b[0mpyplot\u001b[0m \u001b[0;32mas\u001b[0m \u001b[0mplt\u001b[0m\u001b[0;34m\u001b[0m\u001b[0;34m\u001b[0m\u001b[0m\n",
      "\u001b[0;32m~/code/Albore952/bitcoin_deep_learning/bitcoin_deep_learning/trainer.py\u001b[0m in \u001b[0;36m<module>\u001b[0;34m\u001b[0m\n\u001b[1;32m     11\u001b[0m \u001b[0;32mfrom\u001b[0m \u001b[0mbitcoin_deep_learning\u001b[0m\u001b[0;34m.\u001b[0m\u001b[0mmodel\u001b[0m \u001b[0;32mimport\u001b[0m \u001b[0mLinearRegressionBaselineModel\u001b[0m\u001b[0;34m,\u001b[0m\u001b[0mDummyModel\u001b[0m\u001b[0;34m\u001b[0m\u001b[0;34m\u001b[0m\u001b[0m\n\u001b[1;32m     12\u001b[0m \u001b[0;31m#from bitcoin_deep_learning.call_api import ApiCall\u001b[0m\u001b[0;34m\u001b[0m\u001b[0;34m\u001b[0m\u001b[0;34m\u001b[0m\u001b[0m\n\u001b[0;32m---> 13\u001b[0;31m \u001b[0;32mfrom\u001b[0m \u001b[0mbitcoin_deep_learning\u001b[0m\u001b[0;34m.\u001b[0m\u001b[0mmetrics\u001b[0m \u001b[0;32mimport\u001b[0m \u001b[0mMean_absolute_percentage_error\u001b[0m\u001b[0;34m\u001b[0m\u001b[0;34m\u001b[0m\u001b[0m\n\u001b[0m\u001b[1;32m     14\u001b[0m from bitcoin_deep_learning.params import (ROOT_DIR, FOLD_TEST_SIZE,\n\u001b[1;32m     15\u001b[0m                                           FOLD_TRAIN_SIZE, HORIZON, API_KEY)\n",
      "\u001b[0;32m~/code/Albore952/bitcoin_deep_learning/bitcoin_deep_learning/metrics.py\u001b[0m in \u001b[0;36m<module>\u001b[0;34m\u001b[0m\n\u001b[1;32m     10\u001b[0m \u001b[0;34m\u001b[0m\u001b[0m\n\u001b[1;32m     11\u001b[0m \u001b[0;31m# from bitcoin_deep_learning.cross_val import cross_val\u001b[0m\u001b[0;34m\u001b[0m\u001b[0;34m\u001b[0m\u001b[0;34m\u001b[0m\u001b[0m\n\u001b[0;32m---> 12\u001b[0;31m \u001b[0;32mfrom\u001b[0m \u001b[0mbitcoin_deep_learning\u001b[0m\u001b[0;34m.\u001b[0m\u001b[0mcross_val\u001b[0m \u001b[0;32mimport\u001b[0m \u001b[0mcross_val_metrics\u001b[0m\u001b[0;34m\u001b[0m\u001b[0;34m\u001b[0m\u001b[0m\n\u001b[0m\u001b[1;32m     13\u001b[0m \u001b[0;34m\u001b[0m\u001b[0m\n\u001b[1;32m     14\u001b[0m \u001b[0;32mclass\u001b[0m \u001b[0mMean_absolute_percentage_error\u001b[0m\u001b[0;34m(\u001b[0m\u001b[0;34m)\u001b[0m\u001b[0;34m:\u001b[0m\u001b[0;34m\u001b[0m\u001b[0;34m\u001b[0m\u001b[0m\n",
      "\u001b[0;31mImportError\u001b[0m: cannot import name 'cross_val_metrics' from 'bitcoin_deep_learning.cross_val' (/Users/chbro/code/Albore952/bitcoin_deep_learning/bitcoin_deep_learning/cross_val.py)"
     ]
    }
   ],
   "source": [
    "from bitcoin_deep_learning.call_api import ApiCall\n",
    "from bitcoin_deep_learning.model import RnnDlModel, LinearRegressionBaselineModel, DummyModel\n",
    "from bitcoin_deep_learning.trainer import train, read_result\n",
    "from bitcoin_deep_learning.cross_val import get_cross_XY\n",
    "import matplotlib.pyplot as plt\n",
    "import seaborn as sns\n",
    "import numpy as np\n",
    "import pandas as pd\n",
    "from tqdm import tqdm\n",
    "from random import random\n",
    "import joblib\n",
    "%load_ext autoreload\n",
    "%autoreload 2"
   ]
  },
  {
   "cell_type": "code",
   "execution_count": null,
   "id": "fcb79638",
   "metadata": {
    "ExecuteTime": {
     "end_time": "2022-03-08T08:30:16.937030Z",
     "start_time": "2022-03-08T08:30:16.937018Z"
    }
   },
   "outputs": [],
   "source": [
    "#import X_train to tune the model\n",
    "#intuition too much regularization"
   ]
  },
  {
   "cell_type": "code",
   "execution_count": null,
   "id": "8b7623cb",
   "metadata": {
    "ExecuteTime": {
     "end_time": "2022-03-08T08:30:16.937605Z",
     "start_time": "2022-03-08T08:30:16.937597Z"
    }
   },
   "outputs": [],
   "source": [
    "train_df = ApiCall().read_local(data='train')#.dr op(columns = '[%]_Bitcoin_growth_rate_on_Horizon=7')"
   ]
  },
  {
   "cell_type": "code",
   "execution_count": null,
   "id": "f67c267f",
   "metadata": {
    "ExecuteTime": {
     "end_time": "2022-03-08T08:30:16.938077Z",
     "start_time": "2022-03-08T08:30:16.938068Z"
    }
   },
   "outputs": [],
   "source": [
    "X_train_list, Y_train_list, X_test_list,Y_test_list = get_cross_XY()"
   ]
  },
  {
   "cell_type": "code",
   "execution_count": null,
   "id": "9c834313",
   "metadata": {
    "ExecuteTime": {
     "end_time": "2022-03-08T08:30:16.938902Z",
     "start_time": "2022-03-08T08:30:16.938893Z"
    }
   },
   "outputs": [],
   "source": [
    "np.array(X_train_list).shape"
   ]
  },
  {
   "cell_type": "code",
   "execution_count": null,
   "id": "f896ad06",
   "metadata": {
    "ExecuteTime": {
     "end_time": "2022-03-08T08:30:16.939603Z",
     "start_time": "2022-03-08T08:30:16.939596Z"
    }
   },
   "outputs": [],
   "source": [
    "model = LinearRegressionBaselineModel()"
   ]
  },
  {
   "cell_type": "code",
   "execution_count": null,
   "id": "2a3df6a8",
   "metadata": {
    "ExecuteTime": {
     "end_time": "2022-03-08T08:30:16.940135Z",
     "start_time": "2022-03-08T08:30:16.940126Z"
    }
   },
   "outputs": [],
   "source": [
    "train(model, train_df)"
   ]
  },
  {
   "cell_type": "code",
   "execution_count": null,
   "id": "0f4a5b65",
   "metadata": {
    "ExecuteTime": {
     "end_time": "2022-03-08T08:30:16.940751Z",
     "start_time": "2022-03-08T08:30:16.940742Z"
    }
   },
   "outputs": [],
   "source": [
    "coeff_matrix = pd.DataFrame(zip(train_df.columns,model.model.coef_))\n",
    "coeff_matrix = coeff_matrix.rename(columns={0: \"features\", 1: \"coeff\"})\n",
    "coeff_matrix_absolute = coeff_matrix.copy()\n",
    "coeff_matrix_absolute['coeff abs'] = coeff_matrix['coeff'].apply(abs)\n",
    "coeff_matrix_absolute = coeff_matrix_absolute.drop(columns = 'coeff')\n",
    "coeff_matrix_absolute.sort_values(by = 'coeff abs', ascending = False).reset_index(drop = True)"
   ]
  },
  {
   "cell_type": "code",
   "execution_count": null,
   "id": "cc7d6a86",
   "metadata": {
    "ExecuteTime": {
     "end_time": "2022-03-08T08:30:16.941311Z",
     "start_time": "2022-03-08T08:30:16.941303Z"
    }
   },
   "outputs": [],
   "source": [
    "plt.figure(figsize = (22,20))\n",
    "sns.heatmap(round(train_df.corr(),2), cmap = \"coolwarm\", annot = True, annot_kws = {\"size\":12});"
   ]
  },
  {
   "cell_type": "code",
   "execution_count": null,
   "id": "7479cad1",
   "metadata": {
    "ExecuteTime": {
     "end_time": "2022-03-08T08:30:16.941866Z",
     "start_time": "2022-03-08T08:30:16.941857Z"
    }
   },
   "outputs": [],
   "source": [
    "train_df.corr().style.background_gradient(cmap='coolwarm')"
   ]
  }
 ],
 "metadata": {
  "kernelspec": {
   "display_name": "Python 3 (ipykernel)",
   "language": "python",
   "name": "python3"
  },
  "language_info": {
   "codemirror_mode": {
    "name": "ipython",
    "version": 3
   },
   "file_extension": ".py",
   "mimetype": "text/x-python",
   "name": "python",
   "nbconvert_exporter": "python",
   "pygments_lexer": "ipython3",
   "version": "3.8.12"
  },
  "toc": {
   "base_numbering": 1,
   "nav_menu": {},
   "number_sections": true,
   "sideBar": true,
   "skip_h1_title": false,
   "title_cell": "Table of Contents",
   "title_sidebar": "Contents",
   "toc_cell": false,
   "toc_position": {},
   "toc_section_display": true,
   "toc_window_display": false
  }
 },
 "nbformat": 4,
 "nbformat_minor": 5
}
