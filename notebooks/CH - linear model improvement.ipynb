{
 "cells": [
  {
   "cell_type": "code",
   "execution_count": 1,
   "id": "79154f6a",
   "metadata": {
    "ExecuteTime": {
     "end_time": "2022-03-07T17:13:17.548951Z",
     "start_time": "2022-03-07T17:13:12.727510Z"
    }
   },
   "outputs": [],
   "source": [
    "from bitcoin_deep_learning.call_api import ApiCall\n",
    "from bitcoin_deep_learning.model import RnnDlModel, LinearRegressionBaselineModel, DummyModel\n",
    "from bitcoin_deep_learning.trainer import train, read_result\n",
    "import matplotlib.pyplot as plt\n",
    "import seaborn as sns\n",
    "import numpy as np\n",
    "import pandas as pd\n",
    "from tqdm import tqdm\n",
    "from random import random\n",
    "import joblib\n",
    "%load_ext autoreload\n",
    "%autoreload 2"
   ]
  },
  {
   "cell_type": "code",
   "execution_count": null,
   "id": "d53087a2",
   "metadata": {},
   "outputs": [],
   "source": [
    "#import X_train to tune the model\n",
    "#intuition too much regularization"
   ]
  },
  {
   "cell_type": "code",
   "execution_count": null,
   "id": "0038eb4f",
   "metadata": {},
   "outputs": [],
   "source": [
    "train_df = ApiCall().read_local(data='train')#.dr op(columns = '[%]_Bitcoin_growth_rate_on_Horizon=7')"
   ]
  },
  {
   "cell_type": "code",
   "execution_count": null,
   "id": "e776efb7",
   "metadata": {},
   "outputs": [],
   "source": [
    "model = LinearRegressionBaselineModel()"
   ]
  },
  {
   "cell_type": "code",
   "execution_count": null,
   "id": "dcada11f",
   "metadata": {},
   "outputs": [],
   "source": [
    "train(model, train_df)"
   ]
  },
  {
   "cell_type": "code",
   "execution_count": null,
   "id": "7eb4f4c4",
   "metadata": {},
   "outputs": [],
   "source": [
    "coeff_matrix = pd.DataFrame(zip(train_df.columns,model.model.coef_))\n",
    "coeff_matrix = coeff_matrix.rename(columns={0: \"features\", 1: \"coeff\"})\n",
    "coeff_matrix_absolute = coeff_matrix.copy()\n",
    "coeff_matrix_absolute['coeff abs'] = coeff_matrix['coeff'].apply(abs)\n",
    "coeff_matrix_absolute = coeff_matrix_absolute.drop(columns = 'coeff')\n",
    "coeff_matrix_absolute.sort_values(by = 'coeff abs', ascending = False).reset_index(drop = True)"
   ]
  },
  {
   "cell_type": "code",
   "execution_count": null,
   "id": "19d16505",
   "metadata": {},
   "outputs": [],
   "source": [
    "plt.figure(figsize = (22,20))\n",
    "sns.heatmap(round(train_df.corr(),2), cmap = \"coolwarm\", annot = True, annot_kws = {\"size\":12});"
   ]
  },
  {
   "cell_type": "code",
   "execution_count": null,
   "id": "f76905da",
   "metadata": {},
   "outputs": [],
   "source": [
    "train_df.corr().style.background_gradient(cmap='coolwarm')"
   ]
  }
 ],
 "metadata": {
  "kernelspec": {
   "display_name": "Python 3 (ipykernel)",
   "language": "python",
   "name": "python3"
  },
  "language_info": {
   "codemirror_mode": {
    "name": "ipython",
    "version": 3
   },
   "file_extension": ".py",
   "mimetype": "text/x-python",
   "name": "python",
   "nbconvert_exporter": "python",
   "pygments_lexer": "ipython3",
   "version": "3.8.12"
  },
  "toc": {
   "base_numbering": 1,
   "nav_menu": {},
   "number_sections": true,
   "sideBar": true,
   "skip_h1_title": false,
   "title_cell": "Table of Contents",
   "title_sidebar": "Contents",
   "toc_cell": false,
   "toc_position": {},
   "toc_section_display": true,
   "toc_window_display": false
  }
 },
 "nbformat": 4,
 "nbformat_minor": 5
}
