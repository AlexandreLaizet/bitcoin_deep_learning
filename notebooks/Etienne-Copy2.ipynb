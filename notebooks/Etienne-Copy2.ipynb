{
 "cells": [
  {
   "cell_type": "code",
   "execution_count": 2,
   "id": "86a7b326",
   "metadata": {
    "ExecuteTime": {
     "end_time": "2022-03-10T10:20:38.601435Z",
     "start_time": "2022-03-10T10:20:27.408185Z"
    }
   },
   "outputs": [
    {
     "name": "stdout",
     "output_type": "stream",
     "text": [
      "Downloading data ...\n"
     ]
    },
    {
     "name": "stderr",
     "output_type": "stream",
     "text": [
      "100%|███████████████████████████████████████████| 27/27 [00:35<00:00,  1.30s/it]\n"
     ]
    },
    {
     "name": "stdout",
     "output_type": "stream",
     "text": [
      "Data is up to date and has been loaded from local\n"
     ]
    }
   ],
   "source": [
    "import requests \n",
    "import pandas as pd\n",
    "import numpy as np\n",
    "import sys; sys.path\n",
    "import datetime\n",
    "import pandas as pd\n",
    "import numpy as np \n",
    "from datetime import datetime\n",
    "from datetime import datetime\n",
    "from tqdm import tqdm\n",
    "import random\n",
    "from sklearn.metrics import mean_absolute_error\n",
    "import matplotlib.pyplot as plt\n",
    "import os\n",
    "from sklearn.preprocessing import MinMaxScaler\n",
    "\n",
    "from bitcoin_deep_learning.call_api import ApiCall\n",
    "from bitcoin_deep_learning.model import LinearRegressionBaselineModel, RnnDlModel,RandomForestReg\n",
    "from bitcoin_deep_learning.trainer import cv_train, read_result\n",
    "from bitcoin_deep_learning.cross_val import cross_val, get_cross_XY, cross_val_trade\n",
    "api = ApiCall()\n",
    "\n",
    "%load_ext autoreload\n",
    "%autoreload 2\n"
   ]
  },
  {
   "cell_type": "code",
   "execution_count": null,
   "id": "67db4bac",
   "metadata": {
    "ExecuteTime": {
     "end_time": "2022-03-10T10:44:17.163064Z",
     "start_time": "2022-03-10T10:44:16.211055Z"
    }
   },
   "outputs": [],
   "source": [
    "scaler = MinMaxScaler()\n",
    "train_df= ApiCall().read_local()\n",
    "for i in range(1,len(list(train_df.columns))-1):\n",
    "    train_df[list(train_df.columns)[i]] = scaler.fit_transform(np.array(train_df[train_df.columns[1]]).reshape(-1, 1))\n",
    "train_df"
   ]
  },
  {
   "cell_type": "code",
   "execution_count": null,
   "id": "5ab32b96",
   "metadata": {
    "ExecuteTime": {
     "end_time": "2022-03-10T10:30:29.239356Z",
     "start_time": "2022-03-10T10:30:14.646435Z"
    }
   },
   "outputs": [],
   "source": [
    "model = RandomForestReg()\n",
    "cv_train(model,train_df)\n",
    "read_result().sort_values(by=\"date\")"
   ]
  },
  {
   "cell_type": "code",
   "execution_count": null,
   "id": "1050ccf2",
   "metadata": {
    "ExecuteTime": {
     "end_time": "2022-03-10T11:44:34.629111Z",
     "start_time": "2022-03-10T11:44:34.606586Z"
    }
   },
   "outputs": [],
   "source": [
    "\"yolo\""
   ]
  },
  {
   "cell_type": "code",
   "execution_count": null,
   "id": "62ef4a70",
   "metadata": {
    "ExecuteTime": {
     "end_time": "2022-03-10T11:18:40.522116Z",
     "start_time": "2022-03-10T11:01:30.760235Z"
    }
   },
   "outputs": [],
   "source": [
    "for n_estimators in [100,500,700,1000,1500,3000]:\n",
    "    for warm_start in  [True,False]:\n",
    "        for bootstrap in [True,False]:\n",
    "            for criterion in [\"squared_error\", \"absolute_error\", \"poisson\"]:\n",
    "                for min_samples_leaf in [1,5,10,20]:\n",
    "                    model = RandomForestReg(warm_start=warm_start,\n",
    "                                            n_estimators=n_estimators,\n",
    "                                           bootstrap=bootstrap,\n",
    "                                           criterion=criterion,\n",
    "                                           min_samples_leaf=min_samples_leaf)\n",
    "\n",
    "                    cv_train(model,train_df)"
   ]
  },
  {
   "cell_type": "code",
   "execution_count": null,
   "id": "a3616cc2",
   "metadata": {
    "ExecuteTime": {
     "end_time": "2022-03-10T10:27:39.434122Z",
     "start_time": "2022-03-10T10:27:39.434082Z"
    }
   },
   "outputs": [],
   "source": [
    "X0 = [[i+5,-2*i]for i in range(1001)]\n",
    "X1 = np.sin(np.arange(1001))"
   ]
  },
  {
   "cell_type": "code",
   "execution_count": null,
   "id": "638826b9",
   "metadata": {
    "ExecuteTime": {
     "end_time": "2022-03-09T16:59:21.879685Z",
     "start_time": "2022-03-09T16:59:21.742616Z"
    }
   },
   "outputs": [],
   "source": [
    "df = pd.DataFrame(X0)\n",
    "df[\"date\"] = X1\n",
    "df"
   ]
  },
  {
   "cell_type": "code",
   "execution_count": null,
   "id": "4be498d0",
   "metadata": {
    "ExecuteTime": {
     "end_time": "2022-03-09T16:59:23.604949Z",
     "start_time": "2022-03-09T16:59:22.410190Z"
    }
   },
   "outputs": [],
   "source": [
    "model = LinearRegressionBaselineModel()\n",
    "#model = RnnDlModel(epochs=10,patience=2)\n",
    "past_reality, reality,reality_diff, prediction_diff = cross_val_trade(model,df)"
   ]
  },
  {
   "cell_type": "code",
   "execution_count": null,
   "id": "661fbc00",
   "metadata": {
    "ExecuteTime": {
     "end_time": "2022-03-09T16:59:23.796539Z",
     "start_time": "2022-03-09T16:59:23.617223Z"
    }
   },
   "outputs": [],
   "source": [
    "past_reality[0]"
   ]
  },
  {
   "cell_type": "code",
   "execution_count": null,
   "id": "3a71cbc9",
   "metadata": {
    "ExecuteTime": {
     "end_time": "2022-03-09T16:59:24.300710Z",
     "start_time": "2022-03-09T16:59:23.806693Z"
    }
   },
   "outputs": [],
   "source": [
    "plt.plot(reality[0])"
   ]
  },
  {
   "cell_type": "code",
   "execution_count": null,
   "id": "b59aa718",
   "metadata": {
    "ExecuteTime": {
     "end_time": "2022-03-09T16:59:25.305410Z",
     "start_time": "2022-03-09T16:59:24.977799Z"
    }
   },
   "outputs": [],
   "source": [
    "plt.plot(prediction_diff[0],c=\"r\")\n",
    "plt.plot(reality_diff[0])"
   ]
  },
  {
   "cell_type": "code",
   "execution_count": null,
   "id": "b0f3a3d1",
   "metadata": {
    "ExecuteTime": {
     "end_time": "2022-03-09T16:59:29.429191Z",
     "start_time": "2022-03-09T16:59:27.980345Z"
    }
   },
   "outputs": [],
   "source": [
    "model = LinearRegressionBaselineModel()\n",
    "#model = RnnDlModel(epochs=10,patience=2)\n",
    "past_reality, reality,reality_diff, prediction_diff = cross_val_trade(model,df)\n",
    "plt.plot(prediction_diff[0],c=\"r\")\n",
    "plt.plot(reality_diff[0])"
   ]
  },
  {
   "cell_type": "code",
   "execution_count": null,
   "id": "d3603a08",
   "metadata": {
    "ExecuteTime": {
     "end_time": "2022-03-09T16:52:39.686158Z",
     "start_time": "2022-03-09T16:52:39.543063Z"
    }
   },
   "outputs": [],
   "source": [
    "df"
   ]
  },
  {
   "cell_type": "code",
   "execution_count": null,
   "id": "78cc3bed",
   "metadata": {
    "ExecuteTime": {
     "end_time": "2022-03-09T16:54:14.625068Z",
     "start_time": "2022-03-09T16:54:13.512900Z"
    }
   },
   "outputs": [],
   "source": [
    "X_train_list, Y_train_list, X_test_list,Y_test_list = get_cross_XY(df.drop(columns=\"date\"),data=None)"
   ]
  },
  {
   "cell_type": "code",
   "execution_count": null,
   "id": "ad51d86c",
   "metadata": {
    "ExecuteTime": {
     "end_time": "2022-03-09T16:54:14.762448Z",
     "start_time": "2022-03-09T16:54:14.632659Z"
    }
   },
   "outputs": [],
   "source": [
    "X_train, Y_train, X_test,Y_test = X_train_list[0], Y_train_list[0], X_test_list[0],Y_test_list[0]"
   ]
  },
  {
   "cell_type": "code",
   "execution_count": null,
   "id": "a6b1c728",
   "metadata": {
    "ExecuteTime": {
     "end_time": "2022-03-09T16:54:42.591675Z",
     "start_time": "2022-03-09T16:54:42.461813Z"
    }
   },
   "outputs": [],
   "source": [
    "from sklearn.preprocessing import MinMaxScaler, StandardScaler\n",
    "scaler = StandardScaler()\n",
    "#X_train_scaled =  scaler.fit_transform(X_train[:,-1,:])\n",
    "#X_test_scaled = scaler.transform(X_test[:,-1,:])\n",
    "X_train_scaled =  (X_train[:,-1,:])\n",
    "X_test_scaled = (X_test[:,-1,:])\n",
    "X_train_scaled"
   ]
  },
  {
   "cell_type": "code",
   "execution_count": null,
   "id": "6a0e31f5",
   "metadata": {
    "ExecuteTime": {
     "end_time": "2022-03-09T16:54:43.329373Z",
     "start_time": "2022-03-09T16:54:42.981451Z"
    }
   },
   "outputs": [],
   "source": [
    "from sklearn.linear_model import ElasticNet\n",
    "model = ElasticNet()\n",
    "model.fit(X_train_scaled,Y_train)\n",
    "Y_pred = model.predict(X_test_scaled)\n",
    "plt.plot(Y_pred)\n",
    "plt.plot(Y_test)"
   ]
  },
  {
   "cell_type": "code",
   "execution_count": null,
   "id": "254814c0",
   "metadata": {
    "ExecuteTime": {
     "end_time": "2022-03-09T16:54:15.529568Z",
     "start_time": "2022-03-09T16:54:15.350092Z"
    }
   },
   "outputs": [],
   "source": [
    "Y_train"
   ]
  },
  {
   "cell_type": "code",
   "execution_count": null,
   "id": "18a73db8",
   "metadata": {
    "ExecuteTime": {
     "end_time": "2022-03-09T16:54:15.713904Z",
     "start_time": "2022-03-09T16:54:15.542868Z"
    }
   },
   "outputs": [],
   "source": [
    "X_train[:,-1,:]"
   ]
  },
  {
   "cell_type": "code",
   "execution_count": null,
   "id": "e6298ed9",
   "metadata": {
    "ExecuteTime": {
     "end_time": "2022-03-09T15:39:33.674825Z",
     "start_time": "2022-03-09T15:39:33.537909Z"
    }
   },
   "outputs": [],
   "source": [
    "from sklearn.preprocessing import MinMaxScaler, StandardScaler\n",
    "scaler = MinMaxScaler()\n",
    "scaler.fit(X_train[:,-1,:])"
   ]
  },
  {
   "cell_type": "code",
   "execution_count": null,
   "id": "50ca6d99",
   "metadata": {
    "ExecuteTime": {
     "end_time": "2022-03-09T14:54:05.248499Z",
     "start_time": "2022-03-09T14:54:05.021024Z"
    }
   },
   "outputs": [],
   "source": []
  },
  {
   "cell_type": "code",
   "execution_count": null,
   "id": "6a0fa236",
   "metadata": {
    "ExecuteTime": {
     "end_time": "2022-03-09T15:39:33.832071Z",
     "start_time": "2022-03-09T15:39:33.688143Z"
    }
   },
   "outputs": [],
   "source": [
    "X_train[:,-1,:]"
   ]
  },
  {
   "cell_type": "code",
   "execution_count": null,
   "id": "5d98795d",
   "metadata": {
    "ExecuteTime": {
     "end_time": "2022-03-09T15:44:53.023640Z",
     "start_time": "2022-03-09T15:44:45.930468Z"
    }
   },
   "outputs": [],
   "source": [
    "model = LinearRegressionBaselineModel(alpha=0.1,l1_ratio=0.001)\n",
    "df = ApiCall().read_local()\n",
    "X_train_list, Y_train_list, X_test_list,Y_test_list = get_cross_XY(df,data=None)\n",
    "\n"
   ]
  },
  {
   "cell_type": "code",
   "execution_count": null,
   "id": "bffce926",
   "metadata": {
    "ExecuteTime": {
     "end_time": "2022-03-09T15:45:07.391989Z",
     "start_time": "2022-03-09T15:44:58.984581Z"
    }
   },
   "outputs": [],
   "source": [
    "cross_val_trade(model,df)"
   ]
  },
  {
   "cell_type": "code",
   "execution_count": null,
   "id": "454232ad",
   "metadata": {
    "ExecuteTime": {
     "end_time": "2022-03-09T15:47:30.179538Z",
     "start_time": "2022-03-09T15:47:26.175042Z"
    }
   },
   "outputs": [],
   "source": [
    "past_reality, reality,reality_diff, prediction_diff = cross_val_trade(model,df)"
   ]
  },
  {
   "cell_type": "code",
   "execution_count": null,
   "id": "3d5d9b8c",
   "metadata": {
    "ExecuteTime": {
     "end_time": "2022-03-09T16:28:26.745583Z",
     "start_time": "2022-03-09T16:28:26.561663Z"
    }
   },
   "outputs": [],
   "source": [
    "ct = 0\n",
    "preds = []\n",
    "computed_reality = []\n",
    "for past_prices, diffs in zip(past_reality,prediction_diff):\n",
    "    preds.append(past_prices * diffs+ past_prices)\n",
    "preds  "
   ]
  },
  {
   "cell_type": "code",
   "execution_count": null,
   "id": "cdcb48e0",
   "metadata": {
    "ExecuteTime": {
     "end_time": "2022-03-09T17:03:14.025454Z",
     "start_time": "2022-03-09T17:03:13.903822Z"
    }
   },
   "outputs": [],
   "source": []
  },
  {
   "cell_type": "code",
   "execution_count": null,
   "id": "34a42f71",
   "metadata": {
    "ExecuteTime": {
     "end_time": "2022-03-09T17:03:05.746462Z",
     "start_time": "2022-03-09T17:03:05.610887Z"
    }
   },
   "outputs": [],
   "source": [
    "df = api.read_local()\n",
    "scaler = MinMaxScaler()\n",
    "#df  =scaler.fit_transform(df.drop(columns=\"date\"))"
   ]
  },
  {
   "cell_type": "code",
   "execution_count": null,
   "id": "33afb8e0",
   "metadata": {
    "ExecuteTime": {
     "end_time": "2022-03-09T17:05:18.570310Z",
     "start_time": "2022-03-09T17:05:18.439994Z"
    }
   },
   "outputs": [],
   "source": [
    "df[df.columns[1]].shape"
   ]
  },
  {
   "cell_type": "code",
   "execution_count": null,
   "id": "9652d735",
   "metadata": {
    "ExecuteTime": {
     "end_time": "2022-03-09T17:05:55.466306Z",
     "start_time": "2022-03-09T17:05:55.336089Z"
    }
   },
   "outputs": [],
   "source": []
  },
  {
   "cell_type": "code",
   "execution_count": null,
   "id": "8616a701",
   "metadata": {
    "ExecuteTime": {
     "end_time": "2022-03-09T17:08:48.818805Z",
     "start_time": "2022-03-09T17:08:48.656506Z"
    }
   },
   "outputs": [],
   "source": []
  },
  {
   "cell_type": "code",
   "execution_count": null,
   "id": "360c1fe3",
   "metadata": {
    "ExecuteTime": {
     "end_time": "2022-03-09T17:08:49.756169Z",
     "start_time": "2022-03-09T17:08:49.535475Z"
    }
   },
   "outputs": [],
   "source": [
    "df"
   ]
  },
  {
   "cell_type": "code",
   "execution_count": null,
   "id": "ba7fa4f9",
   "metadata": {
    "ExecuteTime": {
     "end_time": "2022-03-09T17:14:27.791406Z",
     "start_time": "2022-03-09T17:14:23.473082Z"
    }
   },
   "outputs": [],
   "source": [
    "\n",
    "df = api.read_local()\n",
    "scaler = MinMaxScaler()\n",
    "for i in range(1,len(list(df.columns))):\n",
    "    df[list(df.columns)[i]] = scaler.fit_transform(np.array(df[df.columns[1]]).reshape(-1, 1))\n",
    "\n",
    "model = LinearRegressionBaselineModel(alpha=0.5,l1_ratio=0.001)\n",
    "#model = RnnDlModel(epochs=10,patience=2)\n",
    "past_reality, reality,reality_diff, prediction_diff = cross_val_trade(model,df)\n",
    "for i in range(10):\n",
    "    plt.plot(prediction_diff[i],c=\"r\")\n",
    "    plt.plot(reality_diff[i])\n",
    "    plt.show()\n"
   ]
  },
  {
   "cell_type": "code",
   "execution_count": null,
   "id": "b3accc8b",
   "metadata": {
    "ExecuteTime": {
     "end_time": "2022-03-09T17:14:28.010131Z",
     "start_time": "2022-03-09T17:14:27.798627Z"
    }
   },
   "outputs": [],
   "source": [
    "df"
   ]
  },
  {
   "cell_type": "code",
   "execution_count": null,
   "id": "7f8e1678",
   "metadata": {
    "ExecuteTime": {
     "end_time": "2022-03-09T17:14:30.525658Z",
     "start_time": "2022-03-09T17:14:28.024636Z"
    }
   },
   "outputs": [],
   "source": [
    "fold_score, score= train(model,df)\n",
    "print(fold_score,score)"
   ]
  },
  {
   "cell_type": "code",
   "execution_count": null,
   "id": "613ccd8b",
   "metadata": {
    "ExecuteTime": {
     "end_time": "2022-03-09T17:23:46.544656Z",
     "start_time": "2022-03-09T17:19:17.670903Z"
    }
   },
   "outputs": [],
   "source": [
    "for counter in range(20):\n",
    "    alpha = 0.015 * random.random()\n",
    "    l1 = random.random()*0.01\n",
    "    # Instanciate model\n",
    "    regression_model = LinearRegressionBaselineModel(alpha = alpha, l1_ratio = l1)\n",
    "    # Train and Fit data using the crossval\n",
    "    val_score, score = train(regression_model,df);\n",
    "    print(val_score,score)\n",
    "    past_reality, reality,reality_diff, prediction_diff = cross_val_trade(model,df)\n",
    "    for i in range(len(reality)):\n",
    "        plt.plot(prediction_diff[i],c=\"r\")\n",
    "        plt.plot(reality_diff[i])\n",
    "        plt.show()"
   ]
  },
  {
   "cell_type": "code",
   "execution_count": null,
   "id": "d99cef92",
   "metadata": {
    "ExecuteTime": {
     "end_time": "2022-03-09T17:23:46.730289Z",
     "start_time": "2022-03-09T17:23:46.561158Z"
    },
    "scrolled": true
   },
   "outputs": [],
   "source": [
    "from bitcoin_deep_learning.trainer import read_result\n",
    "read_result().sort_values(by=\"date\",ascending=False)"
   ]
  },
  {
   "cell_type": "code",
   "execution_count": null,
   "id": "6a626c8e",
   "metadata": {
    "ExecuteTime": {
     "end_time": "2022-03-09T17:52:26.052552Z",
     "start_time": "2022-03-09T17:36:07.704082Z"
    }
   },
   "outputs": [],
   "source": [
    "df = api.read_local()\n",
    "scaler = MinMaxScaler()\n",
    "for i in range(1,len(list(df.columns))-1):\n",
    "    df[list(df.columns)[i]] = scaler.fit_transform(np.array(df[df.columns[1]]).reshape(-1, 1))\n",
    "\n",
    "model = LinearRegressionBaselineModel(alpha=0.5,l1_ratio=0.001)\n",
    "#model = RnnDlModel(epochs=10,patience=2)\n",
    "past_reality, reality,reality_diff, prediction_diff = cross_val_trade(model,df)\n",
    "ALPHA = [0.001,0.005,0.01,0.1,5,1,10,100]\n",
    "L1 = [0.0001,0.0005,0.001,0.005,0.001,0.005,0.01,0.1,0.5,1]\n",
    "for alpha in ALPHA :\n",
    "    for l1 in L1 : \n",
    "        # Instanciate model\n",
    "        regression_model = LinearRegressionBaselineModel(alpha = alpha, l1_ratio = l1)\n",
    "        # Train and Fit data using the crossval\n",
    "        val_score, score = train(regression_model,df);\n",
    "        print(val_score,score)\n",
    "        past_reality, reality,reality_diff, prediction_diff = cross_val_trade(model,df)\n",
    "        for i in range(len(reality)):\n",
    "            plt.plot(prediction_diff[i],c=\"r\")\n",
    "            plt.plot(reality_diff[i])\n",
    "            plt.show()"
   ]
  },
  {
   "cell_type": "code",
   "execution_count": null,
   "id": "57f11863",
   "metadata": {
    "ExecuteTime": {
     "end_time": "2022-03-09T17:52:26.245981Z",
     "start_time": "2022-03-09T17:52:26.065419Z"
    }
   },
   "outputs": [],
   "source": [
    "read_result().sort_values(by=\"date\",ascending=False).head(50)"
   ]
  },
  {
   "cell_type": "code",
   "execution_count": null,
   "id": "8690ed32",
   "metadata": {
    "ExecuteTime": {
     "start_time": "2022-03-09T18:31:31.901Z"
    }
   },
   "outputs": [],
   "source": [
    "df = api.read_local()\n",
    "scaler = MinMaxScaler()\n",
    "for i in range(1,len(list(df.columns))):\n",
    "    df[list(df.columns)[i]] = scaler.fit_transform(np.array(df[df.columns[1]]).reshape(-1, 1))\n",
    "\n",
    "model = LinearRegressionBaselineModel(alpha=0.5,l1_ratio=0.001)\n",
    "#model = RnnDlModel(epochs=10,patience=2)\n",
    "past_reality, reality,reality_diff, prediction_diff = cross_val_trade(model,df)\n",
    "ALPHA = [0.001,0.005,0.01,0.1,5,1,10,100]\n",
    "L1 = [0.0001,0.0005,0.001,0.005,0.001,0.005,0.01,0.1,0.5,1]\n",
    "for alpha in ALPHA :\n",
    "    for l1 in L1 : \n",
    "        # Instanciate model\n",
    "        regression_model = LinearRegressionBaselineModel(alpha = alpha, l1_ratio = l1)\n",
    "        # Train and Fit data using the crossval\n",
    "        val_score, score = train(regression_model,df);\n",
    "        print(val_score,score)\n",
    "        past_reality, reality,reality_diff, prediction_diff = cross_val_trade(model,df)\n",
    "        for i in range(len(reality)):\n",
    "            plt.plot(reality[i])\n",
    "            plt.plot()"
   ]
  },
  {
   "cell_type": "code",
   "execution_count": null,
   "id": "9bf83a68",
   "metadata": {
    "ExecuteTime": {
     "end_time": "2022-03-09T18:34:24.142241Z",
     "start_time": "2022-03-09T18:34:24.013993Z"
    }
   },
   "outputs": [],
   "source": [
    "x = np.eye(260,3,31)\n",
    "x.reshape(260,)"
   ]
  },
  {
   "cell_type": "code",
   "execution_count": null,
   "id": "06390c76",
   "metadata": {
    "ExecuteTime": {
     "end_time": "2022-03-09T18:29:04.773254Z",
     "start_time": "2022-03-09T18:28:59.474360Z"
    }
   },
   "outputs": [],
   "source": [
    "read_result().sort_values(by=\"mean_score\",ascending=False).head(50)"
   ]
  },
  {
   "cell_type": "code",
   "execution_count": null,
   "id": "91c1510c",
   "metadata": {
    "ExecuteTime": {
     "end_time": "2022-03-10T08:46:55.653991Z",
     "start_time": "2022-03-10T08:46:55.513440Z"
    }
   },
   "outputs": [],
   "source": [
    "from sklearn.metrics import mean_absolute_error\n",
    "def train(model,\n",
    "          df,\n",
    "          save:bool=True,\n",
    "          precision:int=5\n",
    "          ):\n",
    "    reality,prediction = cross_val(model,df)\n",
    "    fold_score = [round(mean_absolute_error(Y_true,Y_pred),precision)\n",
    "                            for Y_true,Y_pred in zip(reality,prediction)]\n",
    "    score =round(np.mean(np.array(fold_score)),precision)\n",
    "    # Option to save results\n",
    "    if save == True :\n",
    "        file_path = os.path.join(ROOT_DIR,\n",
    "                                        \"cross_val_data\",\n",
    "                                        'test.csv')\n",
    "        # Check if file is there and create it otherwise\n",
    "        if not os.path.isfile(file_path):\n",
    "            fieldnames = [\"name\",'fold_score',\"mean_score\",\"min_score\",\"max_score\",'hyperparams','date']\n",
    "            pd.DataFrame(columns=fieldnames).to_csv(file_path,index=False)\n",
    "        # Append a new line with current CV results\n",
    "        with open(file_path , 'a', newline='') as csvfile:\n",
    "            fieldnames = [\"name\",'fold_score',\"mean_score\",\"min_score\",\"max_score\",'hyperparams','date']\n",
    "            writer = csv.DictWriter(csvfile, fieldnames=fieldnames)\n",
    "\n",
    "            writer.writerow({\"name\":model.name, \"fold_score\":fold_score,\n",
    "                            \"mean_score\":score,\"min_score\":min(fold_score),\n",
    "                            \"max_score\":max(fold_score),\n",
    "                            \"hyperparams\":model.hyperparams,\n",
    "                            'date':datetime.now().strftime(\"%d-%m %H:%M:%S\")})\n",
    "            print(\"Training done\")\n",
    "        return fold_score, score\n"
   ]
  },
  {
   "cell_type": "code",
   "execution_count": null,
   "id": "be304499",
   "metadata": {
    "ExecuteTime": {
     "end_time": "2022-03-10T08:46:56.167435Z",
     "start_time": "2022-03-10T08:46:56.011474Z"
    }
   },
   "outputs": [],
   "source": [
    "train_df = ApiCall().read_local()"
   ]
  },
  {
   "cell_type": "code",
   "execution_count": null,
   "id": "08c1e567",
   "metadata": {
    "ExecuteTime": {
     "end_time": "2022-03-10T09:10:57.769630Z",
     "start_time": "2022-03-10T09:10:57.618451Z"
    }
   },
   "outputs": [],
   "source": [
    "read_result(file=\"CV_trader.csv\")"
   ]
  },
  {
   "cell_type": "code",
   "execution_count": null,
   "id": "f01e5590",
   "metadata": {
    "ExecuteTime": {
     "end_time": "2022-03-10T08:47:34.381188Z",
     "start_time": "2022-03-10T08:47:30.526438Z"
    }
   },
   "outputs": [],
   "source": [
    "\n",
    "model = LinearRegressionBaselineModel()\n",
    "train(model,train_df)"
   ]
  },
  {
   "cell_type": "code",
   "execution_count": null,
   "id": "3a6afa5c",
   "metadata": {
    "ExecuteTime": {
     "end_time": "2022-03-10T09:14:33.839416Z",
     "start_time": "2022-03-10T09:14:33.690768Z"
    }
   },
   "outputs": [],
   "source": [
    "ROOT_DIR = \"/Users/Zalo/code/AlexandreLaizet/bitcoin_deep_learning\"\n"
   ]
  },
  {
   "cell_type": "code",
   "execution_count": null,
   "id": "3d920d59",
   "metadata": {
    "ExecuteTime": {
     "end_time": "2022-03-10T09:15:44.039668Z",
     "start_time": "2022-03-10T09:15:43.881272Z"
    }
   },
   "outputs": [],
   "source": [
    "file_path = os.path.join(ROOT_DIR,\n",
    "                        \"cross_val_data\",\n",
    "                        'CV_trader.csv')\n",
    "fieldnames = [\"name\",'fold_score',\"mean_score\",\"min_score\",\"max_score\",'hyperparams','date',\n",
    "             \"roi_hodler\", \"sharpe_hodler\", \"roi_trader\", \"sharpe_trader\",\"roi_whale\", \"sharpe_whale\",\n",
    "              \"roi_hodler_whale\",  \"sharpe_hodler_whale\", \"roi_charles\", \n",
    "                \"sharpe_charles\"]\n",
    "pd.DataFrame(columns=fieldnames).to_csv(file_path,index=False)\n",
    "read_result(file=\"CV_trader.csv\")"
   ]
  },
  {
   "cell_type": "code",
   "execution_count": null,
   "id": "80a0a6ff",
   "metadata": {
    "ExecuteTime": {
     "end_time": "2022-03-10T08:56:00.298685Z",
     "start_time": "2022-03-10T08:55:55.872938Z"
    }
   },
   "outputs": [],
   "source": [
    "from bitcoin_deep_learning.metrics import iterate_cross_val_results\n",
    "iterate_cross_val_results()"
   ]
  },
  {
   "cell_type": "code",
   "execution_count": null,
   "id": "904352b5",
   "metadata": {
    "ExecuteTime": {
     "end_time": "2022-03-10T08:58:25.380019Z",
     "start_time": "2022-03-10T08:58:20.477232Z"
    }
   },
   "outputs": [],
   "source": [
    "roi_hodler, roi_trader, roi_whale, roi_hodler_whale, roi_charles, sharpe_hodler, sharpe_trader, sharpe_whale, sharpe_hodler_whale, sharpe_charles = iterate_cross_val_results()\n"
   ]
  },
  {
   "cell_type": "code",
   "execution_count": null,
   "id": "d3f8a684",
   "metadata": {},
   "outputs": [],
   "source": [
    "with open(file_path , 'a', newline='') as csvfile:\n",
    "            #fieldnames = [\"name\",'fold_score',\"mean_score\",\"min_score\",\"max_score\",'hyperparams','date']\n",
    "            writer = csv.DictWriter(csvfile, fieldnames=fieldnames)\n",
    "\n",
    "            writer.writerow({\"name\":model.name, \"fold_score\":fold_score,\n",
    "                            \"mean_score\":score,\"min_score\":min(fold_score),\n",
    "                            \"max_score\":max(fold_score),\n",
    "                            \"hyperparams\":model.hyperparams,\n",
    "                            'date':datetime.now().strftime(\"%d-%m %H:%M:%S\"),\n",
    "                            \"roi_hodler\":roi_hodler\n",
    "                            \"sharpe_hodler\": sharpe_hodler\n",
    "                            \"roi_trader\": roi_trader\n",
    "                            \"sharpe_trader\": sharpe_trader\n",
    "                            \"roi_whale\": roi_whale\n",
    "                            \"sharpe_whale\": sharpe_whale\n",
    "                            \"roi_hodler_whale\": roi_hodler_whale\n",
    "                            \"sharpe_hodler_whale\": sharpe_hodler_whale\n",
    "                            \"roi_charles\": roi_charles\n",
    "                            \"sharpe_charles\":sharpe_charles})\n",
    "            print(\"Training done\")"
   ]
  },
  {
   "cell_type": "code",
   "execution_count": null,
   "id": "c339f31b",
   "metadata": {
    "ExecuteTime": {
     "end_time": "2022-03-10T10:03:05.174992Z",
     "start_time": "2022-03-10T10:03:05.031502Z"
    }
   },
   "outputs": [],
   "source": [
    "train_df= ApiCall().read_local()"
   ]
  },
  {
   "cell_type": "code",
   "execution_count": null,
   "id": "abf7529a",
   "metadata": {
    "ExecuteTime": {
     "end_time": "2022-03-10T10:03:32.173858Z",
     "start_time": "2022-03-10T10:03:31.982100Z"
    }
   },
   "outputs": [],
   "source": [
    "scaler = MinMaxScaler()\n",
    "train_df= ApiCall().read_local()\n",
    "for i in range(1,len(list(train_df.columns))-1):\n",
    "    train_df[list(train_df.columns)[i]] = scaler.fit_transform(np.array(train_df[train_df.columns[1]]).reshape(-1, 1))\n",
    "train_df"
   ]
  },
  {
   "cell_type": "code",
   "execution_count": null,
   "id": "ddf31bc7",
   "metadata": {
    "ExecuteTime": {
     "end_time": "2022-03-10T10:03:36.052997Z",
     "start_time": "2022-03-10T10:03:33.990322Z"
    }
   },
   "outputs": [],
   "source": [
    "for warm_start in  [True,False]:\n",
    "    for max_features in [\"auto\", \"sqrt\", \"log2\"]:\n",
    "        for bootstrap in [True,False]:\n",
    "            for criterion in [\"squared_error\", \"absolute_error\", \"poisson\"]:\n",
    "                    for max_depht in [None,True]:\n",
    "                        if max_depht :\n",
    "                            max_depht = np.random.randint(1,1000)\n",
    "                        print(\"oui\")\n",
    "                        min_samples_split = random.randint(2,100)\n",
    "                        min_samples_leaf = random.randint(2,100)\n",
    "                        model = RandomForestReg(warm_start=warm_start,\n",
    "                                               max_features=max_features,\n",
    "                                               bootstrap=bootstrap,\n",
    "                                               criterion=criterion,\n",
    "                                               max_depht=max_depht,\n",
    "                                               min_samples_split=min_samples_split,\n",
    "                                               min_samples_leaf=min_samples_leaf)\n",
    "\n",
    "                        cv_train(model,train_df)"
   ]
  },
  {
   "cell_type": "code",
   "execution_count": 4,
   "id": "3cd23d26",
   "metadata": {
    "ExecuteTime": {
     "end_time": "2022-03-10T11:22:37.446679Z",
     "start_time": "2022-03-10T11:19:30.119973Z"
    }
   },
   "outputs": [
    {
     "name": "stderr",
     "output_type": "stream",
     "text": [
      "100%|███████████████████████████████████████████| 32/32 [02:37<00:00,  4.93s/it]\n"
     ]
    },
    {
     "name": "stdout",
     "output_type": "stream",
     "text": [
      "[0.0, 0.39866031865659446, 0.33400412784029365, 0.33443788814979536, 0.14175623511513047, -0.2824240613868797, -0.29076824191104333, -0.24699767200798428, -0.12283953354687571, -0.060139076467191965, 0.16689361278589554, -0.20495794683518231, -0.2654374044503006, 0.025969350391875423, 0.0, 0.1285124761770906, 0.0, 0.0, 0.023539343735346607, 0.283302223859873, 0.40087990847917987, 0.18950300557149036, 0.34898134583133555, 0.37344415648179985, 0.38341082597163556, -0.14638556686848347, -0.24133489844179024, -0.38243218377026755, 0.20217003805619904, 0.2192444658295618, 0.3554664065473805, 0.0]\n",
      "Training with trader done\n"
     ]
    },
    {
     "data": {
      "text/html": [
       "<div>\n",
       "<style scoped>\n",
       "    .dataframe tbody tr th:only-of-type {\n",
       "        vertical-align: middle;\n",
       "    }\n",
       "\n",
       "    .dataframe tbody tr th {\n",
       "        vertical-align: top;\n",
       "    }\n",
       "\n",
       "    .dataframe thead th {\n",
       "        text-align: right;\n",
       "    }\n",
       "</style>\n",
       "<table border=\"1\" class=\"dataframe\">\n",
       "  <thead>\n",
       "    <tr style=\"text-align: right;\">\n",
       "      <th></th>\n",
       "      <th>name</th>\n",
       "      <th>fold_score</th>\n",
       "      <th>mean_score</th>\n",
       "      <th>min_score</th>\n",
       "      <th>max_score</th>\n",
       "      <th>hyperparams</th>\n",
       "      <th>date</th>\n",
       "      <th>roi_hodler</th>\n",
       "      <th>sharpe_hodler</th>\n",
       "      <th>roi_trader</th>\n",
       "      <th>sharpe_trader</th>\n",
       "      <th>roi_whale</th>\n",
       "      <th>sharpe_whale</th>\n",
       "      <th>roi_hodler_whale</th>\n",
       "      <th>sharpe_hodler_whale</th>\n",
       "      <th>roi_charles</th>\n",
       "      <th>sharpe_charles</th>\n",
       "    </tr>\n",
       "  </thead>\n",
       "  <tbody>\n",
       "    <tr>\n",
       "      <th>0</th>\n",
       "      <td>LinearReg</td>\n",
       "      <td>[0.06979, 0.08286, 0.09448, 0.10667, 0.08963, ...</td>\n",
       "      <td>0.07873</td>\n",
       "      <td>0.03510</td>\n",
       "      <td>0.11721</td>\n",
       "      <td>{'alpha': 1, 'l1_ratio': 0.5}</td>\n",
       "      <td>10-03 12:04:27</td>\n",
       "      <td>0.076063</td>\n",
       "      <td>2.692379</td>\n",
       "      <td>0.000000</td>\n",
       "      <td>0.000000</td>\n",
       "      <td>0.000000</td>\n",
       "      <td>0.000000</td>\n",
       "      <td>0.000000</td>\n",
       "      <td>0.000000</td>\n",
       "      <td>0.099678</td>\n",
       "      <td>2.089733</td>\n",
       "    </tr>\n",
       "    <tr>\n",
       "      <th>1</th>\n",
       "      <td>RandomForestReg</td>\n",
       "      <td>[0.07313, 0.07909, 0.10424, 0.12256, 0.11114, ...</td>\n",
       "      <td>0.10006</td>\n",
       "      <td>0.06343</td>\n",
       "      <td>0.17766</td>\n",
       "      <td>None</td>\n",
       "      <td>10-03 12:08:28</td>\n",
       "      <td>0.076063</td>\n",
       "      <td>2.692379</td>\n",
       "      <td>0.000000</td>\n",
       "      <td>0.000000</td>\n",
       "      <td>0.000000</td>\n",
       "      <td>0.000000</td>\n",
       "      <td>0.000000</td>\n",
       "      <td>0.000000</td>\n",
       "      <td>0.099678</td>\n",
       "      <td>2.089733</td>\n",
       "    </tr>\n",
       "    <tr>\n",
       "      <th>2</th>\n",
       "      <td>RandomForestReg</td>\n",
       "      <td>[0.19037, 0.07132, 0.12205, 0.15436, 0.11077, ...</td>\n",
       "      <td>0.13984</td>\n",
       "      <td>0.04739</td>\n",
       "      <td>0.35404</td>\n",
       "      <td>None</td>\n",
       "      <td>10-03 13:12:35</td>\n",
       "      <td>0.076063</td>\n",
       "      <td>2.692379</td>\n",
       "      <td>-0.022602</td>\n",
       "      <td>-0.603253</td>\n",
       "      <td>-0.003665</td>\n",
       "      <td>-0.027767</td>\n",
       "      <td>-0.003665</td>\n",
       "      <td>-0.027767</td>\n",
       "      <td>0.064577</td>\n",
       "      <td>1.047856</td>\n",
       "    </tr>\n",
       "  </tbody>\n",
       "</table>\n",
       "</div>"
      ],
      "text/plain": [
       "              name                                         fold_score  \\\n",
       "0        LinearReg  [0.06979, 0.08286, 0.09448, 0.10667, 0.08963, ...   \n",
       "1  RandomForestReg  [0.07313, 0.07909, 0.10424, 0.12256, 0.11114, ...   \n",
       "2  RandomForestReg  [0.19037, 0.07132, 0.12205, 0.15436, 0.11077, ...   \n",
       "\n",
       "   mean_score  min_score  max_score                    hyperparams  \\\n",
       "0     0.07873    0.03510    0.11721  {'alpha': 1, 'l1_ratio': 0.5}   \n",
       "1     0.10006    0.06343    0.17766                           None   \n",
       "2     0.13984    0.04739    0.35404                           None   \n",
       "\n",
       "             date  roi_hodler  sharpe_hodler  roi_trader  sharpe_trader  \\\n",
       "0  10-03 12:04:27    0.076063       2.692379    0.000000       0.000000   \n",
       "1  10-03 12:08:28    0.076063       2.692379    0.000000       0.000000   \n",
       "2  10-03 13:12:35    0.076063       2.692379   -0.022602      -0.603253   \n",
       "\n",
       "   roi_whale  sharpe_whale  roi_hodler_whale  sharpe_hodler_whale  \\\n",
       "0   0.000000      0.000000          0.000000             0.000000   \n",
       "1   0.000000      0.000000          0.000000             0.000000   \n",
       "2  -0.003665     -0.027767         -0.003665            -0.027767   \n",
       "\n",
       "   roi_charles  sharpe_charles  \n",
       "0     0.099678        2.089733  \n",
       "1     0.099678        2.089733  \n",
       "2     0.064577        1.047856  "
      ]
     },
     "execution_count": 4,
     "metadata": {},
     "output_type": "execute_result"
    }
   ],
   "source": [
    "model = RandomForestReg()\n",
    "cv_train(model,ApiCall().read_local(data=\"train\"))\n",
    "read_result().sort_values(by=\"date\")"
   ]
  },
  {
   "cell_type": "code",
   "execution_count": null,
   "id": "0c899e15",
   "metadata": {
    "ExecuteTime": {
     "end_time": "2022-03-10T10:06:03.430091Z",
     "start_time": "2022-03-10T10:06:03.297699Z"
    }
   },
   "outputs": [],
   "source": [
    "model.model.criterion"
   ]
  },
  {
   "cell_type": "code",
   "execution_count": null,
   "id": "42f53eaf",
   "metadata": {},
   "outputs": [],
   "source": []
  }
 ],
 "metadata": {
  "kernelspec": {
   "display_name": "Python 3 (ipykernel)",
   "language": "python",
   "name": "python3"
  },
  "language_info": {
   "codemirror_mode": {
    "name": "ipython",
    "version": 3
   },
   "file_extension": ".py",
   "mimetype": "text/x-python",
   "name": "python",
   "nbconvert_exporter": "python",
   "pygments_lexer": "ipython3",
   "version": "3.8.12"
  },
  "toc": {
   "base_numbering": 1,
   "nav_menu": {},
   "number_sections": true,
   "sideBar": true,
   "skip_h1_title": false,
   "title_cell": "Table of Contents",
   "title_sidebar": "Contents",
   "toc_cell": false,
   "toc_position": {},
   "toc_section_display": true,
   "toc_window_display": false
  }
 },
 "nbformat": 4,
 "nbformat_minor": 5
}
