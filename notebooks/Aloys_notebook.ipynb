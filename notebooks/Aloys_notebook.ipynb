{
 "cells": [
  {
   "cell_type": "code",
   "execution_count": 2,
   "id": "2c8197a3",
   "metadata": {
    "ExecuteTime": {
     "end_time": "2022-03-10T18:28:27.102058Z",
     "start_time": "2022-03-10T18:28:26.906587Z"
    }
   },
   "outputs": [
    {
     "name": "stdout",
     "output_type": "stream",
     "text": [
      "The autoreload extension is already loaded. To reload it, use:\n",
      "  %reload_ext autoreload\n"
     ]
    }
   ],
   "source": [
    "import requests \n",
    "import pandas as pd\n",
    "import numpy as np\n",
    "import sys; sys.path\n",
    "import datetime\n",
    "import pandas as pd\n",
    "import numpy as np \n",
    "from datetime import datetime\n",
    "from datetime import datetime\n",
    "from tqdm import tqdm\n",
    "import random\n",
    "from sklearn.metrics import mean_absolute_error\n",
    "import matplotlib.pyplot as plt\n",
    "\n",
    "from bitcoin_deep_learning.call_api import ApiCall\n",
    "from bitcoin_deep_learning.model import LinearRegressionBaselineModel, RnnDlModel,RandomForestReg\n",
    "from bitcoin_deep_learning.trainer import cv_train, read_result\n",
    "from bitcoin_deep_learning.cross_val import cross_val, get_cross_XY, cross_val_trade\n",
    "api = ApiCall()\n",
    "\n",
    "%load_ext autoreload\n",
    "%autoreload 2"
   ]
  },
  {
   "cell_type": "code",
   "execution_count": null,
   "id": "3f5b063a",
   "metadata": {
    "ExecuteTime": {
     "end_time": "2022-03-08T13:56:47.015895Z",
     "start_time": "2022-03-08T13:56:46.896149Z"
    }
   },
   "outputs": [],
   "source": [
    "#from google.colab import drive\n",
    "#drive.mount('/content/drive')"
   ]
  },
  {
   "cell_type": "code",
   "execution_count": null,
   "id": "76479a95",
   "metadata": {
    "ExecuteTime": {
     "end_time": "2022-03-08T13:56:47.138524Z",
     "start_time": "2022-03-08T13:56:47.022131Z"
    }
   },
   "outputs": [],
   "source": [
    "#df = ApiCall().get_clean_data()\n",
    "#ApiCall().data_to_csv(df)\n",
    "#ApiCall().save_train_val_test_split(df)\n"
   ]
  },
  {
   "cell_type": "code",
   "execution_count": null,
   "id": "8e5d08b8",
   "metadata": {
    "ExecuteTime": {
     "end_time": "2022-03-10T14:54:38.513695Z",
     "start_time": "2022-03-10T14:54:38.357646Z"
    }
   },
   "outputs": [],
   "source": [
    "df = ApiCall().read_local(data=\"all\")\n",
    "df.shape"
   ]
  },
  {
   "cell_type": "code",
   "execution_count": null,
   "id": "6c3df10e",
   "metadata": {
    "ExecuteTime": {
     "end_time": "2022-03-08T13:56:54.373526Z",
     "start_time": "2022-03-08T13:56:47.324523Z"
    }
   },
   "outputs": [],
   "source": [
    "model = LinearRegressionBaselineModel()\n",
    "val_score, score = train(model,train_df)\n",
    "np.array(val_score).argmax()"
   ]
  },
  {
   "cell_type": "code",
   "execution_count": null,
   "id": "efc49940",
   "metadata": {
    "ExecuteTime": {
     "end_time": "2022-03-08T13:56:54.813546Z",
     "start_time": "2022-03-08T13:56:54.378606Z"
    }
   },
   "outputs": [],
   "source": [
    "plt.plot(val_score)\n",
    "score\n",
    "\n"
   ]
  },
  {
   "cell_type": "code",
   "execution_count": null,
   "id": "5dc53df0",
   "metadata": {
    "ExecuteTime": {
     "end_time": "2022-03-08T13:56:55.327955Z",
     "start_time": "2022-03-08T13:56:54.818860Z"
    }
   },
   "outputs": [],
   "source": [
    "import matplotlib.pyplot as plt\n",
    "plt.plot(train_df[\"[+]_[T]_Bitcoin_Price\"].iloc[0:260])"
   ]
  },
  {
   "cell_type": "code",
   "execution_count": null,
   "id": "c6ed222c",
   "metadata": {
    "ExecuteTime": {
     "end_time": "2022-03-08T13:57:01.463497Z",
     "start_time": "2022-03-08T13:56:55.332412Z"
    }
   },
   "outputs": [],
   "source": [
    "(X_train_list, Y_train_list, X_test_list,Y_test_list) = get_cross_XY(data=\"train\")\n"
   ]
  },
  {
   "cell_type": "code",
   "execution_count": null,
   "id": "ce177b22",
   "metadata": {
    "ExecuteTime": {
     "end_time": "2022-03-08T13:57:08.082306Z",
     "start_time": "2022-03-08T13:57:01.474432Z"
    }
   },
   "outputs": [],
   "source": [
    "model = LinearRegressionBaselineModel(alpha=5,l1_ratio=0.01)\n",
    "#model = LinearRegressionBaselineModel(alpha=50,l1_ratio=0.01)\n",
    "fold_score,score = train(model,train_df)\n"
   ]
  },
  {
   "cell_type": "code",
   "execution_count": null,
   "id": "79492b5a",
   "metadata": {
    "ExecuteTime": {
     "end_time": "2022-03-08T13:57:34.824973Z",
     "start_time": "2022-03-08T13:57:34.690079Z"
    }
   },
   "outputs": [],
   "source": [
    "df = read_result()\n",
    "df.sort_values(by=\"mean_score\",ascending=True)"
   ]
  },
  {
   "cell_type": "code",
   "execution_count": null,
   "id": "b9fca0f3",
   "metadata": {
    "ExecuteTime": {
     "end_time": "2022-03-08T14:31:36.564815Z",
     "start_time": "2022-03-08T14:18:17.837400Z"
    }
   },
   "outputs": [],
   "source": [
    "#index = np.array(fold_score).argmax()\n",
    "#model = LinearRegressionBaselineModel(alpha=0.1,l1_ratio=0.001)\n",
    "#model = LinearRegressionBaselineModel(alpha=50,l1_ratio=0.01)\n",
    "from bitcoin_deep_learning.model import RandomForestReg\n",
    "model = RandomForestReg()\n",
    "#model = LinearRegressionBaselineModel(alpha=0.1,l1_ratio=0.001)\n",
    "(X_train_list, Y_train_list, X_test_list,Y_test_list) = get_cross_XY(data=\"train\")\n",
    "scores = []\n",
    "for index in range(len(X_train_list)):\n",
    "    print(\"FOLD \",index)\n",
    "    model.set_model()\n",
    "    fold_score,score = train(model,train_df)\n",
    "    X_test = X_test_list[index]\n",
    "    X_train = X_train_list[index]\n",
    "    Y_test = Y_test_list[index]\n",
    "    Y_train = Y_train_list[index]\n",
    "    Y_pred = model.run(X_test,X_train,Y_train)\n",
    "    score = mean_absolute_error(Y_pred,Y_test)\n",
    "    print(\"Average mae is \",score)\n",
    "    scores.append(score)\n",
    "    plt.plot(Y_test)\n",
    "    plt.plot(Y_pred,color=\"r\")\n",
    "    plt.show()\n",
    "    Y_pred.mean()\n"
   ]
  },
  {
   "cell_type": "code",
   "execution_count": null,
   "id": "1c068641",
   "metadata": {
    "ExecuteTime": {
     "end_time": "2022-03-08T14:47:45.541992Z",
     "start_time": "2022-03-08T14:34:33.377335Z"
    }
   },
   "outputs": [],
   "source": [
    "model = RandomForestReg()\n",
    "(X_train_list, Y_train_list, X_test_list,Y_test_list) = get_cross_XY(data=\"train\")\n",
    "scores1 = []\n",
    "for index in range(len(X_train_list)):\n",
    "    print(\"FOLD \",index)\n",
    "    model.set_model()\n",
    "    fold_score,score = train(model,train_df)\n",
    "    X_test = X_test_list[index]\n",
    "    X_train = X_train_list[index]\n",
    "    Y_test = Y_test_list[index]\n",
    "    Y_train = Y_train_list[index]\n",
    "    Y_pred = model.run(X_test,X_train,Y_train)\n",
    "    score = mean_absolute_error(Y_pred,Y_test)\n",
    "    print(\"Average mae is \",score)\n",
    "    scores1.append(score)\n",
    "    plt.plot(Y_test)\n",
    "    plt.plot(Y_pred,color=\"r\")\n",
    "    plt.show()\n",
    "    print(\"Y_test mean\",Y_test.mean(),\"std dev\",Y_test.std())\n",
    "    print(\"Y_pred mean\",Y_pred.mean(),\"std dev\",Y_pred.std())\n",
    "print(score1)"
   ]
  },
  {
   "cell_type": "code",
   "execution_count": null,
   "id": "6dec6d63",
   "metadata": {
    "ExecuteTime": {
     "end_time": "2022-03-08T13:57:18.621652Z",
     "start_time": "2022-03-08T13:57:18.621611Z"
    }
   },
   "outputs": [],
   "source": [
    "Y_pred"
   ]
  },
  {
   "cell_type": "code",
   "execution_count": null,
   "id": "f1dfb370",
   "metadata": {
    "ExecuteTime": {
     "end_time": "2022-03-08T13:57:18.624858Z",
     "start_time": "2022-03-08T13:57:18.624812Z"
    }
   },
   "outputs": [],
   "source": [
    "index = random.randint(0,32)\n",
    "X_test = X_test_list[index]\n",
    "X_train = X_train_list[index]\n",
    "Y_test = Y_test_list[index]\n",
    "Y_train = Y_train_list[index]\n",
    "Y_pred = model.run(X_test,X_train,Y_train)"
   ]
  },
  {
   "cell_type": "code",
   "execution_count": null,
   "id": "9842bc4c",
   "metadata": {
    "ExecuteTime": {
     "end_time": "2022-03-08T13:57:18.668947Z",
     "start_time": "2022-03-08T13:57:18.668907Z"
    }
   },
   "outputs": [],
   "source": [
    "X_train.shape"
   ]
  },
  {
   "cell_type": "code",
   "execution_count": null,
   "id": "25c265a8",
   "metadata": {
    "ExecuteTime": {
     "end_time": "2022-03-08T13:57:18.672920Z",
     "start_time": "2022-03-08T13:57:18.672875Z"
    },
    "scrolled": true
   },
   "outputs": [],
   "source": [
    "import seaborn as sns\n",
    "X_train = X_train_list[0]\n",
    "plt.plot(X_train[1,:,]);\n",
    "#plt.plot(Y_train)"
   ]
  },
  {
   "cell_type": "code",
   "execution_count": null,
   "id": "50784642",
   "metadata": {
    "ExecuteTime": {
     "end_time": "2022-03-08T13:57:18.686988Z",
     "start_time": "2022-03-08T13:57:18.686948Z"
    }
   },
   "outputs": [],
   "source": [
    "plt.plot(train_df[\"[+]_[T]_Bitcoin_Price\"].iloc[0:260])"
   ]
  },
  {
   "cell_type": "code",
   "execution_count": null,
   "id": "43bb3ddb",
   "metadata": {
    "ExecuteTime": {
     "end_time": "2022-03-08T13:57:18.690423Z",
     "start_time": "2022-03-08T13:57:18.690379Z"
    }
   },
   "outputs": [],
   "source": [
    "index = 0\n",
    "X_test = X_test_list[index]\n",
    "X_train = X_train_list[index]\n",
    "Y_test = Y_test_list[index]\n",
    "Y_train = Y_train_list[index]\n",
    "Y_pred = model.run(X_test,X_train,Y_train)\n",
    "from bitcoin_deep_learning.model import RnnDlModel\n",
    "model = RnnDlModel(epochs=2)\n",
    "Y_pred = model.run(X_test,X_train,Y_train)"
   ]
  },
  {
   "cell_type": "code",
   "execution_count": null,
   "id": "f907b7e1",
   "metadata": {
    "ExecuteTime": {
     "end_time": "2022-03-08T14:13:30.679425Z",
     "start_time": "2022-03-08T14:13:30.522351Z"
    }
   },
   "outputs": [],
   "source": [
    "train_df = ApiCall().read_local()\n",
    "train_df"
   ]
  },
  {
   "cell_type": "code",
   "execution_count": null,
   "id": "d4f71a2d",
   "metadata": {
    "ExecuteTime": {
     "end_time": "2022-03-08T14:07:45.538912Z",
     "start_time": "2022-03-08T14:07:45.353679Z"
    }
   },
   "outputs": [],
   "source": [
    "train_df = ApiCall().read_local(data=\"train\")\n",
    "train_df.head(20)"
   ]
  },
  {
   "cell_type": "code",
   "execution_count": null,
   "id": "2d419c59",
   "metadata": {
    "ExecuteTime": {
     "end_time": "2022-03-08T13:57:18.700345Z",
     "start_time": "2022-03-08T13:57:18.700295Z"
    }
   },
   "outputs": [],
   "source": [
    "train_df.iloc[0:260,:].head(20)"
   ]
  },
  {
   "cell_type": "code",
   "execution_count": null,
   "id": "9ca2d0a2",
   "metadata": {
    "ExecuteTime": {
     "end_time": "2022-03-08T13:57:18.704658Z",
     "start_time": "2022-03-08T13:57:18.704618Z"
    }
   },
   "outputs": [],
   "source": [
    "X_train = X_train_list[0]"
   ]
  },
  {
   "cell_type": "code",
   "execution_count": null,
   "id": "f5326588",
   "metadata": {
    "ExecuteTime": {
     "end_time": "2022-03-08T13:57:18.707987Z",
     "start_time": "2022-03-08T13:57:18.707940Z"
    }
   },
   "outputs": [],
   "source": [
    "X_seq0= X_train[0,:,:]\n",
    "plt.plot(X_seq0[:,-1])"
   ]
  },
  {
   "cell_type": "code",
   "execution_count": null,
   "id": "44748ad1",
   "metadata": {
    "ExecuteTime": {
     "end_time": "2022-03-08T13:57:18.711253Z",
     "start_time": "2022-03-08T13:57:18.711218Z"
    }
   },
   "outputs": [],
   "source": [
    "plt.plot(train_df[\"[+]_[T]_Bitcoin_Price\"].iloc[0:90])"
   ]
  },
  {
   "cell_type": "code",
   "execution_count": null,
   "id": "791a3f14",
   "metadata": {
    "ExecuteTime": {
     "end_time": "2022-03-08T13:57:18.714252Z",
     "start_time": "2022-03-08T13:57:18.714207Z"
    }
   },
   "outputs": [],
   "source": [
    "plt.plot(train_df[\"[%]_Bitcoin_growth_rate_on_Horizon=1\"].iloc[0:90])"
   ]
  },
  {
   "cell_type": "code",
   "execution_count": null,
   "id": "f695c98a",
   "metadata": {
    "ExecuteTime": {
     "end_time": "2022-03-08T13:57:18.718749Z",
     "start_time": "2022-03-08T13:57:18.718712Z"
    }
   },
   "outputs": [],
   "source": [
    "X_train[0,:,:]"
   ]
  },
  {
   "cell_type": "code",
   "execution_count": null,
   "id": "76326225",
   "metadata": {
    "ExecuteTime": {
     "end_time": "2022-03-08T13:57:18.722346Z",
     "start_time": "2022-03-08T13:57:18.722304Z"
    }
   },
   "outputs": [],
   "source": [
    "np.random.shuffle(X_train)"
   ]
  },
  {
   "cell_type": "code",
   "execution_count": null,
   "id": "be013079",
   "metadata": {
    "ExecuteTime": {
     "end_time": "2022-03-08T13:57:18.726303Z",
     "start_time": "2022-03-08T13:57:18.726268Z"
    }
   },
   "outputs": [],
   "source": [
    "import matplotlib.pyplot as plt\n",
    "plt.plot(train_df[\"[%]_Bitcoin_growth_rate_on_Horizon=1\"])"
   ]
  },
  {
   "cell_type": "code",
   "execution_count": null,
   "id": "b72b645a",
   "metadata": {
    "ExecuteTime": {
     "end_time": "2022-03-08T13:57:18.730045Z",
     "start_time": "2022-03-08T13:57:18.730002Z"
    }
   },
   "outputs": [],
   "source": [
    "import math"
   ]
  },
  {
   "cell_type": "code",
   "execution_count": null,
   "id": "e5f79adf",
   "metadata": {
    "ExecuteTime": {
     "end_time": "2022-03-08T13:57:18.734497Z",
     "start_time": "2022-03-08T13:57:18.734452Z"
    }
   },
   "outputs": [],
   "source": [
    "plt.plot(train_df[\"[+]_[T]_Bitcoin_Price\"])"
   ]
  },
  {
   "cell_type": "code",
   "execution_count": null,
   "id": "f538ce98",
   "metadata": {
    "ExecuteTime": {
     "end_time": "2022-03-08T13:57:18.738717Z",
     "start_time": "2022-03-08T13:57:18.738666Z"
    }
   },
   "outputs": [],
   "source": [
    "plt.plot(np.log(np.log(train_df[\"[+]_[T]_Bitcoin_Price\"])))"
   ]
  },
  {
   "cell_type": "code",
   "execution_count": null,
   "id": "cd058def",
   "metadata": {
    "ExecuteTime": {
     "end_time": "2022-03-08T13:57:18.743525Z",
     "start_time": "2022-03-08T13:57:18.743472Z"
    }
   },
   "outputs": [],
   "source": [
    "plt.plot(np.log(np.log(train_df[\"[+]_[T]_Bitcoin_Price\"])))"
   ]
  },
  {
   "cell_type": "code",
   "execution_count": null,
   "id": "c1b038a8",
   "metadata": {
    "ExecuteTime": {
     "end_time": "2022-03-08T13:57:18.747623Z",
     "start_time": "2022-03-08T13:57:18.747573Z"
    }
   },
   "outputs": [],
   "source": [
    "model = RnnDlModel()\n",
    "(X_train_list, Y_train_list, X_test_list,Y_test_list) = get_cross_XY(data=\"train\")\n",
    "Y_pred = model.run(X_test_list[0],X_train_list[0],Y_train_list[0])"
   ]
  },
  {
   "cell_type": "code",
   "execution_count": null,
   "id": "37afb86f",
   "metadata": {
    "ExecuteTime": {
     "end_time": "2022-03-08T13:57:18.752111Z",
     "start_time": "2022-03-08T13:57:18.752071Z"
    }
   },
   "outputs": [],
   "source": [
    "Y_pred"
   ]
  },
  {
   "cell_type": "code",
   "execution_count": null,
   "id": "2e79e628",
   "metadata": {
    "ExecuteTime": {
     "end_time": "2022-03-08T16:15:31.958516Z",
     "start_time": "2022-03-08T16:15:31.825338Z"
    }
   },
   "outputs": [],
   "source": [
    "read_result().sort_values(by=\"name\",ascending=False)"
   ]
  },
  {
   "cell_type": "code",
   "execution_count": null,
   "id": "061c3a30",
   "metadata": {},
   "outputs": [],
   "source": []
  },
  {
   "cell_type": "code",
   "execution_count": null,
   "id": "b23f508c",
   "metadata": {
    "ExecuteTime": {
     "end_time": "2022-03-08T16:16:58.474871Z",
     "start_time": "2022-03-08T16:16:37.798762Z"
    }
   },
   "outputs": [],
   "source": [
    "model = RandomForestReg()\n",
    "train(model,train_df)"
   ]
  },
  {
   "cell_type": "code",
   "execution_count": null,
   "id": "38ffe12e",
   "metadata": {
    "ExecuteTime": {
     "end_time": "2022-03-08T16:17:45.958789Z",
     "start_time": "2022-03-08T16:17:24.377529Z"
    }
   },
   "outputs": [],
   "source": [
    "model = RandomForestReg()\n",
    "train(model,train_df)"
   ]
  },
  {
   "cell_type": "code",
   "execution_count": null,
   "id": "2846dcc5",
   "metadata": {
    "ExecuteTime": {
     "end_time": "2022-03-08T17:17:20.256938Z",
     "start_time": "2022-03-08T17:17:20.127335Z"
    }
   },
   "outputs": [],
   "source": [
    "HORIZON =7\n",
    "def cross_val(model, df,\n",
    "              verbose:int=0,\n",
    "              saving:bool=False,\n",
    "              metrics=[],\n",
    "              trader_metrics=[],\n",
    "              hyperparams=None):\n",
    "    '''Compute and process a complete cross validation of a given model,\n",
    "    taking personalised metrics into account\n",
    "    params :\n",
    "    verbose range from 0 to 10 and allow to print a few informations during the\n",
    "        process\n",
    "    return reality, prediction '''\n",
    "    df = df.drop(columns=[\"date\"])\n",
    "    # Initializing the variable to return\n",
    "    prediction_diff, past_reality, reality,reality_diff, prediction = [], [], [], [], []\n",
    "    # Setting the indexes to cut the df into folds\n",
    "    start_fold_train, end_fold_train, start_fold_test, end_fold_test = fold_indexes(\n",
    "        df=df,verbose=verbose)\n",
    "    # Starting the iteration on folds\n",
    "    for i in range(len(start_fold_train))[:1]:\n",
    "        # reinitialise the model between two folds to reset training\n",
    "        model.set_model()\n",
    "        # instantiating train fold\n",
    "        if verbose >= 10 :\n",
    "            print(\"Creating sequences in the train_fold\")\n",
    "        print(start_fold_test[0],end_fold_test[0])\n",
    "        train_fold_df = df.loc[start_fold_train[i]:\n",
    "                                 end_fold_train[i]].copy().reset_index(drop=True)\n",
    "        # Setting the indexes to cut the train_fold in regular sequences and targets\n",
    "        sequence_starts, sequence_stops, target_idx = sequence_indexes(\n",
    "            df=train_fold_df,verbose=verbose)\n",
    "        # Initializing the X_train, Y_train\n",
    "        X_train, Y_train = [], []\n",
    "        # Starting the iteration on the sequences to create X,Y_train\n",
    "        for j in range(len(sequence_starts)):\n",
    "\n",
    "            X_train_seq = np.array(\n",
    "                train_fold_df.iloc[sequence_starts[j]:sequence_stops[j]])\n",
    "            y_train = train_fold_df.iloc[target_idx[j], -1]\n",
    "            #Converting the little df to np array\n",
    "            X_train.append(np.array(X_train_seq))\n",
    "            Y_train.append(np.array(y_train))\n",
    "        # Converting the list of array to an array\n",
    "        Y_train = np.array(Y_train)\n",
    "        X_train = np.array(X_train)\n",
    "\n",
    "        #Same process as ahead but on the test_fold\n",
    "        test_fold_df = df.loc[start_fold_test[i]:end_fold_test[i]].copy(\n",
    "        ).reset_index(drop=True)\n",
    "        sequence_starts, sequence_stops, target_idx = sequence_indexes(df=test_fold_df,verbose=verbose)\n",
    "        Y_test,X_test,Y_true_price = [],[],[]\n",
    "        print(test_fold_df.shape)\n",
    "        for j in range(len(sequence_starts)):\n",
    "            X_test_seq = test_fold_df.iloc[sequence_starts[j]:sequence_stops[j]]\n",
    "            y_test = test_fold_df.iloc[target_idx[j], -1]\n",
    "            y_true_price_past = test_fold_df.iloc[target_idx[j]-HORIZON, -2]\n",
    "            y_true_price = test_fold_df.iloc[target_idx[j], -2]\n",
    "            \n",
    "            print(target_idx[j])\n",
    "            #y_true_price_minus_horizon = test_fold_df.iloc[target_idx[j], -2]\n",
    "            X_test.append(np.array(X_test_seq))\n",
    "            Y_true_price_past.append(y_true_price_past)\n",
    "            Y_true_price.append(y_true_price)\n",
    "            Y_test.append(np.array(y_test))\n",
    "            \n",
    "        Y_test = np.array(Y_test)\n",
    "        Y_true_past = np.array(Y_true_price_past)\n",
    "        Y_true = np.array(Y_true_price)\n",
    "        X_test = np.array(X_test)\n",
    "        # Now we have an X_test,Y_test , X_train,Y_train ready to be processed\n",
    "\n",
    "        #TODO SHUFFLING THE X,y\n",
    "        Y_pred = model.run(X_test,X_train, Y_train)\n",
    "\n",
    "        # Keeping these lines in case we want to use Y_test, Y_pred in the futur\n",
    "        prediction_diff.append(Y_pred)\n",
    "        reality_diff.append(Y_test)\n",
    "        past_reality.append(Y_true_past)\n",
    "        reality.append(Y_true)\n",
    "    \n",
    "    # NOTA BENE PAST_REALITY HERE IS {HORIZON DAYS BEHIND REALITY}\n",
    "    return past_reality, reality,reality_diff, prediction"
   ]
  },
  {
   "cell_type": "code",
   "execution_count": null,
   "id": "8ebd447c",
   "metadata": {
    "ExecuteTime": {
     "end_time": "2022-03-08T17:17:45.370318Z",
     "start_time": "2022-03-08T17:17:44.551498Z"
    }
   },
   "outputs": [],
   "source": [
    "pastreality, reality_diff, prediction, test_fold_df = cross_val(model,train_df)"
   ]
  },
  {
   "cell_type": "code",
   "execution_count": null,
   "id": "09fefd17",
   "metadata": {
    "ExecuteTime": {
     "end_time": "2022-03-08T17:17:50.929388Z",
     "start_time": "2022-03-08T17:17:50.814720Z"
    }
   },
   "outputs": [],
   "source": [
    "test_fold_df[\"[+]_[T]_Bitcoin_Price\"].iloc[89:].head(20)"
   ]
  },
  {
   "cell_type": "code",
   "execution_count": null,
   "id": "341bcfb3",
   "metadata": {
    "ExecuteTime": {
     "end_time": "2022-03-08T17:18:31.320037Z",
     "start_time": "2022-03-08T17:18:31.205253Z"
    }
   },
   "outputs": [],
   "source": [
    "reality[0][0]"
   ]
  },
  {
   "cell_type": "code",
   "execution_count": null,
   "id": "cb619006",
   "metadata": {
    "ExecuteTime": {
     "end_time": "2022-03-08T17:15:33.143861Z",
     "start_time": "2022-03-08T17:15:32.207235Z"
    }
   },
   "outputs": [],
   "source": [
    "reality, reality_diff, prediction, test_fold_df = cross_val(model,train_df)"
   ]
  },
  {
   "cell_type": "code",
   "execution_count": null,
   "id": "ec5d0bd7",
   "metadata": {
    "ExecuteTime": {
     "end_time": "2022-03-08T17:18:03.887206Z",
     "start_time": "2022-03-08T17:18:03.767844Z"
    }
   },
   "outputs": [],
   "source": [
    "test_fold_df[\"[%]_Bitcoin_growth_rate_on_Horizon=7\"].iloc[89:].head(20)"
   ]
  },
  {
   "cell_type": "code",
   "execution_count": null,
   "id": "65545685",
   "metadata": {
    "ExecuteTime": {
     "end_time": "2022-03-08T16:50:45.002286Z",
     "start_time": "2022-03-08T16:50:44.885502Z"
    }
   },
   "outputs": [],
   "source": [
    "reality"
   ]
  },
  {
   "cell_type": "code",
   "execution_count": null,
   "id": "22713da8",
   "metadata": {
    "ExecuteTime": {
     "end_time": "2022-03-10T14:57:03.321320Z",
     "start_time": "2022-03-10T14:57:03.190247Z"
    }
   },
   "outputs": [],
   "source": [
    "from bitcoin_deep_learning.cross_val import cross_val_trade"
   ]
  },
  {
   "cell_type": "code",
   "execution_count": null,
   "id": "8cbc4ce4",
   "metadata": {
    "ExecuteTime": {
     "end_time": "2022-03-10T14:58:53.693364Z",
     "start_time": "2022-03-10T14:58:53.543261Z"
    }
   },
   "outputs": [],
   "source": [
    "df = ApiCall().read_local(data=\"test\")\n",
    "model = LinearRegressionBaselineModel()"
   ]
  },
  {
   "cell_type": "code",
   "execution_count": null,
   "id": "ca08e5ab",
   "metadata": {
    "ExecuteTime": {
     "end_time": "2022-03-10T15:18:31.248976Z",
     "start_time": "2022-03-10T15:18:30.991108Z"
    }
   },
   "outputs": [],
   "source": [
    "Y_true_past, Y_true, Y_test, Y_pred = cross_val_trade(model,df,cv=False,verbose=True)"
   ]
  },
  {
   "cell_type": "code",
   "execution_count": null,
   "id": "714a1f8a",
   "metadata": {
    "ExecuteTime": {
     "end_time": "2022-03-10T16:15:36.451834Z",
     "start_time": "2022-03-10T16:15:35.884861Z"
    }
   },
   "outputs": [],
   "source": [
    "model = LinearRegressionBaselineModel()\n",
    "Y_true_past, Y_true, Y_diff_test, Y_pred = cross_val_trade(model,df,cv=False,verbose=True)\n",
    "fig,axs = plt.subplots(2,1)\n",
    "axs[0].plot(Y_test)\n",
    "axs[0].plot(Y_pred, c= \"r\")\n",
    "plt.show\n",
    "axs[1].plot(Y_true)\n",
    "axs[1].plot(Y_true_past + Y_true_past* Y_pred, c= \"r\")"
   ]
  },
  {
   "cell_type": "code",
   "execution_count": null,
   "id": "f27bfe70",
   "metadata": {
    "ExecuteTime": {
     "end_time": "2022-03-10T16:16:55.391888Z",
     "start_time": "2022-03-10T16:16:46.748043Z"
    }
   },
   "outputs": [],
   "source": [
    "model = RandomForestReg(n_estimators=1500)\n",
    "Y_true_past, Y_true, Y_test, Y_pred = cross_val_trade(model,df,cv=False,verbose=True)\n",
    "fig,axs = plt.subplots(2,1)\n",
    "axs[0].plot(Y_test)\n",
    "axs[0].plot(Y_pred, c= \"r\")\n",
    "plt.show\n",
    "axs[1].plot(Y_true)\n",
    "axs[1].plot(Y_true_past + Y_true_past* Y_pred, c= \"r\")"
   ]
  },
  {
   "cell_type": "code",
   "execution_count": null,
   "id": "22828723",
   "metadata": {
    "ExecuteTime": {
     "end_time": "2022-03-10T16:51:33.475283Z",
     "start_time": "2022-03-10T16:51:33.313314Z"
    }
   },
   "outputs": [],
   "source": [
    "train_df = ApiCall().read_local(data='train')"
   ]
  },
  {
   "cell_type": "code",
   "execution_count": null,
   "id": "7f317bb0",
   "metadata": {
    "ExecuteTime": {
     "start_time": "2022-03-10T16:51:45.325Z"
    }
   },
   "outputs": [],
   "source": [
    "for warm_start in  [True,False]:\n",
    "    for max_features in [\"auto\", \"sqrt\", \"log2\"]:\n",
    "        for bootstrap in [True,False]:\n",
    "            for criterion in [\"squared_error\", \"absolute_error\", \"poisson\"]:\n",
    "                    for max_depth in [None,True]:\n",
    "                        if max_depth :\n",
    "                            max_depht = np.random.randint(1,1000)\n",
    "                        print(\"oui\")\n",
    "                        min_samples_split = random.randint(2,100)\n",
    "                        min_samples_leaf = random.randint(2,100)\n",
    "                        model = RandomForestReg(warm_start=warm_start,\n",
    "                                               max_features=max_features,\n",
    "                                               bootstrap=bootstrap,\n",
    "                                               criterion=criterion,\n",
    "                                               max_depth=max_depth,\n",
    "                                               min_samples_split=min_samples_split,\n",
    "                                               min_samples_leaf=min_samples_leaf)\n",
    "\n",
    "                        cv_train(model,train_df)"
   ]
  },
  {
   "cell_type": "code",
   "execution_count": null,
   "id": "01b69546",
   "metadata": {
    "ExecuteTime": {
     "end_time": "2022-03-10T17:37:23.726607Z",
     "start_time": "2022-03-10T17:37:23.541285Z"
    }
   },
   "outputs": [],
   "source": [
    "read_result().sort_values(by=\"date\")"
   ]
  },
  {
   "cell_type": "code",
   "execution_count": 3,
   "id": "7631f754",
   "metadata": {
    "ExecuteTime": {
     "end_time": "2022-03-10T18:28:27.311664Z",
     "start_time": "2022-03-10T18:28:27.112118Z"
    }
   },
   "outputs": [],
   "source": [
    "from bitcoin_deep_learning.metrics import plot_portolio_positions\n"
   ]
  },
  {
   "cell_type": "code",
   "execution_count": 6,
   "id": "f299bb6b",
   "metadata": {
    "ExecuteTime": {
     "end_time": "2022-03-10T18:30:03.210783Z",
     "start_time": "2022-03-10T18:29:34.314630Z"
    }
   },
   "outputs": [
    {
     "name": "stdout",
     "output_type": "stream",
     "text": [
      "[45147.4403589  46082.23150321 45004.70197422 47031.16732364\n",
      " 48143.03744946 47799.18503883 47204.66266011 48234.21547367\n",
      " 47257.28704222 42907.06576746 40633.93433534 43569.17620057\n",
      " 44890.04746965 42796.24321533 42746.97922403 43247.45687647\n",
      " 42248.01771774 41032.26192918 41538.28298802 43750.87179862\n",
      " 48118.17770595 47756.25428304 48220.65303747 49080.66909232\n",
      " 51559.36204422 55431.02700201 53776.54287093 53884.29053319\n",
      " 55068.64354562 54675.09321531 57434.24099024 56064.76997698\n",
      " 57377.79917694 57354.32086331 61571.09490522 60890.14283084\n",
      " 61640.37510539 61975.54697315 64238.2711078  65996.56616789\n",
      " 62385.16707125 60703.42954102 61342.90825482 60881.94756487\n",
      " 62967.41302302 60449.35530261 58639.68046139 60572.27124398\n",
      " 62234.03101143 61735.37066984 61366.99988157 61058.22626538\n",
      " 63176.57178532 62999.12240391 61434.6328169  61121.31052073\n",
      " 61493.66389711 63252.42476178 67589.00657928 66945.69883397\n",
      " 64818.21602921 64816.13453057 64282.43806051 64468.22210883\n",
      " 65342.41990216 63743.39995949 60312.90235585 60357.17150473\n",
      " 56875.86578271 58130.99844718 59767.49239602 58653.93706355\n",
      " 56345.42134224 57599.53623492 57185.98638486 58927.89068783\n",
      " 53761.70172459 54542.06360429 57201.70801546 57816.06529204\n",
      " 56915.51221084 57182.6760138  56448.44868072 53765.79648309\n",
      " 48962.92099327 49174.90290806 50492.43559639 50592.08849795\n",
      " 50521.23639995 47911.07640428]\n",
      "<class 'numpy.ndarray'>\n",
      "<class 'list'>\n",
      "<class 'list'>\n",
      "<class 'list'>\n",
      "<class 'list'>\n",
      "<class 'list'>\n",
      "<class 'list'>\n",
      "<class 'list'>\n",
      "<class 'list'>\n",
      "<class 'list'>\n",
      "<class 'list'>\n",
      "<class 'list'>\n",
      "<class 'list'>\n",
      "<class 'list'>\n",
      "<class 'list'>\n",
      "<class 'list'>\n",
      "<class 'list'>\n",
      "<class 'list'>\n",
      "<class 'list'>\n",
      "<class 'list'>\n",
      "<class 'list'>\n",
      "<class 'list'>\n",
      "<class 'list'>\n",
      "<class 'list'>\n",
      "<class 'list'>\n",
      "<class 'list'>\n",
      "<class 'list'>\n",
      "<class 'list'>\n",
      "<class 'list'>\n",
      "<class 'list'>\n",
      "<class 'list'>\n",
      "<class 'list'>\n",
      "<class 'list'>\n",
      "<class 'list'>\n",
      "<class 'list'>\n",
      "<class 'list'>\n",
      "<class 'list'>\n",
      "<class 'list'>\n",
      "<class 'list'>\n",
      "<class 'list'>\n",
      "<class 'list'>\n",
      "<class 'list'>\n",
      "<class 'list'>\n",
      "<class 'list'>\n",
      "<class 'list'>\n",
      "<class 'list'>\n",
      "<class 'list'>\n",
      "<class 'list'>\n",
      "<class 'list'>\n",
      "<class 'list'>\n",
      "<class 'list'>\n",
      "<class 'list'>\n",
      "<class 'list'>\n",
      "<class 'list'>\n",
      "<class 'list'>\n",
      "<class 'list'>\n",
      "<class 'list'>\n",
      "<class 'list'>\n",
      "<class 'list'>\n",
      "<class 'list'>\n",
      "<class 'list'>\n",
      "<class 'list'>\n",
      "<class 'list'>\n",
      "<class 'list'>\n",
      "<class 'list'>\n",
      "<class 'list'>\n",
      "<class 'list'>\n",
      "<class 'list'>\n",
      "<class 'list'>\n",
      "<class 'list'>\n",
      "<class 'list'>\n",
      "<class 'list'>\n",
      "<class 'list'>\n",
      "<class 'list'>\n",
      "<class 'list'>\n",
      "<class 'list'>\n",
      "<class 'list'>\n",
      "<class 'list'>\n",
      "<class 'list'>\n",
      "<class 'list'>\n",
      "<class 'list'>\n",
      "<class 'list'>\n",
      "<class 'list'>\n",
      "<class 'list'>\n",
      "<class 'list'>\n",
      "<class 'list'>\n",
      "<class 'list'>\n",
      "<class 'list'>\n",
      "<class 'list'>\n",
      "<class 'list'>\n",
      "<class 'list'>\n"
     ]
    },
    {
     "data": {
      "image/png": "[encoded data removed]",
      "text/plain": [
       "<Figure size 1000x600 with 1 Axes>"
      ]
     },
     "metadata": {
      "needs_background": "light"
     },
     "output_type": "display_data"
    }
   ],
   "source": [
    "plot_portolio_positions(fold = 0, model = RandomForestReg(),\n",
    "                        df = ApiCall().read_local(data = 'train'))"
   ]
  },
  {
   "cell_type": "code",
   "execution_count": 5,
   "id": "95c218ca",
   "metadata": {
    "ExecuteTime": {
     "end_time": "2022-03-10T18:29:13.879047Z",
     "start_time": "2022-03-10T18:28:53.717075Z"
    }
   },
   "outputs": [
    {
     "name": "stdout",
     "output_type": "stream",
     "text": [
      "Epoch 1/2\n",
      "17/17 [==============================] - 12s 358ms/step - loss: 1.5618 - mae: 0.0724 - val_loss: 1.5134 - val_mae: 0.0798\n",
      "Epoch 2/2\n",
      "17/17 [==============================] - 5s 309ms/step - loss: 1.4605 - mae: 0.0724 - val_loss: 1.4466 - val_mae: 0.0891\n",
      "[47262.237443   49354.08716868 50118.92095928 46762.48252806\n",
      " 48413.70564739 48819.84934723 47695.2803949  46326.9195957\n",
      " 46962.91334059 46791.89605595 46853.71063455 48957.19391098\n",
      " 48646.43337567 50770.61418965 50864.32895235 50649.92614866\n",
      " 50806.44217533 50610.95680294 47669.74037208 46407.59548964\n",
      " 47188.32055009 46328.94313809 47620.42381093 47344.84340974\n",
      " 46467.61579525 45926.76178657 43589.35568307 43154.45522485\n",
      " 41564.23901044 41744.05783199 41910.51226779 41820.01786922\n",
      " 42721.69548372 43935.64398491 42596.12337644 43101.33599626\n",
      " 43198.86986181 43122.78741443 42235.1848487  42372.5532734\n",
      " 41731.94792084 40706.93154832 36440.2657686  35036.9447362\n",
      " 36254.87985724 36656.19382217 36946.23828322 36851.36987997\n",
      " 37148.32227909 37789.47882002 38137.47269687 37936.32877744\n",
      " 38455.68966346 38784.50229871 36924.10239442 37018.58700268\n",
      " 41516.07281916 41421.47643291 42411.10429027 43921.96437825\n",
      " 44110.31669061 44347.12092966 43548.07188871 42407.68766215\n",
      " 42198.7514316  42242.10014713 42601.71507212 44600.78417382\n",
      " 43980.51455924 40548.83984707 40031.59053806 40127.36921663\n",
      " 38460.39121722 37012.56063945 38314.64973454 37311.62561222\n",
      " 38305.92776288 39216.70043785 39048.12227488 37721.43341561\n",
      " 43204.6016303  44348.19642695 43936.40971009 42459.60376591\n",
      " 39146.8844694  39416.46268754 38423.61893606 38018.64950493\n",
      " 38726.30210219 41977.38346187]\n",
      "<class 'numpy.ndarray'>\n",
      "<class 'list'>\n",
      "<class 'list'>\n",
      "<class 'list'>\n",
      "<class 'list'>\n",
      "<class 'list'>\n",
      "<class 'list'>\n",
      "<class 'list'>\n",
      "<class 'list'>\n",
      "<class 'list'>\n",
      "<class 'list'>\n",
      "<class 'list'>\n",
      "<class 'list'>\n",
      "<class 'list'>\n",
      "<class 'list'>\n",
      "<class 'list'>\n",
      "<class 'list'>\n",
      "<class 'list'>\n",
      "<class 'list'>\n",
      "<class 'list'>\n",
      "<class 'list'>\n",
      "<class 'list'>\n",
      "<class 'list'>\n",
      "<class 'list'>\n",
      "<class 'list'>\n",
      "<class 'list'>\n",
      "<class 'list'>\n",
      "<class 'list'>\n",
      "<class 'list'>\n",
      "<class 'list'>\n",
      "<class 'list'>\n",
      "<class 'list'>\n",
      "<class 'list'>\n",
      "<class 'list'>\n",
      "<class 'list'>\n",
      "<class 'list'>\n",
      "<class 'list'>\n",
      "<class 'list'>\n",
      "<class 'list'>\n",
      "<class 'list'>\n",
      "<class 'list'>\n",
      "<class 'list'>\n",
      "<class 'list'>\n",
      "<class 'list'>\n",
      "<class 'list'>\n",
      "<class 'list'>\n",
      "<class 'list'>\n",
      "<class 'list'>\n",
      "<class 'list'>\n",
      "<class 'list'>\n",
      "<class 'list'>\n",
      "<class 'list'>\n",
      "<class 'list'>\n",
      "<class 'list'>\n",
      "<class 'list'>\n",
      "<class 'list'>\n",
      "<class 'list'>\n",
      "<class 'list'>\n",
      "<class 'list'>\n",
      "<class 'list'>\n",
      "<class 'list'>\n",
      "<class 'list'>\n",
      "<class 'list'>\n",
      "<class 'list'>\n",
      "<class 'list'>\n",
      "<class 'list'>\n",
      "<class 'list'>\n",
      "<class 'list'>\n",
      "<class 'list'>\n",
      "<class 'list'>\n",
      "<class 'list'>\n",
      "<class 'list'>\n",
      "<class 'list'>\n",
      "<class 'list'>\n",
      "<class 'list'>\n",
      "<class 'list'>\n",
      "<class 'list'>\n",
      "<class 'list'>\n",
      "<class 'list'>\n",
      "<class 'list'>\n",
      "<class 'list'>\n",
      "<class 'list'>\n",
      "<class 'list'>\n",
      "<class 'list'>\n",
      "<class 'list'>\n",
      "<class 'list'>\n",
      "<class 'list'>\n",
      "<class 'list'>\n",
      "<class 'list'>\n",
      "<class 'list'>\n",
      "<class 'list'>\n"
     ]
    },
    {
     "data": {
      "image/png": "[encoded data removed]",
      "text/plain": [
       "<Figure size 1000x600 with 1 Axes>"
      ]
     },
     "metadata": {
      "needs_background": "light"
     },
     "output_type": "display_data"
    }
   ],
   "source": [
    "plot_portolio_positions(fold = 0, model = RnnDlModel(epochs=2,patience=1),\n",
    "                            df = ApiCall().read_local(data = 'all'),\n",
    "                                                      cv = False,\n",
    "                                                      verbose = 0)"
   ]
  },
  {
   "cell_type": "code",
   "execution_count": 8,
   "id": "623192bc",
   "metadata": {
    "ExecuteTime": {
     "end_time": "2022-03-10T18:31:10.916186Z",
     "start_time": "2022-03-10T18:31:04.465387Z"
    }
   },
   "outputs": [
    {
     "name": "stderr",
     "output_type": "stream",
     "text": [
      "/Users/Zalo/.pyenv/versions/3.8.12/envs/lewagon/lib/python3.8/site-packages/sklearn/linear_model/_coordinate_descent.py:647: ConvergenceWarning: Objective did not converge. You might want to increase the number of iterations, check the scale of the features or consider increasing regularisation. Duality gap: 6.908e+00, tolerance: 1.509e-03\n",
      "  model = cd_fast.enet_coordinate_descent(\n"
     ]
    },
    {
     "name": "stdout",
     "output_type": "stream",
     "text": [
      "[47262.237443   49354.08716868 50118.92095928 46762.48252806\n",
      " 48413.70564739 48819.84934723 47695.2803949  46326.9195957\n",
      " 46962.91334059 46791.89605595 46853.71063455 48957.19391098\n",
      " 48646.43337567 50770.61418965 50864.32895235 50649.92614866\n",
      " 50806.44217533 50610.95680294 47669.74037208 46407.59548964\n",
      " 47188.32055009 46328.94313809 47620.42381093 47344.84340974\n",
      " 46467.61579525 45926.76178657 43589.35568307 43154.45522485\n",
      " 41564.23901044 41744.05783199 41910.51226779 41820.01786922\n",
      " 42721.69548372 43935.64398491 42596.12337644 43101.33599626\n",
      " 43198.86986181 43122.78741443 42235.1848487  42372.5532734\n",
      " 41731.94792084 40706.93154832 36440.2657686  35036.9447362\n",
      " 36254.87985724 36656.19382217 36946.23828322 36851.36987997\n",
      " 37148.32227909 37789.47882002 38137.47269687 37936.32877744\n",
      " 38455.68966346 38784.50229871 36924.10239442 37018.58700268\n",
      " 41516.07281916 41421.47643291 42411.10429027 43921.96437825\n",
      " 44110.31669061 44347.12092966 43548.07188871 42407.68766215\n",
      " 42198.7514316  42242.10014713 42601.71507212 44600.78417382\n",
      " 43980.51455924 40548.83984707 40031.59053806 40127.36921663\n",
      " 38460.39121722 37012.56063945 38314.64973454 37311.62561222\n",
      " 38305.92776288 39216.70043785 39048.12227488 37721.43341561\n",
      " 43204.6016303  44348.19642695 43936.40971009 42459.60376591\n",
      " 39146.8844694  39416.46268754 38423.61893606 38018.64950493\n",
      " 38726.30210219 41977.38346187]\n",
      "<class 'numpy.ndarray'>\n",
      "<class 'list'>\n",
      "<class 'list'>\n",
      "<class 'list'>\n",
      "<class 'list'>\n",
      "<class 'list'>\n",
      "<class 'list'>\n",
      "<class 'list'>\n",
      "<class 'list'>\n",
      "<class 'list'>\n",
      "<class 'list'>\n",
      "<class 'list'>\n",
      "<class 'list'>\n",
      "<class 'list'>\n",
      "<class 'list'>\n",
      "<class 'list'>\n",
      "<class 'list'>\n",
      "<class 'list'>\n",
      "<class 'list'>\n",
      "<class 'list'>\n",
      "<class 'list'>\n",
      "<class 'list'>\n",
      "<class 'list'>\n",
      "<class 'list'>\n",
      "<class 'list'>\n",
      "<class 'list'>\n",
      "<class 'list'>\n",
      "<class 'list'>\n",
      "<class 'list'>\n",
      "<class 'list'>\n",
      "<class 'list'>\n",
      "<class 'list'>\n",
      "<class 'list'>\n",
      "<class 'list'>\n",
      "<class 'list'>\n",
      "<class 'list'>\n",
      "<class 'list'>\n",
      "<class 'list'>\n",
      "<class 'list'>\n",
      "<class 'list'>\n",
      "<class 'list'>\n",
      "<class 'list'>\n",
      "<class 'list'>\n",
      "<class 'list'>\n",
      "<class 'list'>\n",
      "<class 'list'>\n",
      "<class 'list'>\n",
      "<class 'list'>\n",
      "<class 'list'>\n",
      "<class 'list'>\n",
      "<class 'list'>\n",
      "<class 'list'>\n",
      "<class 'list'>\n",
      "<class 'list'>\n",
      "<class 'list'>\n",
      "<class 'list'>\n",
      "<class 'list'>\n",
      "<class 'list'>\n",
      "<class 'list'>\n",
      "<class 'list'>\n",
      "<class 'list'>\n",
      "<class 'list'>\n",
      "<class 'list'>\n",
      "<class 'list'>\n",
      "<class 'list'>\n",
      "<class 'list'>\n",
      "<class 'list'>\n",
      "<class 'list'>\n",
      "<class 'list'>\n",
      "<class 'list'>\n",
      "<class 'list'>\n",
      "<class 'list'>\n",
      "<class 'list'>\n",
      "<class 'list'>\n",
      "<class 'list'>\n",
      "<class 'list'>\n",
      "<class 'list'>\n",
      "<class 'list'>\n",
      "<class 'list'>\n",
      "<class 'list'>\n",
      "<class 'list'>\n",
      "<class 'list'>\n",
      "<class 'list'>\n",
      "<class 'list'>\n",
      "<class 'list'>\n",
      "<class 'list'>\n",
      "<class 'list'>\n",
      "<class 'list'>\n",
      "<class 'list'>\n",
      "<class 'list'>\n",
      "<class 'list'>\n"
     ]
    },
    {
     "data": {
      "image/png": "[encoded data removed]",
      "text/plain": [
       "<Figure size 1000x600 with 1 Axes>"
      ]
     },
     "metadata": {
      "needs_background": "light"
     },
     "output_type": "display_data"
    }
   ],
   "source": [
    "plot_portolio_positions(fold = 0, model = LinearRegressionBaselineModel(),\n",
    "                            df = ApiCall().read_local(data = 'all'),\n",
    "                                                      cv = False,\n",
    "                                                      verbose = 0)"
   ]
  },
  {
   "cell_type": "code",
   "execution_count": null,
   "id": "60397ecf",
   "metadata": {},
   "outputs": [],
   "source": [
    "from bitcoin_deep_learning.mod"
   ]
  },
  {
   "cell_type": "code",
   "execution_count": null,
   "id": "8e4df145",
   "metadata": {
    "ExecuteTime": {
     "end_time": "2022-03-10T17:52:52.956152Z",
     "start_time": "2022-03-10T17:52:51.562783Z"
    }
   },
   "outputs": [],
   "source": [
    "past_realities1, realities1, realities_diff1, prediction_diff1 = cross_val_trade(model=LinearRegressionBaselineModel(), df = ApiCall().read_local(data = 'all'), \n",
    "                                                                                              cv=False, verbose=0)\n",
    "                                                                             "
   ]
  },
  {
   "cell_type": "code",
   "execution_count": null,
   "id": "1f7672d5",
   "metadata": {
    "ExecuteTime": {
     "end_time": "2022-03-10T17:52:56.366279Z",
     "start_time": "2022-03-10T17:52:56.225411Z"
    }
   },
   "outputs": [],
   "source": [
    "past_realities1"
   ]
  },
  {
   "cell_type": "code",
   "execution_count": 4,
   "id": "3b386c93",
   "metadata": {
    "ExecuteTime": {
     "end_time": "2022-03-10T18:28:53.713547Z",
     "start_time": "2022-03-10T18:28:32.449788Z"
    }
   },
   "outputs": [
    {
     "name": "stdout",
     "output_type": "stream",
     "text": [
      "Epoch 1/2\n",
      "17/17 [==============================] - 14s 361ms/step - loss: 1.5207 - mae: 0.0739 - val_loss: 1.4707 - val_mae: 0.0802\n",
      "Epoch 2/2\n",
      "17/17 [==============================] - 6s 344ms/step - loss: 1.4184 - mae: 0.0725 - val_loss: 1.3885 - val_mae: 0.0815\n"
     ]
    }
   ],
   "source": [
    "past_realities, realities, realities_diff, prediction_diff = cross_val_trade(model=RnnDlModel(epochs=2,patience=2), df = ApiCall().read_local(data = 'all'), \n",
    "                                                                                              cv=False, verbose=0)\n",
    "                                                                             "
   ]
  },
  {
   "cell_type": "code",
   "execution_count": null,
   "id": "5d298d53",
   "metadata": {
    "ExecuteTime": {
     "end_time": "2022-03-10T18:20:31.060872Z",
     "start_time": "2022-03-10T18:20:30.928257Z"
    }
   },
   "outputs": [],
   "source": [
    "past_realities[0].shape"
   ]
  },
  {
   "cell_type": "code",
   "execution_count": null,
   "id": "cdf83dfc",
   "metadata": {
    "ExecuteTime": {
     "end_time": "2022-03-10T18:23:20.603892Z",
     "start_time": "2022-03-10T18:23:20.477414Z"
    }
   },
   "outputs": [],
   "source": [
    "prediction_diff[0].shape"
   ]
  },
  {
   "cell_type": "code",
   "execution_count": null,
   "id": "c5a9c287",
   "metadata": {
    "ExecuteTime": {
     "end_time": "2022-03-10T18:26:41.859841Z",
     "start_time": "2022-03-10T18:26:41.724361Z"
    }
   },
   "outputs": [],
   "source": [
    "preds_arr = []\n",
    "for past_prices, diffs in zip(past_realities,prediction_diff):\n",
    "    print\n",
    "    preds_arr.append(past_prices * diffs.reshape(1,-1) + past_prices )\n",
    "\n",
    "preds_arr[0]"
   ]
  },
  {
   "cell_type": "code",
   "execution_count": null,
   "id": "c75ce4a2",
   "metadata": {
    "ExecuteTime": {
     "end_time": "2022-03-10T18:25:28.534409Z",
     "start_time": "2022-03-10T18:25:28.380425Z"
    }
   },
   "outputs": [],
   "source": [
    "prediction_diff[0]"
   ]
  },
  {
   "cell_type": "code",
   "execution_count": null,
   "id": "0d3f23ce",
   "metadata": {
    "ExecuteTime": {
     "end_time": "2022-03-10T18:25:10.885075Z",
     "start_time": "2022-03-10T18:25:10.758188Z"
    }
   },
   "outputs": [],
   "source": [
    "preds_arr[0]"
   ]
  },
  {
   "cell_type": "code",
   "execution_count": null,
   "id": "6c525aff",
   "metadata": {
    "ExecuteTime": {
     "end_time": "2022-03-10T17:53:38.876222Z",
     "start_time": "2022-03-10T17:53:38.747016Z"
    }
   },
   "outputs": [],
   "source": [
    "portfolio_positions_hodler = []\n",
    "portfolio_positions_trader = []\n",
    "portfolio_positions_whale = []\n",
    "portfolio_positions_hodler_whale = []\n",
    "portfolio_positions_charles = []"
   ]
  },
  {
   "cell_type": "code",
   "execution_count": null,
   "id": "999675b7",
   "metadata": {
    "ExecuteTime": {
     "end_time": "2022-03-10T17:55:12.222254Z",
     "start_time": "2022-03-10T17:55:12.090319Z"
    }
   },
   "outputs": [],
   "source": [
    "from bitcoin_deep_learning.metrics import play_hodler_strategy,play_trader_strategy"
   ]
  },
  {
   "cell_type": "code",
   "execution_count": null,
   "id": "bfa4b152",
   "metadata": {
    "ExecuteTime": {
     "end_time": "2022-03-10T17:57:57.594622Z",
     "start_time": "2022-03-10T17:57:57.393267Z"
    }
   },
   "outputs": [],
   "source": [
    "portfolio_positions_hodler = []\n",
    "portfolio_positions_trader = []\n",
    "portfolio_positions_whale = []\n",
    "portfolio_positions_hodler_whale = []\n",
    "portfolio_positions_charles = []\n",
    "for reality, prediction in zip(realities, preds_arr):\n",
    "    y_true, y_pred = reality, prediction\n",
    "    play_trader_strategy(y_true,y_pred)\n",
    "    for values in list(y_true):\n",
    "        print(type(float(values)))"
   ]
  },
  {
   "cell_type": "code",
   "execution_count": null,
   "id": "bff97f17",
   "metadata": {},
   "outputs": [],
   "source": []
  }
 ],
 "metadata": {
  "kernelspec": {
   "display_name": "Python 3 (ipykernel)",
   "language": "python",
   "name": "python3"
  },
  "language_info": {
   "codemirror_mode": {
    "name": "ipython",
    "version": 3
   },
   "file_extension": ".py",
   "mimetype": "text/x-python",
   "name": "python",
   "nbconvert_exporter": "python",
   "pygments_lexer": "ipython3",
   "version": "3.8.12"
  },
  "toc": {
   "base_numbering": 1,
   "nav_menu": {},
   "number_sections": true,
   "sideBar": true,
   "skip_h1_title": false,
   "title_cell": "Table of Contents",
   "title_sidebar": "Contents",
   "toc_cell": false,
   "toc_position": {},
   "toc_section_display": true,
   "toc_window_display": false
  }
 },
 "nbformat": 4,
 "nbformat_minor": 5
}
