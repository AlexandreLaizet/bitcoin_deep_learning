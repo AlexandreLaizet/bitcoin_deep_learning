{
 "cells": [
  {
   "cell_type": "code",
   "execution_count": 1,
   "id": "2c8197a3",
   "metadata": {
    "ExecuteTime": {
     "end_time": "2022-03-07T15:47:08.297550Z",
     "start_time": "2022-03-07T15:46:57.881537Z"
    }
   },
   "outputs": [],
   "source": [
    "import requests \n",
    "import pandas as pd\n",
    "import numpy as np\n",
    "import sys; sys.path\n",
    "import datetime\n",
    "import pandas as pd\n",
    "import numpy as np \n",
    "from datetime import datetime\n",
    "from datetime import datetime\n",
    "from tqdm import tqdm\n",
    "import random\n",
    "\n",
    "from bitcoin_deep_learning.call_api import ApiCall\n",
    "from bitcoin_deep_learning.model import LinearRegressionBaselineModel, RnnDlModel\n",
    "from bitcoin_deep_learning.trainer import train\n",
    "from bitcoin_deep_learning.cross_val import cross_val,se\n",
    "api = ApiCall()\n",
    "\n",
    "%load_ext autoreload\n",
    "%autoreload 2"
   ]
  },
  {
   "cell_type": "code",
   "execution_count": 2,
   "id": "3f5b063a",
   "metadata": {
    "ExecuteTime": {
     "end_time": "2022-03-07T11:41:05.906761Z",
     "start_time": "2022-03-07T11:41:05.846441Z"
    }
   },
   "outputs": [],
   "source": [
    "#from google.colab import drive\n",
    "#drive.mount('/content/drive')"
   ]
  },
  {
   "cell_type": "code",
   "execution_count": 62,
   "id": "8c15525b",
   "metadata": {
    "ExecuteTime": {
     "end_time": "2022-03-07T17:28:02.296785Z",
     "start_time": "2022-03-07T17:28:02.142473Z"
    }
   },
   "outputs": [
    {
     "name": "stdout",
     "output_type": "stream",
     "text": [
      "The autoreload extension is already loaded. To reload it, use:\n",
      "  %reload_ext autoreload\n"
     ]
    }
   ],
   "source": [
    "import requests \n",
    "import pandas as pd\n",
    "import numpy as np\n",
    "import sys; sys.path\n",
    "import datetime\n",
    "import pandas as pd\n",
    "import numpy as np \n",
    "from datetime import datetime\n",
    "from datetime import datetime\n",
    "from tqdm import tqdm\n",
    "import random\n",
    "\n",
    "from bitcoin_deep_learning.call_api import ApiCall\n",
    "from bitcoin_deep_learning.model import LinearRegressionBaselineModel, RnnDlModel\n",
    "from bitcoin_deep_learning.trainer import train\n",
    "from bitcoin_deep_learning.cross_val import cross_val\n",
    "\n",
    "%load_ext autoreload\n",
    "%autoreload 2\n",
    "from bitcoin_deep_learning.call_api import ApiCall\n",
    "from bitcoin_deep_learning.model import LinearRegressionBaselineModel, RnnDlModel\n",
    "from bitcoin_deep_learning.trainer import train\n",
    "from bitcoin_deep_learning.cross_val import cross_val,fold_indexes,sequence_indexes\n",
    "def get_cross_XY(data=\"train\"):\n",
    "    df = ApiCall().read_local(data='train')\n",
    "    df = df.drop(columns=[\"date\"])\n",
    "    # Initializing the variable to return\n",
    "    X_train_list, Y_train_list, X_test_list,Y_test_list = [], [], [],[]\n",
    "    # Setting the indexes to cut the df into folds\n",
    "    start_fold_train, end_fold_train, start_fold_test, end_fold_test = fold_indexes(\n",
    "        df=df,verbose=verbose)\n",
    "    # Starting the iteration on folds\n",
    "    print(len(start_fold_test))\n",
    "    for i in range(len(start_fold_train)):\n",
    "        # reinitialise the model between two folds to reset training\n",
    "        train_fold_df = df.loc[start_fold_train[i]:\n",
    "                                 end_fold_train[i]].copy().reset_index(drop=True)\n",
    "        # Setting the indexes to cut the train_fold in regular sequences and targets\n",
    "        sequence_starts, sequence_stops, target_idx = sequence_indexes(\n",
    "            df=train_fold_df,verbose=verbose)\n",
    "        # Initializing the X_train, Y_train\n",
    "        X_train, Y_train = [], []\n",
    "        # Starting the iteration on the sequences to create X,Y_train\n",
    "        for j in range(len(sequence_starts)):\n",
    "\n",
    "            X_train_seq = np.array(\n",
    "                train_fold_df.iloc[sequence_starts[j]:sequence_stops[j]],:-1)\n",
    "            y_train = train_fold_df.iloc[target_idx[j], -1]\n",
    "            #Converting the little df to np array\n",
    "            X_train.append(np.array(X_train_seq))\n",
    "            Y_train.append(np.array(y_train))\n",
    "        # Converting the list of array to an array>\n",
    "        Y_train = np.array(Y_train)\n",
    "        X_train = np.array(X_train)\n",
    "        \n",
    "        X_train_list.append(X_train)\n",
    "        Y_train_list.append(Y_train)\n",
    "\n",
    "    #Same process as ahead but on the test_fold\n",
    "        test_fold_df = df.loc[start_fold_test[i]:end_fold_test[i]].copy(\n",
    "        ).reset_index(drop=True)\n",
    "        sequence_starts, sequence_stops, target_idx = sequence_indexes(df=test_fold_df,verbose=verbose)\n",
    "        Y_test,X_test = [],[]\n",
    "        for j in range(len(sequence_starts)):\n",
    "            X_test_seq = test_fold_df.iloc[sequence_starts[j]:sequence_stops[j]]\n",
    "            y_test = test_fold_df.iloc[target_idx[j], -1]\n",
    "            X_test.append(np.array(X_test_seq))\n",
    "            Y_test.append(np.array(y_test))\n",
    "        Y_test = np.array(Y_test)\n",
    "        X_test = np.array(X_test)\n",
    "\n",
    "        Y_test_list.append(Y_test)\n",
    "        X_test_list.append(X_test) \n",
    "    \n",
    "    return (X_train_list, Y_train_list, X_test_list,Y_test_list)"
   ]
  },
  {
   "cell_type": "code",
   "execution_count": 63,
   "id": "6fa762ce",
   "metadata": {
    "ExecuteTime": {
     "end_time": "2022-03-07T17:28:05.973944Z",
     "start_time": "2022-03-07T17:28:02.949694Z"
    }
   },
   "outputs": [
    {
     "name": "stdout",
     "output_type": "stream",
     "text": [
      "32\n"
     ]
    }
   ],
   "source": [
    "(X_train_list, Y_train_list, X_test_list,Y_test_list) = get_cross_XY(data=\"train\")\n"
   ]
  },
  {
   "cell_type": "code",
   "execution_count": 68,
   "id": "c45abdc0",
   "metadata": {
    "ExecuteTime": {
     "end_time": "2022-03-08T08:16:22.889003Z",
     "start_time": "2022-03-08T08:16:22.718907Z"
    }
   },
   "outputs": [
    {
     "data": {
      "text/plain": [
       "array([ 8799.12191062,  9208.45991916,  8176.46061576,  6891.93441442,\n",
       "        7714.39205723,  7575.6111967 ,  8222.75364946,  8677.91052745,\n",
       "        8537.39320807,  8073.29364922,  8883.25632399,  8519.18610381,\n",
       "        9483.45790622, 10063.90199802, 10236.5       , 11101.7       ,\n",
       "       10593.2       , 11230.        , 11403.7       , 10690.4       ,\n",
       "       10005.        , 10301.1       ,  9813.07      ,  9664.73      ,\n",
       "       10366.7       , 10725.6       , 10397.9       , 10951.        ,\n",
       "       11086.4       , 11489.7       , 11512.6       , 11573.3       ,\n",
       "       10779.9       ,  9965.57      ,  9395.01      ,  9337.55      ,\n",
       "        8866.        ,  9578.63      ,  9205.12      ,  9194.85      ,\n",
       "        8269.81      ,  8300.86      ,  8338.35      ,  7916.88      ,\n",
       "        8223.68      ,  8630.65      ,  8913.47      ,  8929.28      ,\n",
       "        8721.57      ,  8820.54      ,  8682.62      ,  8494.44      ,\n",
       "        8210.22      ,  7840.16      ,  7980.12      ,  7162.96      ,\n",
       "        6895.3       ,  6978.18      ,  6844.23      ,  7075.72      ,\n",
       "        7458.04      ,  6852.8       ,  6811.29      ,  6629.87      ,\n",
       "        6903.16      ,  7023.38      ,  6763.45      ,  6839.1       ,\n",
       "        6939.18      ,  7926.60058296,  7858.32039683,  7994.16274648,\n",
       "        8355.63547872,  8052.68      ,  7906.81      ,  8162.99      ,\n",
       "        8282.55      ,  8836.46      ,  8883.36      ,  8802.53      ,\n",
       "        8930.91      ,  9732.61      ,  8826.28      ,  9280.92      ,\n",
       "        9011.78      ,  9343.42      ,  9415.09      ,  9247.19      ,\n",
       "        9105.53      ,  9233.72      ])"
      ]
     },
     "execution_count": 68,
     "metadata": {},
     "output_type": "execute_result"
    }
   ],
   "source": [
    "X_train_list[0][1][:,-2]"
   ]
  },
  {
   "cell_type": "code",
   "execution_count": null,
   "id": "4b6b851f",
   "metadata": {},
   "outputs": [],
   "source": []
  }
 ],
 "metadata": {
  "kernelspec": {
   "display_name": "Python 3 (ipykernel)",
   "language": "python",
   "name": "python3"
  },
  "language_info": {
   "codemirror_mode": {
    "name": "ipython",
    "version": 3
   },
   "file_extension": ".py",
   "mimetype": "text/x-python",
   "name": "python",
   "nbconvert_exporter": "python",
   "pygments_lexer": "ipython3",
   "version": "3.8.12"
  },
  "toc": {
   "base_numbering": 1,
   "nav_menu": {},
   "number_sections": true,
   "sideBar": true,
   "skip_h1_title": false,
   "title_cell": "Table of Contents",
   "title_sidebar": "Contents",
   "toc_cell": false,
   "toc_position": {},
   "toc_section_display": true,
   "toc_window_display": false
  }
 },
 "nbformat": 4,
 "nbformat_minor": 5
}
